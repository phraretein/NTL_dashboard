{
 "cells": [
  {
   "cell_type": "code",
   "execution_count": 1,
   "metadata": {},
   "outputs": [],
   "source": [
    "import pandas as pd\n",
    "from pythainlp.tokenize import word_tokenize\n",
    "from sklearn.feature_extraction.text import CountVectorizer\n",
    "from sklearn.svm import LinearSVC\n",
    "from sklearn.preprocessing import normalize"
   ]
  },
  {
   "cell_type": "code",
   "execution_count": 2,
   "metadata": {},
   "outputs": [],
   "source": [
    "chatlog = pd.read_pickle('./data/chatlog.p') "
   ]
  },
  {
   "cell_type": "code",
   "execution_count": 3,
   "metadata": {},
   "outputs": [
    {
     "data": {
      "text/html": [
       "<div>\n",
       "<style scoped>\n",
       "    .dataframe tbody tr th:only-of-type {\n",
       "        vertical-align: middle;\n",
       "    }\n",
       "\n",
       "    .dataframe tbody tr th {\n",
       "        vertical-align: top;\n",
       "    }\n",
       "\n",
       "    .dataframe thead th {\n",
       "        text-align: right;\n",
       "    }\n",
       "</style>\n",
       "<table border=\"1\" class=\"dataframe\">\n",
       "  <thead>\n",
       "    <tr style=\"text-align: right;\">\n",
       "      <th></th>\n",
       "      <th>userId</th>\n",
       "      <th>full_name</th>\n",
       "      <th>message</th>\n",
       "      <th>role</th>\n",
       "      <th>_date</th>\n",
       "      <th>_time</th>\n",
       "    </tr>\n",
       "  </thead>\n",
       "  <tbody>\n",
       "    <tr>\n",
       "      <th>2298575</th>\n",
       "      <td>1379039449007314</td>\n",
       "      <td>None None</td>\n",
       "      <td>สาขา วังไผ่ (ชุมพร) ตรงข้ามบิ๊กซี สาขาชุมพร จ้า</td>\n",
       "      <td>User</td>\n",
       "      <td>2020-05-24</td>\n",
       "      <td>23:56</td>\n",
       "    </tr>\n",
       "    <tr>\n",
       "      <th>2298576</th>\n",
       "      <td>1379039449007314</td>\n",
       "      <td>None None</td>\n",
       "      <td>จริงใจพร้อมให้ความช่วยเหลือ รอสักครู่นะจ๊ะ</td>\n",
       "      <td>User</td>\n",
       "      <td>2020-05-24</td>\n",
       "      <td>23:57</td>\n",
       "    </tr>\n",
       "    <tr>\n",
       "      <th>2298577</th>\n",
       "      <td>1379039449007314</td>\n",
       "      <td>None None</td>\n",
       "      <td>เอกสารประกอบการยื่นเรื่อง\\n1. เล่มทะเบียนรถตัว...</td>\n",
       "      <td>User</td>\n",
       "      <td>2020-05-24</td>\n",
       "      <td>23:58</td>\n",
       "    </tr>\n",
       "    <tr>\n",
       "      <th>2298578</th>\n",
       "      <td>1379039449007314</td>\n",
       "      <td>None None</td>\n",
       "      <td>รถปลอดภาระแล้วหรืออยู่ระหว่างผ่อนชำระคับ</td>\n",
       "      <td>User</td>\n",
       "      <td>2020-05-24</td>\n",
       "      <td>23:59</td>\n",
       "    </tr>\n",
       "    <tr>\n",
       "      <th>2298579</th>\n",
       "      <td>1379039449007314</td>\n",
       "      <td>None None</td>\n",
       "      <td>สวัสดีครับ ลูกค้าสนใจประกันชั้นใดครับ</td>\n",
       "      <td>User</td>\n",
       "      <td>2020-05-24</td>\n",
       "      <td>23:59</td>\n",
       "    </tr>\n",
       "  </tbody>\n",
       "</table>\n",
       "</div>"
      ],
      "text/plain": [
       "                   userId  full_name  \\\n",
       "2298575  1379039449007314  None None   \n",
       "2298576  1379039449007314  None None   \n",
       "2298577  1379039449007314  None None   \n",
       "2298578  1379039449007314  None None   \n",
       "2298579  1379039449007314  None None   \n",
       "\n",
       "                                                   message  role       _date  \\\n",
       "2298575    สาขา วังไผ่ (ชุมพร) ตรงข้ามบิ๊กซี สาขาชุมพร จ้า  User  2020-05-24   \n",
       "2298576         จริงใจพร้อมให้ความช่วยเหลือ รอสักครู่นะจ๊ะ  User  2020-05-24   \n",
       "2298577  เอกสารประกอบการยื่นเรื่อง\\n1. เล่มทะเบียนรถตัว...  User  2020-05-24   \n",
       "2298578           รถปลอดภาระแล้วหรืออยู่ระหว่างผ่อนชำระคับ  User  2020-05-24   \n",
       "2298579              สวัสดีครับ ลูกค้าสนใจประกันชั้นใดครับ  User  2020-05-24   \n",
       "\n",
       "         _time  \n",
       "2298575  23:56  \n",
       "2298576  23:57  \n",
       "2298577  23:58  \n",
       "2298578  23:59  \n",
       "2298579  23:59  "
      ]
     },
     "execution_count": 3,
     "metadata": {},
     "output_type": "execute_result"
    }
   ],
   "source": [
    "chatlog.tail()"
   ]
  },
  {
   "cell_type": "code",
   "execution_count": 4,
   "metadata": {},
   "outputs": [],
   "source": [
    "df_24 = chatlog._date == \"2020-05-24\""
   ]
  },
  {
   "cell_type": "code",
   "execution_count": 6,
   "metadata": {},
   "outputs": [
    {
     "data": {
      "text/plain": [
       "(2291177,)"
      ]
     },
     "execution_count": 6,
     "metadata": {},
     "output_type": "execute_result"
    }
   ],
   "source": [
    "df_24.shape"
   ]
  },
  {
   "cell_type": "code",
   "execution_count": 3,
   "metadata": {},
   "outputs": [],
   "source": [
    "df = chatlog[['userId', 'message', 'role', '_date']]"
   ]
  },
  {
   "cell_type": "code",
   "execution_count": 4,
   "metadata": {},
   "outputs": [
    {
     "name": "stderr",
     "output_type": "stream",
     "text": [
      "c:\\users\\lum\\code\\ntl_dashboard\\ntl_env\\lib\\site-packages\\pandas\\core\\frame.py:3997: SettingWithCopyWarning: \n",
      "A value is trying to be set on a copy of a slice from a DataFrame\n",
      "\n",
      "See the caveats in the documentation: https://pandas.pydata.org/pandas-docs/stable/user_guide/indexing.html#returning-a-view-versus-a-copy\n",
      "  errors=errors,\n"
     ]
    }
   ],
   "source": [
    "df.drop(df[df.role == \"Admin\"].index, inplace=True)"
   ]
  },
  {
   "cell_type": "code",
   "execution_count": 23,
   "metadata": {},
   "outputs": [],
   "source": [
    "df_11_01 = df[df._date == \"2019-11-01\"]"
   ]
  },
  {
   "cell_type": "code",
   "execution_count": 24,
   "metadata": {},
   "outputs": [],
   "source": [
    "id_list = df_11_01['userId'].unique()"
   ]
  },
  {
   "cell_type": "code",
   "execution_count": 25,
   "metadata": {},
   "outputs": [],
   "source": [
    " mydict = {k: g[\"message\"].tolist() for k,g in df_11_01.groupby(\"userId\")}   \n",
    " # TODO: convert dict to list for further tfidf"
   ]
  },
  {
   "cell_type": "code",
   "execution_count": 26,
   "metadata": {},
   "outputs": [],
   "source": [
    "vectorizer = CountVectorizer(tokenizer=word_tokenize)"
   ]
  },
  {
   "cell_type": "code",
   "execution_count": 28,
   "metadata": {},
   "outputs": [
    {
     "data": {
      "text/html": [
       "<div>\n",
       "<style scoped>\n",
       "    .dataframe tbody tr th:only-of-type {\n",
       "        vertical-align: middle;\n",
       "    }\n",
       "\n",
       "    .dataframe tbody tr th {\n",
       "        vertical-align: top;\n",
       "    }\n",
       "\n",
       "    .dataframe thead th {\n",
       "        text-align: right;\n",
       "    }\n",
       "</style>\n",
       "<table border=\"1\" class=\"dataframe\">\n",
       "  <thead>\n",
       "    <tr style=\"text-align: right;\">\n",
       "      <th></th>\n",
       "      <th>userId</th>\n",
       "      <th>message</th>\n",
       "      <th>role</th>\n",
       "      <th>_date</th>\n",
       "    </tr>\n",
       "  </thead>\n",
       "  <tbody>\n",
       "    <tr>\n",
       "      <th>0</th>\n",
       "      <td>2433413723406579</td>\n",
       "      <td>สวัสดี</td>\n",
       "      <td>User</td>\n",
       "      <td>2019-11-01</td>\n",
       "    </tr>\n",
       "    <tr>\n",
       "      <th>3</th>\n",
       "      <td>2433413723406579</td>\n",
       "      <td>สวัสดีครับ</td>\n",
       "      <td>User</td>\n",
       "      <td>2019-11-01</td>\n",
       "    </tr>\n",
       "    <tr>\n",
       "      <th>15</th>\n",
       "      <td>2840441032636220</td>\n",
       "      <td>hi</td>\n",
       "      <td>User</td>\n",
       "      <td>2019-11-01</td>\n",
       "    </tr>\n",
       "    <tr>\n",
       "      <th>22</th>\n",
       "      <td>2840441032636220</td>\n",
       "      <td>toyota</td>\n",
       "      <td>User</td>\n",
       "      <td>2019-11-01</td>\n",
       "    </tr>\n",
       "    <tr>\n",
       "      <th>24</th>\n",
       "      <td>2840441032636220</td>\n",
       "      <td>camry</td>\n",
       "      <td>User</td>\n",
       "      <td>2019-11-01</td>\n",
       "    </tr>\n",
       "    <tr>\n",
       "      <th>...</th>\n",
       "      <td>...</td>\n",
       "      <td>...</td>\n",
       "      <td>...</td>\n",
       "      <td>...</td>\n",
       "    </tr>\n",
       "    <tr>\n",
       "      <th>160387</th>\n",
       "      <td>2668660163208968</td>\n",
       "      <td>ขอเช็คราคาหน่อยครับ</td>\n",
       "      <td>User</td>\n",
       "      <td>2019-11-01</td>\n",
       "    </tr>\n",
       "    <tr>\n",
       "      <th>160407</th>\n",
       "      <td>2471477386263207</td>\n",
       "      <td>ประกันชั้น1บริษัทไหนราคาถูกบ้าง</td>\n",
       "      <td>User</td>\n",
       "      <td>2019-11-01</td>\n",
       "    </tr>\n",
       "    <tr>\n",
       "      <th>160412</th>\n",
       "      <td>2471477386263207</td>\n",
       "      <td>ฮอนด้า</td>\n",
       "      <td>User</td>\n",
       "      <td>2019-11-01</td>\n",
       "    </tr>\n",
       "    <tr>\n",
       "      <th>160414</th>\n",
       "      <td>2471477386263207</td>\n",
       "      <td>ซิตตี้</td>\n",
       "      <td>User</td>\n",
       "      <td>2019-11-01</td>\n",
       "    </tr>\n",
       "    <tr>\n",
       "      <th>160416</th>\n",
       "      <td>2471477386263207</td>\n",
       "      <td>2018</td>\n",
       "      <td>User</td>\n",
       "      <td>2019-11-01</td>\n",
       "    </tr>\n",
       "  </tbody>\n",
       "</table>\n",
       "<p>1746 rows × 4 columns</p>\n",
       "</div>"
      ],
      "text/plain": [
       "                  userId                          message  role       _date\n",
       "0       2433413723406579                           สวัสดี  User  2019-11-01\n",
       "3       2433413723406579                       สวัสดีครับ  User  2019-11-01\n",
       "15      2840441032636220                               hi  User  2019-11-01\n",
       "22      2840441032636220                           toyota  User  2019-11-01\n",
       "24      2840441032636220                            camry  User  2019-11-01\n",
       "...                  ...                              ...   ...         ...\n",
       "160387  2668660163208968              ขอเช็คราคาหน่อยครับ  User  2019-11-01\n",
       "160407  2471477386263207  ประกันชั้น1บริษัทไหนราคาถูกบ้าง  User  2019-11-01\n",
       "160412  2471477386263207                           ฮอนด้า  User  2019-11-01\n",
       "160414  2471477386263207                           ซิตตี้  User  2019-11-01\n",
       "160416  2471477386263207                             2018  User  2019-11-01\n",
       "\n",
       "[1746 rows x 4 columns]"
      ]
     },
     "execution_count": 28,
     "metadata": {},
     "output_type": "execute_result"
    }
   ],
   "source": [
    "df_11_01"
   ]
  },
  {
   "cell_type": "code",
   "execution_count": 47,
   "metadata": {},
   "outputs": [],
   "source": [
    "# Create a new dataframe where the users are unique and the messages are combined\n",
    "df_new = df_11_01.groupby(['userId'])['message'].apply(','.join).reset_index()"
   ]
  },
  {
   "cell_type": "code",
   "execution_count": 48,
   "metadata": {},
   "outputs": [
    {
     "data": {
      "text/html": [
       "<div>\n",
       "<style scoped>\n",
       "    .dataframe tbody tr th:only-of-type {\n",
       "        vertical-align: middle;\n",
       "    }\n",
       "\n",
       "    .dataframe tbody tr th {\n",
       "        vertical-align: top;\n",
       "    }\n",
       "\n",
       "    .dataframe thead th {\n",
       "        text-align: right;\n",
       "    }\n",
       "</style>\n",
       "<table border=\"1\" class=\"dataframe\">\n",
       "  <thead>\n",
       "    <tr style=\"text-align: right;\">\n",
       "      <th></th>\n",
       "      <th>userId</th>\n",
       "      <th>message</th>\n",
       "    </tr>\n",
       "  </thead>\n",
       "  <tbody>\n",
       "    <tr>\n",
       "      <th>379</th>\n",
       "      <td>2840441032636220</td>\n",
       "      <td>hi,toyota,camry,2019,ฟิว เทส,0832593546,ครับ</td>\n",
       "    </tr>\n",
       "  </tbody>\n",
       "</table>\n",
       "</div>"
      ],
      "text/plain": [
       "               userId                                       message\n",
       "379  2840441032636220  hi,toyota,camry,2019,ฟิว เทส,0832593546,ครับ"
      ]
     },
     "execution_count": 48,
     "metadata": {},
     "output_type": "execute_result"
    }
   ],
   "source": [
    "# Check if a user has all the messages\n",
    "df_new.loc[df_new[\"userId\"] == \"2840441032636220\"]"
   ]
  },
  {
   "cell_type": "code",
   "execution_count": 53,
   "metadata": {},
   "outputs": [],
   "source": [
    "# Add a new column where the messages of each user are split by comma and stored in a list\n",
    "df_new[\"message_list\"] = df_new[\"message\"].apply(lambda x: x.split())"
   ]
  },
  {
   "cell_type": "code",
   "execution_count": 55,
   "metadata": {},
   "outputs": [
    {
     "data": {
      "text/html": [
       "<div>\n",
       "<style scoped>\n",
       "    .dataframe tbody tr th:only-of-type {\n",
       "        vertical-align: middle;\n",
       "    }\n",
       "\n",
       "    .dataframe tbody tr th {\n",
       "        vertical-align: top;\n",
       "    }\n",
       "\n",
       "    .dataframe thead th {\n",
       "        text-align: right;\n",
       "    }\n",
       "</style>\n",
       "<table border=\"1\" class=\"dataframe\">\n",
       "  <thead>\n",
       "    <tr style=\"text-align: right;\">\n",
       "      <th></th>\n",
       "      <th>userId</th>\n",
       "      <th>message</th>\n",
       "      <th>message_list</th>\n",
       "    </tr>\n",
       "  </thead>\n",
       "  <tbody>\n",
       "    <tr>\n",
       "      <th>379</th>\n",
       "      <td>2840441032636220</td>\n",
       "      <td>hi,toyota,camry,2019,ฟิว เทส,0832593546,ครับ</td>\n",
       "      <td>[hi,toyota,camry,2019,ฟิว, เทส,0832593546,ครับ]</td>\n",
       "    </tr>\n",
       "  </tbody>\n",
       "</table>\n",
       "</div>"
      ],
      "text/plain": [
       "               userId                                       message  \\\n",
       "379  2840441032636220  hi,toyota,camry,2019,ฟิว เทส,0832593546,ครับ   \n",
       "\n",
       "                                        message_list  \n",
       "379  [hi,toyota,camry,2019,ฟิว, เทส,0832593546,ครับ]  "
      ]
     },
     "execution_count": 55,
     "metadata": {},
     "output_type": "execute_result"
    }
   ],
   "source": [
    "df_new.loc[df_new[\"userId\"] == \"2840441032636220\"]"
   ]
  }
 ],
 "metadata": {
  "kernelspec": {
   "display_name": "Python 3.7.4 64-bit ('NTL': venv)",
   "language": "python",
   "name": "python37464bitntlvenv5bb9f6107ccc44df9d8f2d89f2aa5ff4"
  },
  "language_info": {
   "codemirror_mode": {
    "name": "ipython",
    "version": 3
   },
   "file_extension": ".py",
   "mimetype": "text/x-python",
   "name": "python",
   "nbconvert_exporter": "python",
   "pygments_lexer": "ipython3",
   "version": "3.7.4"
  }
 },
 "nbformat": 4,
 "nbformat_minor": 4
}
