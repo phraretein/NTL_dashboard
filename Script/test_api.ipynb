{
 "cells": [
  {
   "cell_type": "code",
   "execution_count": 4,
   "metadata": {},
   "outputs": [
    {
     "name": "stdout",
     "output_type": "stream",
     "text": [
      "{\n",
      "  \"message\": \"https://sme-botengine-pics.s3.amazonaws.com:443/bot_avatar_image/5db6a992b5162fcd709d76d6/7e278a86-95b5-4322-81a4-5b1b87bb100a.png\", \n",
      "  \"status\": \"success\"\n",
      "}\n",
      "\n"
     ]
    }
   ],
   "source": [
    "import requests\n",
    "\n",
    "url = \"https://api.botnoigroup.com/upload_images\"\n",
    "\n",
    "payload = {\n",
    "    'bot_id': '5db6a992b5162fcd709d76d6',\n",
    "    'before_url': ''\n",
    "    }\n",
    "\n",
    "files =  {'file':('B04.png', open('/Users/phrare/NTL_dashboard/BOTNOI/B03.png', 'rb'), \"multipart/form-data\")}\n",
    "\n",
    "getdata = requests.post(url, data=payload, files=files)\n",
    "\n",
    "print(getdata.text)"
   ]
  },
  {
   "cell_type": "code",
   "execution_count": 5,
   "metadata": {},
   "outputs": [
    {
     "data": {
      "text/plain": [
       "str"
      ]
     },
     "execution_count": 5,
     "metadata": {},
     "output_type": "execute_result"
    }
   ],
   "source": [
    "type(getdata.text)"
   ]
  },
  {
   "cell_type": "code",
   "execution_count": 26,
   "metadata": {},
   "outputs": [],
   "source": [
    "x = getdata.text.split()"
   ]
  },
  {
   "cell_type": "code",
   "execution_count": 27,
   "metadata": {},
   "outputs": [
    {
     "data": {
      "text/plain": [
       "['{',\n",
       " '\"message\":',\n",
       " '\"https://sme-botengine-pics.s3.amazonaws.com:443/bot_avatar_image/5db6a992b5162fcd709d76d6/7e278a86-95b5-4322-81a4-5b1b87bb100a.png\",',\n",
       " '\"status\":',\n",
       " '\"success\"',\n",
       " '}']"
      ]
     },
     "execution_count": 27,
     "metadata": {},
     "output_type": "execute_result"
    }
   ],
   "source": [
    "x"
   ]
  },
  {
   "cell_type": "code",
   "execution_count": 28,
   "metadata": {},
   "outputs": [
    {
     "data": {
      "text/plain": [
       "'\"https://sme-botengine-pics.s3.amazonaws.com:443/bot_avatar_image/5db6a992b5162fcd709d76d6/7e278a86-95b5-4322-81a4-5b1b87bb100a.png\",'"
      ]
     },
     "execution_count": 28,
     "metadata": {},
     "output_type": "execute_result"
    }
   ],
   "source": [
    "x[2]"
   ]
  },
  {
   "cell_type": "code",
   "execution_count": 35,
   "metadata": {},
   "outputs": [],
   "source": [
    "x_new = x[2].replace(\"\\\"\", \"\")"
   ]
  },
  {
   "cell_type": "code",
   "execution_count": 36,
   "metadata": {},
   "outputs": [
    {
     "data": {
      "text/plain": [
       "'https://sme-botengine-pics.s3.amazonaws.com:443/bot_avatar_image/5db6a992b5162fcd709d76d6/7e278a86-95b5-4322-81a4-5b1b87bb100a.png'"
      ]
     },
     "execution_count": 36,
     "metadata": {},
     "output_type": "execute_result"
    }
   ],
   "source": [
    "x_new.replace(\",\", \"\")"
   ]
  },
  {
   "cell_type": "code",
   "execution_count": null,
   "metadata": {},
   "outputs": [],
   "source": [
    "import requests"
   ]
  },
  {
   "cell_type": "code",
   "execution_count": 37,
   "metadata": {},
   "outputs": [],
   "source": [
    "def post_picture(filename:str, filepath:str):\n",
    "\n",
    "    url = \"https://api.botnoigroup.com/upload_images\"\n",
    "\n",
    "    payload = {\n",
    "        'bot_id': '5db6a992b5162fcd709d76d6',\n",
    "        'before_url': ''\n",
    "        }\n",
    "\n",
    "    files =  {'file':(filename, open(filepath, 'rb'), \"multipart/form-data\")}\n",
    "\n",
    "    getdata = requests.post(url, data=payload, files=files)\n",
    "    \n",
    "    # Get image url\n",
    "    api_response_text = getdata.text.split()\n",
    "    response = api_response_text[2].replace(\"\\\"\", \"\")\n",
    "    response_url = response.replace(\",\", \"\")\n",
    "    return response_url"
   ]
  },
  {
   "cell_type": "code",
   "execution_count": 39,
   "metadata": {},
   "outputs": [
    {
     "data": {
      "text/plain": [
       "'https://sme-botengine-pics.s3.amazonaws.com:443/bot_avatar_image/5db6a992b5162fcd709d76d6/09af3b59-7aec-42f3-9c30-dfda0d02c655.png'"
      ]
     },
     "execution_count": 39,
     "metadata": {},
     "output_type": "execute_result"
    }
   ],
   "source": [
    "post_picture('B04.png', '/Users/phrare/NTL_dashboard/BOTNOI/B04.png')"
   ]
  },
  {
   "cell_type": "code",
   "execution_count": null,
   "metadata": {},
   "outputs": [],
   "source": []
  }
 ],
 "metadata": {
  "kernelspec": {
   "display_name": "Python 3.7.4 64-bit ('NTL': venv)",
   "language": "python",
   "name": "python37464bitntlvenv5bb9f6107ccc44df9d8f2d89f2aa5ff4"
  },
  "language_info": {
   "codemirror_mode": {
    "name": "ipython",
    "version": 3
   },
   "file_extension": ".py",
   "mimetype": "text/x-python",
   "name": "python",
   "nbconvert_exporter": "python",
   "pygments_lexer": "ipython3",
   "version": "3.7.4"
  }
 },
 "nbformat": 4,
 "nbformat_minor": 4
}
