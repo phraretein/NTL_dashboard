{
 "cells": [
  {
   "cell_type": "code",
   "execution_count": 36,
   "metadata": {},
   "outputs": [],
   "source": [
    "import pandas as pd\n",
    "from fuzzywuzzy import fuzz"
   ]
  },
  {
   "cell_type": "code",
   "execution_count": 2,
   "metadata": {},
   "outputs": [],
   "source": [
    "chatlog = pd.read_csv('../excel/chatlog_all.csv')"
   ]
  },
  {
   "cell_type": "code",
   "execution_count": 4,
   "metadata": {},
   "outputs": [
    {
     "data": {
      "text/html": [
       "<div>\n",
       "<style scoped>\n",
       "    .dataframe tbody tr th:only-of-type {\n",
       "        vertical-align: middle;\n",
       "    }\n",
       "\n",
       "    .dataframe tbody tr th {\n",
       "        vertical-align: top;\n",
       "    }\n",
       "\n",
       "    .dataframe thead th {\n",
       "        text-align: right;\n",
       "    }\n",
       "</style>\n",
       "<table border=\"1\" class=\"dataframe\">\n",
       "  <thead>\n",
       "    <tr style=\"text-align: right;\">\n",
       "      <th></th>\n",
       "      <th>userId</th>\n",
       "      <th>full_name</th>\n",
       "      <th>message</th>\n",
       "      <th>role</th>\n",
       "      <th>time</th>\n",
       "      <th>_date</th>\n",
       "      <th>_time</th>\n",
       "    </tr>\n",
       "  </thead>\n",
       "  <tbody>\n",
       "    <tr>\n",
       "      <th>0</th>\n",
       "      <td>2887882827928310</td>\n",
       "      <td>Kookkik Kanokjan</td>\n",
       "      <td>DLJingjai</td>\n",
       "      <td>User</td>\n",
       "      <td>2020-05-30 21:53:11</td>\n",
       "      <td>2020-05-30</td>\n",
       "      <td>21:53</td>\n",
       "    </tr>\n",
       "    <tr>\n",
       "      <th>1</th>\n",
       "      <td>4141996792507270</td>\n",
       "      <td>Aomruthai Sawatkit</td>\n",
       "      <td>ประกันชั้น 1 \\nรถ โตโยต้า อินโนว่า ปี 2012 เบี...</td>\n",
       "      <td>User</td>\n",
       "      <td>2020-05-30 21:58:12</td>\n",
       "      <td>2020-05-30</td>\n",
       "      <td>21:58</td>\n",
       "    </tr>\n",
       "    <tr>\n",
       "      <th>2</th>\n",
       "      <td>3019573031433685</td>\n",
       "      <td>วัชพล แก้วสว่าง</td>\n",
       "      <td>ขออภัยครับ</td>\n",
       "      <td>User</td>\n",
       "      <td>2020-05-30 23:46:09</td>\n",
       "      <td>2020-05-30</td>\n",
       "      <td>23:46</td>\n",
       "    </tr>\n",
       "    <tr>\n",
       "      <th>3</th>\n",
       "      <td>3019573031433685</td>\n",
       "      <td>วัชพล แก้วสว่าง</td>\n",
       "      <td>ขออภัยครับ</td>\n",
       "      <td>User</td>\n",
       "      <td>2020-05-30 23:49:36</td>\n",
       "      <td>2020-05-30</td>\n",
       "      <td>23:49</td>\n",
       "    </tr>\n",
       "    <tr>\n",
       "      <th>4</th>\n",
       "      <td>3019573031433685</td>\n",
       "      <td>วัชพล แก้วสว่าง</td>\n",
       "      <td>369239263222822</td>\n",
       "      <td>User</td>\n",
       "      <td>2020-05-30 23:49:40</td>\n",
       "      <td>2020-05-30</td>\n",
       "      <td>23:49</td>\n",
       "    </tr>\n",
       "    <tr>\n",
       "      <th>...</th>\n",
       "      <td>...</td>\n",
       "      <td>...</td>\n",
       "      <td>...</td>\n",
       "      <td>...</td>\n",
       "      <td>...</td>\n",
       "      <td>...</td>\n",
       "      <td>...</td>\n",
       "    </tr>\n",
       "    <tr>\n",
       "      <th>810951</th>\n",
       "      <td>3304347986289114</td>\n",
       "      <td>Jeab Jeab</td>\n",
       "      <td>{'type': 'text', 'text': 'พี่คับๆ ขอชื่อ-นามสก...</td>\n",
       "      <td>Admin</td>\n",
       "      <td>2020-07-22 22:00:56</td>\n",
       "      <td>2020-07-22</td>\n",
       "      <td>22:00</td>\n",
       "    </tr>\n",
       "    <tr>\n",
       "      <th>810952</th>\n",
       "      <td>3643709548990195</td>\n",
       "      <td>Thitima Lapa</td>\n",
       "      <td>{\"type\":\"legacy_reply_to_message_action\",\"mess...</td>\n",
       "      <td>User</td>\n",
       "      <td>2020-07-22 22:01:13</td>\n",
       "      <td>2020-07-22</td>\n",
       "      <td>22:01</td>\n",
       "    </tr>\n",
       "    <tr>\n",
       "      <th>810953</th>\n",
       "      <td>3643709548990195</td>\n",
       "      <td>Thitima Lapa</td>\n",
       "      <td>{'type': 'text', 'text': 'ผม \"จริงใจ\" พร้อมดูแ...</td>\n",
       "      <td>Admin</td>\n",
       "      <td>2020-07-22 22:01:16</td>\n",
       "      <td>2020-07-22</td>\n",
       "      <td>22:01</td>\n",
       "    </tr>\n",
       "    <tr>\n",
       "      <th>810954</th>\n",
       "      <td>3643709548990195</td>\n",
       "      <td>Thitima Lapa</td>\n",
       "      <td>{'type': 'image', 'list_object': [{'original_u...</td>\n",
       "      <td>Admin</td>\n",
       "      <td>2020-07-22 22:01:16</td>\n",
       "      <td>2020-07-22</td>\n",
       "      <td>22:01</td>\n",
       "    </tr>\n",
       "    <tr>\n",
       "      <th>810955</th>\n",
       "      <td>3643709548990195</td>\n",
       "      <td>Thitima Lapa</td>\n",
       "      <td>{'type': 'quick_reply', 'list_object': [{'text...</td>\n",
       "      <td>Admin</td>\n",
       "      <td>2020-07-22 22:01:16</td>\n",
       "      <td>2020-07-22</td>\n",
       "      <td>22:01</td>\n",
       "    </tr>\n",
       "  </tbody>\n",
       "</table>\n",
       "<p>810956 rows × 7 columns</p>\n",
       "</div>"
      ],
      "text/plain": [
       "                  userId           full_name  \\\n",
       "0       2887882827928310    Kookkik Kanokjan   \n",
       "1       4141996792507270  Aomruthai Sawatkit   \n",
       "2       3019573031433685     วัชพล แก้วสว่าง   \n",
       "3       3019573031433685     วัชพล แก้วสว่าง   \n",
       "4       3019573031433685     วัชพล แก้วสว่าง   \n",
       "...                  ...                 ...   \n",
       "810951  3304347986289114           Jeab Jeab   \n",
       "810952  3643709548990195        Thitima Lapa   \n",
       "810953  3643709548990195        Thitima Lapa   \n",
       "810954  3643709548990195        Thitima Lapa   \n",
       "810955  3643709548990195        Thitima Lapa   \n",
       "\n",
       "                                                  message   role  \\\n",
       "0                                               DLJingjai   User   \n",
       "1       ประกันชั้น 1 \\nรถ โตโยต้า อินโนว่า ปี 2012 เบี...   User   \n",
       "2                                              ขออภัยครับ   User   \n",
       "3                                              ขออภัยครับ   User   \n",
       "4                                         369239263222822   User   \n",
       "...                                                   ...    ...   \n",
       "810951  {'type': 'text', 'text': 'พี่คับๆ ขอชื่อ-นามสก...  Admin   \n",
       "810952  {\"type\":\"legacy_reply_to_message_action\",\"mess...   User   \n",
       "810953  {'type': 'text', 'text': 'ผม \"จริงใจ\" พร้อมดูแ...  Admin   \n",
       "810954  {'type': 'image', 'list_object': [{'original_u...  Admin   \n",
       "810955  {'type': 'quick_reply', 'list_object': [{'text...  Admin   \n",
       "\n",
       "                       time       _date  _time  \n",
       "0       2020-05-30 21:53:11  2020-05-30  21:53  \n",
       "1       2020-05-30 21:58:12  2020-05-30  21:58  \n",
       "2       2020-05-30 23:46:09  2020-05-30  23:46  \n",
       "3       2020-05-30 23:49:36  2020-05-30  23:49  \n",
       "4       2020-05-30 23:49:40  2020-05-30  23:49  \n",
       "...                     ...         ...    ...  \n",
       "810951  2020-07-22 22:00:56  2020-07-22  22:00  \n",
       "810952  2020-07-22 22:01:13  2020-07-22  22:01  \n",
       "810953  2020-07-22 22:01:16  2020-07-22  22:01  \n",
       "810954  2020-07-22 22:01:16  2020-07-22  22:01  \n",
       "810955  2020-07-22 22:01:16  2020-07-22  22:01  \n",
       "\n",
       "[810956 rows x 7 columns]"
      ]
     },
     "execution_count": 4,
     "metadata": {},
     "output_type": "execute_result"
    }
   ],
   "source": [
    "chatlog = chatlog.astype(str)\n",
    "chatlog"
   ]
  },
  {
   "cell_type": "code",
   "execution_count": 5,
   "metadata": {},
   "outputs": [],
   "source": [
    "# Clean the chatlog to have only user conversation on specific date\n",
    "def clean_chatlog(df, start_date:str='2019-11-01', end_date:str='9999-12-01'):\n",
    "    # df = chatlog[['userId', 'message', 'role', '_date']] \n",
    "    df = df.loc[df.role=='User']\n",
    "    return df[(df._date >= start_date) & (df._date <= end_date)]"
   ]
  },
  {
   "cell_type": "code",
   "execution_count": 73,
   "metadata": {},
   "outputs": [],
   "source": [
    "def merge_message_by_id(chatlog):\n",
    "    df = chatlog.groupby(['userId'])['message'].apply(','.join).reset_index()\n",
    "    return df"
   ]
  },
  {
   "cell_type": "code",
   "execution_count": 74,
   "metadata": {},
   "outputs": [],
   "source": [
    "chatlog_clean = clean_chatlog(chatlog)\n",
    "chatlog_clean_groupped = merge_message_by_id(chatlog_clean)"
   ]
  },
  {
   "cell_type": "code",
   "execution_count": 6,
   "metadata": {},
   "outputs": [],
   "source": [
    "def get_female_message(chatlog):\n",
    "  messages = chatlog['message']\n",
    "  female = ['คะ', 'ค่ะ', 'ค่า', 'คระ', 'คร่ะ', 'คร๊', 'ค๊', 'คร้า']\n",
    "  female_msg = messages[messages.str.contains('|'.join(female))]\n",
    "  return female_msg"
   ]
  },
  {
   "cell_type": "code",
   "execution_count": 75,
   "metadata": {},
   "outputs": [],
   "source": [
    "female_message = get_female_message(chatlog_clean_groupped)"
   ]
  },
  {
   "cell_type": "code",
   "execution_count": 76,
   "metadata": {},
   "outputs": [],
   "source": [
    "female_msg = female_message.to_frame()"
   ]
  },
  {
   "cell_type": "code",
   "execution_count": 77,
   "metadata": {},
   "outputs": [
    {
     "data": {
      "text/html": [
       "<div>\n",
       "<style scoped>\n",
       "    .dataframe tbody tr th:only-of-type {\n",
       "        vertical-align: middle;\n",
       "    }\n",
       "\n",
       "    .dataframe tbody tr th {\n",
       "        vertical-align: top;\n",
       "    }\n",
       "\n",
       "    .dataframe thead th {\n",
       "        text-align: right;\n",
       "    }\n",
       "</style>\n",
       "<table border=\"1\" class=\"dataframe\">\n",
       "  <thead>\n",
       "    <tr style=\"text-align: right;\">\n",
       "      <th></th>\n",
       "      <th>message</th>\n",
       "    </tr>\n",
       "  </thead>\n",
       "  <tbody>\n",
       "    <tr>\n",
       "      <th>0</th>\n",
       "      <td>สอบถามค่ะ,ประกันรถยนต์ค่ะ,สอบถามค่าเบี้ยประกัน...</td>\n",
       "    </tr>\n",
       "    <tr>\n",
       "      <th>1</th>\n",
       "      <td>รบกวนสอบถามค่ะ,ปัจจุบันมีสินเชื่ออยู่แล้ว ต้อง...</td>\n",
       "    </tr>\n",
       "    <tr>\n",
       "      <th>4</th>\n",
       "      <td>DLJingjai,โตโยต้า อัลติส 2011,ประกันชั้น 1 เท่...</td>\n",
       "    </tr>\n",
       "    <tr>\n",
       "      <th>5</th>\n",
       "      <td>แอดค่ะสอบถามค่ะ,สไตล์ชัดเจน,รายละเอียดสินเชื่อ...</td>\n",
       "    </tr>\n",
       "    <tr>\n",
       "      <th>6</th>\n",
       "      <td>780919948781599,สอบถามหน่อยค่ะ,https://sconten...</td>\n",
       "    </tr>\n",
       "    <tr>\n",
       "      <th>...</th>\n",
       "      <td>...</td>\n",
       "    </tr>\n",
       "    <tr>\n",
       "      <th>41493</th>\n",
       "      <td>ประกันมีราคาเท่ารัยค่ะ,DLJingjai,นิสสันฟรอนเที...</td>\n",
       "    </tr>\n",
       "    <tr>\n",
       "      <th>41495</th>\n",
       "      <td>nan,ชั้น1เบี้ยเท่าไรคะ</td>\n",
       "    </tr>\n",
       "    <tr>\n",
       "      <th>41496</th>\n",
       "      <td>รถ ค.ศ 2016.,กู้สูงสุดเท่าไรค่ะ.\\nผ่อนเดือนประ...</td>\n",
       "    </tr>\n",
       "    <tr>\n",
       "      <th>41497</th>\n",
       "      <td>รับรีไฟแนนซ์รถไหมค่ะ,ติดต่อเจ้าหน้าที่~S,จัดไฟ...</td>\n",
       "    </tr>\n",
       "    <tr>\n",
       "      <th>41498</th>\n",
       "      <td>รถ​toyota​ corollaปี1994ประเภท3ยังอยู่ไหมค่ะรา...</td>\n",
       "    </tr>\n",
       "  </tbody>\n",
       "</table>\n",
       "<p>22850 rows × 1 columns</p>\n",
       "</div>"
      ],
      "text/plain": [
       "                                                 message\n",
       "0      สอบถามค่ะ,ประกันรถยนต์ค่ะ,สอบถามค่าเบี้ยประกัน...\n",
       "1      รบกวนสอบถามค่ะ,ปัจจุบันมีสินเชื่ออยู่แล้ว ต้อง...\n",
       "4      DLJingjai,โตโยต้า อัลติส 2011,ประกันชั้น 1 เท่...\n",
       "5      แอดค่ะสอบถามค่ะ,สไตล์ชัดเจน,รายละเอียดสินเชื่อ...\n",
       "6      780919948781599,สอบถามหน่อยค่ะ,https://sconten...\n",
       "...                                                  ...\n",
       "41493  ประกันมีราคาเท่ารัยค่ะ,DLJingjai,นิสสันฟรอนเที...\n",
       "41495                             nan,ชั้น1เบี้ยเท่าไรคะ\n",
       "41496  รถ ค.ศ 2016.,กู้สูงสุดเท่าไรค่ะ.\\nผ่อนเดือนประ...\n",
       "41497  รับรีไฟแนนซ์รถไหมค่ะ,ติดต่อเจ้าหน้าที่~S,จัดไฟ...\n",
       "41498  รถ​toyota​ corollaปี1994ประเภท3ยังอยู่ไหมค่ะรา...\n",
       "\n",
       "[22850 rows x 1 columns]"
      ]
     },
     "execution_count": 77,
     "metadata": {},
     "output_type": "execute_result"
    }
   ],
   "source": [
    "female_msg"
   ]
  },
  {
   "cell_type": "code",
   "execution_count": 85,
   "metadata": {},
   "outputs": [],
   "source": [
    "def get_male_message(chatlog):\n",
    "  messages = chatlog['message']\n",
    "  male = ['ครับ', 'คับ', 'คั้บ', 'ค้าบ', 'คัฟ', 'คร้าบ', 'คาฟ', 'ค้าฟ', 'ฮะ', 'ฮับ', 'ฮ้าฟ']\n",
    "  male_msg = messages[messages.str.contains('|'.join(male))]\n",
    "  return male_msg"
   ]
  },
  {
   "cell_type": "code",
   "execution_count": 86,
   "metadata": {},
   "outputs": [],
   "source": [
    "male_message = get_male_message(chatlog_clean_groupped)"
   ]
  },
  {
   "cell_type": "code",
   "execution_count": 87,
   "metadata": {},
   "outputs": [
    {
     "data": {
      "text/html": [
       "<div>\n",
       "<style scoped>\n",
       "    .dataframe tbody tr th:only-of-type {\n",
       "        vertical-align: middle;\n",
       "    }\n",
       "\n",
       "    .dataframe tbody tr th {\n",
       "        vertical-align: top;\n",
       "    }\n",
       "\n",
       "    .dataframe thead th {\n",
       "        text-align: right;\n",
       "    }\n",
       "</style>\n",
       "<table border=\"1\" class=\"dataframe\">\n",
       "  <thead>\n",
       "    <tr style=\"text-align: right;\">\n",
       "      <th></th>\n",
       "      <th>message</th>\n",
       "    </tr>\n",
       "  </thead>\n",
       "  <tbody>\n",
       "    <tr>\n",
       "      <th>2</th>\n",
       "      <td>พนักงานเร่งรัดหนี้สินภาคสนามรับอยู่ไหมครับ,พนั...</td>\n",
       "    </tr>\n",
       "    <tr>\n",
       "      <th>7</th>\n",
       "      <td>ทำไม่บัตรเงินกดเงินไม่ใด้,ตู้บอกว่าติดต่อกับเจ...</td>\n",
       "    </tr>\n",
       "    <tr>\n",
       "      <th>10</th>\n",
       "      <td>nan,ใช้หลักฐานอะไรมั้งคับ,กู้20,000 ต้องทำอย่า...</td>\n",
       "    </tr>\n",
       "    <tr>\n",
       "      <th>12</th>\n",
       "      <td>ถ้ารถกำลังส่งงวดอยู่ รีไฟแนนซ์​ได้ไหมครับ,มอเต...</td>\n",
       "    </tr>\n",
       "    <tr>\n",
       "      <th>13</th>\n",
       "      <td>รถเหลืออีก5เดือนเข้าได้มั้ยครับ#มอเตอร์ไซค์,รถ...</td>\n",
       "    </tr>\n",
       "    <tr>\n",
       "      <th>...</th>\n",
       "      <td>...</td>\n",
       "    </tr>\n",
       "    <tr>\n",
       "      <th>41485</th>\n",
       "      <td>{\"type\":\"legacy_reply_to_message_action\",\"mess...</td>\n",
       "    </tr>\n",
       "    <tr>\n",
       "      <th>41487</th>\n",
       "      <td>สวัสดีครับรบกวนขอเบอร์โทรเงินติดล้อสาขาจอหอจัง...</td>\n",
       "    </tr>\n",
       "    <tr>\n",
       "      <th>41488</th>\n",
       "      <td>DLJingjai,nan,ซื้อประกัน,Mazda2  2018 คับ,1 คั...</td>\n",
       "    </tr>\n",
       "    <tr>\n",
       "      <th>41491</th>\n",
       "      <td>เดือนนี้ผมยอดชำระมั้ยครับ,ถ้าจ่ายจ่ายเต็มหรือจ...</td>\n",
       "    </tr>\n",
       "    <tr>\n",
       "      <th>41494</th>\n",
       "      <td>รบกวนสอบถามครับ ผมสามารถยกเลิกรับใบแจ้งชำระเงิ...</td>\n",
       "    </tr>\n",
       "  </tbody>\n",
       "</table>\n",
       "<p>13407 rows × 1 columns</p>\n",
       "</div>"
      ],
      "text/plain": [
       "                                                 message\n",
       "2      พนักงานเร่งรัดหนี้สินภาคสนามรับอยู่ไหมครับ,พนั...\n",
       "7      ทำไม่บัตรเงินกดเงินไม่ใด้,ตู้บอกว่าติดต่อกับเจ...\n",
       "10     nan,ใช้หลักฐานอะไรมั้งคับ,กู้20,000 ต้องทำอย่า...\n",
       "12     ถ้ารถกำลังส่งงวดอยู่ รีไฟแนนซ์​ได้ไหมครับ,มอเต...\n",
       "13     รถเหลืออีก5เดือนเข้าได้มั้ยครับ#มอเตอร์ไซค์,รถ...\n",
       "...                                                  ...\n",
       "41485  {\"type\":\"legacy_reply_to_message_action\",\"mess...\n",
       "41487  สวัสดีครับรบกวนขอเบอร์โทรเงินติดล้อสาขาจอหอจัง...\n",
       "41488  DLJingjai,nan,ซื้อประกัน,Mazda2  2018 คับ,1 คั...\n",
       "41491  เดือนนี้ผมยอดชำระมั้ยครับ,ถ้าจ่ายจ่ายเต็มหรือจ...\n",
       "41494  รบกวนสอบถามครับ ผมสามารถยกเลิกรับใบแจ้งชำระเงิ...\n",
       "\n",
       "[13407 rows x 1 columns]"
      ]
     },
     "execution_count": 87,
     "metadata": {},
     "output_type": "execute_result"
    }
   ],
   "source": [
    "male_msg = male_message.to_frame()\n",
    "male_msg"
   ]
  },
  {
   "cell_type": "code",
   "execution_count": 19,
   "metadata": {},
   "outputs": [],
   "source": [
    "intent_prop = pd.read_csv('../excel/intent_prop.csv')"
   ]
  },
  {
   "cell_type": "code",
   "execution_count": 30,
   "metadata": {},
   "outputs": [
    {
     "data": {
      "text/html": [
       "<div>\n",
       "<style scoped>\n",
       "    .dataframe tbody tr th:only-of-type {\n",
       "        vertical-align: middle;\n",
       "    }\n",
       "\n",
       "    .dataframe tbody tr th {\n",
       "        vertical-align: top;\n",
       "    }\n",
       "\n",
       "    .dataframe thead th {\n",
       "        text-align: right;\n",
       "    }\n",
       "</style>\n",
       "<table border=\"1\" class=\"dataframe\">\n",
       "  <thead>\n",
       "    <tr style=\"text-align: right;\">\n",
       "      <th></th>\n",
       "      <th>Unnamed: 0</th>\n",
       "      <th>Intent</th>\n",
       "      <th>Keyword</th>\n",
       "      <th>intent</th>\n",
       "      <th>Keyword_norm</th>\n",
       "    </tr>\n",
       "  </thead>\n",
       "  <tbody>\n",
       "    <tr>\n",
       "      <th>0</th>\n",
       "      <td>0</td>\n",
       "      <td>corona</td>\n",
       "      <td>20804</td>\n",
       "      <td>corona</td>\n",
       "      <td>0.191458</td>\n",
       "    </tr>\n",
       "    <tr>\n",
       "      <th>1</th>\n",
       "      <td>1</td>\n",
       "      <td>ค้นหาสาขา~S</td>\n",
       "      <td>12921</td>\n",
       "      <td>ค้นหาสาขา~S</td>\n",
       "      <td>0.118911</td>\n",
       "    </tr>\n",
       "    <tr>\n",
       "      <th>2</th>\n",
       "      <td>2</td>\n",
       "      <td>รายละเอียดสินเชื่อ~S</td>\n",
       "      <td>9174</td>\n",
       "      <td>รายละเอียดสินเชื่อ~S</td>\n",
       "      <td>0.084428</td>\n",
       "    </tr>\n",
       "    <tr>\n",
       "      <th>3</th>\n",
       "      <td>3</td>\n",
       "      <td>รายละเอียดประกันรถยนต์~S</td>\n",
       "      <td>6138</td>\n",
       "      <td>รายละเอียดประกันรถยนต์~S</td>\n",
       "      <td>0.056488</td>\n",
       "    </tr>\n",
       "    <tr>\n",
       "      <th>4</th>\n",
       "      <td>4</td>\n",
       "      <td>สอบถามค่าเบี้ยประกันรถคันโปรด~S</td>\n",
       "      <td>4917</td>\n",
       "      <td>สอบถามค่าเบี้ยประกันรถคันโปรด~S</td>\n",
       "      <td>0.045251</td>\n",
       "    </tr>\n",
       "    <tr>\n",
       "      <th>5</th>\n",
       "      <td>5</td>\n",
       "      <td>บริการลูกค้าปัจจุบัน</td>\n",
       "      <td>4690</td>\n",
       "      <td>บริการลูกค้าปัจจุบัน</td>\n",
       "      <td>0.043162</td>\n",
       "    </tr>\n",
       "    <tr>\n",
       "      <th>6</th>\n",
       "      <td>6</td>\n",
       "      <td>ขอข้อมูลประกัน~S</td>\n",
       "      <td>4533</td>\n",
       "      <td>ขอข้อมูลประกัน~S</td>\n",
       "      <td>0.041717</td>\n",
       "    </tr>\n",
       "    <tr>\n",
       "      <th>7</th>\n",
       "      <td>7</td>\n",
       "      <td>เงื่อนไขการรีไฟแนนซ์รถยนต์~S</td>\n",
       "      <td>4175</td>\n",
       "      <td>เงื่อนไขการรีไฟแนนซ์รถยนต์~S</td>\n",
       "      <td>0.038422</td>\n",
       "    </tr>\n",
       "    <tr>\n",
       "      <th>8</th>\n",
       "      <td>8</td>\n",
       "      <td>เงื่อนไขการซื้อประกันแบบผ่อน0%~S</td>\n",
       "      <td>3501</td>\n",
       "      <td>เงื่อนไขการซื้อประกันแบบผ่อน0%~S</td>\n",
       "      <td>0.032219</td>\n",
       "    </tr>\n",
       "    <tr>\n",
       "      <th>9</th>\n",
       "      <td>9</td>\n",
       "      <td>สินเชื่อทะเบียนรถจักรยานยนต์~S</td>\n",
       "      <td>3237</td>\n",
       "      <td>สินเชื่อทะเบียนรถจักรยานยนต์~S</td>\n",
       "      <td>0.029790</td>\n",
       "    </tr>\n",
       "  </tbody>\n",
       "</table>\n",
       "</div>"
      ],
      "text/plain": [
       "   Unnamed: 0                            Intent  Keyword  \\\n",
       "0           0                            corona    20804   \n",
       "1           1                       ค้นหาสาขา~S    12921   \n",
       "2           2              รายละเอียดสินเชื่อ~S     9174   \n",
       "3           3          รายละเอียดประกันรถยนต์~S     6138   \n",
       "4           4   สอบถามค่าเบี้ยประกันรถคันโปรด~S     4917   \n",
       "5           5              บริการลูกค้าปัจจุบัน     4690   \n",
       "6           6                  ขอข้อมูลประกัน~S     4533   \n",
       "7           7      เงื่อนไขการรีไฟแนนซ์รถยนต์~S     4175   \n",
       "8           8  เงื่อนไขการซื้อประกันแบบผ่อน0%~S     3501   \n",
       "9           9    สินเชื่อทะเบียนรถจักรยานยนต์~S     3237   \n",
       "\n",
       "                             intent  Keyword_norm  \n",
       "0                            corona      0.191458  \n",
       "1                       ค้นหาสาขา~S      0.118911  \n",
       "2              รายละเอียดสินเชื่อ~S      0.084428  \n",
       "3          รายละเอียดประกันรถยนต์~S      0.056488  \n",
       "4   สอบถามค่าเบี้ยประกันรถคันโปรด~S      0.045251  \n",
       "5              บริการลูกค้าปัจจุบัน      0.043162  \n",
       "6                  ขอข้อมูลประกัน~S      0.041717  \n",
       "7      เงื่อนไขการรีไฟแนนซ์รถยนต์~S      0.038422  \n",
       "8  เงื่อนไขการซื้อประกันแบบผ่อน0%~S      0.032219  \n",
       "9    สินเชื่อทะเบียนรถจักรยานยนต์~S      0.029790  "
      ]
     },
     "execution_count": 30,
     "metadata": {},
     "output_type": "execute_result"
    }
   ],
   "source": [
    "top_10_intent = intent_prop.iloc[:10]\n",
    "top_10_intent"
   ]
  },
  {
   "cell_type": "code",
   "execution_count": 33,
   "metadata": {},
   "outputs": [
    {
     "data": {
      "text/plain": [
       "['corona',\n",
       " 'ค้นหาสาขา~S',\n",
       " 'รายละเอียดสินเชื่อ~S',\n",
       " 'รายละเอียดประกันรถยนต์~S',\n",
       " 'สอบถามค่าเบี้ยประกันรถคันโปรด~S',\n",
       " 'บริการลูกค้าปัจจุบัน',\n",
       " 'ขอข้อมูลประกัน~S',\n",
       " 'เงื่อนไขการรีไฟแนนซ์รถยนต์~S',\n",
       " 'เงื่อนไขการซื้อประกันแบบผ่อน0%~S',\n",
       " 'สินเชื่อทะเบียนรถจักรยานยนต์~S']"
      ]
     },
     "execution_count": 33,
     "metadata": {},
     "output_type": "execute_result"
    }
   ],
   "source": [
    "intent_list = top_10_intent['intent'].tolist()\n",
    "intent_list"
   ]
  },
  {
   "cell_type": "code",
   "execution_count": 78,
   "metadata": {},
   "outputs": [
    {
     "data": {
      "text/plain": [
       "22850"
      ]
     },
     "execution_count": 78,
     "metadata": {},
     "output_type": "execute_result"
    }
   ],
   "source": [
    "female_msg_list = female_msg['message'].tolist()\n",
    "len(female_msg_list)"
   ]
  },
  {
   "cell_type": "code",
   "execution_count": 88,
   "metadata": {},
   "outputs": [
    {
     "data": {
      "text/plain": [
       "13407"
      ]
     },
     "execution_count": 88,
     "metadata": {},
     "output_type": "execute_result"
    }
   ],
   "source": [
    "male_msg_list = male_msg['message'].tolist()\n",
    "len(male_msg_list)"
   ]
  },
  {
   "cell_type": "markdown",
   "metadata": {},
   "source": [
    "## Find corona intent proportion"
   ]
  },
  {
   "cell_type": "code",
   "execution_count": 189,
   "metadata": {},
   "outputs": [],
   "source": [
    "female_corona_list = []\n",
    "for i in range(len(female_msg_list)):\n",
    "    female_corona_list.append(fuzz.partial_ratio(female_msg_list[i], intent_list[0]))\n",
    "#     female_corona_list[i] = fuzz.partial_ratio(female_msg_list[i], intent_list[0])\n",
    "    i = i + 1"
   ]
  },
  {
   "cell_type": "code",
   "execution_count": 190,
   "metadata": {},
   "outputs": [],
   "source": [
    "male_corona_list = []\n",
    "for i in range(len(male_msg_list)):\n",
    "    male_corona_list.append(fuzz.partial_ratio(male_msg_list[i], intent_list[0]))\n",
    "#     female_corona_list[i] = fuzz.partial_ratio(female_msg_list[i], intent_list[0])\n",
    "    i = i + 1"
   ]
  },
  {
   "cell_type": "code",
   "execution_count": 38,
   "metadata": {
    "collapsed": true,
    "jupyter": {
     "outputs_hidden": true,
     "source_hidden": true
    }
   },
   "outputs": [
    {
     "data": {
      "text/plain": [
       "33"
      ]
     },
     "execution_count": 38,
     "metadata": {},
     "output_type": "execute_result"
    }
   ],
   "source": [
    "fuzz.partial_ratio(\"สนใจประกันชั้น1 รถนิสสันอเมร่า ปี2019 ค่ะ\", \"รายละเอียดประกันรถยนต์~S\")"
   ]
  },
  {
   "cell_type": "code",
   "execution_count": 80,
   "metadata": {},
   "outputs": [
    {
     "data": {
      "text/plain": [
       "22850"
      ]
     },
     "execution_count": 80,
     "metadata": {},
     "output_type": "execute_result"
    }
   ],
   "source": [
    "len(female_corona_list)"
   ]
  },
  {
   "cell_type": "code",
   "execution_count": 90,
   "metadata": {},
   "outputs": [
    {
     "data": {
      "text/plain": [
       "13407"
      ]
     },
     "execution_count": 90,
     "metadata": {},
     "output_type": "execute_result"
    }
   ],
   "source": [
    "len(male_corona_list)"
   ]
  },
  {
   "cell_type": "code",
   "execution_count": 191,
   "metadata": {},
   "outputs": [],
   "source": [
    "def filter_corona_list(ratio):\n",
    "    if(ratio > 30):\n",
    "        return True\n",
    "    else:\n",
    "        return False"
   ]
  },
  {
   "cell_type": "code",
   "execution_count": 192,
   "metadata": {},
   "outputs": [],
   "source": [
    "filtered_female_corona = filter(filter_corona_list, female_corona_list)"
   ]
  },
  {
   "cell_type": "code",
   "execution_count": 193,
   "metadata": {},
   "outputs": [],
   "source": [
    "filtered_male_corona = filter(filter_corona_list, male_corona_list)"
   ]
  },
  {
   "cell_type": "code",
   "execution_count": 56,
   "metadata": {
    "collapsed": true,
    "jupyter": {
     "outputs_hidden": true,
     "source_hidden": true
    }
   },
   "outputs": [
    {
     "name": "stdout",
     "output_type": "stream",
     "text": [
      "<filter object at 0x118dc75d0>\n"
     ]
    }
   ],
   "source": [
    "print(filtered_female_corona)"
   ]
  },
  {
   "cell_type": "code",
   "execution_count": 194,
   "metadata": {},
   "outputs": [],
   "source": [
    "female_with_corona_intent = []\n",
    "for members in filtered_female_corona:\n",
    "    female_with_corona_intent.append(members)\n",
    "#     print(members)"
   ]
  },
  {
   "cell_type": "code",
   "execution_count": 195,
   "metadata": {},
   "outputs": [],
   "source": [
    "male_with_corona_intent = []\n",
    "for members in filtered_male_corona:\n",
    "    male_with_corona_intent.append(members)\n",
    "#     print(members)"
   ]
  },
  {
   "cell_type": "code",
   "execution_count": 113,
   "metadata": {},
   "outputs": [],
   "source": [
    "female_corona_count = len(female_with_corona_intent)"
   ]
  },
  {
   "cell_type": "code",
   "execution_count": 93,
   "metadata": {},
   "outputs": [
    {
     "data": {
      "text/plain": [
       "6964"
      ]
     },
     "execution_count": 93,
     "metadata": {},
     "output_type": "execute_result"
    }
   ],
   "source": [
    "len(male_with_corona_intent)"
   ]
  },
  {
   "cell_type": "code",
   "execution_count": 122,
   "metadata": {},
   "outputs": [
    {
     "data": {
      "text/plain": [
       "36257"
      ]
     },
     "execution_count": 122,
     "metadata": {},
     "output_type": "execute_result"
    }
   ],
   "source": [
    "len(female_msg_list) + len(male_msg_list)"
   ]
  },
  {
   "cell_type": "code",
   "execution_count": 196,
   "metadata": {},
   "outputs": [
    {
     "name": "stdout",
     "output_type": "stream",
     "text": [
      "Total Female Corona intent: 12796\n",
      "Corona Female ratio is 64.76%\n",
      "Total Male Corona intent: 6964\n",
      "Corona Male ratio is 35.24%\n"
     ]
    }
   ],
   "source": [
    "print('Total Female Corona intent: {}'.format(len(female_with_corona_intent)))\n",
    "corona_female_ratio = ((len(female_with_corona_intent)/(len(female_with_corona_intent) + len(male_with_corona_intent)) * 100))\n",
    "corona_female_ratio_round = float(\"{:.2f}\".format(corona_female_ratio))\n",
    "print('Corona Female ratio is {}%'.format(corona_female_ratio_round))\n",
    "print('Total Male Corona intent: {}'.format(len(male_with_corona_intent)))\n",
    "corona_male_ratio = (len(male_with_corona_intent)/(len(female_with_corona_intent) + len(male_with_corona_intent)) * 100)\n",
    "corona_male_ratio_round = float(\"{:.2f}\".format(corona_male_ratio))\n",
    "print('Corona Male ratio is {}%'.format(corona_male_ratio_round))"
   ]
  },
  {
   "cell_type": "markdown",
   "metadata": {},
   "source": [
    "## Find Branch intent proportion"
   ]
  },
  {
   "cell_type": "code",
   "execution_count": 96,
   "metadata": {},
   "outputs": [],
   "source": [
    "female_branch_list = []\n",
    "for i in range(len(female_msg_list)):\n",
    "    female_branch_list.append(fuzz.partial_ratio(female_msg_list[i], intent_list[1]))\n",
    "#     female_corona_list[i] = fuzz.partial_ratio(female_msg_list[i], intent_list[0])\n",
    "    i = i + 1"
   ]
  },
  {
   "cell_type": "code",
   "execution_count": 97,
   "metadata": {},
   "outputs": [],
   "source": [
    "male_branch_list = []\n",
    "for i in range(len(male_msg_list)):\n",
    "    male_branch_list.append(fuzz.partial_ratio(male_msg_list[i], intent_list[1]))\n",
    "#     female_corona_list[i] = fuzz.partial_ratio(female_msg_list[i], intent_list[0])\n",
    "    i = i + 1"
   ]
  },
  {
   "cell_type": "code",
   "execution_count": 98,
   "metadata": {},
   "outputs": [],
   "source": [
    "def filter_fuzz_ratio_list(ratio):\n",
    "    if(ratio > 30):\n",
    "        return True\n",
    "    else:\n",
    "        return False"
   ]
  },
  {
   "cell_type": "code",
   "execution_count": 100,
   "metadata": {},
   "outputs": [],
   "source": [
    "filtered_female_branch = filter(filter_fuzz_ratio_list, female_branch_list)\n",
    "filtered_male_branch = filter(filter_fuzz_ratio_list, male_branch_list)"
   ]
  },
  {
   "cell_type": "code",
   "execution_count": 101,
   "metadata": {},
   "outputs": [],
   "source": [
    "female_with_branch_intent = []\n",
    "for members in filtered_female_branch:\n",
    "    female_with_branch_intent.append(members)"
   ]
  },
  {
   "cell_type": "code",
   "execution_count": 102,
   "metadata": {},
   "outputs": [],
   "source": [
    "male_with_branch_intent = []\n",
    "for members in filtered_male_branch:\n",
    "    male_with_branch_intent.append(members)"
   ]
  },
  {
   "cell_type": "code",
   "execution_count": 188,
   "metadata": {},
   "outputs": [
    {
     "name": "stdout",
     "output_type": "stream",
     "text": [
      "Total Female Branch intent: 8078\n",
      "Branch Female ratio is 64.44%\n",
      "Total Male Branch intent: 4457\n",
      "Branch Male ratio is 35.56%\n"
     ]
    }
   ],
   "source": [
    "print('Total Female Branch intent: {}'.format(len(female_with_branch_intent)))\n",
    "branch_female_ratio = ((len(female_with_branch_intent)/(len(female_with_branch_intent) + len(male_with_branch_intent)) * 100))\n",
    "branch_female_ratio_round = float(\"{:.2f}\".format(branch_female_ratio))\n",
    "print('Branch Female ratio is {}%'.format(branch_female_ratio_round))\n",
    "print('Total Male Branch intent: {}'.format(len(male_with_branch_intent)))\n",
    "branch_male_ratio = (len(male_with_branch_intent)/(len(female_with_branch_intent) + len(male_with_branch_intent)) * 100)\n",
    "branch_male_ratio_round = float(\"{:.2f}\".format(branch_male_ratio))\n",
    "print('Branch Male ratio is {}%'.format(branch_male_ratio_round))"
   ]
  },
  {
   "cell_type": "markdown",
   "metadata": {},
   "source": [
    "## Find Lead detail intent proportion"
   ]
  },
  {
   "cell_type": "code",
   "execution_count": 104,
   "metadata": {},
   "outputs": [],
   "source": [
    "female_lead_list = []\n",
    "for i in range(len(female_msg_list)):\n",
    "    female_lead_list.append(fuzz.partial_ratio(female_msg_list[i], intent_list[2]))\n",
    "    i = i + 1"
   ]
  },
  {
   "cell_type": "code",
   "execution_count": 105,
   "metadata": {},
   "outputs": [],
   "source": [
    "male_lead_list = []\n",
    "for i in range(len(male_msg_list)):\n",
    "    male_lead_list.append(fuzz.partial_ratio(male_msg_list[i], intent_list[2]))\n",
    "    i = i + 1"
   ]
  },
  {
   "cell_type": "code",
   "execution_count": 106,
   "metadata": {},
   "outputs": [],
   "source": [
    "filtered_female_lead = filter(filter_fuzz_ratio_list, female_lead_list)\n",
    "filtered_male_lead = filter(filter_fuzz_ratio_list, male_lead_list)"
   ]
  },
  {
   "cell_type": "code",
   "execution_count": 107,
   "metadata": {},
   "outputs": [],
   "source": [
    "female_with_lead_intent = []\n",
    "for members in filtered_female_lead:\n",
    "    female_with_lead_intent.append(members)"
   ]
  },
  {
   "cell_type": "code",
   "execution_count": 108,
   "metadata": {},
   "outputs": [],
   "source": [
    "male_with_lead_intent = []\n",
    "for members in filtered_male_lead:\n",
    "    male_with_lead_intent.append(members)"
   ]
  },
  {
   "cell_type": "code",
   "execution_count": 187,
   "metadata": {},
   "outputs": [
    {
     "name": "stdout",
     "output_type": "stream",
     "text": [
      "Total Female Lead intent: 12933\n",
      "Lead Female ratio is 64.8%\n",
      "Total Male Lead intent: 7026\n",
      "Lead Male ratio is 35.2%\n"
     ]
    }
   ],
   "source": [
    "print('Total Female Lead intent: {}'.format(len(female_with_lead_intent)))\n",
    "lead_female_ratio = ((len(female_with_lead_intent)/(len(female_with_lead_intent) + len(male_with_lead_intent)) * 100))\n",
    "lead_female_ratio_round = float(\"{:.2f}\".format(lead_female_ratio))\n",
    "print('Lead Female ratio is {}%'.format(lead_female_ratio_round))\n",
    "print('Total Male Lead intent: {}'.format(len(male_with_lead_intent)))\n",
    "lead_male_ratio = (len(male_with_lead_intent)/(len(female_with_lead_intent) + len(male_with_lead_intent)) * 100)\n",
    "lead_male_ratio_round = float(\"{:.2f}\".format(lead_male_ratio))\n",
    "print('Lead Male ratio is {}%'.format(lead_male_ratio_round))"
   ]
  },
  {
   "cell_type": "markdown",
   "metadata": {},
   "source": [
    "## Find Car_Ins detail intent proportion"
   ]
  },
  {
   "cell_type": "code",
   "execution_count": 142,
   "metadata": {},
   "outputs": [],
   "source": [
    "female_car_ins_list = []\n",
    "for i in range(len(female_msg_list)):\n",
    "    female_car_ins_list.append(fuzz.partial_ratio(female_msg_list[i], intent_list[3]))\n",
    "    i = i + 1"
   ]
  },
  {
   "cell_type": "code",
   "execution_count": 143,
   "metadata": {},
   "outputs": [],
   "source": [
    "male_car_ins_list = []\n",
    "for i in range(len(male_msg_list)):\n",
    "    male_car_ins_list.append(fuzz.partial_ratio(male_msg_list[i], intent_list[3]))\n",
    "    i = i + 1"
   ]
  },
  {
   "cell_type": "code",
   "execution_count": 144,
   "metadata": {},
   "outputs": [],
   "source": [
    "filtered_female_car_ins = filter(filter_fuzz_ratio_list, female_car_ins_list)\n",
    "filtered_male_car_ins = filter(filter_fuzz_ratio_list, male_car_ins_list)"
   ]
  },
  {
   "cell_type": "code",
   "execution_count": 145,
   "metadata": {},
   "outputs": [],
   "source": [
    "female_with_car_ins_intent = []\n",
    "for members in filtered_female_car_ins:\n",
    "    female_with_car_ins_intent.append(members)"
   ]
  },
  {
   "cell_type": "code",
   "execution_count": 146,
   "metadata": {},
   "outputs": [],
   "source": [
    "male_with_car_ins_intent = []\n",
    "for members in filtered_male_car_ins:\n",
    "    male_with_car_ins_intent.append(members)"
   ]
  },
  {
   "cell_type": "code",
   "execution_count": 186,
   "metadata": {},
   "outputs": [
    {
     "name": "stdout",
     "output_type": "stream",
     "text": [
      "Total Female Car Insurance intent: 15547\n",
      "Car Insurance Female ratio is 64.74%\n",
      "Total Male Car Insurance intent: 8469\n",
      "Car Insurance Male ratio is 35.26%\n"
     ]
    }
   ],
   "source": [
    "print('Total Female Car Insurance intent: {}'.format(len(female_with_car_ins_intent)))\n",
    "car_ins_female_ratio = ((len(female_with_car_ins_intent)/(len(female_with_car_ins_intent) + len(male_with_car_ins_intent)) * 100))\n",
    "car_ins_female_ratio_round = float(\"{:.2f}\".format(car_ins_female_ratio))\n",
    "print('Car Insurance Female ratio is {}%'.format(car_ins_female_ratio_round))\n",
    "print('Total Male Car Insurance intent: {}'.format(len(male_with_car_ins_intent)))\n",
    "car_ins_male_ratio = (len(male_with_car_ins_intent)/(len(female_with_car_ins_intent) + len(male_with_car_ins_intent)) * 100)\n",
    "car_ins_male_ratio_round = float(\"{:.2f}\".format(car_ins_male_ratio))\n",
    "print('Car Insurance Male ratio is {}%'.format(car_ins_male_ratio_round))"
   ]
  },
  {
   "cell_type": "markdown",
   "metadata": {},
   "source": [
    "## Find Car_Premium detail intent proportion"
   ]
  },
  {
   "cell_type": "code",
   "execution_count": 148,
   "metadata": {},
   "outputs": [],
   "source": [
    "female_car_prem_list = []\n",
    "for i in range(len(female_msg_list)):\n",
    "    female_car_prem_list.append(fuzz.partial_ratio(female_msg_list[i], intent_list[4]))\n",
    "    i = i + 1"
   ]
  },
  {
   "cell_type": "code",
   "execution_count": 149,
   "metadata": {},
   "outputs": [],
   "source": [
    "male_car_prem_list = []\n",
    "for i in range(len(male_msg_list)):\n",
    "    male_car_prem_list.append(fuzz.partial_ratio(male_msg_list[i], intent_list[4]))\n",
    "    i = i + 1"
   ]
  },
  {
   "cell_type": "code",
   "execution_count": 150,
   "metadata": {},
   "outputs": [],
   "source": [
    "filtered_female_car_prem = filter(filter_fuzz_ratio_list, female_car_ins_list)\n",
    "filtered_male_car_prem = filter(filter_fuzz_ratio_list, male_car_ins_list)"
   ]
  },
  {
   "cell_type": "code",
   "execution_count": 151,
   "metadata": {},
   "outputs": [],
   "source": [
    "female_with_car_prem_intent = []\n",
    "for members in filtered_female_car_prem:\n",
    "    female_with_car_prem_intent.append(members)"
   ]
  },
  {
   "cell_type": "code",
   "execution_count": 152,
   "metadata": {},
   "outputs": [],
   "source": [
    "male_with_car_prem_intent = []\n",
    "for members in filtered_male_car_prem:\n",
    "    male_with_car_prem_intent.append(members)"
   ]
  },
  {
   "cell_type": "code",
   "execution_count": 185,
   "metadata": {},
   "outputs": [
    {
     "name": "stdout",
     "output_type": "stream",
     "text": [
      "Total Female Car Insurance Premium intent: 15547\n",
      "Car Insurance Premium Female ratio is 64.74%\n",
      "Total Male Car Insurance Premium intent: 8469\n",
      "Car Insurance Premium Male ratio is 35.26%\n"
     ]
    }
   ],
   "source": [
    "print('Total Female Car Insurance Premium intent: {}'.format(len(female_with_car_prem_intent)))\n",
    "car_prem_female_ratio = ((len(female_with_car_prem_intent)/(len(female_with_car_prem_intent) + len(male_with_car_prem_intent)) * 100))\n",
    "car_prem_female_ratio_round = float(\"{:.2f}\".format(car_prem_female_ratio))\n",
    "print('Car Insurance Premium Female ratio is {}%'.format(car_prem_female_ratio_round))\n",
    "print('Total Male Car Insurance Premium intent: {}'.format(len(male_with_car_prem_intent)))\n",
    "car_prem_male_ratio = (len(male_with_car_prem_intent)/(len(female_with_car_prem_intent) + len(male_with_car_prem_intent)) * 100)\n",
    "car_prem_male_ratio_round = float(\"{:.2f}\".format(car_prem_male_ratio))\n",
    "print('Car Insurance Premium Male ratio is {}%'.format(car_prem_male_ratio_round))"
   ]
  },
  {
   "cell_type": "markdown",
   "metadata": {},
   "source": [
    "## Customer Support intent proportion"
   ]
  },
  {
   "cell_type": "code",
   "execution_count": 154,
   "metadata": {},
   "outputs": [],
   "source": [
    "female_cust_list = []\n",
    "for i in range(len(female_msg_list)):\n",
    "    female_cust_list.append(fuzz.partial_ratio(female_msg_list[i], intent_list[5]))\n",
    "    i = i + 1"
   ]
  },
  {
   "cell_type": "code",
   "execution_count": 155,
   "metadata": {},
   "outputs": [],
   "source": [
    "male_cust_list = []\n",
    "for i in range(len(male_msg_list)):\n",
    "    male_cust_list.append(fuzz.partial_ratio(male_msg_list[i], intent_list[5]))\n",
    "    i = i + 1"
   ]
  },
  {
   "cell_type": "code",
   "execution_count": 156,
   "metadata": {},
   "outputs": [],
   "source": [
    "filtered_female_cust = filter(filter_fuzz_ratio_list, female_cust_list)\n",
    "filtered_male_cust = filter(filter_fuzz_ratio_list, male_cust_list)"
   ]
  },
  {
   "cell_type": "code",
   "execution_count": 157,
   "metadata": {},
   "outputs": [],
   "source": [
    "female_with_cust_intent = []\n",
    "for members in filtered_female_cust:\n",
    "    female_with_cust_intent.append(members)\n",
    "\n",
    "male_with_cust_intent = []\n",
    "for members in filtered_male_cust:\n",
    "    male_with_cust_intent.append(members)"
   ]
  },
  {
   "cell_type": "code",
   "execution_count": 184,
   "metadata": {},
   "outputs": [
    {
     "name": "stdout",
     "output_type": "stream",
     "text": [
      "Total Female Current Customer Support intent: 9602\n",
      "Current Customer Support Female ratio is 62.83%\n",
      "Total Male Current Customer Support intent: 5681\n",
      "Current Customer Support Male ratio is 37.17%\n"
     ]
    }
   ],
   "source": [
    "print('Total Female Current Customer Support intent: {}'.format(len(female_with_cust_intent)))\n",
    "cust_female_ratio = ((len(female_with_cust_intent)/(len(female_with_cust_intent) + len(male_with_cust_intent)) * 100))\n",
    "cust_female_ratio_round = float(\"{:.2f}\".format(cust_female_ratio))\n",
    "print('Current Customer Support Female ratio is {}%'.format(cust_female_ratio_round))\n",
    "print('Total Male Current Customer Support intent: {}'.format(len(male_with_cust_intent)))\n",
    "cust_male_ratio = (len(male_with_cust_intent)/(len(female_with_cust_intent) + len(male_with_cust_intent)) * 100)\n",
    "cust_male_ratio_round = float(\"{:.2f}\".format(cust_male_ratio))\n",
    "print('Current Customer Support Male ratio is {}%'.format(cust_male_ratio_round))"
   ]
  },
  {
   "cell_type": "markdown",
   "metadata": {},
   "source": [
    "## Insurance detail intent proportion"
   ]
  },
  {
   "cell_type": "code",
   "execution_count": 159,
   "metadata": {},
   "outputs": [],
   "source": [
    "female_ins_list = []\n",
    "for i in range(len(female_msg_list)):\n",
    "    female_ins_list.append(fuzz.partial_ratio(female_msg_list[i], intent_list[6]))\n",
    "    i = i + 1\n",
    "\n",
    "male_ins_list = []\n",
    "for i in range(len(male_msg_list)):\n",
    "    male_ins_list.append(fuzz.partial_ratio(male_msg_list[i], intent_list[6]))\n",
    "    i = i + 1"
   ]
  },
  {
   "cell_type": "code",
   "execution_count": 160,
   "metadata": {},
   "outputs": [],
   "source": [
    "filtered_female_ins = filter(filter_fuzz_ratio_list, female_ins_list)\n",
    "filtered_male_ins = filter(filter_fuzz_ratio_list, male_ins_list)"
   ]
  },
  {
   "cell_type": "code",
   "execution_count": 161,
   "metadata": {},
   "outputs": [],
   "source": [
    "female_with_ins_intent = []\n",
    "for members in filtered_female_ins:\n",
    "    female_with_ins_intent.append(members)\n",
    "\n",
    "male_with_ins_intent = []\n",
    "for members in filtered_male_ins:\n",
    "    male_with_ins_intent.append(members)"
   ]
  },
  {
   "cell_type": "code",
   "execution_count": 183,
   "metadata": {},
   "outputs": [
    {
     "name": "stdout",
     "output_type": "stream",
     "text": [
      "Total Female Insurance information intent: 16180\n",
      "Insurance information Female ratio is 63.01%\n",
      "Total Male Insurance information intent: 9497\n",
      "Insurance information Male ratio is 36.99%\n"
     ]
    }
   ],
   "source": [
    "print('Total Female Insurance information intent: {}'.format(len(female_with_ins_intent)))\n",
    "ins_female_ratio = ((len(female_with_ins_intent)/(len(female_with_ins_intent) + len(male_with_ins_intent)) * 100))\n",
    "ins_female_ratio_round = float(\"{:.2f}\".format(ins_female_ratio))\n",
    "print('Insurance information Female ratio is {}%'.format(ins_female_ratio_round))\n",
    "print('Total Male Insurance information intent: {}'.format(len(male_with_ins_intent)))\n",
    "ins_male_ratio = (len(male_with_ins_intent)/(len(female_with_ins_intent) + len(male_with_ins_intent)) * 100)\n",
    "ins_male_ratio_round = float(\"{:.2f}\".format(ins_male_ratio))\n",
    "print('Insurance information Male ratio is {}%'.format(ins_male_ratio_round))"
   ]
  },
  {
   "cell_type": "markdown",
   "metadata": {},
   "source": [
    "## Refinance Condition intent proportion"
   ]
  },
  {
   "cell_type": "code",
   "execution_count": 163,
   "metadata": {},
   "outputs": [],
   "source": [
    "female_ref_cond_list = []\n",
    "for i in range(len(female_msg_list)):\n",
    "    female_ref_cond_list.append(fuzz.partial_ratio(female_msg_list[i], intent_list[7]))\n",
    "    i = i + 1\n",
    "\n",
    "male_ref_cond_list = []\n",
    "for i in range(len(male_msg_list)):\n",
    "    male_ref_cond_list.append(fuzz.partial_ratio(male_msg_list[i], intent_list[7]))\n",
    "    i = i + 1"
   ]
  },
  {
   "cell_type": "code",
   "execution_count": 164,
   "metadata": {},
   "outputs": [],
   "source": [
    "filtered_female_ref_cond = filter(filter_fuzz_ratio_list, female_ref_cond_list)\n",
    "filtered_male_ref_cond = filter(filter_fuzz_ratio_list, male_ref_cond_list)"
   ]
  },
  {
   "cell_type": "code",
   "execution_count": 165,
   "metadata": {},
   "outputs": [],
   "source": [
    "female_with_ref_cond_intent = []\n",
    "for members in filtered_female_ref_cond:\n",
    "    female_with_ref_cond_intent.append(members)\n",
    "\n",
    "male_with_ref_cond_intent = []\n",
    "for members in filtered_male_ref_cond:\n",
    "    male_with_ref_cond_intent.append(members)"
   ]
  },
  {
   "cell_type": "code",
   "execution_count": 182,
   "metadata": {},
   "outputs": [
    {
     "name": "stdout",
     "output_type": "stream",
     "text": [
      "Total Female Refinance Condition information intent: 11880\n",
      "Refinance Condition information Female ratio is 63.98%\n",
      "Total Male Refinance Condition information intent: 6689\n",
      "Refinance Condition information Male ratio is 36.02%\n"
     ]
    }
   ],
   "source": [
    "print('Total Female Refinance Condition information intent: {}'.format(len(female_with_ref_cond_intent)))\n",
    "ref_cond_female_ratio = ((len(female_with_ref_cond_intent)/(len(female_with_ref_cond_intent) + len(male_with_ref_cond_intent)) * 100))\n",
    "ref_cond_female_ratio_round = float(\"{:.2f}\".format(ref_cond_female_ratio))\n",
    "print('Refinance Condition information Female ratio is {}%'.format(ref_cond_female_ratio_round))\n",
    "print('Total Male Refinance Condition information intent: {}'.format(len(male_with_ref_cond_intent)))\n",
    "ref_cond_male_ratio = (len(male_with_ref_cond_intent)/(len(female_with_ref_cond_intent) + len(male_with_ref_cond_intent)) * 100)\n",
    "ref_cond_male_ratio_round = float(\"{:.2f}\".format(ref_cond_male_ratio))\n",
    "print('Refinance Condition information Male ratio is {}%'.format(ref_cond_male_ratio_round))"
   ]
  },
  {
   "cell_type": "markdown",
   "metadata": {},
   "source": [
    "## Insurance installments intent proportion"
   ]
  },
  {
   "cell_type": "code",
   "execution_count": 170,
   "metadata": {},
   "outputs": [],
   "source": [
    "female_ins_install_list = []\n",
    "for i in range(len(female_msg_list)):\n",
    "    female_ins_install_list.append(fuzz.partial_ratio(female_msg_list[i], intent_list[8]))\n",
    "    i = i + 1\n",
    "\n",
    "male_ins_install_list = []\n",
    "for i in range(len(male_msg_list)):\n",
    "    male_ins_install_list.append(fuzz.partial_ratio(male_msg_list[i], intent_list[8]))\n",
    "    i = i + 1"
   ]
  },
  {
   "cell_type": "code",
   "execution_count": 171,
   "metadata": {},
   "outputs": [],
   "source": [
    "filtered_female_ins_install = filter(filter_fuzz_ratio_list, female_ins_install_list)\n",
    "filtered_male_ins_install = filter(filter_fuzz_ratio_list, male_ins_install_list)"
   ]
  },
  {
   "cell_type": "code",
   "execution_count": 172,
   "metadata": {},
   "outputs": [],
   "source": [
    "female_with_ins_install_intent = []\n",
    "for members in filtered_female_ins_install:\n",
    "    female_with_ins_install_intent.append(members)\n",
    "\n",
    "male_with_ins_install_intent = []\n",
    "for members in filtered_male_ins_install:\n",
    "    male_with_ins_install_intent.append(members)"
   ]
  },
  {
   "cell_type": "code",
   "execution_count": 181,
   "metadata": {},
   "outputs": [
    {
     "name": "stdout",
     "output_type": "stream",
     "text": [
      "Total Female Insurance Installments information intent: 15803\n",
      "Insurance Installments information Female ratio is 62.72%\n",
      "Total Male Insurance Installments information intent: 9395\n",
      "Insurance Installments information Male ratio is 37.28%\n"
     ]
    }
   ],
   "source": [
    "print('Total Female Insurance Installments information intent: {}'.format(len(female_with_ins_install_intent)))\n",
    "ins_install_female_ratio = ((len(female_with_ins_install_intent)/(len(female_with_ins_install_intent) + len(male_with_ins_install_intent)) * 100))\n",
    "ins_install_female_ratio_round = float(\"{:.2f}\".format(ins_install_female_ratio))\n",
    "print('Insurance Installments information Female ratio is {}%'.format(ins_install_female_ratio_round))\n",
    "print('Total Male Insurance Installments information intent: {}'.format(len(male_with_ins_install_intent)))\n",
    "ins_install_male_ratio = (len(male_with_ins_install_intent)/(len(female_with_ins_install_intent) + len(male_with_ins_install_intent)) * 100)\n",
    "ins_install_male_ratio_round = float(\"{:.2f}\".format(ins_install_male_ratio))\n",
    "print('Insurance Installments information Male ratio is {}%'.format(ins_install_male_ratio_round))"
   ]
  },
  {
   "cell_type": "markdown",
   "metadata": {},
   "source": [
    "## Motorbike Loan intent proportion"
   ]
  },
  {
   "cell_type": "code",
   "execution_count": 175,
   "metadata": {},
   "outputs": [],
   "source": [
    "female_bike_loan_list = []\n",
    "for i in range(len(female_msg_list)):\n",
    "    female_bike_loan_list.append(fuzz.partial_ratio(female_msg_list[i], intent_list[9]))\n",
    "    i = i + 1\n",
    "\n",
    "male_bike_loan_list = []\n",
    "for i in range(len(male_msg_list)):\n",
    "    male_bike_loan_list.append(fuzz.partial_ratio(male_msg_list[i], intent_list[9]))\n",
    "    i = i + 1"
   ]
  },
  {
   "cell_type": "code",
   "execution_count": 176,
   "metadata": {},
   "outputs": [],
   "source": [
    "filtered_female_bike_loan = filter(filter_fuzz_ratio_list, female_bike_loan_list)\n",
    "filtered_male_bike_loan = filter(filter_fuzz_ratio_list, male_bike_loan_list)"
   ]
  },
  {
   "cell_type": "code",
   "execution_count": 177,
   "metadata": {},
   "outputs": [],
   "source": [
    "female_with_bike_loan_intent = []\n",
    "for members in filtered_female_bike_loan:\n",
    "    female_with_bike_loan_intent.append(members)\n",
    "\n",
    "male_with_bike_loan_intent = []\n",
    "for members in filtered_male_bike_loan:\n",
    "    male_with_bike_loan_intent.append(members)"
   ]
  },
  {
   "cell_type": "code",
   "execution_count": 180,
   "metadata": {},
   "outputs": [
    {
     "name": "stdout",
     "output_type": "stream",
     "text": [
      "Total Female Motorbike Loan information intent: 14204\n",
      "Motorbike Loan information Female ratio is 65.77%\n",
      "Total Male Motorbike Loan information intent: 7391\n",
      "Motorbike Loan information Male ratio is 34.23%\n"
     ]
    }
   ],
   "source": [
    "print('Total Female Motorbike Loan information intent: {}'.format(len(female_with_bike_loan_intent)))\n",
    "bike_loan_female_ratio = ((len(female_with_bike_loan_intent)/(len(female_with_bike_loan_intent) + len(male_with_bike_loan_intent)) * 100))\n",
    "bike_loan_female_ratio_round = float(\"{:.2f}\".format(bike_loan_female_ratio))\n",
    "print('Motorbike Loan information Female ratio is {}%'.format(bike_loan_female_ratio_round))\n",
    "print('Total Male Motorbike Loan information intent: {}'.format(len(male_with_bike_loan_intent)))\n",
    "bike_loan_male_ratio = (len(male_with_bike_loan_intent)/(len(female_with_bike_loan_intent) + len(male_with_bike_loan_intent)) * 100)\n",
    "bike_loan_male_ratio_round = float(\"{:.2f}\".format(bike_loan_male_ratio))\n",
    "print('Motorbike Loan information Male ratio is {}%'.format(bike_loan_male_ratio_round))"
   ]
  },
  {
   "cell_type": "code",
   "execution_count": null,
   "metadata": {},
   "outputs": [],
   "source": []
  }
 ],
 "metadata": {
  "kernelspec": {
   "display_name": "Python 3.7.4 64-bit ('NTL': venv)",
   "language": "python",
   "name": "python37464bitntlvenv5bb9f6107ccc44df9d8f2d89f2aa5ff4"
  },
  "language_info": {
   "codemirror_mode": {
    "name": "ipython",
    "version": 3
   },
   "file_extension": ".py",
   "mimetype": "text/x-python",
   "name": "python",
   "nbconvert_exporter": "python",
   "pygments_lexer": "ipython3",
   "version": "3.7.4"
  }
 },
 "nbformat": 4,
 "nbformat_minor": 4
}
