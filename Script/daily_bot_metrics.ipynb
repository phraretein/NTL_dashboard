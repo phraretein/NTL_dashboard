{
 "cells": [
  {
   "cell_type": "code",
   "execution_count": 1,
   "metadata": {},
   "outputs": [],
   "source": [
    "import pandas as pd"
   ]
  },
  {
   "cell_type": "code",
   "execution_count": 2,
   "metadata": {},
   "outputs": [],
   "source": [
    "submit_to_agent = pd.read_pickle('./data/submit_to_agent.p') "
   ]
  },
  {
   "cell_type": "code",
   "execution_count": 3,
   "metadata": {},
   "outputs": [
    {
     "data": {
      "text/html": [
       "<div>\n",
       "<style scoped>\n",
       "    .dataframe tbody tr th:only-of-type {\n",
       "        vertical-align: middle;\n",
       "    }\n",
       "\n",
       "    .dataframe tbody tr th {\n",
       "        vertical-align: top;\n",
       "    }\n",
       "\n",
       "    .dataframe thead th {\n",
       "        text-align: right;\n",
       "    }\n",
       "</style>\n",
       "<table border=\"1\" class=\"dataframe\">\n",
       "  <thead>\n",
       "    <tr style=\"text-align: right;\">\n",
       "      <th></th>\n",
       "      <th>_id</th>\n",
       "      <th>userId</th>\n",
       "      <th>full_name</th>\n",
       "      <th>datetime</th>\n",
       "      <th>reason</th>\n",
       "      <th>message</th>\n",
       "    </tr>\n",
       "  </thead>\n",
       "  <tbody>\n",
       "    <tr>\n",
       "      <th>0</th>\n",
       "      <td>5e747a3b88c9e151b2f1f29b</td>\n",
       "      <td>3432603620089385</td>\n",
       "      <td>มงคล ชุ่มใจ</td>\n",
       "      <td>2020-03-20T08:09:31.466143</td>\n",
       "      <td>not_understand</td>\n",
       "      <td>เบี้ย9999บ.คุ้มครอง​อะไรบ้าง</td>\n",
       "    </tr>\n",
       "    <tr>\n",
       "      <th>1</th>\n",
       "      <td>5e747a445bc258ca00eabfc7</td>\n",
       "      <td>2739695839400025</td>\n",
       "      <td>สุนทร สีหา</td>\n",
       "      <td>2020-03-20T08:09:40.274293</td>\n",
       "      <td>$ensitive</td>\n",
       "      <td>อยากทราบว่า.ทางรัฐบาลให้พักชำระหนี้ เงินติดล้อ...</td>\n",
       "    </tr>\n",
       "    <tr>\n",
       "      <th>2</th>\n",
       "      <td>5e747b3d88c9e151b2f1f2e7</td>\n",
       "      <td>2317879594928073</td>\n",
       "      <td>Chayatorn Arunchanachai</td>\n",
       "      <td>2020-03-20T08:13:49.144198</td>\n",
       "      <td>not_understand</td>\n",
       "      <td>โคโรนา</td>\n",
       "    </tr>\n",
       "    <tr>\n",
       "      <th>3</th>\n",
       "      <td>5e747c2d88c9e151b2f1f309</td>\n",
       "      <td>3654936474576279</td>\n",
       "      <td>Nampol Sawitree</td>\n",
       "      <td>2020-03-20T08:17:49.969109</td>\n",
       "      <td>not_understand</td>\n",
       "      <td>092-2748189</td>\n",
       "    </tr>\n",
       "    <tr>\n",
       "      <th>4</th>\n",
       "      <td>5e747d4888c9e151b2f1f33a</td>\n",
       "      <td>4065967033417170</td>\n",
       "      <td>ราชันย์ จันทะแค</td>\n",
       "      <td>2020-03-20T08:22:32.396304</td>\n",
       "      <td>$ensitive</td>\n",
       "      <td>กู้กับเงินล้อนิละครับ</td>\n",
       "    </tr>\n",
       "    <tr>\n",
       "      <th>...</th>\n",
       "      <td>...</td>\n",
       "      <td>...</td>\n",
       "      <td>...</td>\n",
       "      <td>...</td>\n",
       "      <td>...</td>\n",
       "      <td>...</td>\n",
       "    </tr>\n",
       "    <tr>\n",
       "      <th>12351</th>\n",
       "      <td>5ec4e07bac4f5c1d305fe65c</td>\n",
       "      <td>3100678436658802</td>\n",
       "      <td>หนุ่มอนุบาล สุดหล่อ</td>\n",
       "      <td>2020-05-20T07:47:07.656826</td>\n",
       "      <td>not_response</td>\n",
       "      <td>https://scontent.xx.fbcdn.net/v/t1.15752-9/968...</td>\n",
       "    </tr>\n",
       "    <tr>\n",
       "      <th>12352</th>\n",
       "      <td>5ec4e111ac4f5c1d305fe65d</td>\n",
       "      <td>3126007527457002</td>\n",
       "      <td>นุชรี ทองโอ</td>\n",
       "      <td>2020-05-20T07:49:37.617887</td>\n",
       "      <td>not_response</td>\n",
       "      <td></td>\n",
       "    </tr>\n",
       "    <tr>\n",
       "      <th>12353</th>\n",
       "      <td>5ec4e16bac4f5c1d305fe66e</td>\n",
       "      <td>4749158108443717</td>\n",
       "      <td>Meree Meree</td>\n",
       "      <td>2020-05-20T07:51:07.027190</td>\n",
       "      <td>not_response</td>\n",
       "      <td>{{DLJingjai}}</td>\n",
       "    </tr>\n",
       "    <tr>\n",
       "      <th>12354</th>\n",
       "      <td>5ec4e189ac4f5c1d305fe670</td>\n",
       "      <td>2939113419516575</td>\n",
       "      <td>ตีบ แดนไต้</td>\n",
       "      <td>2020-05-20T07:51:37.688190</td>\n",
       "      <td>not_response</td>\n",
       "      <td></td>\n",
       "    </tr>\n",
       "    <tr>\n",
       "      <th>12355</th>\n",
       "      <td>5ec4e297ac4f5c1d305fe69b</td>\n",
       "      <td>2932202820207473</td>\n",
       "      <td>Sayamol Taprangsee</td>\n",
       "      <td>2020-05-20T07:56:07.127719</td>\n",
       "      <td>not_response</td>\n",
       "      <td>{{ถูกต้อง}}</td>\n",
       "    </tr>\n",
       "  </tbody>\n",
       "</table>\n",
       "<p>12356 rows × 6 columns</p>\n",
       "</div>"
      ],
      "text/plain": [
       "                            _id            userId                full_name  \\\n",
       "0      5e747a3b88c9e151b2f1f29b  3432603620089385              มงคล ชุ่มใจ   \n",
       "1      5e747a445bc258ca00eabfc7  2739695839400025               สุนทร สีหา   \n",
       "2      5e747b3d88c9e151b2f1f2e7  2317879594928073  Chayatorn Arunchanachai   \n",
       "3      5e747c2d88c9e151b2f1f309  3654936474576279          Nampol Sawitree   \n",
       "4      5e747d4888c9e151b2f1f33a  4065967033417170          ราชันย์ จันทะแค   \n",
       "...                         ...               ...                      ...   \n",
       "12351  5ec4e07bac4f5c1d305fe65c  3100678436658802      หนุ่มอนุบาล สุดหล่อ   \n",
       "12352  5ec4e111ac4f5c1d305fe65d  3126007527457002              นุชรี ทองโอ   \n",
       "12353  5ec4e16bac4f5c1d305fe66e  4749158108443717              Meree Meree   \n",
       "12354  5ec4e189ac4f5c1d305fe670  2939113419516575               ตีบ แดนไต้   \n",
       "12355  5ec4e297ac4f5c1d305fe69b  2932202820207473       Sayamol Taprangsee   \n",
       "\n",
       "                         datetime          reason  \\\n",
       "0      2020-03-20T08:09:31.466143  not_understand   \n",
       "1      2020-03-20T08:09:40.274293       $ensitive   \n",
       "2      2020-03-20T08:13:49.144198  not_understand   \n",
       "3      2020-03-20T08:17:49.969109  not_understand   \n",
       "4      2020-03-20T08:22:32.396304       $ensitive   \n",
       "...                           ...             ...   \n",
       "12351  2020-05-20T07:47:07.656826    not_response   \n",
       "12352  2020-05-20T07:49:37.617887    not_response   \n",
       "12353  2020-05-20T07:51:07.027190    not_response   \n",
       "12354  2020-05-20T07:51:37.688190    not_response   \n",
       "12355  2020-05-20T07:56:07.127719    not_response   \n",
       "\n",
       "                                                 message  \n",
       "0                           เบี้ย9999บ.คุ้มครอง​อะไรบ้าง  \n",
       "1      อยากทราบว่า.ทางรัฐบาลให้พักชำระหนี้ เงินติดล้อ...  \n",
       "2                                                 โคโรนา  \n",
       "3                                            092-2748189  \n",
       "4                                  กู้กับเงินล้อนิละครับ  \n",
       "...                                                  ...  \n",
       "12351  https://scontent.xx.fbcdn.net/v/t1.15752-9/968...  \n",
       "12352                                                     \n",
       "12353                                      {{DLJingjai}}  \n",
       "12354                                                     \n",
       "12355                                        {{ถูกต้อง}}  \n",
       "\n",
       "[12356 rows x 6 columns]"
      ]
     },
     "execution_count": 3,
     "metadata": {},
     "output_type": "execute_result"
    }
   ],
   "source": [
    "submit_to_agent"
   ]
  },
  {
   "cell_type": "code",
   "execution_count": 4,
   "metadata": {},
   "outputs": [],
   "source": [
    "def to_dategooglesheet(date):\n",
    "\treturn date.strftime('%Y%m%d')"
   ]
  },
  {
   "cell_type": "code",
   "execution_count": 5,
   "metadata": {},
   "outputs": [],
   "source": [
    "def to_datestr(date):\n",
    "\treturn date.strftime('%Y-%m-%d')"
   ]
  },
  {
   "cell_type": "code",
   "execution_count": 6,
   "metadata": {},
   "outputs": [],
   "source": [
    "from datetime import datetime, timedelta, date\n",
    "# Format time to match with the data\n",
    "today = date.today()\n",
    "td = to_datestr(today)"
   ]
  },
  {
   "cell_type": "code",
   "execution_count": 7,
   "metadata": {},
   "outputs": [],
   "source": [
    "def get_date(text):\n",
    "    date = text[:10]\n",
    "    return date"
   ]
  },
  {
   "cell_type": "code",
   "execution_count": 24,
   "metadata": {
    "jupyter": {
     "source_hidden": true
    }
   },
   "outputs": [],
   "source": [
    "def get_no_not_understand(submit_to_agent, date:str=td):\n",
    "    submit_to_agent['date'] = submit_to_agent.datetime.apply(lambda x: get_date(x))\n",
    "    df = submit_to_agent[submit_to_agent['date'] == date]\n",
    "    df = df.loc[df.reason=='not_understand'].reset_index()\n",
    "    return len(df)"
   ]
  },
  {
   "cell_type": "code",
   "execution_count": 9,
   "metadata": {
    "jupyter": {
     "source_hidden": true
    }
   },
   "outputs": [],
   "source": [
    "length = get_no_not_understand(submit_to_agent, date='2020-03-20')"
   ]
  },
  {
   "cell_type": "code",
   "execution_count": 10,
   "metadata": {
    "collapsed": true,
    "jupyter": {
     "outputs_hidden": true,
     "source_hidden": true
    }
   },
   "outputs": [
    {
     "name": "stdout",
     "output_type": "stream",
     "text": [
      "83\n"
     ]
    }
   ],
   "source": [
    "print(length)"
   ]
  },
  {
   "cell_type": "code",
   "execution_count": 51,
   "metadata": {},
   "outputs": [],
   "source": [
    "fbr_df = pd.DataFrame(columns=['date', 'no. of not_understand'])"
   ]
  },
  {
   "cell_type": "code",
   "execution_count": 11,
   "metadata": {
    "collapsed": true,
    "jupyter": {
     "outputs_hidden": true,
     "source_hidden": true
    }
   },
   "outputs": [
    {
     "data": {
      "text/html": [
       "<div>\n",
       "<style scoped>\n",
       "    .dataframe tbody tr th:only-of-type {\n",
       "        vertical-align: middle;\n",
       "    }\n",
       "\n",
       "    .dataframe tbody tr th {\n",
       "        vertical-align: top;\n",
       "    }\n",
       "\n",
       "    .dataframe thead th {\n",
       "        text-align: right;\n",
       "    }\n",
       "</style>\n",
       "<table border=\"1\" class=\"dataframe\">\n",
       "  <thead>\n",
       "    <tr style=\"text-align: right;\">\n",
       "      <th></th>\n",
       "      <th>date</th>\n",
       "      <th>no. of not_understand</th>\n",
       "    </tr>\n",
       "  </thead>\n",
       "  <tbody>\n",
       "  </tbody>\n",
       "</table>\n",
       "</div>"
      ],
      "text/plain": [
       "Empty DataFrame\n",
       "Columns: [date, no. of not_understand]\n",
       "Index: []"
      ]
     },
     "execution_count": 11,
     "metadata": {},
     "output_type": "execute_result"
    }
   ],
   "source": [
    "fbr_df.head()"
   ]
  },
  {
   "cell_type": "code",
   "execution_count": 52,
   "metadata": {},
   "outputs": [],
   "source": [
    "def update_fbr_df(submit_to_agent, date:str=td, fbr_df=fbr_df):\n",
    "    submit_to_agent['date'] = submit_to_agent.datetime.apply(lambda x: get_date(x))\n",
    "    df = submit_to_agent[submit_to_agent['date'] == date]\n",
    "    df = df.loc[df.reason=='not_understand'].reset_index()\n",
    "    not_understand = len(df)\n",
    "    date_obj = datetime.strptime(date, '%Y-%m-%d')\n",
    "    df2 = pd.DataFrame({\"date\": [to_dategooglesheet(date_obj)], \n",
    "                    \"no. of not_understand\":[not_understand]})\n",
    "    return fbr_df.append(df2)"
   ]
  },
  {
   "cell_type": "code",
   "execution_count": 34,
   "metadata": {},
   "outputs": [
    {
     "data": {
      "text/html": [
       "<div>\n",
       "<style scoped>\n",
       "    .dataframe tbody tr th:only-of-type {\n",
       "        vertical-align: middle;\n",
       "    }\n",
       "\n",
       "    .dataframe tbody tr th {\n",
       "        vertical-align: top;\n",
       "    }\n",
       "\n",
       "    .dataframe thead th {\n",
       "        text-align: right;\n",
       "    }\n",
       "</style>\n",
       "<table border=\"1\" class=\"dataframe\">\n",
       "  <thead>\n",
       "    <tr style=\"text-align: right;\">\n",
       "      <th></th>\n",
       "      <th>date</th>\n",
       "      <th>no. of not_understand</th>\n",
       "    </tr>\n",
       "  </thead>\n",
       "  <tbody>\n",
       "    <tr>\n",
       "      <th>0</th>\n",
       "      <td>20200320</td>\n",
       "      <td>83</td>\n",
       "    </tr>\n",
       "  </tbody>\n",
       "</table>\n",
       "</div>"
      ],
      "text/plain": [
       "       date no. of not_understand\n",
       "0  20200320                    83"
      ]
     },
     "execution_count": 34,
     "metadata": {},
     "output_type": "execute_result"
    }
   ],
   "source": [
    "update_fbr_df(submit_to_agent, '2020-03-20', fbr_df)"
   ]
  },
  {
   "cell_type": "code",
   "execution_count": 53,
   "metadata": {},
   "outputs": [],
   "source": [
    "original_date = '2020-03-20'\n",
    "\n",
    "for i in range(62):\n",
    "    dt = datetime.strptime(original_date, '%Y-%m-%d')\n",
    "    dt += timedelta(days=i)\n",
    "    date = dt.strftime('%Y-%m-%d')\n",
    "    fbr_df = update_fbr_df(submit_to_agent, date, fbr_df)"
   ]
  },
  {
   "cell_type": "code",
   "execution_count": 54,
   "metadata": {},
   "outputs": [
    {
     "data": {
      "text/html": [
       "<div>\n",
       "<style scoped>\n",
       "    .dataframe tbody tr th:only-of-type {\n",
       "        vertical-align: middle;\n",
       "    }\n",
       "\n",
       "    .dataframe tbody tr th {\n",
       "        vertical-align: top;\n",
       "    }\n",
       "\n",
       "    .dataframe thead th {\n",
       "        text-align: right;\n",
       "    }\n",
       "</style>\n",
       "<table border=\"1\" class=\"dataframe\">\n",
       "  <thead>\n",
       "    <tr style=\"text-align: right;\">\n",
       "      <th></th>\n",
       "      <th>date</th>\n",
       "      <th>no. of not_understand</th>\n",
       "    </tr>\n",
       "  </thead>\n",
       "  <tbody>\n",
       "    <tr>\n",
       "      <th>0</th>\n",
       "      <td>20200320</td>\n",
       "      <td>83</td>\n",
       "    </tr>\n",
       "    <tr>\n",
       "      <th>0</th>\n",
       "      <td>20200321</td>\n",
       "      <td>99</td>\n",
       "    </tr>\n",
       "    <tr>\n",
       "      <th>0</th>\n",
       "      <td>20200322</td>\n",
       "      <td>112</td>\n",
       "    </tr>\n",
       "    <tr>\n",
       "      <th>0</th>\n",
       "      <td>20200323</td>\n",
       "      <td>121</td>\n",
       "    </tr>\n",
       "    <tr>\n",
       "      <th>0</th>\n",
       "      <td>20200324</td>\n",
       "      <td>87</td>\n",
       "    </tr>\n",
       "    <tr>\n",
       "      <th>...</th>\n",
       "      <td>...</td>\n",
       "      <td>...</td>\n",
       "    </tr>\n",
       "    <tr>\n",
       "      <th>0</th>\n",
       "      <td>20200516</td>\n",
       "      <td>43</td>\n",
       "    </tr>\n",
       "    <tr>\n",
       "      <th>0</th>\n",
       "      <td>20200517</td>\n",
       "      <td>44</td>\n",
       "    </tr>\n",
       "    <tr>\n",
       "      <th>0</th>\n",
       "      <td>20200518</td>\n",
       "      <td>67</td>\n",
       "    </tr>\n",
       "    <tr>\n",
       "      <th>0</th>\n",
       "      <td>20200519</td>\n",
       "      <td>85</td>\n",
       "    </tr>\n",
       "    <tr>\n",
       "      <th>0</th>\n",
       "      <td>20200520</td>\n",
       "      <td>42</td>\n",
       "    </tr>\n",
       "  </tbody>\n",
       "</table>\n",
       "<p>62 rows × 2 columns</p>\n",
       "</div>"
      ],
      "text/plain": [
       "        date no. of not_understand\n",
       "0   20200320                    83\n",
       "0   20200321                    99\n",
       "0   20200322                   112\n",
       "0   20200323                   121\n",
       "0   20200324                    87\n",
       "..       ...                   ...\n",
       "0   20200516                    43\n",
       "0   20200517                    44\n",
       "0   20200518                    67\n",
       "0   20200519                    85\n",
       "0   20200520                    42\n",
       "\n",
       "[62 rows x 2 columns]"
      ]
     },
     "execution_count": 54,
     "metadata": {},
     "output_type": "execute_result"
    }
   ],
   "source": [
    "fbr_df"
   ]
  },
  {
   "cell_type": "code",
   "execution_count": 48,
   "metadata": {},
   "outputs": [
    {
     "ename": "AttributeError",
     "evalue": "'NoneType' object has no attribute 'reset_index'",
     "output_type": "error",
     "traceback": [
      "\u001b[0;31m---------------------------------------------------------------------------\u001b[0m",
      "\u001b[0;31mAttributeError\u001b[0m                            Traceback (most recent call last)",
      "\u001b[0;32m<ipython-input-48-b52e086e953b>\u001b[0m in \u001b[0;36m<module>\u001b[0;34m\u001b[0m\n\u001b[0;32m----> 1\u001b[0;31m \u001b[0mfbr_df\u001b[0m \u001b[0;34m=\u001b[0m \u001b[0mfbr_df\u001b[0m\u001b[0;34m.\u001b[0m\u001b[0mreset_index\u001b[0m\u001b[0;34m(\u001b[0m\u001b[0minplace\u001b[0m\u001b[0;34m=\u001b[0m\u001b[0;32mTrue\u001b[0m\u001b[0;34m)\u001b[0m\u001b[0;34m\u001b[0m\u001b[0;34m\u001b[0m\u001b[0m\n\u001b[0m\u001b[1;32m      2\u001b[0m \u001b[0mfbr_df_final\u001b[0m \u001b[0;34m=\u001b[0m \u001b[0mfbr_df\u001b[0m\u001b[0;34m[\u001b[0m\u001b[0;34m'date'\u001b[0m\u001b[0;34m,\u001b[0m \u001b[0;34m'no. of not_understand'\u001b[0m\u001b[0;34m]\u001b[0m\u001b[0;34m\u001b[0m\u001b[0;34m\u001b[0m\u001b[0m\n",
      "\u001b[0;31mAttributeError\u001b[0m: 'NoneType' object has no attribute 'reset_index'"
     ]
    }
   ],
   "source": [
    "fbr_df = fbr_df.reset_index(inplace=True)\n",
    "fbr_df_final = fbr_df['date', 'no. of not_understand']"
   ]
  },
  {
   "cell_type": "code",
   "execution_count": 15,
   "metadata": {},
   "outputs": [
    {
     "name": "stdout",
     "output_type": "stream",
     "text": [
      "12355\n"
     ]
    }
   ],
   "source": [
    "latest_index = len(submit_to_agent) - 1\n",
    "print(latest_index)"
   ]
  },
  {
   "cell_type": "code",
   "execution_count": 55,
   "metadata": {},
   "outputs": [],
   "source": [
    "fbr_df.to_excel('./excel/fbr_not_understand.xlsx')"
   ]
  },
  {
   "cell_type": "code",
   "execution_count": null,
   "metadata": {},
   "outputs": [],
   "source": []
  }
 ],
 "metadata": {
  "kernelspec": {
   "display_name": "Python 3.7.4 64-bit ('NTL': venv)",
   "language": "python",
   "name": "python37464bitntlvenv5bb9f6107ccc44df9d8f2d89f2aa5ff4"
  },
  "language_info": {
   "codemirror_mode": {
    "name": "ipython",
    "version": 3
   },
   "file_extension": ".py",
   "mimetype": "text/x-python",
   "name": "python",
   "nbconvert_exporter": "python",
   "pygments_lexer": "ipython3",
   "version": "3.7.4"
  }
 },
 "nbformat": 4,
 "nbformat_minor": 4
}
