{
 "cells": [
  {
   "cell_type": "code",
   "execution_count": 1,
   "metadata": {},
   "outputs": [],
   "source": [
    "import pandas as pd\n",
    "import numpy as np\n",
    "import re\n",
    "import string\n",
    "import matplotlib.pyplot as plt \n",
    "from pythainlp.tokenize import word_tokenize\n",
    "from pythainlp.corpus import thai_stopwords\n",
    "from sklearn.feature_extraction.text import TfidfVectorizer\n",
    "from datetime import date\n",
    "from dateutil.relativedelta import relativedelta\n",
    "from wordcloud import WordCloud, STOPWORDS "
   ]
  },
  {
   "cell_type": "code",
   "execution_count": 2,
   "metadata": {},
   "outputs": [],
   "source": [
    "# Read chatlog data\n",
    "chatlog = pd.read_pickle('./data/chatlog.p') "
   ]
  },
  {
   "cell_type": "code",
   "execution_count": 3,
   "metadata": {},
   "outputs": [
    {
     "data": {
      "text/html": [
       "<div>\n",
       "<style scoped>\n",
       "    .dataframe tbody tr th:only-of-type {\n",
       "        vertical-align: middle;\n",
       "    }\n",
       "\n",
       "    .dataframe tbody tr th {\n",
       "        vertical-align: top;\n",
       "    }\n",
       "\n",
       "    .dataframe thead th {\n",
       "        text-align: right;\n",
       "    }\n",
       "</style>\n",
       "<table border=\"1\" class=\"dataframe\">\n",
       "  <thead>\n",
       "    <tr style=\"text-align: right;\">\n",
       "      <th></th>\n",
       "      <th>userId</th>\n",
       "      <th>full_name</th>\n",
       "      <th>message</th>\n",
       "      <th>role</th>\n",
       "      <th>_date</th>\n",
       "      <th>_time</th>\n",
       "    </tr>\n",
       "  </thead>\n",
       "  <tbody>\n",
       "    <tr>\n",
       "      <th>0</th>\n",
       "      <td>2433413723406579</td>\n",
       "      <td>Watsana Kongngoen</td>\n",
       "      <td>สวัสดี</td>\n",
       "      <td>User</td>\n",
       "      <td>2019-11-01</td>\n",
       "      <td>15:23</td>\n",
       "    </tr>\n",
       "    <tr>\n",
       "      <th>1</th>\n",
       "      <td>2433413723406579</td>\n",
       "      <td>Watsana Kongngoen</td>\n",
       "      <td>{'type': 'text', 'text': 'เงินติดล้อสวัสดีครับ'}</td>\n",
       "      <td>Admin</td>\n",
       "      <td>2019-11-01</td>\n",
       "      <td>15:23</td>\n",
       "    </tr>\n",
       "    <tr>\n",
       "      <th>2</th>\n",
       "      <td>2433413723406579</td>\n",
       "      <td>Watsana Kongngoen</td>\n",
       "      <td>{'type': 'quick_reply', 'list_object': [{'text...</td>\n",
       "      <td>Admin</td>\n",
       "      <td>2019-11-01</td>\n",
       "      <td>15:23</td>\n",
       "    </tr>\n",
       "    <tr>\n",
       "      <th>3</th>\n",
       "      <td>2433413723406579</td>\n",
       "      <td>Watsana Kongngoen</td>\n",
       "      <td>สวัสดีครับ</td>\n",
       "      <td>User</td>\n",
       "      <td>2019-11-01</td>\n",
       "      <td>16:15</td>\n",
       "    </tr>\n",
       "    <tr>\n",
       "      <th>4</th>\n",
       "      <td>2433413723406579</td>\n",
       "      <td>Watsana Kongngoen</td>\n",
       "      <td>{'type': 'text', 'text': 'เงินติดล้อสวัสดีครับ'}</td>\n",
       "      <td>Admin</td>\n",
       "      <td>2019-11-01</td>\n",
       "      <td>16:15</td>\n",
       "    </tr>\n",
       "    <tr>\n",
       "      <th>...</th>\n",
       "      <td>...</td>\n",
       "      <td>...</td>\n",
       "      <td>...</td>\n",
       "      <td>...</td>\n",
       "      <td>...</td>\n",
       "      <td>...</td>\n",
       "    </tr>\n",
       "    <tr>\n",
       "      <th>2298575</th>\n",
       "      <td>1379039449007314</td>\n",
       "      <td>None None</td>\n",
       "      <td>สาขา วังไผ่ (ชุมพร) ตรงข้ามบิ๊กซี สาขาชุมพร จ้า</td>\n",
       "      <td>User</td>\n",
       "      <td>2020-05-24</td>\n",
       "      <td>23:56</td>\n",
       "    </tr>\n",
       "    <tr>\n",
       "      <th>2298576</th>\n",
       "      <td>1379039449007314</td>\n",
       "      <td>None None</td>\n",
       "      <td>จริงใจพร้อมให้ความช่วยเหลือ รอสักครู่นะจ๊ะ</td>\n",
       "      <td>User</td>\n",
       "      <td>2020-05-24</td>\n",
       "      <td>23:57</td>\n",
       "    </tr>\n",
       "    <tr>\n",
       "      <th>2298577</th>\n",
       "      <td>1379039449007314</td>\n",
       "      <td>None None</td>\n",
       "      <td>เอกสารประกอบการยื่นเรื่อง\\n1. เล่มทะเบียนรถตัว...</td>\n",
       "      <td>User</td>\n",
       "      <td>2020-05-24</td>\n",
       "      <td>23:58</td>\n",
       "    </tr>\n",
       "    <tr>\n",
       "      <th>2298578</th>\n",
       "      <td>1379039449007314</td>\n",
       "      <td>None None</td>\n",
       "      <td>รถปลอดภาระแล้วหรืออยู่ระหว่างผ่อนชำระคับ</td>\n",
       "      <td>User</td>\n",
       "      <td>2020-05-24</td>\n",
       "      <td>23:59</td>\n",
       "    </tr>\n",
       "    <tr>\n",
       "      <th>2298579</th>\n",
       "      <td>1379039449007314</td>\n",
       "      <td>None None</td>\n",
       "      <td>สวัสดีครับ ลูกค้าสนใจประกันชั้นใดครับ</td>\n",
       "      <td>User</td>\n",
       "      <td>2020-05-24</td>\n",
       "      <td>23:59</td>\n",
       "    </tr>\n",
       "  </tbody>\n",
       "</table>\n",
       "<p>2291177 rows × 6 columns</p>\n",
       "</div>"
      ],
      "text/plain": [
       "                   userId          full_name  \\\n",
       "0        2433413723406579  Watsana Kongngoen   \n",
       "1        2433413723406579  Watsana Kongngoen   \n",
       "2        2433413723406579  Watsana Kongngoen   \n",
       "3        2433413723406579  Watsana Kongngoen   \n",
       "4        2433413723406579  Watsana Kongngoen   \n",
       "...                   ...                ...   \n",
       "2298575  1379039449007314          None None   \n",
       "2298576  1379039449007314          None None   \n",
       "2298577  1379039449007314          None None   \n",
       "2298578  1379039449007314          None None   \n",
       "2298579  1379039449007314          None None   \n",
       "\n",
       "                                                   message   role       _date  \\\n",
       "0                                                   สวัสดี   User  2019-11-01   \n",
       "1         {'type': 'text', 'text': 'เงินติดล้อสวัสดีครับ'}  Admin  2019-11-01   \n",
       "2        {'type': 'quick_reply', 'list_object': [{'text...  Admin  2019-11-01   \n",
       "3                                               สวัสดีครับ   User  2019-11-01   \n",
       "4         {'type': 'text', 'text': 'เงินติดล้อสวัสดีครับ'}  Admin  2019-11-01   \n",
       "...                                                    ...    ...         ...   \n",
       "2298575    สาขา วังไผ่ (ชุมพร) ตรงข้ามบิ๊กซี สาขาชุมพร จ้า   User  2020-05-24   \n",
       "2298576         จริงใจพร้อมให้ความช่วยเหลือ รอสักครู่นะจ๊ะ   User  2020-05-24   \n",
       "2298577  เอกสารประกอบการยื่นเรื่อง\\n1. เล่มทะเบียนรถตัว...   User  2020-05-24   \n",
       "2298578           รถปลอดภาระแล้วหรืออยู่ระหว่างผ่อนชำระคับ   User  2020-05-24   \n",
       "2298579              สวัสดีครับ ลูกค้าสนใจประกันชั้นใดครับ   User  2020-05-24   \n",
       "\n",
       "         _time  \n",
       "0        15:23  \n",
       "1        15:23  \n",
       "2        15:23  \n",
       "3        16:15  \n",
       "4        16:15  \n",
       "...        ...  \n",
       "2298575  23:56  \n",
       "2298576  23:57  \n",
       "2298577  23:58  \n",
       "2298578  23:59  \n",
       "2298579  23:59  \n",
       "\n",
       "[2291177 rows x 6 columns]"
      ]
     },
     "execution_count": 3,
     "metadata": {},
     "output_type": "execute_result"
    }
   ],
   "source": [
    "chatlog"
   ]
  },
  {
   "cell_type": "code",
   "execution_count": 4,
   "metadata": {
    "jupyter": {
     "source_hidden": true
    }
   },
   "outputs": [],
   "source": [
    "def check_keywords(txt):\n",
    "    if \"toyotavogo\" in txt:\n",
    "        return 1\n",
    "    else:\n",
    "        return 0"
   ]
  },
  {
   "cell_type": "code",
   "execution_count": 4,
   "metadata": {},
   "outputs": [],
   "source": [
    "# Format time to match with the data\n",
    "today = date.today()\n",
    "td = today.strftime(\"%Y-%m-%d\")"
   ]
  },
  {
   "cell_type": "code",
   "execution_count": 23,
   "metadata": {},
   "outputs": [],
   "source": [
    "one_month = today + relativedelta(months=-1)\n",
    "td_minus_one_month = one_month.strftime(\"%Y-%m-%d\")"
   ]
  },
  {
   "cell_type": "code",
   "execution_count": 6,
   "metadata": {},
   "outputs": [],
   "source": [
    "# Clean the chatlog to have only user conversation on specific date\n",
    "def clean_chatlog(chatlog, start_date:str=td_minus_one_month, end_date:str=td):\n",
    "    df = chatlog[['userId', 'message', 'role', '_date']] \n",
    "    df = df.loc[df.role=='User']\n",
    "    return df[(df._date >= start_date) & (df._date <= end_date)]"
   ]
  },
  {
   "cell_type": "code",
   "execution_count": 7,
   "metadata": {},
   "outputs": [
    {
     "data": {
      "text/html": [
       "<div>\n",
       "<style scoped>\n",
       "    .dataframe tbody tr th:only-of-type {\n",
       "        vertical-align: middle;\n",
       "    }\n",
       "\n",
       "    .dataframe tbody tr th {\n",
       "        vertical-align: top;\n",
       "    }\n",
       "\n",
       "    .dataframe thead th {\n",
       "        text-align: right;\n",
       "    }\n",
       "</style>\n",
       "<table border=\"1\" class=\"dataframe\">\n",
       "  <thead>\n",
       "    <tr style=\"text-align: right;\">\n",
       "      <th></th>\n",
       "      <th>userId</th>\n",
       "      <th>message</th>\n",
       "      <th>role</th>\n",
       "      <th>_date</th>\n",
       "    </tr>\n",
       "  </thead>\n",
       "  <tbody>\n",
       "    <tr>\n",
       "      <th>0</th>\n",
       "      <td>2433413723406579</td>\n",
       "      <td>สวัสดี</td>\n",
       "      <td>User</td>\n",
       "      <td>2019-11-01</td>\n",
       "    </tr>\n",
       "    <tr>\n",
       "      <th>3</th>\n",
       "      <td>2433413723406579</td>\n",
       "      <td>สวัสดีครับ</td>\n",
       "      <td>User</td>\n",
       "      <td>2019-11-01</td>\n",
       "    </tr>\n",
       "    <tr>\n",
       "      <th>6</th>\n",
       "      <td>2433413723406579</td>\n",
       "      <td>สวัสดีจ้า</td>\n",
       "      <td>User</td>\n",
       "      <td>2019-11-04</td>\n",
       "    </tr>\n",
       "    <tr>\n",
       "      <th>9</th>\n",
       "      <td>2433413723406579</td>\n",
       "      <td>ไม่ต้องยุ่งอ่ะ</td>\n",
       "      <td>User</td>\n",
       "      <td>2019-11-04</td>\n",
       "    </tr>\n",
       "    <tr>\n",
       "      <th>11</th>\n",
       "      <td>2433413723406579</td>\n",
       "      <td>ไม่ต้องมาคุย</td>\n",
       "      <td>User</td>\n",
       "      <td>2019-11-04</td>\n",
       "    </tr>\n",
       "    <tr>\n",
       "      <th>...</th>\n",
       "      <td>...</td>\n",
       "      <td>...</td>\n",
       "      <td>...</td>\n",
       "      <td>...</td>\n",
       "    </tr>\n",
       "    <tr>\n",
       "      <th>387454</th>\n",
       "      <td>2577671172269081</td>\n",
       "      <td>Toyota</td>\n",
       "      <td>User</td>\n",
       "      <td>2019-12-01</td>\n",
       "    </tr>\n",
       "    <tr>\n",
       "      <th>387456</th>\n",
       "      <td>2577671172269081</td>\n",
       "      <td>Yaris</td>\n",
       "      <td>User</td>\n",
       "      <td>2019-12-01</td>\n",
       "    </tr>\n",
       "    <tr>\n",
       "      <th>387458</th>\n",
       "      <td>2577671172269081</td>\n",
       "      <td>2019</td>\n",
       "      <td>User</td>\n",
       "      <td>2019-12-01</td>\n",
       "    </tr>\n",
       "    <tr>\n",
       "      <th>387465</th>\n",
       "      <td>2577671172269081</td>\n",
       "      <td>สุภาพร บุญเสริม</td>\n",
       "      <td>User</td>\n",
       "      <td>2019-12-01</td>\n",
       "    </tr>\n",
       "    <tr>\n",
       "      <th>387467</th>\n",
       "      <td>2577671172269081</td>\n",
       "      <td>0610697198</td>\n",
       "      <td>User</td>\n",
       "      <td>2019-12-01</td>\n",
       "    </tr>\n",
       "  </tbody>\n",
       "</table>\n",
       "<p>72658 rows × 4 columns</p>\n",
       "</div>"
      ],
      "text/plain": [
       "                  userId          message  role       _date\n",
       "0       2433413723406579           สวัสดี  User  2019-11-01\n",
       "3       2433413723406579       สวัสดีครับ  User  2019-11-01\n",
       "6       2433413723406579        สวัสดีจ้า  User  2019-11-04\n",
       "9       2433413723406579   ไม่ต้องยุ่งอ่ะ  User  2019-11-04\n",
       "11      2433413723406579     ไม่ต้องมาคุย  User  2019-11-04\n",
       "...                  ...              ...   ...         ...\n",
       "387454  2577671172269081           Toyota  User  2019-12-01\n",
       "387456  2577671172269081            Yaris  User  2019-12-01\n",
       "387458  2577671172269081             2019  User  2019-12-01\n",
       "387465  2577671172269081  สุภาพร บุญเสริม  User  2019-12-01\n",
       "387467  2577671172269081       0610697198  User  2019-12-01\n",
       "\n",
       "[72658 rows x 4 columns]"
      ]
     },
     "execution_count": 7,
     "metadata": {},
     "output_type": "execute_result"
    }
   ],
   "source": [
    "df_new = clean_chatlog(chatlog, start_date='2019-11-01', end_date='2019-12-01')\n",
    "df_new"
   ]
  },
  {
   "cell_type": "code",
   "execution_count": 8,
   "metadata": {
    "jupyter": {
     "source_hidden": true
    }
   },
   "outputs": [],
   "source": [
    "df_new['check'] = df_new.message.apply(lambda x: check_keywords(x))"
   ]
  },
  {
   "cell_type": "code",
   "execution_count": 9,
   "metadata": {
    "collapsed": true,
    "jupyter": {
     "outputs_hidden": true,
     "source_hidden": true
    }
   },
   "outputs": [
    {
     "data": {
      "text/html": [
       "<div>\n",
       "<style scoped>\n",
       "    .dataframe tbody tr th:only-of-type {\n",
       "        vertical-align: middle;\n",
       "    }\n",
       "\n",
       "    .dataframe tbody tr th {\n",
       "        vertical-align: top;\n",
       "    }\n",
       "\n",
       "    .dataframe thead th {\n",
       "        text-align: right;\n",
       "    }\n",
       "</style>\n",
       "<table border=\"1\" class=\"dataframe\">\n",
       "  <thead>\n",
       "    <tr style=\"text-align: right;\">\n",
       "      <th></th>\n",
       "      <th>userId</th>\n",
       "      <th>message</th>\n",
       "      <th>role</th>\n",
       "      <th>_date</th>\n",
       "      <th>check</th>\n",
       "    </tr>\n",
       "  </thead>\n",
       "  <tbody>\n",
       "  </tbody>\n",
       "</table>\n",
       "</div>"
      ],
      "text/plain": [
       "Empty DataFrame\n",
       "Columns: [userId, message, role, _date, check]\n",
       "Index: []"
      ]
     },
     "execution_count": 9,
     "metadata": {},
     "output_type": "execute_result"
    }
   ],
   "source": [
    "df_new[df_new['check'] == 1]"
   ]
  },
  {
   "cell_type": "code",
   "execution_count": 8,
   "metadata": {},
   "outputs": [],
   "source": [
    "# Utils\n",
    "def get_th_tokens(text):\n",
    "#     text = text.lower()\n",
    "    text = text.replace('\\n', ' ')\n",
    "    text = text.replace(',', ' ')\n",
    "    tokens = word_tokenize(text, engine=\"newmm\", keep_whitespace=False)\n",
    "    return tokens"
   ]
  },
  {
   "cell_type": "code",
   "execution_count": 9,
   "metadata": {},
   "outputs": [],
   "source": [
    "# Clean undesired text\n",
    "def clean_text_1(text):\n",
    "    '''Make text lowercase, remove text in square brackets, remove punctuation and remove words containing numbers.'''\n",
    "    text = text.lower()\n",
    "    text = re.sub('[.?]', '', text)\n",
    "    text = re.sub('[%s]' % re.escape(string.punctuation), '', text)\n",
    "    text = re.sub('[‘’“”…]', '', text)\n",
    "    text = re.sub('\\n', '', text)\n",
    "    text = re.sub('[0-9]{1,10}', '', text)\n",
    "    text = re.sub('นะ|น่ะ|น่า|น้า','',text)\n",
    "    text = re.sub('คะ|ค่ะ|ค่า|คระ|คร่ะ|คร๊|ค๊|คร้า','',text)\n",
    "    text = re.sub('ครับ|คับ|คั้บ|ค้าบ|คัฟ|คร้าบ|คาฟ|ค้าฟ|ฮะ|ฮับ|ฮ้าฟ','',text)\n",
    "    text = re.sub('จ้า|จ้ะ|จ๊ะ','',text)\n",
    "    text = re.sub('หน่อย|น่อย','',text)\n",
    "    text = re.sub('สวัสดี|หวัดดี','',text)\n",
    "    text = re.sub('ของ','',text)\n",
    "    # ลบ text ที่อยู่ในวงเล็บ <> ทั้งหมด\n",
    "    text = re.sub(r'<.?>','', text)\n",
    "    # ลบ hashtag\n",
    "    text = re.sub(r'#','',text)\n",
    "    # ลบ separator เช่น \\n \\t\n",
    "    text = ' '.join(text.split())\n",
    "    text = re.sub('สนใจ','',text)\n",
    "    text = re.sub('อยากทราบว่า|อยากทราบ','',text)\n",
    "    text = re.sub('รบกวนสอบถาม|ขอสอบถาม|สอบถาม','',text)\n",
    "    text = re.sub('ปี','',text)\n",
    "    text = re.sub('ขอบคุณ','',text)\n",
    "    text = re.sub('ขอโทษ|ขอโทด','',text)\n",
    "    text = re.sub('ขอ','',text)\n",
    "    text = re.sub('ชั้น','',text)\n",
    "    text = re.sub('เท่าไร|เท่าไหร่|เท่าหรั่ย|เท่าใด|เท่ารัย','',text)\n",
    "    return text"
   ]
  },
  {
   "cell_type": "code",
   "execution_count": 10,
   "metadata": {},
   "outputs": [],
   "source": [
    "def filter_words(text):\n",
    "    text = text.replace('\\n', ' ') \n",
    "    text = text.replace(',', ' ')\n",
    "    stop_words = set(thai_stopwords()) \n",
    "    tokens = word_tokenize(text, engine=\"newmm\", keep_whitespace=False) \n",
    "    filtered_text = [] \n",
    "    for w in tokens: \n",
    "        if w not in stop_words: \n",
    "            filtered_text.append(w) \n",
    "    return filtered_text"
   ]
  },
  {
   "cell_type": "code",
   "execution_count": 32,
   "metadata": {
    "collapsed": true,
    "jupyter": {
     "outputs_hidden": true,
     "source_hidden": true
    }
   },
   "outputs": [
    {
     "name": "stdout",
     "output_type": "stream",
     "text": [
      "{'เพียงเพราะ', 'คราวนี้', 'หรือยัง', 'มิ', 'อย่างๆ', 'ที่นั้น', 'จัดให้', 'พวกฉัน', 'หากแม้นว่า', 'แท้จริง', 'สั้นๆ', 'พอตัว', 'กันดีไหม', 'นี่แหละ', 'ทั้งตัว', 'มุ่ง', 'เหตุ', 'เก็บ', 'สมัยนี้', 'ตั้งแต่', 'อนึ่ง', 'นํา', 'ราย', 'ใหญ่', 'ขณะเดียวกัน', 'กระผม', 'เพียงพอ', 'ขณะที่', 'จำเป็น', 'เหตุไร', 'นับแต่ที่', 'ส่วนด้อย', 'ช้าๆ', 'เกิน', 'ลง', 'ละ', 'ค่อยไปทาง', 'พอ', 'ที่ใด', 'หมดกัน', 'พอจะ', 'ยังคง', 'พา', 'เช่นกัน', 'เรียบ', 'คุณ', 'มั้ยนะ', 'เมื่อไร', 'ทุกๆ', 'อยู่', 'แต่เดิม', 'แค่ไหน', 'จัดทำ', 'มั้ยนั่น', 'สิ่งใด', 'ก็ได้', 'เฉย', 'เปิดเผย', 'เริ่ม', 'เล็กน้อย', 'คล้าย', 'อื่นๆ', 'ว่า', 'ยก', 'ที่สุด', 'เสียนั่น', 'ทำๆ', 'เพียงไหน', 'อันเนื่องมาจาก', 'ไง', 'ยิ่งใหญ่', 'การ', 'ภายหลัง', 'ใช่ไหม', 'ดั่ง', 'ยืนยาว', 'ทีละ', 'ทำให้', 'ยิ่งขึ้น', 'ข้างบน', 'ในเมื่อ', 'ยังงั้น', 'ช้านาน', 'อันที่จริง', 'คราวหลัง', 'ก็คือ', 'ทุกสิ่ง', 'ที่ละ', 'ที่แท้', 'อย่างหนึ่ง', 'เป็นอัน', 'เฉพาะ', 'วันนั้น', 'แต่ละ', 'หากแม้น', 'ภายภาค', 'ก่อนๆ', 'ตลอดไป', 'ก็ตาม', 'เห็นจะ', 'ณ', 'รือว่า', 'เป็นที่สุด', 'บ้าง', 'เป็นอันว่า', 'เพิ่งจะ', 'ตามด้วย', 'ผู้ใด', 'ต่าง', 'นางสาว', 'ทาง', 'รวมทั้ง', 'ขวาง', 'ด้าน', 'ไป่', 'ดัง', 'เมื่อคืน', 'จนถึง', 'ขณะหนึ่ง', 'แต่เมื่อ', 'แต่ไร', 'ง่ายๆ', 'เพราะฉะนั้น', 'ดังเก่า', 'ตั้ง', 'เพิ่ม', 'ช่วงต่อไป', 'เป็นเพราะ', 'จะ', 'ไม่ว่า', 'นอกเหนือ', 'เสร็จกัน', 'แห่งใด', 'ถ้า', 'ยอม', 'ทั้งๆ', 'ไร', 'น้อยๆ', 'สามารถ', 'แต่ต้อง', 'หรือไม่', 'ครั้งๆ', 'ฉะนี้', 'ครั้งละ', 'กัน', 'บอกว่า', 'เฉยๆ', 'ประการใด', 'ส่วนเกิน', 'อย่างดี', 'พอที', 'แล้วแต่', 'เมื่อครั้งก่อน', 'พวกนั้น', 'ค่ะ', 'ช่วงระหว่าง', 'จำ', 'เพื่อให้', 'คิดว่า', 'ช่วงถัดไป', 'ใหม่ๆ', 'ประมาณ', 'หมด', 'ทำไร', 'นำ', 'เท่าใด', 'แม้กระทั่ง', 'จนแม้น', 'เหตุผล', 'เกินๆ', 'ออก', 'ร่วมมือ', 'เช่นที่เคย', 'นาง', 'แห่งนั้น', 'ถึงแม้จะ', 'นอก', 'ทุกวัน', 'ย่อย', 'ครั้งหนึ่ง', 'เพราะว่า', 'เป็นเพราะว่า', 'คราว', 'อันได้แก่', 'เช่นเดียวกับ', 'ทั้งที', 'แม้แต่', 'อยาก', 'ตลอดวัน', 'ไฉน', 'นำพา', 'หลาย', 'จัดการ', 'แค่นั้น', 'ใกล้ๆ', 'จึงเป็น', 'เธอ', 'ค่อนข้าง', 'ที่แท้จริง', 'เพิ่มเติม', 'วันนี้', 'อย่างละ', 'หน', 'แสดงว่า', 'เพื่อว่า', 'ถึงบัดนั้น', 'เรียก', 'พอเพียง', 'ทั่ว', 'เช่นนั้นเอง', 'เยอะๆ', 'ๆ', 'พร้อมเพียง', 'ข้าพเจ้า', 'เท่านั้น', 'หากแม้', 'ค่อนมาทาง', 'เท่าไหร่', 'อันๆ', 'เรา', 'นับตั้งแต่', 'เพื่อที่จะ', 'แห่ง', 'เสีย', 'ล้วน', 'ทีใด', 'สมัยก่อน', 'ถูกต้อง', 'ด้วยเช่นกัน', 'เห็นว่า', 'กำลัง', 'เพราะ', 'เดียวกัน', 'กล่าวคือ', 'รวด', 'คงจะ', 'ด้วยเพราะ', 'ตลอดถึง', 'ถือ', 'อะไร', 'นอกจากนั้น', 'สูงกว่า', 'กันเถอะ', 'คง', 'พอแล้ว', 'คิด', 'ครั้งหลัง', 'ขึ้น', 'ทุกทาง', 'ยิ่งกว่า', 'บางที่', 'อย่างไรเสีย', 'นี้เอง', 'สมัย', 'อย่างไรก็ได้', 'นับแต่', 'ต่างๆ', 'อย่างนี้', 'กลุ่ม', 'แห่งนี้', 'ภายใต้', 'ทุกแห่ง', 'อย่างยิ่ง', 'เห็นแก่', 'เคยๆ', 'คะ', 'จ๊ะ', 'พอๆ', 'นิดหน่อย', 'เพียงใด', 'พบ', 'นิด', 'ผ่าน', 'ที่นี้', 'นี่นา', 'ก็แล้วแต่', 'มัน', 'กันเอง', 'อาจเป็น', 'ใช้', 'จะได้', 'ทุกอย่าง', 'ภาย', 'ทุกหน', 'เมื่อวาน', 'เกี่ยวๆ', 'เผื่อว่า', 'ไกลๆ', 'พอควร', 'เป็นต้น', 'ที่ซึ่ง', 'ทุกคน', 'ช่วงที่', 'อย่างเดียว', 'บัดนี้', 'พื้นๆ', 'พวกนู้น', 'จนกระทั่ง', 'จวบ', 'ใคร', 'จรด', 'กระนั้น', 'เสียด้วย', 'คล้ายกับ', 'เข้า', 'ขณะ', 'ดั่งเคย', 'แต่นั้น', 'เพื่อ', 'นับจากนั้น', 'เช่นดัง', 'รวมถึง', 'ครั้งคราว', 'ครั้งไหน', 'นอกจากนี้', 'ไหนๆ', 'พบว่า', 'อาจจะ', 'เล็ก', 'เหตุนั้น', 'คราวที่', 'ตลอดทั่ว', 'ที่จริง', 'มองว่า', 'ให้แด่', 'เช่นไร', 'ผ่านๆ', 'ทั้งคน', 'ทั้งเป็น', 'ก่อนหน้านี้', 'ให้มา', 'ครบครัน', 'เท่ากับ', 'ตน', 'ชาว', 'นี่ไง', 'ค่อย', 'ให้ไป', 'ข้างเคียง', 'ยัง', 'แต่ทว่า', 'ไม่ค่อยเป็น', 'กว้างๆ', 'ยาวนาน', 'เป็นด้วย', 'ฝ่ายใด', 'เป็นเพื่อ', 'ทุกอัน', 'เป็นที่', 'ส่วนใด', 'ยืนยง', 'เมื่อไหร่', 'ภาค', 'แก่', 'ภายใน', 'เพียง', 'ขณะใดๆ', 'ยาก', 'อย่างไรก็', 'เปลี่ยนแปลง', 'หรือไร', 'ประการ', 'ครา', 'จับ', 'พร้อมกับ', 'สิ่งไหน', 'เหล่านี้', 'เปิด', 'กระทำ', 'ประสบ', 'ประการฉะนี้', 'เป็นต้นมา', 'เมื่อใด', 'จำพวก', 'เช่นนั้น', 'บางๆ', 'จัด', 'ถึงแม้ว่า', 'คราวละ', 'สุด', 'ซะจนถึง', 'ซึ่งกันและกัน', 'ได้ที่', 'แต่เพียง', 'เสร็จสิ้น', 'จึงจะ', 'ยังโง้น', 'พวกกัน', 'น่ะ', 'ปรับ', 'สิ่ง', 'อย่างที่', 'ถ้าหาก', 'ซึ่งได้แก่', 'กว้าง', 'ปรากฏ', 'กลับ', 'แล้วเสร็จ', 'เอง', 'คล้ายกัน', 'แค่จะ', 'เกือบจะ', 'นิดๆ', 'กู', 'เหลือเกิน', 'ล้วนจน', 'เป็นแต่', 'คราหนึ่ง', 'เอา', 'แม้ว่า', 'ถึงเมื่อไร', 'ครั้งนี้', 'กำหนด', 'ดังกล่าว', 'เช่นดังที่', 'พอที่', 'นี่', 'ผิดๆ', 'เห็นควร', 'มั๊ย', 'แห่งไหน', 'เป็นการ', 'มิฉะนั้น', 'จ๋า', 'ล้วนแต่', 'แต่ก่อน', 'ถึง', 'ใหญ่ๆ', 'เกือบ', 'เสียยิ่ง', 'เสมือนกับ', 'แค่ว่า', 'ตลอดปี', 'วัน', 'ก็ตามแต่', 'คราวไหน', 'เมื่อครั้ง', 'เสร็จสมบูรณ์', 'นับแต่นี้', 'มัก', 'พวกท่าน', 'พวกแก', 'จากนี้ไป', 'ซึ่งๆ', 'ขาด', 'ยกให้', 'ช่วงๆ', 'ใช่', 'คราใด', 'ตลอดเวลา', 'เสียจนถึง', 'อีก', 'ครานั้น', 'เยอะ', 'อาจเป็นด้วย', 'นับแต่นั้น', 'อื่น', 'ถูก', 'มั้ย', 'นั่นเอง', 'เคย', 'ขณะนี้', 'เรื่อย', 'ช่วย', 'เกี่ยวกับ', 'จนบัดนี้', 'คือ', 'ข้างล่าง', 'หาก', 'ทีเดียว', 'นั่น', 'จัดแจง', 'หาความ', 'นั่นเป็น', 'สั้น', 'ถึงเมื่อใด', 'ต่างหาก', 'เช่นดังก่อน', 'สบาย', 'หนอ', 'บ่อยครั้ง', 'นอกนั้น', 'เผื่อที่', 'แก้ไข', 'ดั่งกับว่า', 'สมัยนั้น', 'เช่นเมื่อ', 'แค่นี้', 'อดีต', 'เสียก่อน', 'ใหม่', 'เหตุนี้', 'หรือไง', 'แต่', 'นับ', 'สูงสุด', 'เน้น', 'ในที่', 'จวนจะ', 'เมื่อก่อน', 'ซึ่งก็', 'ส่วนที่', 'ระยะๆ', 'ด้วยเหตุเพราะ', 'ต่างก็', 'ช่วงก่อน', 'กับ', 'ด้วยว่า', 'กล่าว', 'หลังจาก', 'ช่วงแรก', 'ใดๆ', 'เช่นดังเก่า', 'เล็กๆ', 'กลุ่มๆ', 'ที่ว่า', 'ตลอดมา', 'ตลอดระยะเวลา', 'ทำไม', 'ช่วง', 'ไม่ใช่', 'จนทั่ว', 'ใกล้', 'ทั้งสิ้น', 'ของ', 'มาก', 'เนี่ย', 'ช่วงนั้น', 'พวกที่', 'นอกจากว่า', 'หมดสิ้น', 'จู่ๆ', 'พวกนี้', 'ก่อน', 'มักจะ', 'ข้างๆ', 'พึ่ง', 'พวกคุณ', 'ในระหว่าง', 'บางครา', 'ประการหนึ่ง', 'กลุ่มก้อน', 'ตาม', 'ไม่', 'ตลอดจน', 'คราไหน', 'มากมาย', 'ที่', 'เช่น', 'เป็นที', 'ครั้งที่', 'บางแห่ง', 'บาง', 'ก็แค่', 'ทั้งนั้นด้วย', 'พอสมควร', 'หารือ', 'ที่แล้ว', 'ร่วมกัน', 'ข้างต้น', 'แหละ', 'ง่าย', 'มิได้', 'อันจะ', 'ให้แก่', 'เขา', 'ครัน', 'เต็มไปหมด', 'ทั้ง', 'รวมด้วย', 'เสียจน', 'ยังไง', 'ดังเคย', 'รับรอง', 'กว้างขวาง', 'พอดี', 'ข้าฯ', 'ไหน', 'รึ', 'ที่แห่งนั้น', 'แต่ว่า', 'ยิ่งเมื่อ', 'และ', 'จวบจน', 'นั้น', 'ภายนอก', 'ทั้งปวง', 'จวน', 'นู่น', 'ขอ', 'จัดตั้ง', 'หน่อย', 'ตามที่', 'วันใด', 'นำมา', 'ถึงจะ', 'ผู้', 'มิใช่', 'เมื่อ', 'จากนี้', 'เดียว', 'ทํา', 'ครานี้', 'เช่นนี้', 'นับจากนี้', 'ฝ่าย', 'เหลือ', 'จน', 'ครั้ง', 'ยอมรับ', 'ในช่วง', 'เยอะแยะ', 'เข้าใจ', 'นั้นไว', 'จด', 'แก', 'ถึงแม้', 'ทั้งนี้', 'ข้าง', 'อย่างมาก', 'กันนะ', 'ผล', 'เป็นอาทิ', 'ไม่ค่อย', 'อย่างน้อย', 'ทั้งที่', 'จนกว่า', 'สืบเนื่อง', 'ด้วย', 'เมื่อนั้น', 'พวกเขา', 'คราวหน้า', 'อาจ', 'เขียน', 'สิ้น', 'โดย', 'ซะจนกระทั่ง', 'เมื่อคราว', 'นู้น', 'บอกแล้ว', 'ปิด', 'นอกเหนือจาก', 'จวบกับ', 'แล้วกัน', 'นาน', 'ถ้าจะ', 'บางคราว', 'นัก', 'ทีๆ', 'ถึงเมื่อ', 'เสียยิ่งนัก', 'ฉัน', 'นานๆ', 'ทุกที่', 'อันละ', 'ซึ่ง', 'พวกกู', 'ปฏิบัติ', 'เสียจนกระทั่ง', 'ร่วม', 'เช่นดังว่า', 'อันไหน', 'ทุกครา', 'โตๆ', 'เป็นอันๆ', 'เลย', 'จ้ะ', 'กันไหม', 'ตลอดศก', 'เพิ่ง', 'เมื่อคราวที่', 'ทั้งมวล', 'ค่อน', 'จนขณะนี้', 'มั้ยล่ะ', 'ภายภาคหน้า', 'เมื่อเย็น', 'อย่างไร', 'ปรากฏว่า', 'แสดง', 'พร้อมด้วย', 'ทีเถอะ', 'เช่นเคย', 'แยะ', 'ด้วยเหตุที่', 'ระหว่าง', 'แม้', 'แต่ที่', 'พูด', 'พอกัน', 'พวกมึง', 'พอสม', 'สิ่งนั้น', 'ส่ง', 'ขณะใด', '\\ufeffๆ', 'ประกอบ', 'ยืนนาน', 'กันและกัน', 'นอกจาก', 'บน', 'เหล่า', 'ดั่งเก่า', 'คุณๆ', 'ภาคฯ', 'รับ', 'หนอย', 'น่าจะ', 'ให้ดี', 'ค่อยๆ', 'เฉกเช่น', 'บางกว่า', 'ให้', 'ทีไร', 'สิ่งนี้', 'ยังจะ', 'ได้รับ', 'ยิ่งแล้ว', 'พึง', 'ทันที', 'ก็ดี', 'ทัน', 'ตลอดกาล', 'บางขณะ', 'ตลอด', 'วันไหน', 'ถึงอย่างไร', 'ช่วงนี้', 'ยิ่งนัก', 'เช่นใด', 'ตลอดทั่วทั้ง', 'ที่ได้', 'ตรง', 'มึง', 'ทั้งหลาย', 'รวม', 'เป็นแต่เพียง', 'อัน', 'จึง', 'ยิ่งจน', 'จนเมื่อ', 'ด้วยที่', 'เต็มๆ', 'ซึ่งก็คือ', 'ไว้', 'เสียนี่', 'เพียงแต่', 'เป็นเพียง', 'ที่ไหน', 'จนตลอด', 'พร้อม', 'คำ', 'ตลอดทั่วถึง', 'ครั้งกระนั้น', 'แต่ไหน', 'ฯล', 'ต่อ', 'เผื่อจะ', 'แรก', 'แล้ว', 'ดังกับว่า', 'ครับ', 'เพียงแค่', 'หรือเปล่า', 'ร่วมด้วย', 'ควร', 'ถือว่า', 'ตรงๆ', 'คราวนั้น', 'ไม่ค่อยจะ', 'แค่', 'เชื่อมั่น', 'ระยะ', 'ใครๆ', 'แยะๆ', 'ทุก', 'เร็ว', 'สิ้นกาลนาน', 'ซะจน', 'ด้วยเหมือนกัน', 'ช่วงท้าย', 'สูง', 'ยิ่งขึ้นไป', 'ทุกตัว', 'ดังกับ', 'จังๆ', 'ด้วยกัน', 'ทุกเมื่อ', 'มอง', 'ใคร่จะ', 'สําหรับ', 'พวกเธอ', 'จง', 'ใน', 'สู่', 'เป็นๆ', 'ด้วยเหตุนั้น', 'ภายหน้า', 'ครั้งครา', 'คราที่', 'เนื่องจาก', 'ด้วยประการฉะนี้', 'ขั้น', 'กระทั่ง', 'รึว่า', 'อันที่จะ', 'ค่อนข้างจะ', 'จาก', 'พร้อมกัน', 'จวนเจียน', 'มา', 'เป็นดัง', 'บอก', 'พวกโน้น', 'จริงๆจังๆ', 'นักๆ', 'ยังงี้', 'เรื่อยๆ', 'อย่างนั้น', 'พร้อมทั้ง', 'นอกจากที่', 'คราวก่อน', 'เท่ากัน', 'ก่อนหน้า', 'เมื่อนี้', 'กันดีกว่า', 'ครั้งนั้น', 'หลัง', 'ที่ๆ', 'ยืนยัน', 'คราวใด', 'ต่อกัน', 'น้อย', 'แต่ถ้า', 'เนี่ยเอง', 'เท่านี้', 'ซะ', 'จริงจัง', 'อย่าง', 'แต่จะ', 'ส่วนน้อย', 'ส่วนดี', 'เห็น', 'ไป', 'ตามๆ', 'คล้ายกันกับ', 'ได้', 'เร็วๆ', 'นี้แหล่', 'อย่างเช่น', 'แต่อย่างใด', 'คล้ายกับว่า', 'นะ', 'ถึงบัดนี้', 'อย่างไหน', 'ยิ่งจะ', 'พวก', 'เท่า', 'รวดเร็ว', 'บ่อยกว่า', 'คราวหนึ่ง', 'มุ่งเน้น', 'ส่วนมาก', 'จรดกับ', 'เช่นที่', 'ความ', 'เช่นก่อน', 'ฯ', 'ตลอดทั้ง', 'บัดนั้น', 'ฯลฯ', 'ครบถ้วน', 'เหล่านั้น', 'เกี่ยวกัน', 'ถูกๆ', 'สุดๆ', 'แม้นว่า', 'เสียแล้ว', 'ซะก่อน', 'ส่วนนั้น', 'มากกว่า', 'นี่เอง', 'ครั้งใด', 'เท่าไร', 'ก็จะ', 'รวมกัน', 'บ่อย', 'เช่นที่ว่า', 'ช้า', 'ทุกครั้ง', 'เกี่ยวเนื่อง', 'แท้', 'ตลอดกาลนาน', 'จ้า', 'จริง', 'ย่อม', 'ช่วงหน้า', 'บัดเดี๋ยวนี้', 'ครั้งก่อน', 'เช่นเดียวกัน', 'ที', 'ทั้งนั้น', 'ยิ่ง', 'นี้', 'จัง', 'ฉะนั้น', 'ใหญ่โต', 'เมื่อคราวก่อน', 'จริงๆ', 'จัดหา', 'บ่อยๆ', 'ผิด', 'พร้อมที่', 'เกิด', 'แห่งโน้น', 'ดั่งกับ', 'คงอยู่', 'ไกล', 'ซึ่งกัน', 'มี', 'หากว่า', 'ใคร่', 'ช่วงหลัง', 'น่า', 'ปัจจุบัน', 'เปลี่ยน', 'น้อยกว่า', 'ทันทีทันใด', 'ทรง', 'ได้มา', 'แต่ก็', 'เป็นต้นไป', 'มุ่งหมาย', 'เถิด', 'ตามแต่', 'อย่างโน้น', 'ทั้งนั้นเพราะ', 'ด้วยเหตุนี้', 'ทั้งหมด', 'โต', 'กำลังจะ', 'เสมือนว่า', 'นาย', 'เต็มไปด้วย', 'ก็', 'อันที่', 'นั้นๆ', 'ทุกชิ้น', 'ยังแต่', 'เป็น', 'เชื่อว่า', 'เป็นเพียงว่า', 'ทันใดนั้น', 'ส่วน', 'ยาว', 'เสร็จ', 'นี่แน่ะ', 'มีแต่', 'อันใด', 'แค่เพียง', 'ทว่า', 'เอ็ง', 'รือ', 'ขวางๆ', 'ทําให้', 'เพียงไร', 'ทุกที', 'ครั้งหลังสุด', 'อย่างใด', 'พอเหมาะ', 'เพียงเพื่อ', 'ขณะนั้น', 'ด้วยเหตุว่า', 'ตนฯ', 'เถอะ', 'กว่า', 'คราวโน้น', 'ถึงแก่', 'หาใช่', 'เกี่ยวข้อง', 'บางครั้ง', 'นั่นแหละ', 'เผื่อ', 'เมื่อเช้า', 'เราๆ', 'คล้ายว่า', 'ทุกคราว', 'มั้ยเนี่ย', 'มันๆ', 'เท่าที่', 'ก็ตามที', 'หรือ', 'เพื่อที่', 'เสียนี่กระไร', 'ครบ', 'รวมๆ', 'คราวๆ', 'สำคัญ', 'เป็นอันมาก', 'เล่าว่า', 'ต้อง', 'นั่นไง', 'ไม่เป็นไร', 'เสร็จแล้ว', 'บางที', 'ได้แต่', 'เสียนั่นเอง', 'ใต้', 'สมัยโน้น', 'สูงๆ', 'ตนเอง', 'เกือบๆ', 'จากนั้น', 'เชื่อถือ', 'ล่าสุด', 'เชื่อ', 'บัดดล', 'เมื่อวันวาน', 'พวกมัน', 'ส่วนใหญ่', 'ก็ต่อเมื่อ', 'พยายาม', 'แบบ', 'หนึ่ง', 'ข้า', 'จนแม้', 'จัดงาน', 'ทุกวันนี้', 'ได้แก่', 'สูงส่ง'}\n"
     ]
    }
   ],
   "source": [
    "stop_words = set(thai_stopwords())"
   ]
  },
  {
   "cell_type": "code",
   "execution_count": 11,
   "metadata": {},
   "outputs": [],
   "source": [
    "def remove_digits(text):\n",
    "    output = re.sub(r'\\d+', '', text)\n",
    "    return output"
   ]
  },
  {
   "cell_type": "code",
   "execution_count": 12,
   "metadata": {},
   "outputs": [],
   "source": [
    "def remove_emoji(string):\n",
    "    emoji_pattern = re.compile(\"[\"\n",
    "                               u\"\\U0001F600-\\U0001F64F\"  # emoticons\n",
    "                               u\"\\U0001F300-\\U0001F5FF\"  # symbols & pictographs\n",
    "                               u\"\\U0001F680-\\U0001F6FF\"  # transport & map symbols\n",
    "                               u\"\\U0001F1E0-\\U0001F1FF\"  # flags (iOS)\n",
    "                               u\"\\U00002500-\\U00002BEF\"  # chinese char\n",
    "                               u\"\\U00002702-\\U000027B0\"\n",
    "                               u\"\\U00002702-\\U000027B0\"\n",
    "                               u\"\\U000024C2-\\U0001F251\"\n",
    "                               u\"\\U0001f926-\\U0001f937\"\n",
    "                               u\"\\U00010000-\\U0010ffff\"\n",
    "                               u\"\\u2640-\\u2642\"\n",
    "                               u\"\\u2600-\\u2B55\"\n",
    "                               u\"\\u200d\"\n",
    "                               u\"\\u23cf\"\n",
    "                               u\"\\u23e9\"\n",
    "                               u\"\\u231a\"\n",
    "                               u\"\\ufe0f\"  # dingbats\n",
    "                               u\"\\u3030\"\n",
    "                               u\"\\u200B\"\n",
    "                               \"]+\", flags=re.UNICODE)\n",
    "    return emoji_pattern.sub(r'', string)"
   ]
  },
  {
   "cell_type": "code",
   "execution_count": 13,
   "metadata": {},
   "outputs": [],
   "source": [
    "# Combine\n",
    "def clean_text_full(df):\n",
    "    df = df.groupby(['userId'])['message'].apply(','.join).reset_index()\n",
    "    df['message'] = df['message'].apply(lambda x: clean_text_1(x))\n",
    "    df['message'] = df['message'].apply(lambda x: remove_emoji(x))\n",
    "    df['message'] = df['message'].apply(lambda x: remove_digits(x))\n",
    "    df['message'] = df['message'].apply(lambda x: filter_words(x))\n",
    "    df['message'] = df['message'].apply(lambda x: \" \".join(x))\n",
    "    return df"
   ]
  },
  {
   "cell_type": "code",
   "execution_count": 14,
   "metadata": {},
   "outputs": [
    {
     "data": {
      "text/html": [
       "<div>\n",
       "<style scoped>\n",
       "    .dataframe tbody tr th:only-of-type {\n",
       "        vertical-align: middle;\n",
       "    }\n",
       "\n",
       "    .dataframe tbody tr th {\n",
       "        vertical-align: top;\n",
       "    }\n",
       "\n",
       "    .dataframe thead th {\n",
       "        text-align: right;\n",
       "    }\n",
       "</style>\n",
       "<table border=\"1\" class=\"dataframe\">\n",
       "  <thead>\n",
       "    <tr style=\"text-align: right;\">\n",
       "      <th></th>\n",
       "      <th>userId</th>\n",
       "      <th>message</th>\n",
       "    </tr>\n",
       "  </thead>\n",
       "  <tbody>\n",
       "    <tr>\n",
       "      <th>0</th>\n",
       "      <td>1009664972467205</td>\n",
       "      <td>ผ่อน ประกัน รถยนต์ ทำ honda ซิตี้ สมหมาย สุข พ...</td>\n",
       "    </tr>\n",
       "    <tr>\n",
       "      <th>1</th>\n",
       "      <td>1017090645081275</td>\n",
       "      <td>ข้อมูล เกี๋ยว บัตร เงิน ติด ล้อ ไหม พนักงาน โท...</td>\n",
       "    </tr>\n",
       "    <tr>\n",
       "      <th>2</th>\n",
       "      <td>1018334994957018</td>\n",
       "      <td>รถ กู้เงิน เค ร ดิส</td>\n",
       "    </tr>\n",
       "    <tr>\n",
       "      <th>3</th>\n",
       "      <td>1026835240773632</td>\n",
       "      <td>ตอนนี้ ลูกค้า ผ่อน งวด รี กู้</td>\n",
       "    </tr>\n",
       "    <tr>\n",
       "      <th>4</th>\n",
       "      <td>1032018316927422</td>\n",
       "      <td>มอไซค์ รี แนน ไหม</td>\n",
       "    </tr>\n",
       "    <tr>\n",
       "      <th>...</th>\n",
       "      <td>...</td>\n",
       "      <td>...</td>\n",
       "    </tr>\n",
       "    <tr>\n",
       "      <th>17523</th>\n",
       "      <td>979847622130129</td>\n",
       "      <td>จำนวน เงิน บาท สัญญา ต่อสัญญา หรอ ต่อสัญญา</td>\n",
       "    </tr>\n",
       "    <tr>\n",
       "      <th>17524</th>\n",
       "      <td>983670131756800</td>\n",
       "      <td>ค้าง งวด ยึด รถ เรย หรอ ค้ะ เห ที่มา ยึด รถ</td>\n",
       "    </tr>\n",
       "    <tr>\n",
       "      <th>17525</th>\n",
       "      <td>U6ef86f78e2256591a797b1085853317f</td>\n",
       "      <td>kfc ฉลอง ครบรอบ ในประเทศ ไทย แจก อาหาร ทาน ฟรี...</td>\n",
       "    </tr>\n",
       "    <tr>\n",
       "      <th>17526</th>\n",
       "      <td>Ufe1c28d4b7399dce582e6f23c91db3a6</td>\n",
       "      <td>ผม รายละเอียด อัตราดอกเบี้ย รถ มอไซค์</td>\n",
       "    </tr>\n",
       "    <tr>\n",
       "      <th>17527</th>\n",
       "      <td>facebook</td>\n",
       "      <td>รายละเอียด ประกัน รถยนต์ ข้อมูล ประกัน เริ่มต้...</td>\n",
       "    </tr>\n",
       "  </tbody>\n",
       "</table>\n",
       "<p>17528 rows × 2 columns</p>\n",
       "</div>"
      ],
      "text/plain": [
       "                                  userId  \\\n",
       "0                       1009664972467205   \n",
       "1                       1017090645081275   \n",
       "2                       1018334994957018   \n",
       "3                       1026835240773632   \n",
       "4                       1032018316927422   \n",
       "...                                  ...   \n",
       "17523                    979847622130129   \n",
       "17524                    983670131756800   \n",
       "17525  U6ef86f78e2256591a797b1085853317f   \n",
       "17526  Ufe1c28d4b7399dce582e6f23c91db3a6   \n",
       "17527                           facebook   \n",
       "\n",
       "                                                 message  \n",
       "0      ผ่อน ประกัน รถยนต์ ทำ honda ซิตี้ สมหมาย สุข พ...  \n",
       "1      ข้อมูล เกี๋ยว บัตร เงิน ติด ล้อ ไหม พนักงาน โท...  \n",
       "2                                    รถ กู้เงิน เค ร ดิส  \n",
       "3                          ตอนนี้ ลูกค้า ผ่อน งวด รี กู้  \n",
       "4                                      มอไซค์ รี แนน ไหม  \n",
       "...                                                  ...  \n",
       "17523         จำนวน เงิน บาท สัญญา ต่อสัญญา หรอ ต่อสัญญา  \n",
       "17524        ค้าง งวด ยึด รถ เรย หรอ ค้ะ เห ที่มา ยึด รถ  \n",
       "17525  kfc ฉลอง ครบรอบ ในประเทศ ไทย แจก อาหาร ทาน ฟรี...  \n",
       "17526              ผม รายละเอียด อัตราดอกเบี้ย รถ มอไซค์  \n",
       "17527  รายละเอียด ประกัน รถยนต์ ข้อมูล ประกัน เริ่มต้...  \n",
       "\n",
       "[17528 rows x 2 columns]"
      ]
     },
     "execution_count": 14,
     "metadata": {},
     "output_type": "execute_result"
    }
   ],
   "source": [
    "df_new_clean = clean_text_full(df_new)\n",
    "df_new_clean"
   ]
  },
  {
   "cell_type": "code",
   "execution_count": 51,
   "metadata": {
    "jupyter": {
     "source_hidden": true
    }
   },
   "outputs": [],
   "source": [
    "df_new['check'] = df_new.message.apply(lambda x: check_keywords(x))"
   ]
  },
  {
   "cell_type": "code",
   "execution_count": 52,
   "metadata": {
    "collapsed": true,
    "jupyter": {
     "outputs_hidden": true,
     "source_hidden": true
    }
   },
   "outputs": [
    {
     "data": {
      "text/html": [
       "<div>\n",
       "<style scoped>\n",
       "    .dataframe tbody tr th:only-of-type {\n",
       "        vertical-align: middle;\n",
       "    }\n",
       "\n",
       "    .dataframe tbody tr th {\n",
       "        vertical-align: top;\n",
       "    }\n",
       "\n",
       "    .dataframe thead th {\n",
       "        text-align: right;\n",
       "    }\n",
       "</style>\n",
       "<table border=\"1\" class=\"dataframe\">\n",
       "  <thead>\n",
       "    <tr style=\"text-align: right;\">\n",
       "      <th></th>\n",
       "      <th>userId</th>\n",
       "      <th>message</th>\n",
       "      <th>role</th>\n",
       "      <th>_date</th>\n",
       "      <th>check</th>\n",
       "    </tr>\n",
       "  </thead>\n",
       "  <tbody>\n",
       "  </tbody>\n",
       "</table>\n",
       "</div>"
      ],
      "text/plain": [
       "Empty DataFrame\n",
       "Columns: [userId, message, role, _date, check]\n",
       "Index: []"
      ]
     },
     "execution_count": 52,
     "metadata": {},
     "output_type": "execute_result"
    }
   ],
   "source": [
    "df_new[df_new['check'] == 1]"
   ]
  },
  {
   "cell_type": "code",
   "execution_count": 15,
   "metadata": {},
   "outputs": [],
   "source": [
    "# find top 20 keywords that has the highest TF-IDF average score\n",
    "def top_20_keywords(df):\n",
    "    vectorizer = TfidfVectorizer(tokenizer=get_th_tokens, token_pattern=None, ngram_range=(3,3), min_df=2) \n",
    "    vectorizer.fit(df['message']) \n",
    "    feat_clean = vectorizer.transform(df['message']) \n",
    "    feat_clean_array = feat_clean.toarray() \n",
    "    avg_tfidf = feat_clean_array.sum(axis=0) / np.count_nonzero(feat_clean_array,axis=0) \n",
    "    result_clean = pd.DataFrame() \n",
    "    result_clean['word'] = vectorizer.get_feature_names() \n",
    "    result_clean['avg_tfidf'] = avg_tfidf \n",
    "    result_clean['word'] = result_clean['word'].apply(lambda x: x.replace(\" \", \"\"))\n",
    "    return result_clean.sort_values('avg_tfidf', ascending=False).head(20) "
   ]
  },
  {
   "cell_type": "code",
   "execution_count": 16,
   "metadata": {},
   "outputs": [],
   "source": [
    "def top_20_keywords_new(df):\n",
    "    vectorizer = TfidfVectorizer(tokenizer=get_th_tokens, token_pattern=None, ngram_range=(3,3), min_df=2) \n",
    "    vectorizer.fit(df['message']) \n",
    "    feat_clean = vectorizer.transform(df['message']) \n",
    "    feat_clean_array = feat_clean.toarray() \n",
    "    avg_tfidf = feat_clean_array.sum(axis=0) / len(df['userId']) \n",
    "    result_clean = pd.DataFrame() \n",
    "    result_clean['word'] = vectorizer.get_feature_names() \n",
    "    result_clean['avg_tfidf'] = avg_tfidf \n",
    "    result_clean['word'] = result_clean['word'].apply(lambda x: x.replace(\" \", \"\"))\n",
    "    return result_clean.sort_values('avg_tfidf', ascending=False).head(20) "
   ]
  },
  {
   "cell_type": "code",
   "execution_count": 17,
   "metadata": {},
   "outputs": [
    {
     "data": {
      "text/html": [
       "<div>\n",
       "<style scoped>\n",
       "    .dataframe tbody tr th:only-of-type {\n",
       "        vertical-align: middle;\n",
       "    }\n",
       "\n",
       "    .dataframe tbody tr th {\n",
       "        vertical-align: top;\n",
       "    }\n",
       "\n",
       "    .dataframe thead th {\n",
       "        text-align: right;\n",
       "    }\n",
       "</style>\n",
       "<table border=\"1\" class=\"dataframe\">\n",
       "  <thead>\n",
       "    <tr style=\"text-align: right;\">\n",
       "      <th></th>\n",
       "      <th>word</th>\n",
       "      <th>avg_tfidf</th>\n",
       "    </tr>\n",
       "  </thead>\n",
       "  <tbody>\n",
       "    <tr>\n",
       "      <th>3681</th>\n",
       "      <td>มิตรซูไทร</td>\n",
       "      <td>1.0</td>\n",
       "    </tr>\n",
       "    <tr>\n",
       "      <th>6645</th>\n",
       "      <td>แบตัวเตี้ย</td>\n",
       "      <td>1.0</td>\n",
       "    </tr>\n",
       "    <tr>\n",
       "      <th>4135</th>\n",
       "      <td>รถรุ่นไห</td>\n",
       "      <td>1.0</td>\n",
       "    </tr>\n",
       "    <tr>\n",
       "      <th>4151</th>\n",
       "      <td>รถอยุ่ไหม</td>\n",
       "      <td>1.0</td>\n",
       "    </tr>\n",
       "    <tr>\n",
       "      <th>1282</th>\n",
       "      <td>ซื้อประกันเปลี่ยนคน</td>\n",
       "      <td>1.0</td>\n",
       "    </tr>\n",
       "    <tr>\n",
       "      <th>5568</th>\n",
       "      <td>อยสกทราบ</td>\n",
       "      <td>1.0</td>\n",
       "    </tr>\n",
       "    <tr>\n",
       "      <th>1298</th>\n",
       "      <td>ซื้อรถยนต์มือสอง</td>\n",
       "      <td>1.0</td>\n",
       "    </tr>\n",
       "    <tr>\n",
       "      <th>5537</th>\n",
       "      <td>อยาทราบ</td>\n",
       "      <td>1.0</td>\n",
       "    </tr>\n",
       "    <tr>\n",
       "      <th>4177</th>\n",
       "      <td>รถเก่าไหม</td>\n",
       "      <td>1.0</td>\n",
       "    </tr>\n",
       "    <tr>\n",
       "      <th>7051</th>\n",
       "      <td>ไฟปนน</td>\n",
       "      <td>1.0</td>\n",
       "    </tr>\n",
       "    <tr>\n",
       "      <th>5500</th>\n",
       "      <td>สุพรรณี</td>\n",
       "      <td>1.0</td>\n",
       "    </tr>\n",
       "    <tr>\n",
       "      <th>5485</th>\n",
       "      <td>สี่ประตุ</td>\n",
       "      <td>1.0</td>\n",
       "    </tr>\n",
       "    <tr>\n",
       "      <th>1364</th>\n",
       "      <td>ซูซูกิเชียส</td>\n",
       "      <td>1.0</td>\n",
       "    </tr>\n",
       "    <tr>\n",
       "      <th>4243</th>\n",
       "      <td>รถไม่เลยเคลม</td>\n",
       "      <td>1.0</td>\n",
       "    </tr>\n",
       "    <tr>\n",
       "      <th>2282</th>\n",
       "      <td>บัตรรหัสบัตร</td>\n",
       "      <td>1.0</td>\n",
       "    </tr>\n",
       "    <tr>\n",
       "      <th>5469</th>\n",
       "      <td>สินเชื่อรถยนต์ไหม</td>\n",
       "      <td>1.0</td>\n",
       "    </tr>\n",
       "    <tr>\n",
       "      <th>5458</th>\n",
       "      <td>สินเชื่อรถยนต์ดอก</td>\n",
       "      <td>1.0</td>\n",
       "    </tr>\n",
       "    <tr>\n",
       "      <th>4266</th>\n",
       "      <td>รถจักรยานยนต์ไฟแนนซ์วงเงิน</td>\n",
       "      <td>1.0</td>\n",
       "    </tr>\n",
       "    <tr>\n",
       "      <th>4268</th>\n",
       "      <td>รถติดแก๊สไหม</td>\n",
       "      <td>1.0</td>\n",
       "    </tr>\n",
       "    <tr>\n",
       "      <th>5434</th>\n",
       "      <td>สินเชื่อบ้านแลกเงิน</td>\n",
       "      <td>1.0</td>\n",
       "    </tr>\n",
       "  </tbody>\n",
       "</table>\n",
       "</div>"
      ],
      "text/plain": [
       "                            word  avg_tfidf\n",
       "3681                   มิตรซูไทร        1.0\n",
       "6645                  แบตัวเตี้ย        1.0\n",
       "4135                    รถรุ่นไห        1.0\n",
       "4151                   รถอยุ่ไหม        1.0\n",
       "1282         ซื้อประกันเปลี่ยนคน        1.0\n",
       "5568                    อยสกทราบ        1.0\n",
       "1298            ซื้อรถยนต์มือสอง        1.0\n",
       "5537                     อยาทราบ        1.0\n",
       "4177                   รถเก่าไหม        1.0\n",
       "7051                       ไฟปนน        1.0\n",
       "5500                     สุพรรณี        1.0\n",
       "5485                    สี่ประตุ        1.0\n",
       "1364                 ซูซูกิเชียส        1.0\n",
       "4243                รถไม่เลยเคลม        1.0\n",
       "2282                บัตรรหัสบัตร        1.0\n",
       "5469           สินเชื่อรถยนต์ไหม        1.0\n",
       "5458           สินเชื่อรถยนต์ดอก        1.0\n",
       "4266  รถจักรยานยนต์ไฟแนนซ์วงเงิน        1.0\n",
       "4268                รถติดแก๊สไหม        1.0\n",
       "5434         สินเชื่อบ้านแลกเงิน        1.0"
      ]
     },
     "execution_count": 17,
     "metadata": {},
     "output_type": "execute_result"
    }
   ],
   "source": [
    "df_new_normal = top_20_keywords(df_new_clean)\n",
    "df_new_normal "
   ]
  },
  {
   "cell_type": "code",
   "execution_count": 18,
   "metadata": {},
   "outputs": [
    {
     "data": {
      "text/html": [
       "<div>\n",
       "<style scoped>\n",
       "    .dataframe tbody tr th:only-of-type {\n",
       "        vertical-align: middle;\n",
       "    }\n",
       "\n",
       "    .dataframe tbody tr th {\n",
       "        vertical-align: top;\n",
       "    }\n",
       "\n",
       "    .dataframe thead th {\n",
       "        text-align: right;\n",
       "    }\n",
       "</style>\n",
       "<table border=\"1\" class=\"dataframe\">\n",
       "  <thead>\n",
       "    <tr style=\"text-align: right;\">\n",
       "      <th></th>\n",
       "      <th>word</th>\n",
       "      <th>avg_tfidf</th>\n",
       "    </tr>\n",
       "  </thead>\n",
       "  <tbody>\n",
       "    <tr>\n",
       "      <th>5843</th>\n",
       "      <td>เงินติดล้อ</td>\n",
       "      <td>0.014783</td>\n",
       "    </tr>\n",
       "    <tr>\n",
       "      <th>4727</th>\n",
       "      <td>รีไฟแนน</td>\n",
       "      <td>0.006098</td>\n",
       "    </tr>\n",
       "    <tr>\n",
       "      <th>4035</th>\n",
       "      <td>รถมอไซ</td>\n",
       "      <td>0.004347</td>\n",
       "    </tr>\n",
       "    <tr>\n",
       "      <th>6486</th>\n",
       "      <td>เวลาทำการกี่โมง</td>\n",
       "      <td>0.004150</td>\n",
       "    </tr>\n",
       "    <tr>\n",
       "      <th>2274</th>\n",
       "      <td>บัตรกดเงินสด</td>\n",
       "      <td>0.003141</td>\n",
       "    </tr>\n",
       "    <tr>\n",
       "      <th>1951</th>\n",
       "      <td>ทำประกันรถ</td>\n",
       "      <td>0.003068</td>\n",
       "    </tr>\n",
       "    <tr>\n",
       "      <th>1613</th>\n",
       "      <td>ติดล้อผ่อน</td>\n",
       "      <td>0.002487</td>\n",
       "    </tr>\n",
       "    <tr>\n",
       "      <th>5716</th>\n",
       "      <td>อีซูซุดีแม็กซ์</td>\n",
       "      <td>0.002462</td>\n",
       "    </tr>\n",
       "    <tr>\n",
       "      <th>5715</th>\n",
       "      <td>อีซูซุดีแม็ก</td>\n",
       "      <td>0.002381</td>\n",
       "    </tr>\n",
       "    <tr>\n",
       "      <th>3869</th>\n",
       "      <td>รถกะบะ</td>\n",
       "      <td>0.002367</td>\n",
       "    </tr>\n",
       "    <tr>\n",
       "      <th>3990</th>\n",
       "      <td>รถผ่อนกู้</td>\n",
       "      <td>0.002361</td>\n",
       "    </tr>\n",
       "    <tr>\n",
       "      <th>5626</th>\n",
       "      <td>อัลเมร่า</td>\n",
       "      <td>0.002194</td>\n",
       "    </tr>\n",
       "    <tr>\n",
       "      <th>4040</th>\n",
       "      <td>รถมอเตอร์ไซ</td>\n",
       "      <td>0.002150</td>\n",
       "    </tr>\n",
       "    <tr>\n",
       "      <th>1953</th>\n",
       "      <td>ทำประกันรถยนต์</td>\n",
       "      <td>0.002125</td>\n",
       "    </tr>\n",
       "    <tr>\n",
       "      <th>2184</th>\n",
       "      <td>นิสสันนาวาร่า</td>\n",
       "      <td>0.002052</td>\n",
       "    </tr>\n",
       "    <tr>\n",
       "      <th>3529</th>\n",
       "      <td>มอไซร์</td>\n",
       "      <td>0.002020</td>\n",
       "    </tr>\n",
       "    <tr>\n",
       "      <th>2574</th>\n",
       "      <td>ประกันรถยน</td>\n",
       "      <td>0.001986</td>\n",
       "    </tr>\n",
       "    <tr>\n",
       "      <th>1642</th>\n",
       "      <td>ติดล้อสาขา</td>\n",
       "      <td>0.001912</td>\n",
       "    </tr>\n",
       "    <tr>\n",
       "      <th>6764</th>\n",
       "      <td>โตโยต้ารีโว่</td>\n",
       "      <td>0.001767</td>\n",
       "    </tr>\n",
       "    <tr>\n",
       "      <th>1398</th>\n",
       "      <td>ดอกง้อบัตรเครดิต</td>\n",
       "      <td>0.001728</td>\n",
       "    </tr>\n",
       "  </tbody>\n",
       "</table>\n",
       "</div>"
      ],
      "text/plain": [
       "                  word  avg_tfidf\n",
       "5843        เงินติดล้อ   0.014783\n",
       "4727           รีไฟแนน   0.006098\n",
       "4035            รถมอไซ   0.004347\n",
       "6486   เวลาทำการกี่โมง   0.004150\n",
       "2274      บัตรกดเงินสด   0.003141\n",
       "1951        ทำประกันรถ   0.003068\n",
       "1613        ติดล้อผ่อน   0.002487\n",
       "5716    อีซูซุดีแม็กซ์   0.002462\n",
       "5715      อีซูซุดีแม็ก   0.002381\n",
       "3869            รถกะบะ   0.002367\n",
       "3990         รถผ่อนกู้   0.002361\n",
       "5626          อัลเมร่า   0.002194\n",
       "4040       รถมอเตอร์ไซ   0.002150\n",
       "1953    ทำประกันรถยนต์   0.002125\n",
       "2184     นิสสันนาวาร่า   0.002052\n",
       "3529            มอไซร์   0.002020\n",
       "2574        ประกันรถยน   0.001986\n",
       "1642        ติดล้อสาขา   0.001912\n",
       "6764      โตโยต้ารีโว่   0.001767\n",
       "1398  ดอกง้อบัตรเครดิต   0.001728"
      ]
     },
     "execution_count": 18,
     "metadata": {},
     "output_type": "execute_result"
    }
   ],
   "source": [
    "df_new_new = top_20_keywords_new(df_new_clean)\n",
    "df_new_new "
   ]
  },
  {
   "cell_type": "code",
   "execution_count": 25,
   "metadata": {},
   "outputs": [],
   "source": [
    "df_new_new.to_excel('./excel/wc_freq.xlsx')"
   ]
  },
  {
   "cell_type": "code",
   "execution_count": 30,
   "metadata": {
    "collapsed": true,
    "jupyter": {
     "outputs_hidden": true,
     "source_hidden": true
    }
   },
   "outputs": [
    {
     "data": {
      "text/html": [
       "<div>\n",
       "<style scoped>\n",
       "    .dataframe tbody tr th:only-of-type {\n",
       "        vertical-align: middle;\n",
       "    }\n",
       "\n",
       "    .dataframe tbody tr th {\n",
       "        vertical-align: top;\n",
       "    }\n",
       "\n",
       "    .dataframe thead th {\n",
       "        text-align: right;\n",
       "    }\n",
       "</style>\n",
       "<table border=\"1\" class=\"dataframe\">\n",
       "  <thead>\n",
       "    <tr style=\"text-align: right;\">\n",
       "      <th></th>\n",
       "      <th>Word</th>\n",
       "      <th>Count</th>\n",
       "    </tr>\n",
       "  </thead>\n",
       "  <tbody>\n",
       "    <tr>\n",
       "      <th>16</th>\n",
       "      <td>of</td>\n",
       "      <td>3</td>\n",
       "    </tr>\n",
       "    <tr>\n",
       "      <th>26</th>\n",
       "      <td>the</td>\n",
       "      <td>3</td>\n",
       "    </tr>\n",
       "    <tr>\n",
       "      <th>3</th>\n",
       "      <td>bow</td>\n",
       "      <td>2</td>\n",
       "    </tr>\n",
       "    <tr>\n",
       "      <th>0</th>\n",
       "      <td>and</td>\n",
       "      <td>1</td>\n",
       "    </tr>\n",
       "    <tr>\n",
       "      <th>28</th>\n",
       "      <td>way</td>\n",
       "      <td>1</td>\n",
       "    </tr>\n",
       "  </tbody>\n",
       "</table>\n",
       "</div>"
      ],
      "text/plain": [
       "   Word  Count\n",
       "16   of      3\n",
       "26  the      3\n",
       "3   bow      2\n",
       "0   and      1\n",
       "28  way      1"
      ]
     },
     "execution_count": 30,
     "metadata": {},
     "output_type": "execute_result"
    }
   ],
   "source": [
    "doc = \"In the-state-of-art of the NLP field, Embedding is the \\\n",
    "success way to resolve text related problem and outperform \\\n",
    "Bag of Words ( BoW ). Indeed, BoW introduced limitations \\\n",
    "large feature dimension, sparse representation etc.\"\n",
    "count_vec = CountVectorizer()\n",
    "count_occurs = count_vec.fit_transform([doc])\n",
    "count_occur_df = pd.DataFrame(\n",
    "    (count, word) for word, count in\n",
    "     zip(count_occurs.toarray().tolist()[0], \n",
    "    count_vec.get_feature_names()))\n",
    "count_occur_df.columns = ['Word', 'Count']\n",
    "count_occur_df.sort_values('Count', ascending=False, inplace=True)\n",
    "count_occur_df.head()"
   ]
  },
  {
   "cell_type": "code",
   "execution_count": 37,
   "metadata": {
    "collapsed": true,
    "jupyter": {
     "outputs_hidden": true,
     "source_hidden": true
    }
   },
   "outputs": [
    {
     "data": {
      "text/plain": [
       "0                                              วีออส ใรคั\n",
       "1                                   ปผม วีโก้ แชมป์ ประตู\n",
       "2                                                  ออ นิว\n",
       "3       กรณี จำนำ เล่ม ทะเบียนรถยนต์ เปน ผู้ครอบครอง ก...\n",
       "4                                                        \n",
       "                              ...                        \n",
       "2139                      isuzudmax sx สุรินทร์ ตรีทศ กุล\n",
       "2140                                   มอ ไซ ผ่อน กู้ ไหม\n",
       "2141                                         อีซูซุ d max\n",
       "2142                ผม รายละเอียด อัตราดอกเบี้ย รถ มอไซค์\n",
       "2143    รายละเอียด ประกัน รถยนต์ ข้อมูล ประกัน เริ่มต้...\n",
       "Name: message, Length: 2144, dtype: object"
      ]
     },
     "execution_count": 37,
     "metadata": {},
     "output_type": "execute_result"
    }
   ],
   "source": [
    "corpus = df_new_clean['message']"
   ]
  },
  {
   "cell_type": "code",
   "execution_count": 50,
   "metadata": {
    "jupyter": {
     "source_hidden": true
    }
   },
   "outputs": [],
   "source": [
    "count_vectorizer = CountVectorizer(tokenizer=get_th_tokens, token_pattern=None, ngram_range=(3,3), min_df=2)"
   ]
  },
  {
   "cell_type": "code",
   "execution_count": 51,
   "metadata": {
    "collapsed": true,
    "jupyter": {
     "outputs_hidden": true,
     "source_hidden": true
    }
   },
   "outputs": [
    {
     "data": {
      "text/plain": [
       "CountVectorizer(min_df=2, ngram_range=(3, 3), token_pattern=None,\n",
       "                tokenizer=<function get_th_tokens at 0x1c9805560>)"
      ]
     },
     "execution_count": 51,
     "metadata": {},
     "output_type": "execute_result"
    }
   ],
   "source": [
    "count_vectorizer.fit(corpus)"
   ]
  },
  {
   "cell_type": "code",
   "execution_count": 52,
   "metadata": {
    "jupyter": {
     "source_hidden": true
    }
   },
   "outputs": [],
   "source": [
    "feat_count = count_vectorizer.transform(corpus)"
   ]
  },
  {
   "cell_type": "code",
   "execution_count": 53,
   "metadata": {
    "jupyter": {
     "source_hidden": true
    }
   },
   "outputs": [],
   "source": [
    "feat_count_array = feat_count.toarray()"
   ]
  },
  {
   "cell_type": "code",
   "execution_count": 54,
   "metadata": {
    "jupyter": {
     "source_hidden": true
    }
   },
   "outputs": [],
   "source": [
    "count_occurs_df = pd.DataFrame()"
   ]
  },
  {
   "cell_type": "code",
   "execution_count": 56,
   "metadata": {
    "collapsed": true,
    "jupyter": {
     "outputs_hidden": true,
     "source_hidden": true
    }
   },
   "outputs": [
    {
     "ename": "ValueError",
     "evalue": "Length of values does not match length of index",
     "output_type": "error",
     "traceback": [
      "\u001b[0;31m---------------------------------------------------------------------------\u001b[0m",
      "\u001b[0;31mValueError\u001b[0m                                Traceback (most recent call last)",
      "\u001b[0;32m<ipython-input-56-97bc0650167a>\u001b[0m in \u001b[0;36m<module>\u001b[0;34m\u001b[0m\n\u001b[0;32m----> 1\u001b[0;31m \u001b[0mcount_occur_df\u001b[0m\u001b[0;34m[\u001b[0m\u001b[0;34m'word'\u001b[0m\u001b[0;34m]\u001b[0m \u001b[0;34m=\u001b[0m \u001b[0mcount_vectorizer\u001b[0m\u001b[0;34m.\u001b[0m\u001b[0mget_feature_names\u001b[0m\u001b[0;34m(\u001b[0m\u001b[0;34m)\u001b[0m\u001b[0;34m\u001b[0m\u001b[0;34m\u001b[0m\u001b[0m\n\u001b[0m\u001b[1;32m      2\u001b[0m \u001b[0mcount_occur_df\u001b[0m\u001b[0;34m[\u001b[0m\u001b[0;34m'occurences'\u001b[0m\u001b[0;34m]\u001b[0m \u001b[0;34m=\u001b[0m \u001b[0mfeat_count_array\u001b[0m\u001b[0;34m.\u001b[0m\u001b[0msum\u001b[0m\u001b[0;34m(\u001b[0m\u001b[0maxis\u001b[0m\u001b[0;34m=\u001b[0m\u001b[0;36m0\u001b[0m\u001b[0;34m)\u001b[0m\u001b[0;34m\u001b[0m\u001b[0;34m\u001b[0m\u001b[0m\n",
      "\u001b[0;32m~/NTL_dashboard/NTL/lib/python3.7/site-packages/pandas/core/frame.py\u001b[0m in \u001b[0;36m__setitem__\u001b[0;34m(self, key, value)\u001b[0m\n\u001b[1;32m   2936\u001b[0m         \u001b[0;32melse\u001b[0m\u001b[0;34m:\u001b[0m\u001b[0;34m\u001b[0m\u001b[0;34m\u001b[0m\u001b[0m\n\u001b[1;32m   2937\u001b[0m             \u001b[0;31m# set column\u001b[0m\u001b[0;34m\u001b[0m\u001b[0;34m\u001b[0m\u001b[0;34m\u001b[0m\u001b[0m\n\u001b[0;32m-> 2938\u001b[0;31m             \u001b[0mself\u001b[0m\u001b[0;34m.\u001b[0m\u001b[0m_set_item\u001b[0m\u001b[0;34m(\u001b[0m\u001b[0mkey\u001b[0m\u001b[0;34m,\u001b[0m \u001b[0mvalue\u001b[0m\u001b[0;34m)\u001b[0m\u001b[0;34m\u001b[0m\u001b[0;34m\u001b[0m\u001b[0m\n\u001b[0m\u001b[1;32m   2939\u001b[0m \u001b[0;34m\u001b[0m\u001b[0m\n\u001b[1;32m   2940\u001b[0m     \u001b[0;32mdef\u001b[0m \u001b[0m_setitem_slice\u001b[0m\u001b[0;34m(\u001b[0m\u001b[0mself\u001b[0m\u001b[0;34m,\u001b[0m \u001b[0mkey\u001b[0m\u001b[0;34m,\u001b[0m \u001b[0mvalue\u001b[0m\u001b[0;34m)\u001b[0m\u001b[0;34m:\u001b[0m\u001b[0;34m\u001b[0m\u001b[0;34m\u001b[0m\u001b[0m\n",
      "\u001b[0;32m~/NTL_dashboard/NTL/lib/python3.7/site-packages/pandas/core/frame.py\u001b[0m in \u001b[0;36m_set_item\u001b[0;34m(self, key, value)\u001b[0m\n\u001b[1;32m   2998\u001b[0m \u001b[0;34m\u001b[0m\u001b[0m\n\u001b[1;32m   2999\u001b[0m         \u001b[0mself\u001b[0m\u001b[0;34m.\u001b[0m\u001b[0m_ensure_valid_index\u001b[0m\u001b[0;34m(\u001b[0m\u001b[0mvalue\u001b[0m\u001b[0;34m)\u001b[0m\u001b[0;34m\u001b[0m\u001b[0;34m\u001b[0m\u001b[0m\n\u001b[0;32m-> 3000\u001b[0;31m         \u001b[0mvalue\u001b[0m \u001b[0;34m=\u001b[0m \u001b[0mself\u001b[0m\u001b[0;34m.\u001b[0m\u001b[0m_sanitize_column\u001b[0m\u001b[0;34m(\u001b[0m\u001b[0mkey\u001b[0m\u001b[0;34m,\u001b[0m \u001b[0mvalue\u001b[0m\u001b[0;34m)\u001b[0m\u001b[0;34m\u001b[0m\u001b[0;34m\u001b[0m\u001b[0m\n\u001b[0m\u001b[1;32m   3001\u001b[0m         \u001b[0mNDFrame\u001b[0m\u001b[0;34m.\u001b[0m\u001b[0m_set_item\u001b[0m\u001b[0;34m(\u001b[0m\u001b[0mself\u001b[0m\u001b[0;34m,\u001b[0m \u001b[0mkey\u001b[0m\u001b[0;34m,\u001b[0m \u001b[0mvalue\u001b[0m\u001b[0;34m)\u001b[0m\u001b[0;34m\u001b[0m\u001b[0;34m\u001b[0m\u001b[0m\n\u001b[1;32m   3002\u001b[0m \u001b[0;34m\u001b[0m\u001b[0m\n",
      "\u001b[0;32m~/NTL_dashboard/NTL/lib/python3.7/site-packages/pandas/core/frame.py\u001b[0m in \u001b[0;36m_sanitize_column\u001b[0;34m(self, key, value, broadcast)\u001b[0m\n\u001b[1;32m   3634\u001b[0m \u001b[0;34m\u001b[0m\u001b[0m\n\u001b[1;32m   3635\u001b[0m             \u001b[0;31m# turn me into an ndarray\u001b[0m\u001b[0;34m\u001b[0m\u001b[0;34m\u001b[0m\u001b[0;34m\u001b[0m\u001b[0m\n\u001b[0;32m-> 3636\u001b[0;31m             \u001b[0mvalue\u001b[0m \u001b[0;34m=\u001b[0m \u001b[0msanitize_index\u001b[0m\u001b[0;34m(\u001b[0m\u001b[0mvalue\u001b[0m\u001b[0;34m,\u001b[0m \u001b[0mself\u001b[0m\u001b[0;34m.\u001b[0m\u001b[0mindex\u001b[0m\u001b[0;34m,\u001b[0m \u001b[0mcopy\u001b[0m\u001b[0;34m=\u001b[0m\u001b[0;32mFalse\u001b[0m\u001b[0;34m)\u001b[0m\u001b[0;34m\u001b[0m\u001b[0;34m\u001b[0m\u001b[0m\n\u001b[0m\u001b[1;32m   3637\u001b[0m             \u001b[0;32mif\u001b[0m \u001b[0;32mnot\u001b[0m \u001b[0misinstance\u001b[0m\u001b[0;34m(\u001b[0m\u001b[0mvalue\u001b[0m\u001b[0;34m,\u001b[0m \u001b[0;34m(\u001b[0m\u001b[0mnp\u001b[0m\u001b[0;34m.\u001b[0m\u001b[0mndarray\u001b[0m\u001b[0;34m,\u001b[0m \u001b[0mIndex\u001b[0m\u001b[0;34m)\u001b[0m\u001b[0;34m)\u001b[0m\u001b[0;34m:\u001b[0m\u001b[0;34m\u001b[0m\u001b[0;34m\u001b[0m\u001b[0m\n\u001b[1;32m   3638\u001b[0m                 \u001b[0;32mif\u001b[0m \u001b[0misinstance\u001b[0m\u001b[0;34m(\u001b[0m\u001b[0mvalue\u001b[0m\u001b[0;34m,\u001b[0m \u001b[0mlist\u001b[0m\u001b[0;34m)\u001b[0m \u001b[0;32mand\u001b[0m \u001b[0mlen\u001b[0m\u001b[0;34m(\u001b[0m\u001b[0mvalue\u001b[0m\u001b[0;34m)\u001b[0m \u001b[0;34m>\u001b[0m \u001b[0;36m0\u001b[0m\u001b[0;34m:\u001b[0m\u001b[0;34m\u001b[0m\u001b[0;34m\u001b[0m\u001b[0m\n",
      "\u001b[0;32m~/NTL_dashboard/NTL/lib/python3.7/site-packages/pandas/core/internals/construction.py\u001b[0m in \u001b[0;36msanitize_index\u001b[0;34m(data, index, copy)\u001b[0m\n\u001b[1;32m    609\u001b[0m \u001b[0;34m\u001b[0m\u001b[0m\n\u001b[1;32m    610\u001b[0m     \u001b[0;32mif\u001b[0m \u001b[0mlen\u001b[0m\u001b[0;34m(\u001b[0m\u001b[0mdata\u001b[0m\u001b[0;34m)\u001b[0m \u001b[0;34m!=\u001b[0m \u001b[0mlen\u001b[0m\u001b[0;34m(\u001b[0m\u001b[0mindex\u001b[0m\u001b[0;34m)\u001b[0m\u001b[0;34m:\u001b[0m\u001b[0;34m\u001b[0m\u001b[0;34m\u001b[0m\u001b[0m\n\u001b[0;32m--> 611\u001b[0;31m         \u001b[0;32mraise\u001b[0m \u001b[0mValueError\u001b[0m\u001b[0;34m(\u001b[0m\u001b[0;34m\"Length of values does not match length of index\"\u001b[0m\u001b[0;34m)\u001b[0m\u001b[0;34m\u001b[0m\u001b[0;34m\u001b[0m\u001b[0m\n\u001b[0m\u001b[1;32m    612\u001b[0m \u001b[0;34m\u001b[0m\u001b[0m\n\u001b[1;32m    613\u001b[0m     \u001b[0;32mif\u001b[0m \u001b[0misinstance\u001b[0m\u001b[0;34m(\u001b[0m\u001b[0mdata\u001b[0m\u001b[0;34m,\u001b[0m \u001b[0mABCIndexClass\u001b[0m\u001b[0;34m)\u001b[0m \u001b[0;32mand\u001b[0m \u001b[0;32mnot\u001b[0m \u001b[0mcopy\u001b[0m\u001b[0;34m:\u001b[0m\u001b[0;34m\u001b[0m\u001b[0;34m\u001b[0m\u001b[0m\n",
      "\u001b[0;31mValueError\u001b[0m: Length of values does not match length of index"
     ]
    }
   ],
   "source": [
    "count_occur_df['word'] = count_vectorizer.get_feature_names()\n",
    "count_occur_df['occurences'] = feat_count_array.sum(axis=0)"
   ]
  },
  {
   "cell_type": "code",
   "execution_count": 33,
   "metadata": {
    "jupyter": {
     "source_hidden": true
    }
   },
   "outputs": [],
   "source": [
    "from sklearn.feature_extraction.text import CountVectorizer\n",
    "def count_words_use(df):\n",
    "    count_vec = CountVectorizer(tokenizer=get_th_tokens, token_pattern=None, ngram_range=(3,3), min_df=2)\n",
    "    count_occurs = count_vec.fit_transform(df['message'])\n",
    "    count_occur_df = pd.DataFrame((count, word) for word, count in zip(count_occurs.toarray().tolist()[0], count_vec.get_feature_names()))\n",
    "    count_occur_df.columns = ['Word', 'Count']\n",
    "    return count_occur_df.sort_values('Count', ascending=False, inplace=True)"
   ]
  },
  {
   "cell_type": "code",
   "execution_count": 35,
   "metadata": {
    "collapsed": true,
    "jupyter": {
     "outputs_hidden": true,
     "source_hidden": true
    }
   },
   "outputs": [
    {
     "name": "stdout",
     "output_type": "stream",
     "text": [
      "None\n"
     ]
    }
   ],
   "source": [
    "df_new_count = count_words_use(df_new_clean)\n",
    "print(df_new_count)"
   ]
  },
  {
   "cell_type": "code",
   "execution_count": 19,
   "metadata": {},
   "outputs": [],
   "source": [
    "def gen_text_for_wordcloud(df):\n",
    "    words = df['word']\n",
    "    words_to_array = words.tolist()\n",
    "    return (\" \".join(words_to_array))"
   ]
  },
  {
   "cell_type": "code",
   "execution_count": 20,
   "metadata": {},
   "outputs": [
    {
     "name": "stdout",
     "output_type": "stream",
     "text": [
      "เงินติดล้อ รีไฟแนน รถมอไซ เวลาทำการกี่โมง บัตรกดเงินสด ทำประกันรถ ติดล้อผ่อน อีซูซุดีแม็กซ์ อีซูซุดีแม็ก รถกะบะ รถผ่อนกู้ อัลเมร่า รถมอเตอร์ไซ ทำประกันรถยนต์ นิสสันนาวาร่า มอไซร์ ประกันรถยน ติดล้อสาขา โตโยต้ารีโว่ ดอกง้อบัตรเครดิต\n"
     ]
    }
   ],
   "source": [
    "text = gen_text_for_wordcloud(df_new_new)\n",
    "print(text)"
   ]
  },
  {
   "cell_type": "code",
   "execution_count": 21,
   "metadata": {},
   "outputs": [],
   "source": [
    "def gen_word_cloud(text):\n",
    "    path = './font/THSarabunNew.ttf'\n",
    "    wordcloud = WordCloud(font_path=path, width = 800, height = 800, \n",
    "                background_color ='white', \n",
    "                min_font_size = 10, colormap='coolwarm',regexp = r\"[ก-๙a-zA-Z']+\", random_state=1).generate(text) \n",
    "    # Plot the WordCloud image                        \n",
    "    plt.figure(figsize = (8, 8), facecolor = None) \n",
    "    plt.imshow(wordcloud) \n",
    "    plt.axis(\"off\") \n",
    "    plt.tight_layout(pad = 0) \n",
    "\n",
    "    plt.savefig('./WordCloud/keyword_{}.png'.format(td))\n",
    "    "
   ]
  },
  {
   "cell_type": "code",
   "execution_count": 22,
   "metadata": {},
   "outputs": [
    {
     "data": {
      "image/png": "[encoded data removed]",
      "text/plain": [
       "<Figure size 576x576 with 1 Axes>"
      ]
     },
     "metadata": {
      "needs_background": "light"
     },
     "output_type": "display_data"
    }
   ],
   "source": [
    "gen_word_cloud(text)"
   ]
  },
  {
   "cell_type": "code",
   "execution_count": 1,
   "metadata": {
    "collapsed": true,
    "jupyter": {
     "outputs_hidden": true,
     "source_hidden": true
    }
   },
   "outputs": [
    {
     "name": "stdout",
     "output_type": "stream",
     "text": [
      "{'the': 7, 'quick': 6, 'brown': 0, 'fox': 2, 'jumped': 3, 'over': 5, 'lazy': 4, 'dog': 1}\n",
      "(1, 8)\n",
      "<class 'scipy.sparse.csr.csr_matrix'>\n",
      "[[1 1 1 1 1 1 1 2]]\n"
     ]
    }
   ],
   "source": [
    "from sklearn.feature_extraction.text import CountVectorizer\n",
    "# list of text documents\n",
    "text = [\"The quick brown fox jumped over the lazy dog.\"]\n",
    "# create the transform\n",
    "vectorizer = CountVectorizer()\n",
    "# tokenize and build vocab\n",
    "vectorizer.fit(text)\n",
    "# summarize\n",
    "print(vectorizer.vocabulary_)\n",
    "# encode document\n",
    "vector = vectorizer.transform(text)\n",
    "# summarize encoded vector\n",
    "print(vector.shape)\n",
    "print(type(vector))\n",
    "print(vector.toarray())"
   ]
  },
  {
   "cell_type": "code",
   "execution_count": 20,
   "metadata": {
    "jupyter": {
     "source_hidden": true
    }
   },
   "outputs": [],
   "source": [
    "submit_to_agent = pd.read_pickle('./data/submit_to_agent.p') "
   ]
  },
  {
   "cell_type": "code",
   "execution_count": 21,
   "metadata": {
    "jupyter": {
     "source_hidden": true
    }
   },
   "outputs": [],
   "source": [
    "df_sa = submit_to_agent.loc[submit_to_agent.reason=='not_response'].reset_index()"
   ]
  },
  {
   "cell_type": "code",
   "execution_count": 22,
   "metadata": {
    "jupyter": {
     "source_hidden": true
    }
   },
   "outputs": [],
   "source": [
    "df_sa_new = df_sa.groupby(['userId'])['message'].apply(','.join).reset_index()"
   ]
  },
  {
   "cell_type": "code",
   "execution_count": 24,
   "metadata": {
    "jupyter": {
     "source_hidden": true
    }
   },
   "outputs": [],
   "source": [
    "df_sa_new = clean_text_full(df_sa_new)"
   ]
  },
  {
   "cell_type": "code",
   "execution_count": null,
   "metadata": {},
   "outputs": [],
   "source": []
  }
 ],
 "metadata": {
  "kernelspec": {
   "display_name": "Python 3.7.4 64-bit ('NTL': venv)",
   "language": "python",
   "name": "python37464bitntlvenv5bb9f6107ccc44df9d8f2d89f2aa5ff4"
  },
  "language_info": {
   "codemirror_mode": {
    "name": "ipython",
    "version": 3
   },
   "file_extension": ".py",
   "mimetype": "text/x-python",
   "name": "python",
   "nbconvert_exporter": "python",
   "pygments_lexer": "ipython3",
   "version": "3.7.4"
  }
 },
 "nbformat": 4,
 "nbformat_minor": 4
}
