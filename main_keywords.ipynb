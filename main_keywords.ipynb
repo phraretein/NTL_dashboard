{
 "cells": [
  {
   "cell_type": "code",
   "execution_count": 1,
   "metadata": {},
   "outputs": [],
   "source": [
    "import pandas as pd\n",
    "import numpy as np\n",
    "import re\n",
    "import string\n",
    "from pythainlp.tokenize import word_tokenize\n",
    "from pythainlp.corpus import thai_stopwords\n",
    "from sklearn.feature_extraction.text import TfidfVectorizer\n",
    "from datetime import date"
   ]
  },
  {
   "cell_type": "code",
   "execution_count": 2,
   "metadata": {},
   "outputs": [],
   "source": [
    "chatlog = pd.read_pickle('./data/chatlog.p') "
   ]
  },
  {
   "cell_type": "code",
   "execution_count": null,
   "metadata": {},
   "outputs": [],
   "source": [
    "today = date.today()\n",
    "td = today.strftime(\"%Y-%m-%d\")"
   ]
  },
  {
   "cell_type": "code",
   "execution_count": 3,
   "metadata": {},
   "outputs": [
    {
     "ename": "SyntaxError",
     "evalue": "invalid syntax (<ipython-input-3-cc22a5e8327f>, line 5)",
     "output_type": "error",
     "traceback": [
      "\u001b[0;36m  File \u001b[0;32m\"<ipython-input-3-cc22a5e8327f>\"\u001b[0;36m, line \u001b[0;32m5\u001b[0m\n\u001b[0;31m    df_{}.format(date.today().strftime(%Y-%m-%d)) = df[df._date == {}format(date.today().strftime('%Y-%m-%d'))]\u001b[0m\n\u001b[0m       ^\u001b[0m\n\u001b[0;31mSyntaxError\u001b[0m\u001b[0;31m:\u001b[0m invalid syntax\n"
     ]
    }
   ],
   "source": [
    "# Clean the chatlog to have only user conversation on specific date\n",
    "def clean_chatlog(chatlog, date=today):\n",
    "    df = chatlog[['userId', 'message', 'role', '_date']] \n",
    "    df.drop(df[df.role == \"Admin\"].index, inplace=True)\n",
    "    df_{}.format(date.today().strftime(%Y-%m-%d)) = df[df._date == {}format(date.today().strftime('%Y-%m-%d'))] \n",
    "    return df_{}.format(date.today().strftime(%Y-%m-%d))"
   ]
  },
  {
   "cell_type": "code",
   "execution_count": null,
   "metadata": {},
   "outputs": [],
   "source": []
  }
 ],
 "metadata": {
  "kernelspec": {
   "display_name": "Python 3.7.4 64-bit ('NTL': venv)",
   "language": "python",
   "name": "python37464bitntlvenv5bb9f6107ccc44df9d8f2d89f2aa5ff4"
  },
  "language_info": {
   "codemirror_mode": {
    "name": "ipython",
    "version": 3
   },
   "file_extension": ".py",
   "mimetype": "text/x-python",
   "name": "python",
   "nbconvert_exporter": "python",
   "pygments_lexer": "ipython3",
   "version": "3.7.4"
  }
 },
 "nbformat": 4,
 "nbformat_minor": 4
}
