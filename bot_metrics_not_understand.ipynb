{
 "cells": [
  {
   "cell_type": "code",
   "execution_count": 1,
   "metadata": {},
   "outputs": [],
   "source": [
    "import pandas as pd"
   ]
  },
  {
   "cell_type": "code",
   "execution_count": 3,
   "metadata": {},
   "outputs": [],
   "source": [
    "submit_to_agent = pd.read_pickle('./data/submit_to_agent.p') "
   ]
  },
  {
   "cell_type": "code",
   "execution_count": 4,
   "metadata": {},
   "outputs": [
    {
     "data": {
      "text/html": [
       "<div>\n",
       "<style scoped>\n",
       "    .dataframe tbody tr th:only-of-type {\n",
       "        vertical-align: middle;\n",
       "    }\n",
       "\n",
       "    .dataframe tbody tr th {\n",
       "        vertical-align: top;\n",
       "    }\n",
       "\n",
       "    .dataframe thead th {\n",
       "        text-align: right;\n",
       "    }\n",
       "</style>\n",
       "<table border=\"1\" class=\"dataframe\">\n",
       "  <thead>\n",
       "    <tr style=\"text-align: right;\">\n",
       "      <th></th>\n",
       "      <th>_id</th>\n",
       "      <th>userId</th>\n",
       "      <th>full_name</th>\n",
       "      <th>datetime</th>\n",
       "      <th>reason</th>\n",
       "      <th>message</th>\n",
       "    </tr>\n",
       "  </thead>\n",
       "  <tbody>\n",
       "    <tr>\n",
       "      <th>0</th>\n",
       "      <td>5e747a3b88c9e151b2f1f29b</td>\n",
       "      <td>3432603620089385</td>\n",
       "      <td>มงคล ชุ่มใจ</td>\n",
       "      <td>2020-03-20T08:09:31.466143</td>\n",
       "      <td>not_understand</td>\n",
       "      <td>เบี้ย9999บ.คุ้มครอง​อะไรบ้าง</td>\n",
       "    </tr>\n",
       "    <tr>\n",
       "      <th>1</th>\n",
       "      <td>5e747a445bc258ca00eabfc7</td>\n",
       "      <td>2739695839400025</td>\n",
       "      <td>สุนทร สีหา</td>\n",
       "      <td>2020-03-20T08:09:40.274293</td>\n",
       "      <td>$ensitive</td>\n",
       "      <td>อยากทราบว่า.ทางรัฐบาลให้พักชำระหนี้ เงินติดล้อ...</td>\n",
       "    </tr>\n",
       "    <tr>\n",
       "      <th>2</th>\n",
       "      <td>5e747b3d88c9e151b2f1f2e7</td>\n",
       "      <td>2317879594928073</td>\n",
       "      <td>Chayatorn Arunchanachai</td>\n",
       "      <td>2020-03-20T08:13:49.144198</td>\n",
       "      <td>not_understand</td>\n",
       "      <td>โคโรนา</td>\n",
       "    </tr>\n",
       "    <tr>\n",
       "      <th>3</th>\n",
       "      <td>5e747c2d88c9e151b2f1f309</td>\n",
       "      <td>3654936474576279</td>\n",
       "      <td>Nampol Sawitree</td>\n",
       "      <td>2020-03-20T08:17:49.969109</td>\n",
       "      <td>not_understand</td>\n",
       "      <td>092-2748189</td>\n",
       "    </tr>\n",
       "    <tr>\n",
       "      <th>4</th>\n",
       "      <td>5e747d4888c9e151b2f1f33a</td>\n",
       "      <td>4065967033417170</td>\n",
       "      <td>ราชันย์ จันทะแค</td>\n",
       "      <td>2020-03-20T08:22:32.396304</td>\n",
       "      <td>$ensitive</td>\n",
       "      <td>กู้กับเงินล้อนิละครับ</td>\n",
       "    </tr>\n",
       "  </tbody>\n",
       "</table>\n",
       "</div>"
      ],
      "text/plain": [
       "                        _id            userId                full_name  \\\n",
       "0  5e747a3b88c9e151b2f1f29b  3432603620089385              มงคล ชุ่มใจ   \n",
       "1  5e747a445bc258ca00eabfc7  2739695839400025               สุนทร สีหา   \n",
       "2  5e747b3d88c9e151b2f1f2e7  2317879594928073  Chayatorn Arunchanachai   \n",
       "3  5e747c2d88c9e151b2f1f309  3654936474576279          Nampol Sawitree   \n",
       "4  5e747d4888c9e151b2f1f33a  4065967033417170          ราชันย์ จันทะแค   \n",
       "\n",
       "                     datetime          reason  \\\n",
       "0  2020-03-20T08:09:31.466143  not_understand   \n",
       "1  2020-03-20T08:09:40.274293       $ensitive   \n",
       "2  2020-03-20T08:13:49.144198  not_understand   \n",
       "3  2020-03-20T08:17:49.969109  not_understand   \n",
       "4  2020-03-20T08:22:32.396304       $ensitive   \n",
       "\n",
       "                                             message  \n",
       "0                       เบี้ย9999บ.คุ้มครอง​อะไรบ้าง  \n",
       "1  อยากทราบว่า.ทางรัฐบาลให้พักชำระหนี้ เงินติดล้อ...  \n",
       "2                                             โคโรนา  \n",
       "3                                        092-2748189  \n",
       "4                              กู้กับเงินล้อนิละครับ  "
      ]
     },
     "execution_count": 4,
     "metadata": {},
     "output_type": "execute_result"
    }
   ],
   "source": [
    "submit_to_agent.head()"
   ]
  },
  {
   "cell_type": "code",
   "execution_count": null,
   "metadata": {},
   "outputs": [],
   "source": [
    "def fbr_not_understand(submit_to_agent)"
   ]
  }
 ],
 "metadata": {
  "kernelspec": {
   "display_name": "Python 3.7.4 64-bit ('NTL': venv)",
   "language": "python",
   "name": "python37464bitntlvenv5bb9f6107ccc44df9d8f2d89f2aa5ff4"
  },
  "language_info": {
   "codemirror_mode": {
    "name": "ipython",
    "version": 3
   },
   "file_extension": ".py",
   "mimetype": "text/x-python",
   "name": "python",
   "nbconvert_exporter": "python",
   "pygments_lexer": "ipython3",
   "version": "3.7.4"
  }
 },
 "nbformat": 4,
 "nbformat_minor": 4
}
