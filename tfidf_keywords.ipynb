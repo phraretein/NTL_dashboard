{
 "cells": [
  {
   "cell_type": "code",
   "execution_count": 1,
   "metadata": {},
   "outputs": [],
   "source": [
    "import pandas as pd\n",
    "from pythainlp.tokenize import word_tokenize\n",
    "from sklearn.feature_extraction.text import CountVectorizer\n",
    "from sklearn.feature_extraction.text import TfidfVectorizer\n",
    "from sklearn.svm import LinearSVC\n",
    "from sklearn.preprocessing import normalize\n",
    "from pythainlp.corpus import thai_stopwords\n",
    "import numpy as np\n",
    "import matplotlib.pyplot as plt"
   ]
  },
  {
   "cell_type": "code",
   "execution_count": 2,
   "metadata": {},
   "outputs": [],
   "source": [
    "chatlog = pd.read_pickle('./data/chatlog.p') "
   ]
  },
  {
   "cell_type": "code",
   "execution_count": 3,
   "metadata": {},
   "outputs": [],
   "source": [
    "df = chatlog[['userId', 'message', 'role', '_date']] "
   ]
  },
  {
   "cell_type": "code",
   "execution_count": 4,
   "metadata": {},
   "outputs": [
    {
     "name": "stderr",
     "output_type": "stream",
     "text": [
      "/Users/phrare/NTL_dashboard/NTL/lib/python3.7/site-packages/pandas/core/frame.py:3997: SettingWithCopyWarning: \n",
      "A value is trying to be set on a copy of a slice from a DataFrame\n",
      "\n",
      "See the caveats in the documentation: https://pandas.pydata.org/pandas-docs/stable/user_guide/indexing.html#returning-a-view-versus-a-copy\n",
      "  errors=errors,\n"
     ]
    }
   ],
   "source": [
    "df.drop(df[df.role == \"Admin\"].index, inplace=True)"
   ]
  },
  {
   "cell_type": "code",
   "execution_count": 5,
   "metadata": {},
   "outputs": [],
   "source": [
    "df_11_01 = df[df._date == \"2019-11-01\"]"
   ]
  },
  {
   "cell_type": "code",
   "execution_count": 6,
   "metadata": {},
   "outputs": [],
   "source": [
    "def get_th_tokens(text):\n",
    "#     text = text.lower()\n",
    "    text = text.replace('\\n', ' ')\n",
    "    tokens = word_tokenize(text, engine=\"newmm\", keep_whitespace=False)\n",
    "    return tokens"
   ]
  },
  {
   "cell_type": "code",
   "execution_count": 7,
   "metadata": {},
   "outputs": [],
   "source": [
    "df_new = df_11_01.groupby(['userId'])['message'].apply(','.join).reset_index()"
   ]
  },
  {
   "cell_type": "code",
   "execution_count": 8,
   "metadata": {},
   "outputs": [],
   "source": [
    "df_new[\"message_list\"] = df_new[\"message\"].apply(lambda x: x.split())"
   ]
  },
  {
   "cell_type": "code",
   "execution_count": 9,
   "metadata": {},
   "outputs": [
    {
     "data": {
      "text/html": [
       "<div>\n",
       "<style scoped>\n",
       "    .dataframe tbody tr th:only-of-type {\n",
       "        vertical-align: middle;\n",
       "    }\n",
       "\n",
       "    .dataframe tbody tr th {\n",
       "        vertical-align: top;\n",
       "    }\n",
       "\n",
       "    .dataframe thead th {\n",
       "        text-align: right;\n",
       "    }\n",
       "</style>\n",
       "<table border=\"1\" class=\"dataframe\">\n",
       "  <thead>\n",
       "    <tr style=\"text-align: right;\">\n",
       "      <th></th>\n",
       "      <th>userId</th>\n",
       "      <th>message</th>\n",
       "      <th>message_list</th>\n",
       "    </tr>\n",
       "  </thead>\n",
       "  <tbody>\n",
       "    <tr>\n",
       "      <th>0</th>\n",
       "      <td>1343993022391031</td>\n",
       "      <td>สวัสดีค่ะ</td>\n",
       "      <td>[สวัสดีค่ะ]</td>\n",
       "    </tr>\n",
       "    <tr>\n",
       "      <th>1</th>\n",
       "      <td>1345416482249396</td>\n",
       "      <td>ยังมีรถขับยุรึป่าวคับถ้าจะทำ</td>\n",
       "      <td>[ยังมีรถขับยุรึป่าวคับถ้าจะทำ]</td>\n",
       "    </tr>\n",
       "    <tr>\n",
       "      <th>2</th>\n",
       "      <td>1362041543920076</td>\n",
       "      <td>ทำไมเค้าโทรแจ้งว่ายอดไม่เข้าค่ะ,โอนไปตั้งแต่เม...</td>\n",
       "      <td>[ทำไมเค้าโทรแจ้งว่ายอดไม่เข้าค่ะ,โอนไปตั้งแต่เ...</td>\n",
       "    </tr>\n",
       "    <tr>\n",
       "      <th>3</th>\n",
       "      <td>1445140482277052</td>\n",
       "      <td>สวัสดีครับ,สอบถามครับ,สอบถามค่างวดยังคงเหลือ ก...</td>\n",
       "      <td>[สวัสดีครับ,สอบถามครับ,สอบถามค่างวดยังคงเหลือ,...</td>\n",
       "    </tr>\n",
       "    <tr>\n",
       "      <th>4</th>\n",
       "      <td>1448022578634827</td>\n",
       "      <td>สอบถามค่ะ,ถ้าเมื่อเดือนที่แล้วเราเอามอไซค์ไปเข...</td>\n",
       "      <td>[สอบถามค่ะ,ถ้าเมื่อเดือนที่แล้วเราเอามอไซค์ไปเ...</td>\n",
       "    </tr>\n",
       "  </tbody>\n",
       "</table>\n",
       "</div>"
      ],
      "text/plain": [
       "             userId                                            message  \\\n",
       "0  1343993022391031                                          สวัสดีค่ะ   \n",
       "1  1345416482249396                       ยังมีรถขับยุรึป่าวคับถ้าจะทำ   \n",
       "2  1362041543920076  ทำไมเค้าโทรแจ้งว่ายอดไม่เข้าค่ะ,โอนไปตั้งแต่เม...   \n",
       "3  1445140482277052  สวัสดีครับ,สอบถามครับ,สอบถามค่างวดยังคงเหลือ ก...   \n",
       "4  1448022578634827  สอบถามค่ะ,ถ้าเมื่อเดือนที่แล้วเราเอามอไซค์ไปเข...   \n",
       "\n",
       "                                        message_list  \n",
       "0                                        [สวัสดีค่ะ]  \n",
       "1                     [ยังมีรถขับยุรึป่าวคับถ้าจะทำ]  \n",
       "2  [ทำไมเค้าโทรแจ้งว่ายอดไม่เข้าค่ะ,โอนไปตั้งแต่เ...  \n",
       "3  [สวัสดีครับ,สอบถามครับ,สอบถามค่างวดยังคงเหลือ,...  \n",
       "4  [สอบถามค่ะ,ถ้าเมื่อเดือนที่แล้วเราเอามอไซค์ไปเ...  "
      ]
     },
     "execution_count": 9,
     "metadata": {},
     "output_type": "execute_result"
    }
   ],
   "source": [
    "df_new.head()"
   ]
  },
  {
   "cell_type": "code",
   "execution_count": 10,
   "metadata": {},
   "outputs": [],
   "source": [
    "vectorizer = TfidfVectorizer(tokenizer=get_th_tokens, token_pattern=None, ngram_range=(1,2)) "
   ]
  },
  {
   "cell_type": "code",
   "execution_count": 11,
   "metadata": {},
   "outputs": [
    {
     "data": {
      "text/plain": [
       "TfidfVectorizer(ngram_range=(1, 2), token_pattern=None,\n",
       "                tokenizer=<function get_th_tokens at 0x1096bb5f0>)"
      ]
     },
     "execution_count": 11,
     "metadata": {},
     "output_type": "execute_result"
    }
   ],
   "source": [
    "vectorizer.fit(df_new['message']) "
   ]
  },
  {
   "cell_type": "code",
   "execution_count": 12,
   "metadata": {},
   "outputs": [],
   "source": [
    "feat = vectorizer.transform(df_new['message']) \n",
    "feat_arr = feat.toarray() "
   ]
  },
  {
   "cell_type": "code",
   "execution_count": 13,
   "metadata": {},
   "outputs": [
    {
     "data": {
      "text/plain": [
       "(483, 7393)"
      ]
     },
     "execution_count": 13,
     "metadata": {},
     "output_type": "execute_result"
    }
   ],
   "source": [
    "feat_arr.shape"
   ]
  },
  {
   "cell_type": "code",
   "execution_count": 14,
   "metadata": {},
   "outputs": [],
   "source": [
    "avg_tfidf = feat_arr.sum(axis=0) / np.count_nonzero(feat_arr,axis=0) "
   ]
  },
  {
   "cell_type": "code",
   "execution_count": 15,
   "metadata": {},
   "outputs": [],
   "source": [
    "result = pd.DataFrame() \n",
    "result['word'] = vectorizer.get_feature_names() \n",
    "result['avg_tfidf'] = avg_tfidf "
   ]
  },
  {
   "cell_type": "code",
   "execution_count": 16,
   "metadata": {},
   "outputs": [
    {
     "data": {
      "text/html": [
       "<div>\n",
       "<style scoped>\n",
       "    .dataframe tbody tr th:only-of-type {\n",
       "        vertical-align: middle;\n",
       "    }\n",
       "\n",
       "    .dataframe tbody tr th {\n",
       "        vertical-align: top;\n",
       "    }\n",
       "\n",
       "    .dataframe thead th {\n",
       "        text-align: right;\n",
       "    }\n",
       "</style>\n",
       "<table border=\"1\" class=\"dataframe\">\n",
       "  <thead>\n",
       "    <tr style=\"text-align: right;\">\n",
       "      <th></th>\n",
       "      <th>word</th>\n",
       "      <th>avg_tfidf</th>\n",
       "    </tr>\n",
       "  </thead>\n",
       "  <tbody>\n",
       "    <tr>\n",
       "      <th>744</th>\n",
       "      <td>0995022465</td>\n",
       "      <td>1.000000</td>\n",
       "    </tr>\n",
       "    <tr>\n",
       "      <th>7389</th>\n",
       "      <td>👎🏼😎</td>\n",
       "      <td>1.000000</td>\n",
       "    </tr>\n",
       "    <tr>\n",
       "      <th>5944</th>\n",
       "      <td>เชฟ คะ</td>\n",
       "      <td>0.723335</td>\n",
       "    </tr>\n",
       "    <tr>\n",
       "      <th>3483</th>\n",
       "      <td>บุคคล</td>\n",
       "      <td>0.678260</td>\n",
       "    </tr>\n",
       "    <tr>\n",
       "      <th>3484</th>\n",
       "      <td>บุคคล คะ</td>\n",
       "      <td>0.678260</td>\n",
       "    </tr>\n",
       "    <tr>\n",
       "      <th>4194</th>\n",
       "      <td>มี แล้ว</td>\n",
       "      <td>0.657901</td>\n",
       "    </tr>\n",
       "    <tr>\n",
       "      <th>4917</th>\n",
       "      <td>วีออส 2014</td>\n",
       "      <td>0.647026</td>\n",
       "    </tr>\n",
       "    <tr>\n",
       "      <th>5038</th>\n",
       "      <td>สนใจ ค่ะ</td>\n",
       "      <td>0.646058</td>\n",
       "    </tr>\n",
       "    <tr>\n",
       "      <th>1393</th>\n",
       "      <td>test</td>\n",
       "      <td>0.613723</td>\n",
       "    </tr>\n",
       "    <tr>\n",
       "      <th>14</th>\n",
       "      <td>+ ค่ะ</td>\n",
       "      <td>0.599278</td>\n",
       "    </tr>\n",
       "  </tbody>\n",
       "</table>\n",
       "</div>"
      ],
      "text/plain": [
       "            word  avg_tfidf\n",
       "744   0995022465   1.000000\n",
       "7389         👎🏼😎   1.000000\n",
       "5944      เชฟ คะ   0.723335\n",
       "3483       บุคคล   0.678260\n",
       "3484    บุคคล คะ   0.678260\n",
       "4194     มี แล้ว   0.657901\n",
       "4917  วีออส 2014   0.647026\n",
       "5038    สนใจ ค่ะ   0.646058\n",
       "1393        test   0.613723\n",
       "14         + ค่ะ   0.599278"
      ]
     },
     "execution_count": 16,
     "metadata": {},
     "output_type": "execute_result"
    }
   ],
   "source": [
    "result.sort_values('avg_tfidf', ascending=False).head(10) "
   ]
  },
  {
   "cell_type": "code",
   "execution_count": 17,
   "metadata": {},
   "outputs": [],
   "source": [
    "def filter_words(text):\n",
    "    text = text.replace('\\n', ' ') \n",
    "    text = text.replace(',', ' ')\n",
    "    stop_words = set(thai_stopwords()) \n",
    "    tokens = word_tokenize(text, engine=\"newmm\", keep_whitespace=False) \n",
    "    filtered_text = [] \n",
    "    for w in tokens: \n",
    "        if w not in stop_words: \n",
    "            filtered_text.append(w) \n",
    "    return filtered_text"
   ]
  },
  {
   "cell_type": "code",
   "execution_count": 18,
   "metadata": {},
   "outputs": [
    {
     "data": {
      "text/plain": [
       "['เรียน']"
      ]
     },
     "execution_count": 18,
     "metadata": {},
     "output_type": "execute_result"
    }
   ],
   "source": [
    "filter_words(\"ฉันไปเรียนค่ะ\")"
   ]
  },
  {
   "cell_type": "code",
   "execution_count": 19,
   "metadata": {},
   "outputs": [],
   "source": [
    "df_new[\"message_filtered\"] = df_new[\"message\"].apply(lambda x : filter_words(x)) "
   ]
  },
  {
   "cell_type": "code",
   "execution_count": 20,
   "metadata": {},
   "outputs": [
    {
     "data": {
      "text/html": [
       "<div>\n",
       "<style scoped>\n",
       "    .dataframe tbody tr th:only-of-type {\n",
       "        vertical-align: middle;\n",
       "    }\n",
       "\n",
       "    .dataframe tbody tr th {\n",
       "        vertical-align: top;\n",
       "    }\n",
       "\n",
       "    .dataframe thead th {\n",
       "        text-align: right;\n",
       "    }\n",
       "</style>\n",
       "<table border=\"1\" class=\"dataframe\">\n",
       "  <thead>\n",
       "    <tr style=\"text-align: right;\">\n",
       "      <th></th>\n",
       "      <th>userId</th>\n",
       "      <th>message</th>\n",
       "      <th>message_list</th>\n",
       "      <th>message_filtered</th>\n",
       "    </tr>\n",
       "  </thead>\n",
       "  <tbody>\n",
       "    <tr>\n",
       "      <th>0</th>\n",
       "      <td>1343993022391031</td>\n",
       "      <td>สวัสดีค่ะ</td>\n",
       "      <td>[สวัสดีค่ะ]</td>\n",
       "      <td>[สวัสดี]</td>\n",
       "    </tr>\n",
       "    <tr>\n",
       "      <th>1</th>\n",
       "      <td>1345416482249396</td>\n",
       "      <td>ยังมีรถขับยุรึป่าวคับถ้าจะทำ</td>\n",
       "      <td>[ยังมีรถขับยุรึป่าวคับถ้าจะทำ]</td>\n",
       "      <td>[ยังมี, รถ, ขับ, ยุ, ป่าว, คับ, ทำ]</td>\n",
       "    </tr>\n",
       "    <tr>\n",
       "      <th>2</th>\n",
       "      <td>1362041543920076</td>\n",
       "      <td>ทำไมเค้าโทรแจ้งว่ายอดไม่เข้าค่ะ,โอนไปตั้งแต่เม...</td>\n",
       "      <td>[ทำไมเค้าโทรแจ้งว่ายอดไม่เข้าค่ะ,โอนไปตั้งแต่เ...</td>\n",
       "      <td>[เค้า, โทร, แจ้ง, ยอด, โอน, โอน, เงิน, ยอด]</td>\n",
       "    </tr>\n",
       "    <tr>\n",
       "      <th>3</th>\n",
       "      <td>1445140482277052</td>\n",
       "      <td>สวัสดีครับ,สอบถามครับ,สอบถามค่างวดยังคงเหลือ ก...</td>\n",
       "      <td>[สวัสดีครับ,สอบถามครับ,สอบถามค่างวดยังคงเหลือ,...</td>\n",
       "      <td>[สวัสดี, สอบถาม, สอบถาม, ค่างวด, คงเหลือ, กี่,...</td>\n",
       "    </tr>\n",
       "    <tr>\n",
       "      <th>4</th>\n",
       "      <td>1448022578634827</td>\n",
       "      <td>สอบถามค่ะ,ถ้าเมื่อเดือนที่แล้วเราเอามอไซค์ไปเข...</td>\n",
       "      <td>[สอบถามค่ะ,ถ้าเมื่อเดือนที่แล้วเราเอามอไซค์ไปเ...</td>\n",
       "      <td>[สอบถาม, เมื่อเดือนที่แล้ว, มอไซค์, เงิน, เต็ม...</td>\n",
       "    </tr>\n",
       "  </tbody>\n",
       "</table>\n",
       "</div>"
      ],
      "text/plain": [
       "             userId                                            message  \\\n",
       "0  1343993022391031                                          สวัสดีค่ะ   \n",
       "1  1345416482249396                       ยังมีรถขับยุรึป่าวคับถ้าจะทำ   \n",
       "2  1362041543920076  ทำไมเค้าโทรแจ้งว่ายอดไม่เข้าค่ะ,โอนไปตั้งแต่เม...   \n",
       "3  1445140482277052  สวัสดีครับ,สอบถามครับ,สอบถามค่างวดยังคงเหลือ ก...   \n",
       "4  1448022578634827  สอบถามค่ะ,ถ้าเมื่อเดือนที่แล้วเราเอามอไซค์ไปเข...   \n",
       "\n",
       "                                        message_list  \\\n",
       "0                                        [สวัสดีค่ะ]   \n",
       "1                     [ยังมีรถขับยุรึป่าวคับถ้าจะทำ]   \n",
       "2  [ทำไมเค้าโทรแจ้งว่ายอดไม่เข้าค่ะ,โอนไปตั้งแต่เ...   \n",
       "3  [สวัสดีครับ,สอบถามครับ,สอบถามค่างวดยังคงเหลือ,...   \n",
       "4  [สอบถามค่ะ,ถ้าเมื่อเดือนที่แล้วเราเอามอไซค์ไปเ...   \n",
       "\n",
       "                                    message_filtered  \n",
       "0                                           [สวัสดี]  \n",
       "1                [ยังมี, รถ, ขับ, ยุ, ป่าว, คับ, ทำ]  \n",
       "2        [เค้า, โทร, แจ้ง, ยอด, โอน, โอน, เงิน, ยอด]  \n",
       "3  [สวัสดี, สอบถาม, สอบถาม, ค่างวด, คงเหลือ, กี่,...  \n",
       "4  [สอบถาม, เมื่อเดือนที่แล้ว, มอไซค์, เงิน, เต็ม...  "
      ]
     },
     "execution_count": 20,
     "metadata": {},
     "output_type": "execute_result"
    }
   ],
   "source": [
    "df_new.head()"
   ]
  },
  {
   "cell_type": "code",
   "execution_count": 21,
   "metadata": {},
   "outputs": [],
   "source": [
    "def listToString(s):  \n",
    "    \n",
    "    # initialize an empty string \n",
    "    str1 = \" \" \n",
    "    \n",
    "    # return string   \n",
    "    return (str1.join(s)) "
   ]
  },
  {
   "cell_type": "code",
   "execution_count": 22,
   "metadata": {},
   "outputs": [],
   "source": [
    "df_new['message_filtered'] = df_new['message_filtered'].apply(listToString)"
   ]
  },
  {
   "cell_type": "code",
   "execution_count": 23,
   "metadata": {},
   "outputs": [],
   "source": [
    "df_new['len_msg'] = df_new['message_filtered'].apply(len)"
   ]
  },
  {
   "cell_type": "code",
   "execution_count": 24,
   "metadata": {},
   "outputs": [
    {
     "data": {
      "text/html": [
       "<div>\n",
       "<style scoped>\n",
       "    .dataframe tbody tr th:only-of-type {\n",
       "        vertical-align: middle;\n",
       "    }\n",
       "\n",
       "    .dataframe tbody tr th {\n",
       "        vertical-align: top;\n",
       "    }\n",
       "\n",
       "    .dataframe thead th {\n",
       "        text-align: right;\n",
       "    }\n",
       "</style>\n",
       "<table border=\"1\" class=\"dataframe\">\n",
       "  <thead>\n",
       "    <tr style=\"text-align: right;\">\n",
       "      <th></th>\n",
       "      <th>userId</th>\n",
       "      <th>message</th>\n",
       "      <th>message_list</th>\n",
       "      <th>message_filtered</th>\n",
       "      <th>len_msg</th>\n",
       "    </tr>\n",
       "  </thead>\n",
       "  <tbody>\n",
       "    <tr>\n",
       "      <th>0</th>\n",
       "      <td>1343993022391031</td>\n",
       "      <td>สวัสดีค่ะ</td>\n",
       "      <td>[สวัสดีค่ะ]</td>\n",
       "      <td>สวัสดี</td>\n",
       "      <td>6</td>\n",
       "    </tr>\n",
       "    <tr>\n",
       "      <th>1</th>\n",
       "      <td>1345416482249396</td>\n",
       "      <td>ยังมีรถขับยุรึป่าวคับถ้าจะทำ</td>\n",
       "      <td>[ยังมีรถขับยุรึป่าวคับถ้าจะทำ]</td>\n",
       "      <td>ยังมี รถ ขับ ยุ ป่าว คับ ทำ</td>\n",
       "      <td>27</td>\n",
       "    </tr>\n",
       "    <tr>\n",
       "      <th>2</th>\n",
       "      <td>1362041543920076</td>\n",
       "      <td>ทำไมเค้าโทรแจ้งว่ายอดไม่เข้าค่ะ,โอนไปตั้งแต่เม...</td>\n",
       "      <td>[ทำไมเค้าโทรแจ้งว่ายอดไม่เข้าค่ะ,โอนไปตั้งแต่เ...</td>\n",
       "      <td>เค้า โทร แจ้ง ยอด โอน โอน เงิน ยอด</td>\n",
       "      <td>34</td>\n",
       "    </tr>\n",
       "    <tr>\n",
       "      <th>3</th>\n",
       "      <td>1445140482277052</td>\n",
       "      <td>สวัสดีครับ,สอบถามครับ,สอบถามค่างวดยังคงเหลือ ก...</td>\n",
       "      <td>[สวัสดีครับ,สอบถามครับ,สอบถามค่างวดยังคงเหลือ,...</td>\n",
       "      <td>สวัสดี สอบถาม สอบถาม ค่างวด คงเหลือ กี่ งวด 56...</td>\n",
       "      <td>121</td>\n",
       "    </tr>\n",
       "    <tr>\n",
       "      <th>4</th>\n",
       "      <td>1448022578634827</td>\n",
       "      <td>สอบถามค่ะ,ถ้าเมื่อเดือนที่แล้วเราเอามอไซค์ไปเข...</td>\n",
       "      <td>[สอบถามค่ะ,ถ้าเมื่อเดือนที่แล้วเราเอามอไซค์ไปเ...</td>\n",
       "      <td>สอบถาม เมื่อเดือนที่แล้ว มอไซค์ เงิน เต็ม เต็ม...</td>\n",
       "      <td>150</td>\n",
       "    </tr>\n",
       "  </tbody>\n",
       "</table>\n",
       "</div>"
      ],
      "text/plain": [
       "             userId                                            message  \\\n",
       "0  1343993022391031                                          สวัสดีค่ะ   \n",
       "1  1345416482249396                       ยังมีรถขับยุรึป่าวคับถ้าจะทำ   \n",
       "2  1362041543920076  ทำไมเค้าโทรแจ้งว่ายอดไม่เข้าค่ะ,โอนไปตั้งแต่เม...   \n",
       "3  1445140482277052  สวัสดีครับ,สอบถามครับ,สอบถามค่างวดยังคงเหลือ ก...   \n",
       "4  1448022578634827  สอบถามค่ะ,ถ้าเมื่อเดือนที่แล้วเราเอามอไซค์ไปเข...   \n",
       "\n",
       "                                        message_list  \\\n",
       "0                                        [สวัสดีค่ะ]   \n",
       "1                     [ยังมีรถขับยุรึป่าวคับถ้าจะทำ]   \n",
       "2  [ทำไมเค้าโทรแจ้งว่ายอดไม่เข้าค่ะ,โอนไปตั้งแต่เ...   \n",
       "3  [สวัสดีครับ,สอบถามครับ,สอบถามค่างวดยังคงเหลือ,...   \n",
       "4  [สอบถามค่ะ,ถ้าเมื่อเดือนที่แล้วเราเอามอไซค์ไปเ...   \n",
       "\n",
       "                                    message_filtered  len_msg  \n",
       "0                                             สวัสดี        6  \n",
       "1                        ยังมี รถ ขับ ยุ ป่าว คับ ทำ       27  \n",
       "2                 เค้า โทร แจ้ง ยอด โอน โอน เงิน ยอด       34  \n",
       "3  สวัสดี สอบถาม สอบถาม ค่างวด คงเหลือ กี่ งวด 56...      121  \n",
       "4  สอบถาม เมื่อเดือนที่แล้ว มอไซค์ เงิน เต็ม เต็ม...      150  "
      ]
     },
     "execution_count": 24,
     "metadata": {},
     "output_type": "execute_result"
    }
   ],
   "source": [
    "df_new.head()"
   ]
  },
  {
   "cell_type": "code",
   "execution_count": 25,
   "metadata": {},
   "outputs": [
    {
     "data": {
      "text/plain": [
       "<matplotlib.axes._subplots.AxesSubplot at 0x12599aad0>"
      ]
     },
     "execution_count": 25,
     "metadata": {},
     "output_type": "execute_result"
    },
    {
     "data": {
      "image/png": "[encoded data removed]",
      "text/plain": [
       "<Figure size 432x288 with 1 Axes>"
      ]
     },
     "metadata": {
      "needs_background": "light"
     },
     "output_type": "display_data"
    }
   ],
   "source": [
    "df_new['len_msg'].hist(bins=100)"
   ]
  },
  {
   "cell_type": "code",
   "execution_count": 26,
   "metadata": {},
   "outputs": [],
   "source": [
    "vectorizer = TfidfVectorizer(tokenizer=get_th_tokens, token_pattern=None, ngram_range=(1,2)) "
   ]
  },
  {
   "cell_type": "code",
   "execution_count": 27,
   "metadata": {},
   "outputs": [
    {
     "data": {
      "text/plain": [
       "TfidfVectorizer(ngram_range=(1, 2), token_pattern=None,\n",
       "                tokenizer=<function get_th_tokens at 0x1096bb5f0>)"
      ]
     },
     "execution_count": 27,
     "metadata": {},
     "output_type": "execute_result"
    }
   ],
   "source": [
    "vectorizer.fit(df_new['message_filtered']) "
   ]
  },
  {
   "cell_type": "code",
   "execution_count": 28,
   "metadata": {},
   "outputs": [],
   "source": [
    "feat_filtered = vectorizer.transform(df_new['message']) \n",
    "feat_filtered_arr = feat_filtered.toarray() "
   ]
  },
  {
   "cell_type": "code",
   "execution_count": 29,
   "metadata": {},
   "outputs": [
    {
     "data": {
      "text/plain": [
       "(483, 5263)"
      ]
     },
     "execution_count": 29,
     "metadata": {},
     "output_type": "execute_result"
    }
   ],
   "source": [
    "feat_filtered_arr.shape"
   ]
  },
  {
   "cell_type": "code",
   "execution_count": 30,
   "metadata": {},
   "outputs": [
    {
     "name": "stderr",
     "output_type": "stream",
     "text": [
      "/Users/phrare/NTL_dashboard/NTL/lib/python3.7/site-packages/ipykernel_launcher.py:1: RuntimeWarning: invalid value encountered in true_divide\n",
      "  \"\"\"Entry point for launching an IPython kernel.\n"
     ]
    }
   ],
   "source": [
    "avg_tfidf = feat_filtered_arr.sum(axis=0) / np.count_nonzero(feat_filtered_arr,axis=0) "
   ]
  },
  {
   "cell_type": "code",
   "execution_count": 31,
   "metadata": {},
   "outputs": [],
   "source": [
    "result_filtered = pd.DataFrame() \n",
    "result_filtered['word'] = vectorizer.get_feature_names() \n",
    "result_filtered['avg_tfidf'] = avg_tfidf "
   ]
  },
  {
   "cell_type": "code",
   "execution_count": 32,
   "metadata": {},
   "outputs": [
    {
     "data": {
      "text/html": [
       "<div>\n",
       "<style scoped>\n",
       "    .dataframe tbody tr th:only-of-type {\n",
       "        vertical-align: middle;\n",
       "    }\n",
       "\n",
       "    .dataframe tbody tr th {\n",
       "        vertical-align: top;\n",
       "    }\n",
       "\n",
       "    .dataframe thead th {\n",
       "        text-align: right;\n",
       "    }\n",
       "</style>\n",
       "<table border=\"1\" class=\"dataframe\">\n",
       "  <thead>\n",
       "    <tr style=\"text-align: right;\">\n",
       "      <th></th>\n",
       "      <th>word</th>\n",
       "      <th>avg_tfidf</th>\n",
       "    </tr>\n",
       "  </thead>\n",
       "  <tbody>\n",
       "    <tr>\n",
       "      <th>2385</th>\n",
       "      <td>บุคคล</td>\n",
       "      <td>1.000000</td>\n",
       "    </tr>\n",
       "    <tr>\n",
       "      <th>5253</th>\n",
       "      <td>👎🏼😎</td>\n",
       "      <td>1.000000</td>\n",
       "    </tr>\n",
       "    <tr>\n",
       "      <th>217</th>\n",
       "      <td>0995022465</td>\n",
       "      <td>1.000000</td>\n",
       "    </tr>\n",
       "    <tr>\n",
       "      <th>2730</th>\n",
       "      <td>พรบ.</td>\n",
       "      <td>0.909597</td>\n",
       "    </tr>\n",
       "    <tr>\n",
       "      <th>864</th>\n",
       "      <td>true</td>\n",
       "      <td>0.853087</td>\n",
       "    </tr>\n",
       "    <tr>\n",
       "      <th>1771</th>\n",
       "      <td>ตกงาน</td>\n",
       "      <td>0.837272</td>\n",
       "    </tr>\n",
       "    <tr>\n",
       "      <th>847</th>\n",
       "      <td>test</td>\n",
       "      <td>0.805519</td>\n",
       "    </tr>\n",
       "    <tr>\n",
       "      <th>4970</th>\n",
       "      <td>ใจดี</td>\n",
       "      <td>0.778228</td>\n",
       "    </tr>\n",
       "    <tr>\n",
       "      <th>2196</th>\n",
       "      <td>นครสวรรค์</td>\n",
       "      <td>0.767707</td>\n",
       "    </tr>\n",
       "    <tr>\n",
       "      <th>2113</th>\n",
       "      <td>ที่อยู่</td>\n",
       "      <td>0.751388</td>\n",
       "    </tr>\n",
       "  </tbody>\n",
       "</table>\n",
       "</div>"
      ],
      "text/plain": [
       "            word  avg_tfidf\n",
       "2385       บุคคล   1.000000\n",
       "5253         👎🏼😎   1.000000\n",
       "217   0995022465   1.000000\n",
       "2730        พรบ.   0.909597\n",
       "864         true   0.853087\n",
       "1771       ตกงาน   0.837272\n",
       "847         test   0.805519\n",
       "4970        ใจดี   0.778228\n",
       "2196   นครสวรรค์   0.767707\n",
       "2113     ที่อยู่   0.751388"
      ]
     },
     "execution_count": 32,
     "metadata": {},
     "output_type": "execute_result"
    }
   ],
   "source": [
    "result_filtered.sort_values('avg_tfidf', ascending=False).head(10) "
   ]
  },
  {
   "cell_type": "code",
   "execution_count": 44,
   "metadata": {},
   "outputs": [],
   "source": [
    "string = \"This is a dinosaur 🦖\""
   ]
  },
  {
   "cell_type": "code",
   "execution_count": 49,
   "metadata": {},
   "outputs": [
    {
     "name": "stdout",
     "output_type": "stream",
     "text": [
      "This is a dinosaur \n"
     ]
    }
   ],
   "source": [
    "print(remove_emoji(string))"
   ]
  },
  {
   "cell_type": "code",
   "execution_count": 50,
   "metadata": {},
   "outputs": [],
   "source": [
    "s1 = \"ตลกจัง 😂\""
   ]
  },
  {
   "cell_type": "code",
   "execution_count": 52,
   "metadata": {},
   "outputs": [
    {
     "data": {
      "text/plain": [
       "'ตลกจัง '"
      ]
     },
     "execution_count": 52,
     "metadata": {},
     "output_type": "execute_result"
    }
   ],
   "source": [
    "remove_emoji(s1)"
   ]
  },
  {
   "cell_type": "code",
   "execution_count": 48,
   "metadata": {},
   "outputs": [],
   "source": [
    "import re\n",
    "def remove_emoji(string):\n",
    "    emoji_pattern = re.compile(\"[\"\n",
    "                               u\"\\U0001F600-\\U0001F64F\"  # emoticons\n",
    "                               u\"\\U0001F300-\\U0001F5FF\"  # symbols & pictographs\n",
    "                               u\"\\U0001F680-\\U0001F6FF\"  # transport & map symbols\n",
    "                               u\"\\U0001F1E0-\\U0001F1FF\"  # flags (iOS)\n",
    "                               u\"\\U00002500-\\U00002BEF\"  # chinese char\n",
    "                               u\"\\U00002702-\\U000027B0\"\n",
    "                               u\"\\U00002702-\\U000027B0\"\n",
    "                               u\"\\U000024C2-\\U0001F251\"\n",
    "                               u\"\\U0001f926-\\U0001f937\"\n",
    "                               u\"\\U00010000-\\U0010ffff\"\n",
    "                               u\"\\u2640-\\u2642\"\n",
    "                               u\"\\u2600-\\u2B55\"\n",
    "                               u\"\\u200d\"\n",
    "                               u\"\\u23cf\"\n",
    "                               u\"\\u23e9\"\n",
    "                               u\"\\u231a\"\n",
    "                               u\"\\ufe0f\"  # dingbats\n",
    "                               u\"\\u3030\"\n",
    "                               \"]+\", flags=re.UNICODE)\n",
    "    return emoji_pattern.sub(r'', string)"
   ]
  },
  {
   "cell_type": "code",
   "execution_count": 56,
   "metadata": {},
   "outputs": [],
   "source": [
    "df_new['message_filtered_demoji'] = df_new['message_filtered'].apply(remove_emoji)"
   ]
  },
  {
   "cell_type": "code",
   "execution_count": 57,
   "metadata": {},
   "outputs": [
    {
     "data": {
      "text/html": [
       "<div>\n",
       "<style scoped>\n",
       "    .dataframe tbody tr th:only-of-type {\n",
       "        vertical-align: middle;\n",
       "    }\n",
       "\n",
       "    .dataframe tbody tr th {\n",
       "        vertical-align: top;\n",
       "    }\n",
       "\n",
       "    .dataframe thead th {\n",
       "        text-align: right;\n",
       "    }\n",
       "</style>\n",
       "<table border=\"1\" class=\"dataframe\">\n",
       "  <thead>\n",
       "    <tr style=\"text-align: right;\">\n",
       "      <th></th>\n",
       "      <th>userId</th>\n",
       "      <th>message</th>\n",
       "      <th>message_list</th>\n",
       "      <th>message_filtered</th>\n",
       "      <th>len_msg</th>\n",
       "      <th>message_filtered_demoji</th>\n",
       "    </tr>\n",
       "  </thead>\n",
       "  <tbody>\n",
       "    <tr>\n",
       "      <th>0</th>\n",
       "      <td>1343993022391031</td>\n",
       "      <td>สวัสดีค่ะ</td>\n",
       "      <td>[สวัสดีค่ะ]</td>\n",
       "      <td>สวัสดี</td>\n",
       "      <td>6</td>\n",
       "      <td>สวัสดี</td>\n",
       "    </tr>\n",
       "    <tr>\n",
       "      <th>1</th>\n",
       "      <td>1345416482249396</td>\n",
       "      <td>ยังมีรถขับยุรึป่าวคับถ้าจะทำ</td>\n",
       "      <td>[ยังมีรถขับยุรึป่าวคับถ้าจะทำ]</td>\n",
       "      <td>ยังมี รถ ขับ ยุ ป่าว คับ ทำ</td>\n",
       "      <td>27</td>\n",
       "      <td>ยังมี รถ ขับ ยุ ป่าว คับ ทำ</td>\n",
       "    </tr>\n",
       "    <tr>\n",
       "      <th>2</th>\n",
       "      <td>1362041543920076</td>\n",
       "      <td>ทำไมเค้าโทรแจ้งว่ายอดไม่เข้าค่ะ,โอนไปตั้งแต่เม...</td>\n",
       "      <td>[ทำไมเค้าโทรแจ้งว่ายอดไม่เข้าค่ะ,โอนไปตั้งแต่เ...</td>\n",
       "      <td>เค้า โทร แจ้ง ยอด โอน โอน เงิน ยอด</td>\n",
       "      <td>34</td>\n",
       "      <td>เค้า โทร แจ้ง ยอด โอน โอน เงิน ยอด</td>\n",
       "    </tr>\n",
       "    <tr>\n",
       "      <th>3</th>\n",
       "      <td>1445140482277052</td>\n",
       "      <td>สวัสดีครับ,สอบถามครับ,สอบถามค่างวดยังคงเหลือ ก...</td>\n",
       "      <td>[สวัสดีครับ,สอบถามครับ,สอบถามค่างวดยังคงเหลือ,...</td>\n",
       "      <td>สวัสดี สอบถาม สอบถาม ค่างวด คงเหลือ กี่ งวด 56...</td>\n",
       "      <td>121</td>\n",
       "      <td>สวัสดี สอบถาม สอบถาม ค่างวด คงเหลือ กี่ งวด 56...</td>\n",
       "    </tr>\n",
       "    <tr>\n",
       "      <th>4</th>\n",
       "      <td>1448022578634827</td>\n",
       "      <td>สอบถามค่ะ,ถ้าเมื่อเดือนที่แล้วเราเอามอไซค์ไปเข...</td>\n",
       "      <td>[สอบถามค่ะ,ถ้าเมื่อเดือนที่แล้วเราเอามอไซค์ไปเ...</td>\n",
       "      <td>สอบถาม เมื่อเดือนที่แล้ว มอไซค์ เงิน เต็ม เต็ม...</td>\n",
       "      <td>150</td>\n",
       "      <td>สอบถาม เมื่อเดือนที่แล้ว มอไซค์ เงิน เต็ม เต็ม...</td>\n",
       "    </tr>\n",
       "  </tbody>\n",
       "</table>\n",
       "</div>"
      ],
      "text/plain": [
       "             userId                                            message  \\\n",
       "0  1343993022391031                                          สวัสดีค่ะ   \n",
       "1  1345416482249396                       ยังมีรถขับยุรึป่าวคับถ้าจะทำ   \n",
       "2  1362041543920076  ทำไมเค้าโทรแจ้งว่ายอดไม่เข้าค่ะ,โอนไปตั้งแต่เม...   \n",
       "3  1445140482277052  สวัสดีครับ,สอบถามครับ,สอบถามค่างวดยังคงเหลือ ก...   \n",
       "4  1448022578634827  สอบถามค่ะ,ถ้าเมื่อเดือนที่แล้วเราเอามอไซค์ไปเข...   \n",
       "\n",
       "                                        message_list  \\\n",
       "0                                        [สวัสดีค่ะ]   \n",
       "1                     [ยังมีรถขับยุรึป่าวคับถ้าจะทำ]   \n",
       "2  [ทำไมเค้าโทรแจ้งว่ายอดไม่เข้าค่ะ,โอนไปตั้งแต่เ...   \n",
       "3  [สวัสดีครับ,สอบถามครับ,สอบถามค่างวดยังคงเหลือ,...   \n",
       "4  [สอบถามค่ะ,ถ้าเมื่อเดือนที่แล้วเราเอามอไซค์ไปเ...   \n",
       "\n",
       "                                    message_filtered  len_msg  \\\n",
       "0                                             สวัสดี        6   \n",
       "1                        ยังมี รถ ขับ ยุ ป่าว คับ ทำ       27   \n",
       "2                 เค้า โทร แจ้ง ยอด โอน โอน เงิน ยอด       34   \n",
       "3  สวัสดี สอบถาม สอบถาม ค่างวด คงเหลือ กี่ งวด 56...      121   \n",
       "4  สอบถาม เมื่อเดือนที่แล้ว มอไซค์ เงิน เต็ม เต็ม...      150   \n",
       "\n",
       "                             message_filtered_demoji  \n",
       "0                                             สวัสดี  \n",
       "1                        ยังมี รถ ขับ ยุ ป่าว คับ ทำ  \n",
       "2                 เค้า โทร แจ้ง ยอด โอน โอน เงิน ยอด  \n",
       "3  สวัสดี สอบถาม สอบถาม ค่างวด คงเหลือ กี่ งวด 56...  \n",
       "4  สอบถาม เมื่อเดือนที่แล้ว มอไซค์ เงิน เต็ม เต็ม...  "
      ]
     },
     "execution_count": 57,
     "metadata": {},
     "output_type": "execute_result"
    }
   ],
   "source": [
    "df_new.head()"
   ]
  },
  {
   "cell_type": "code",
   "execution_count": 59,
   "metadata": {},
   "outputs": [
    {
     "data": {
      "text/plain": [
       "TfidfVectorizer(ngram_range=(1, 2), token_pattern=None,\n",
       "                tokenizer=<function get_th_tokens at 0x1096bb5f0>)"
      ]
     },
     "execution_count": 59,
     "metadata": {},
     "output_type": "execute_result"
    }
   ],
   "source": [
    "vectorizer = TfidfVectorizer(tokenizer=get_th_tokens, token_pattern=None, ngram_range=(1,2)) \n",
    "vectorizer.fit(df_new['message_filtered_demoji']) "
   ]
  },
  {
   "cell_type": "code",
   "execution_count": 60,
   "metadata": {},
   "outputs": [],
   "source": [
    "feat_filtered_emoji = vectorizer.transform(df_new['message']) \n",
    "feat_filtered_emoji_arr = feat_filtered_emoji.toarray() "
   ]
  },
  {
   "cell_type": "code",
   "execution_count": 61,
   "metadata": {},
   "outputs": [
    {
     "name": "stderr",
     "output_type": "stream",
     "text": [
      "/Users/phrare/NTL_dashboard/NTL/lib/python3.7/site-packages/ipykernel_launcher.py:1: RuntimeWarning: invalid value encountered in true_divide\n",
      "  \"\"\"Entry point for launching an IPython kernel.\n"
     ]
    }
   ],
   "source": [
    "avg_tfidf = feat_filtered_emoji_arr.sum(axis=0) / np.count_nonzero(feat_filtered_emoji_arr,axis=0) \n",
    "result_filtered_emoji = pd.DataFrame() \n",
    "result_filtered_emoji['word'] = vectorizer.get_feature_names() \n",
    "result_filtered_emoji['avg_tfidf'] = avg_tfidf "
   ]
  },
  {
   "cell_type": "code",
   "execution_count": 62,
   "metadata": {},
   "outputs": [
    {
     "data": {
      "text/html": [
       "<div>\n",
       "<style scoped>\n",
       "    .dataframe tbody tr th:only-of-type {\n",
       "        vertical-align: middle;\n",
       "    }\n",
       "\n",
       "    .dataframe tbody tr th {\n",
       "        vertical-align: top;\n",
       "    }\n",
       "\n",
       "    .dataframe thead th {\n",
       "        text-align: right;\n",
       "    }\n",
       "</style>\n",
       "<table border=\"1\" class=\"dataframe\">\n",
       "  <thead>\n",
       "    <tr style=\"text-align: right;\">\n",
       "      <th></th>\n",
       "      <th>word</th>\n",
       "      <th>avg_tfidf</th>\n",
       "    </tr>\n",
       "  </thead>\n",
       "  <tbody>\n",
       "    <tr>\n",
       "      <th>2385</th>\n",
       "      <td>บุคคล</td>\n",
       "      <td>1.000000</td>\n",
       "    </tr>\n",
       "    <tr>\n",
       "      <th>217</th>\n",
       "      <td>0995022465</td>\n",
       "      <td>1.000000</td>\n",
       "    </tr>\n",
       "    <tr>\n",
       "      <th>2729</th>\n",
       "      <td>พรบ.</td>\n",
       "      <td>0.909597</td>\n",
       "    </tr>\n",
       "    <tr>\n",
       "      <th>864</th>\n",
       "      <td>true</td>\n",
       "      <td>0.853087</td>\n",
       "    </tr>\n",
       "    <tr>\n",
       "      <th>1771</th>\n",
       "      <td>ตกงาน</td>\n",
       "      <td>0.837272</td>\n",
       "    </tr>\n",
       "    <tr>\n",
       "      <th>847</th>\n",
       "      <td>test</td>\n",
       "      <td>0.805519</td>\n",
       "    </tr>\n",
       "    <tr>\n",
       "      <th>4967</th>\n",
       "      <td>ใจดี</td>\n",
       "      <td>0.778228</td>\n",
       "    </tr>\n",
       "    <tr>\n",
       "      <th>2196</th>\n",
       "      <td>นครสวรรค์</td>\n",
       "      <td>0.767707</td>\n",
       "    </tr>\n",
       "    <tr>\n",
       "      <th>2113</th>\n",
       "      <td>ที่อยู่</td>\n",
       "      <td>0.751388</td>\n",
       "    </tr>\n",
       "    <tr>\n",
       "      <th>3854</th>\n",
       "      <td>สินเชื่อ รถ</td>\n",
       "      <td>0.691555</td>\n",
       "    </tr>\n",
       "  </tbody>\n",
       "</table>\n",
       "</div>"
      ],
      "text/plain": [
       "             word  avg_tfidf\n",
       "2385        บุคคล   1.000000\n",
       "217    0995022465   1.000000\n",
       "2729         พรบ.   0.909597\n",
       "864          true   0.853087\n",
       "1771        ตกงาน   0.837272\n",
       "847          test   0.805519\n",
       "4967         ใจดี   0.778228\n",
       "2196    นครสวรรค์   0.767707\n",
       "2113      ที่อยู่   0.751388\n",
       "3854  สินเชื่อ รถ   0.691555"
      ]
     },
     "execution_count": 62,
     "metadata": {},
     "output_type": "execute_result"
    }
   ],
   "source": [
    "result_filtered_emoji.sort_values('avg_tfidf', ascending=False).head(10) "
   ]
  },
  {
   "cell_type": "code",
   "execution_count": 82,
   "metadata": {
    "jupyter": {
     "source_hidden": true
    }
   },
   "outputs": [],
   "source": [
    "def remove_digits(text):\n",
    "    no_digits = []\n",
    "    # Iterate through the string, adding non-numbers to the no_digits list\n",
    "    for i in text:\n",
    "        if not i.isdigit():\n",
    "            no_digits.append(i)\n",
    "\n",
    "    # Now join all elements of the list with '', \n",
    "    # which puts all of the characters together.\n",
    "    result = ''.join(no_digits)\n",
    "    return result"
   ]
  },
  {
   "cell_type": "code",
   "execution_count": 63,
   "metadata": {},
   "outputs": [],
   "source": [
    "def no_digits(text):\n",
    "    output = re.sub(r'\\d+', '', text)\n",
    "    return output"
   ]
  },
  {
   "cell_type": "code",
   "execution_count": 67,
   "metadata": {},
   "outputs": [],
   "source": [
    "s2 = 'แพร 12384975021'"
   ]
  },
  {
   "cell_type": "code",
   "execution_count": 68,
   "metadata": {},
   "outputs": [
    {
     "data": {
      "text/plain": [
       "'แพร '"
      ]
     },
     "execution_count": 68,
     "metadata": {},
     "output_type": "execute_result"
    }
   ],
   "source": [
    "no_digits(s2)"
   ]
  },
  {
   "cell_type": "code",
   "execution_count": 69,
   "metadata": {},
   "outputs": [],
   "source": [
    "df_new['message_filtered_emo_and_digits'] = df_new['message_filtered_demoji'].apply(no_digits)"
   ]
  },
  {
   "cell_type": "code",
   "execution_count": 70,
   "metadata": {},
   "outputs": [
    {
     "data": {
      "text/html": [
       "<div>\n",
       "<style scoped>\n",
       "    .dataframe tbody tr th:only-of-type {\n",
       "        vertical-align: middle;\n",
       "    }\n",
       "\n",
       "    .dataframe tbody tr th {\n",
       "        vertical-align: top;\n",
       "    }\n",
       "\n",
       "    .dataframe thead th {\n",
       "        text-align: right;\n",
       "    }\n",
       "</style>\n",
       "<table border=\"1\" class=\"dataframe\">\n",
       "  <thead>\n",
       "    <tr style=\"text-align: right;\">\n",
       "      <th></th>\n",
       "      <th>userId</th>\n",
       "      <th>message</th>\n",
       "      <th>message_list</th>\n",
       "      <th>message_filtered</th>\n",
       "      <th>len_msg</th>\n",
       "      <th>message_filtered_demoji</th>\n",
       "      <th>message_filtered_emo_and_digits</th>\n",
       "    </tr>\n",
       "  </thead>\n",
       "  <tbody>\n",
       "    <tr>\n",
       "      <th>0</th>\n",
       "      <td>1343993022391031</td>\n",
       "      <td>สวัสดีค่ะ</td>\n",
       "      <td>[สวัสดีค่ะ]</td>\n",
       "      <td>สวัสดี</td>\n",
       "      <td>6</td>\n",
       "      <td>สวัสดี</td>\n",
       "      <td>สวัสดี</td>\n",
       "    </tr>\n",
       "    <tr>\n",
       "      <th>1</th>\n",
       "      <td>1345416482249396</td>\n",
       "      <td>ยังมีรถขับยุรึป่าวคับถ้าจะทำ</td>\n",
       "      <td>[ยังมีรถขับยุรึป่าวคับถ้าจะทำ]</td>\n",
       "      <td>ยังมี รถ ขับ ยุ ป่าว คับ ทำ</td>\n",
       "      <td>27</td>\n",
       "      <td>ยังมี รถ ขับ ยุ ป่าว คับ ทำ</td>\n",
       "      <td>ยังมี รถ ขับ ยุ ป่าว คับ ทำ</td>\n",
       "    </tr>\n",
       "    <tr>\n",
       "      <th>2</th>\n",
       "      <td>1362041543920076</td>\n",
       "      <td>ทำไมเค้าโทรแจ้งว่ายอดไม่เข้าค่ะ,โอนไปตั้งแต่เม...</td>\n",
       "      <td>[ทำไมเค้าโทรแจ้งว่ายอดไม่เข้าค่ะ,โอนไปตั้งแต่เ...</td>\n",
       "      <td>เค้า โทร แจ้ง ยอด โอน โอน เงิน ยอด</td>\n",
       "      <td>34</td>\n",
       "      <td>เค้า โทร แจ้ง ยอด โอน โอน เงิน ยอด</td>\n",
       "      <td>เค้า โทร แจ้ง ยอด โอน โอน เงิน ยอด</td>\n",
       "    </tr>\n",
       "    <tr>\n",
       "      <th>3</th>\n",
       "      <td>1445140482277052</td>\n",
       "      <td>สวัสดีครับ,สอบถามครับ,สอบถามค่างวดยังคงเหลือ ก...</td>\n",
       "      <td>[สวัสดีครับ,สอบถามครับ,สอบถามค่างวดยังคงเหลือ,...</td>\n",
       "      <td>สวัสดี สอบถาม สอบถาม ค่างวด คงเหลือ กี่ งวด 56...</td>\n",
       "      <td>121</td>\n",
       "      <td>สวัสดี สอบถาม สอบถาม ค่างวด คงเหลือ กี่ งวด 56...</td>\n",
       "      <td>สวัสดี สอบถาม สอบถาม ค่างวด คงเหลือ กี่ งวด  ค...</td>\n",
       "    </tr>\n",
       "    <tr>\n",
       "      <th>4</th>\n",
       "      <td>1448022578634827</td>\n",
       "      <td>สอบถามค่ะ,ถ้าเมื่อเดือนที่แล้วเราเอามอไซค์ไปเข...</td>\n",
       "      <td>[สอบถามค่ะ,ถ้าเมื่อเดือนที่แล้วเราเอามอไซค์ไปเ...</td>\n",
       "      <td>สอบถาม เมื่อเดือนที่แล้ว มอไซค์ เงิน เต็ม เต็ม...</td>\n",
       "      <td>150</td>\n",
       "      <td>สอบถาม เมื่อเดือนที่แล้ว มอไซค์ เงิน เต็ม เต็ม...</td>\n",
       "      <td>สอบถาม เมื่อเดือนที่แล้ว มอไซค์ เงิน เต็ม เต็ม...</td>\n",
       "    </tr>\n",
       "  </tbody>\n",
       "</table>\n",
       "</div>"
      ],
      "text/plain": [
       "             userId                                            message  \\\n",
       "0  1343993022391031                                          สวัสดีค่ะ   \n",
       "1  1345416482249396                       ยังมีรถขับยุรึป่าวคับถ้าจะทำ   \n",
       "2  1362041543920076  ทำไมเค้าโทรแจ้งว่ายอดไม่เข้าค่ะ,โอนไปตั้งแต่เม...   \n",
       "3  1445140482277052  สวัสดีครับ,สอบถามครับ,สอบถามค่างวดยังคงเหลือ ก...   \n",
       "4  1448022578634827  สอบถามค่ะ,ถ้าเมื่อเดือนที่แล้วเราเอามอไซค์ไปเข...   \n",
       "\n",
       "                                        message_list  \\\n",
       "0                                        [สวัสดีค่ะ]   \n",
       "1                     [ยังมีรถขับยุรึป่าวคับถ้าจะทำ]   \n",
       "2  [ทำไมเค้าโทรแจ้งว่ายอดไม่เข้าค่ะ,โอนไปตั้งแต่เ...   \n",
       "3  [สวัสดีครับ,สอบถามครับ,สอบถามค่างวดยังคงเหลือ,...   \n",
       "4  [สอบถามค่ะ,ถ้าเมื่อเดือนที่แล้วเราเอามอไซค์ไปเ...   \n",
       "\n",
       "                                    message_filtered  len_msg  \\\n",
       "0                                             สวัสดี        6   \n",
       "1                        ยังมี รถ ขับ ยุ ป่าว คับ ทำ       27   \n",
       "2                 เค้า โทร แจ้ง ยอด โอน โอน เงิน ยอด       34   \n",
       "3  สวัสดี สอบถาม สอบถาม ค่างวด คงเหลือ กี่ งวด 56...      121   \n",
       "4  สอบถาม เมื่อเดือนที่แล้ว มอไซค์ เงิน เต็ม เต็ม...      150   \n",
       "\n",
       "                             message_filtered_demoji  \\\n",
       "0                                             สวัสดี   \n",
       "1                        ยังมี รถ ขับ ยุ ป่าว คับ ทำ   \n",
       "2                 เค้า โทร แจ้ง ยอด โอน โอน เงิน ยอด   \n",
       "3  สวัสดี สอบถาม สอบถาม ค่างวด คงเหลือ กี่ งวด 56...   \n",
       "4  สอบถาม เมื่อเดือนที่แล้ว มอไซค์ เงิน เต็ม เต็ม...   \n",
       "\n",
       "                     message_filtered_emo_and_digits  \n",
       "0                                             สวัสดี  \n",
       "1                        ยังมี รถ ขับ ยุ ป่าว คับ ทำ  \n",
       "2                 เค้า โทร แจ้ง ยอด โอน โอน เงิน ยอด  \n",
       "3  สวัสดี สอบถาม สอบถาม ค่างวด คงเหลือ กี่ งวด  ค...  \n",
       "4  สอบถาม เมื่อเดือนที่แล้ว มอไซค์ เงิน เต็ม เต็ม...  "
      ]
     },
     "execution_count": 70,
     "metadata": {},
     "output_type": "execute_result"
    }
   ],
   "source": [
    "df_new.head()"
   ]
  },
  {
   "cell_type": "code",
   "execution_count": 71,
   "metadata": {},
   "outputs": [
    {
     "data": {
      "text/plain": [
       "TfidfVectorizer(ngram_range=(1, 2), token_pattern=None,\n",
       "                tokenizer=<function get_th_tokens at 0x1096bb5f0>)"
      ]
     },
     "execution_count": 71,
     "metadata": {},
     "output_type": "execute_result"
    }
   ],
   "source": [
    "vectorizer = TfidfVectorizer(tokenizer=get_th_tokens, token_pattern=None, ngram_range=(1,2)) \n",
    "vectorizer.fit(df_new['message_filtered_emo_and_digits']) "
   ]
  },
  {
   "cell_type": "code",
   "execution_count": 72,
   "metadata": {},
   "outputs": [],
   "source": [
    "feat_filtered_all = vectorizer.transform(df_new['message']) \n",
    "feat_filtered_all_arr = feat_filtered_all.toarray() "
   ]
  },
  {
   "cell_type": "code",
   "execution_count": 73,
   "metadata": {},
   "outputs": [
    {
     "name": "stderr",
     "output_type": "stream",
     "text": [
      "/Users/phrare/NTL_dashboard/NTL/lib/python3.7/site-packages/ipykernel_launcher.py:1: RuntimeWarning: invalid value encountered in true_divide\n",
      "  \"\"\"Entry point for launching an IPython kernel.\n"
     ]
    }
   ],
   "source": [
    "avg_tfidf = feat_filtered_all_arr.sum(axis=0) / np.count_nonzero(feat_filtered_all_arr,axis=0) \n",
    "result_filtered_all = pd.DataFrame() \n",
    "result_filtered_all['word'] = vectorizer.get_feature_names() \n",
    "result_filtered_all['avg_tfidf'] = avg_tfidf "
   ]
  },
  {
   "cell_type": "code",
   "execution_count": 74,
   "metadata": {},
   "outputs": [
    {
     "data": {
      "text/html": [
       "<div>\n",
       "<style scoped>\n",
       "    .dataframe tbody tr th:only-of-type {\n",
       "        vertical-align: middle;\n",
       "    }\n",
       "\n",
       "    .dataframe tbody tr th {\n",
       "        vertical-align: top;\n",
       "    }\n",
       "\n",
       "    .dataframe thead th {\n",
       "        text-align: right;\n",
       "    }\n",
       "</style>\n",
       "<table border=\"1\" class=\"dataframe\">\n",
       "  <thead>\n",
       "    <tr style=\"text-align: right;\">\n",
       "      <th></th>\n",
       "      <th>word</th>\n",
       "      <th>avg_tfidf</th>\n",
       "    </tr>\n",
       "  </thead>\n",
       "  <tbody>\n",
       "    <tr>\n",
       "      <th>1812</th>\n",
       "      <td>บุคคล</td>\n",
       "      <td>1.000000</td>\n",
       "    </tr>\n",
       "    <tr>\n",
       "      <th>2158</th>\n",
       "      <td>พรบ.</td>\n",
       "      <td>0.926082</td>\n",
       "    </tr>\n",
       "    <tr>\n",
       "      <th>286</th>\n",
       "      <td>true</td>\n",
       "      <td>0.853087</td>\n",
       "    </tr>\n",
       "    <tr>\n",
       "      <th>1206</th>\n",
       "      <td>ตกงาน</td>\n",
       "      <td>0.837272</td>\n",
       "    </tr>\n",
       "    <tr>\n",
       "      <th>269</th>\n",
       "      <td>test</td>\n",
       "      <td>0.805519</td>\n",
       "    </tr>\n",
       "    <tr>\n",
       "      <th>4365</th>\n",
       "      <td>ใจดี</td>\n",
       "      <td>0.778228</td>\n",
       "    </tr>\n",
       "    <tr>\n",
       "      <th>1625</th>\n",
       "      <td>นครสวรรค์</td>\n",
       "      <td>0.767707</td>\n",
       "    </tr>\n",
       "    <tr>\n",
       "      <th>23</th>\n",
       "      <td>+...ใหม</td>\n",
       "      <td>0.758638</td>\n",
       "    </tr>\n",
       "    <tr>\n",
       "      <th>1544</th>\n",
       "      <td>ที่อยู่</td>\n",
       "      <td>0.751388</td>\n",
       "    </tr>\n",
       "    <tr>\n",
       "      <th>3402</th>\n",
       "      <td>ห้</td>\n",
       "      <td>0.707107</td>\n",
       "    </tr>\n",
       "  </tbody>\n",
       "</table>\n",
       "</div>"
      ],
      "text/plain": [
       "           word  avg_tfidf\n",
       "1812      บุคคล   1.000000\n",
       "2158       พรบ.   0.926082\n",
       "286        true   0.853087\n",
       "1206      ตกงาน   0.837272\n",
       "269        test   0.805519\n",
       "4365       ใจดี   0.778228\n",
       "1625  นครสวรรค์   0.767707\n",
       "23      +...ใหม   0.758638\n",
       "1544    ที่อยู่   0.751388\n",
       "3402         ห้   0.707107"
      ]
     },
     "execution_count": 74,
     "metadata": {},
     "output_type": "execute_result"
    }
   ],
   "source": [
    "result_filtered_all.sort_values('avg_tfidf', ascending=False).head(10) "
   ]
  },
  {
   "cell_type": "code",
   "execution_count": null,
   "metadata": {},
   "outputs": [],
   "source": []
  }
 ],
 "metadata": {
  "kernelspec": {
   "display_name": "Python 3.7.4 64-bit ('NTL': venv)",
   "language": "python",
   "name": "python37464bitntlvenv5bb9f6107ccc44df9d8f2d89f2aa5ff4"
  },
  "language_info": {
   "codemirror_mode": {
    "name": "ipython",
    "version": 3
   },
   "file_extension": ".py",
   "mimetype": "text/x-python",
   "name": "python",
   "nbconvert_exporter": "python",
   "pygments_lexer": "ipython3",
   "version": "3.7.4"
  }
 },
 "nbformat": 4,
 "nbformat_minor": 4
}
