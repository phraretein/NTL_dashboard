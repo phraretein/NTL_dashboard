{
 "cells": [
  {
   "cell_type": "code",
   "execution_count": 1,
   "metadata": {},
   "outputs": [],
   "source": [
    "import pandas as pd\n",
    "from pythainlp.tokenize import word_tokenize\n",
    "from sklearn.feature_extraction.text import CountVectorizer\n",
    "from sklearn.feature_extraction.text import TfidfVectorizer\n",
    "from sklearn.svm import LinearSVC\n",
    "from sklearn.preprocessing import normalize\n",
    "from pythainlp.corpus import thai_stopwords\n",
    "import numpy as np\n",
    "import matplotlib.pyplot as plt\n",
    "import re\n",
    "import string"
   ]
  },
  {
   "cell_type": "code",
   "execution_count": 2,
   "metadata": {},
   "outputs": [],
   "source": [
    "chatlog = pd.read_pickle('./data/chatlog.p')"
   ]
  },
  {
   "cell_type": "code",
   "execution_count": 3,
   "metadata": {},
   "outputs": [],
   "source": [
    "df = chatlog[['userId', 'message', 'role', '_date']] "
   ]
  },
  {
   "cell_type": "code",
   "execution_count": 4,
   "metadata": {},
   "outputs": [],
   "source": [
    "# df.drop(df.loc[df.role == \"Admin\"].index, inplace=True)"
   ]
  },
  {
   "cell_type": "code",
   "execution_count": 5,
   "metadata": {},
   "outputs": [],
   "source": [
    "df = df.loc[df.role=='User']"
   ]
  },
  {
   "cell_type": "code",
   "execution_count": 6,
   "metadata": {},
   "outputs": [],
   "source": [
    "df_11_01 = df[df._date == \"2019-11-01\"]"
   ]
  },
  {
   "cell_type": "code",
   "execution_count": 7,
   "metadata": {},
   "outputs": [],
   "source": [
    "def get_th_tokens(text):\n",
    "#     text = text.lower()\n",
    "    text = text.replace('\\n', ' ')\n",
    "    tokens = word_tokenize(text, engine=\"newmm\", keep_whitespace=False)\n",
    "    return tokens"
   ]
  },
  {
   "cell_type": "code",
   "execution_count": 12,
   "metadata": {},
   "outputs": [],
   "source": [
    "def clean_text_round1(text):\n",
    "    '''Make text lowercase, remove text in square brackets, remove punctuation and remove words containing numbers.'''\n",
    "    text = text.lower()\n",
    "    text = re.sub('[.?]', '', text)\n",
    "    text = re.sub('[%s]' % re.escape(string.punctuation), '', text)\n",
    "    text = re.sub('[‘’“”…]', '', text)\n",
    "    text = re.sub('\\n', '', text)\n",
    "    text = re.sub('[0-9]{1,10}', '', text)\n",
    "    text = re.sub('นะ|น่ะ|น่า|น้า','',text)\n",
    "    text = re.sub('คะ|ค่ะ|ค่า|คระ|คร่ะ|คร๊|ค๊','',text)\n",
    "    text = re.sub('ครับ|คับ|คั้บ|ค้าบ|คร้าบ|คาฟ|ค้าฟ|ฮะ|ฮับ|ฮ้าฟ','',text)\n",
    "    text = re.sub('จ้า|จ้ะ|จ๊ะ','',text)\n",
    "    text = re.sub('หน่อย|น่อย','',text)\n",
    "    text = re.sub('สวัสดี|หวัดดี','',text)\n",
    "    text = re.sub('ของ','',text)\n",
    "    # ลบ text ที่อยู่ในวงเล็บ <> ทั้งหมด\n",
    "    text = re.sub(r'<.?>','', text)\n",
    "    # ลบ hashtag\n",
    "    text = re.sub(r'#','',text)\n",
    "    # ลบ separator เช่น \\n \\t\n",
    "    text = ' '.join(text.split())\n",
    "    text = re.sub('สนใจ','',text)\n",
    "    text = re.sub('อยากทราบว่า|อยากทราบ','',text)\n",
    "    text = re.sub('รบกวนสอบถาม|ขอสอบถาม|สอบถาม','',text)\n",
    "    text = re.sub('ปี','',text)\n",
    "    text = re.sub('ขอบคุณ','',text)\n",
    "    text = re.sub('ขอโทษ|ขอโทด','',text)\n",
    "    text = re.sub('ขอ','',text)\n",
    "    text = re.sub('ชั้น','',text)\n",
    "    text = re.sub('เท่าไร|เท่าไหร่|เท่าหรั่ย|เท่าใด|เท่ารัย','',text)\n",
    "    return text"
   ]
  },
  {
   "cell_type": "code",
   "execution_count": 13,
   "metadata": {},
   "outputs": [
    {
     "name": "stderr",
     "output_type": "stream",
     "text": [
      "/Users/phrare/NTL_dashboard/NTL/lib/python3.7/site-packages/ipykernel_launcher.py:1: SettingWithCopyWarning: \n",
      "A value is trying to be set on a copy of a slice from a DataFrame.\n",
      "Try using .loc[row_indexer,col_indexer] = value instead\n",
      "\n",
      "See the caveats in the documentation: https://pandas.pydata.org/pandas-docs/stable/user_guide/indexing.html#returning-a-view-versus-a-copy\n",
      "  \"\"\"Entry point for launching an IPython kernel.\n"
     ]
    }
   ],
   "source": [
    "df_11_01['message'] = df_11_01['message'].apply(lambda x: clean_text_round1(x))"
   ]
  },
  {
   "cell_type": "code",
   "execution_count": 14,
   "metadata": {},
   "outputs": [],
   "source": [
    "df_new = df_11_01.groupby(['userId'])['message'].apply(','.join).reset_index()"
   ]
  },
  {
   "cell_type": "code",
   "execution_count": 15,
   "metadata": {},
   "outputs": [],
   "source": [
    "df_new[\"message_list\"] = df_new[\"message\"].apply(lambda x: x.split())"
   ]
  },
  {
   "cell_type": "code",
   "execution_count": 16,
   "metadata": {},
   "outputs": [
    {
     "data": {
      "text/html": [
       "<div>\n",
       "<style scoped>\n",
       "    .dataframe tbody tr th:only-of-type {\n",
       "        vertical-align: middle;\n",
       "    }\n",
       "\n",
       "    .dataframe tbody tr th {\n",
       "        vertical-align: top;\n",
       "    }\n",
       "\n",
       "    .dataframe thead th {\n",
       "        text-align: right;\n",
       "    }\n",
       "</style>\n",
       "<table border=\"1\" class=\"dataframe\">\n",
       "  <thead>\n",
       "    <tr style=\"text-align: right;\">\n",
       "      <th></th>\n",
       "      <th>userId</th>\n",
       "      <th>message</th>\n",
       "      <th>message_list</th>\n",
       "    </tr>\n",
       "  </thead>\n",
       "  <tbody>\n",
       "    <tr>\n",
       "      <th>0</th>\n",
       "      <td>1343993022391031</td>\n",
       "      <td></td>\n",
       "      <td>[]</td>\n",
       "    </tr>\n",
       "    <tr>\n",
       "      <th>1</th>\n",
       "      <td>1345416482249396</td>\n",
       "      <td>ยังมีรถขับยุรึป่าวถ้าจะทำ</td>\n",
       "      <td>[ยังมีรถขับยุรึป่าวถ้าจะทำ]</td>\n",
       "    </tr>\n",
       "    <tr>\n",
       "      <th>2</th>\n",
       "      <td>1362041543920076</td>\n",
       "      <td>ทำไมเค้าโทรแจ้งว่ายอดไม่เข้า,โอนไปตั้งแต่เมื่อ...</td>\n",
       "      <td>[ทำไมเค้าโทรแจ้งว่ายอดไม่เข้า,โอนไปตั้งแต่เมื่...</td>\n",
       "    </tr>\n",
       "    <tr>\n",
       "      <th>3</th>\n",
       "      <td>1445140482277052</td>\n",
       "      <td>,,งวดยังคงเหลือ กี่งวด,งวดสัญญาเลขที่นี้,งวดยั...</td>\n",
       "      <td>[,,งวดยังคงเหลือ, กี่งวด,งวดสัญญาเลขที่นี้,งวด...</td>\n",
       "    </tr>\n",
       "    <tr>\n",
       "      <th>4</th>\n",
       "      <td>1448022578634827</td>\n",
       "      <td>,ถ้าเมื่อเดือนที่แล้วเราเอามอไซค์ไปเข้า แต่ไม่...</td>\n",
       "      <td>[,ถ้าเมื่อเดือนที่แล้วเราเอามอไซค์ไปเข้า, แต่ไ...</td>\n",
       "    </tr>\n",
       "  </tbody>\n",
       "</table>\n",
       "</div>"
      ],
      "text/plain": [
       "             userId                                            message  \\\n",
       "0  1343993022391031                                                      \n",
       "1  1345416482249396                          ยังมีรถขับยุรึป่าวถ้าจะทำ   \n",
       "2  1362041543920076  ทำไมเค้าโทรแจ้งว่ายอดไม่เข้า,โอนไปตั้งแต่เมื่อ...   \n",
       "3  1445140482277052  ,,งวดยังคงเหลือ กี่งวด,งวดสัญญาเลขที่นี้,งวดยั...   \n",
       "4  1448022578634827  ,ถ้าเมื่อเดือนที่แล้วเราเอามอไซค์ไปเข้า แต่ไม่...   \n",
       "\n",
       "                                        message_list  \n",
       "0                                                 []  \n",
       "1                        [ยังมีรถขับยุรึป่าวถ้าจะทำ]  \n",
       "2  [ทำไมเค้าโทรแจ้งว่ายอดไม่เข้า,โอนไปตั้งแต่เมื่...  \n",
       "3  [,,งวดยังคงเหลือ, กี่งวด,งวดสัญญาเลขที่นี้,งวด...  \n",
       "4  [,ถ้าเมื่อเดือนที่แล้วเราเอามอไซค์ไปเข้า, แต่ไ...  "
      ]
     },
     "execution_count": 16,
     "metadata": {},
     "output_type": "execute_result"
    }
   ],
   "source": [
    "df_new.head()"
   ]
  },
  {
   "cell_type": "code",
   "execution_count": 17,
   "metadata": {},
   "outputs": [],
   "source": [
    "vectorizer = TfidfVectorizer(tokenizer=get_th_tokens, token_pattern=None, ngram_range=(1,2)) "
   ]
  },
  {
   "cell_type": "code",
   "execution_count": 18,
   "metadata": {},
   "outputs": [
    {
     "data": {
      "text/plain": [
       "TfidfVectorizer(ngram_range=(1, 2), token_pattern=None,\n",
       "                tokenizer=<function get_th_tokens at 0x174bde7a0>)"
      ]
     },
     "execution_count": 18,
     "metadata": {},
     "output_type": "execute_result"
    }
   ],
   "source": [
    "vectorizer.fit(df_new['message']) "
   ]
  },
  {
   "cell_type": "code",
   "execution_count": 19,
   "metadata": {},
   "outputs": [],
   "source": [
    "feat = vectorizer.transform(df_new['message']) \n",
    "feat_arr = feat.toarray() "
   ]
  },
  {
   "cell_type": "code",
   "execution_count": 20,
   "metadata": {},
   "outputs": [
    {
     "data": {
      "text/plain": [
       "(483, 6091)"
      ]
     },
     "execution_count": 20,
     "metadata": {},
     "output_type": "execute_result"
    }
   ],
   "source": [
    "feat_arr.shape"
   ]
  },
  {
   "cell_type": "code",
   "execution_count": 21,
   "metadata": {},
   "outputs": [],
   "source": [
    "avg_tfidf = feat_arr.sum(axis=0) / np.count_nonzero(feat_arr,axis=0) "
   ]
  },
  {
   "cell_type": "code",
   "execution_count": 22,
   "metadata": {},
   "outputs": [],
   "source": [
    "result = pd.DataFrame() \n",
    "result['word'] = vectorizer.get_feature_names() \n",
    "result['avg_tfidf'] = avg_tfidf "
   ]
  },
  {
   "cell_type": "code",
   "execution_count": 23,
   "metadata": {},
   "outputs": [
    {
     "data": {
      "text/html": [
       "<div>\n",
       "<style scoped>\n",
       "    .dataframe tbody tr th:only-of-type {\n",
       "        vertical-align: middle;\n",
       "    }\n",
       "\n",
       "    .dataframe tbody tr th {\n",
       "        vertical-align: top;\n",
       "    }\n",
       "\n",
       "    .dataframe thead th {\n",
       "        text-align: right;\n",
       "    }\n",
       "</style>\n",
       "<table border=\"1\" class=\"dataframe\">\n",
       "  <thead>\n",
       "    <tr style=\"text-align: right;\">\n",
       "      <th></th>\n",
       "      <th>word</th>\n",
       "      <th>avg_tfidf</th>\n",
       "    </tr>\n",
       "  </thead>\n",
       "  <tbody>\n",
       "    <tr>\n",
       "      <th>2433</th>\n",
       "      <td>บุคคล</td>\n",
       "      <td>1.000000</td>\n",
       "    </tr>\n",
       "    <tr>\n",
       "      <th>395</th>\n",
       "      <td>,,,ฟหกหฟก</td>\n",
       "      <td>1.000000</td>\n",
       "    </tr>\n",
       "    <tr>\n",
       "      <th>6087</th>\n",
       "      <td>👎🏼😎</td>\n",
       "      <td>1.000000</td>\n",
       "    </tr>\n",
       "    <tr>\n",
       "      <th>3059</th>\n",
       "      <td>มี แล้ว</td>\n",
       "      <td>0.836321</td>\n",
       "    </tr>\n",
       "    <tr>\n",
       "      <th>3436</th>\n",
       "      <td>ราคาประเมิน ,</td>\n",
       "      <td>0.736958</td>\n",
       "    </tr>\n",
       "    <tr>\n",
       "      <th>3639</th>\n",
       "      <td>วงเงิน คงเหลือ</td>\n",
       "      <td>0.683210</td>\n",
       "    </tr>\n",
       "    <tr>\n",
       "      <th>2952</th>\n",
       "      <td>มา กา</td>\n",
       "      <td>0.678719</td>\n",
       "    </tr>\n",
       "    <tr>\n",
       "      <th>3064</th>\n",
       "      <td>มี ใหม,รถยน,</td>\n",
       "      <td>0.672267</td>\n",
       "    </tr>\n",
       "    <tr>\n",
       "      <th>5645</th>\n",
       "      <td>ใหม,รถยน,</td>\n",
       "      <td>0.672267</td>\n",
       "    </tr>\n",
       "    <tr>\n",
       "      <th>663</th>\n",
       "      <td>test</td>\n",
       "      <td>0.669207</td>\n",
       "    </tr>\n",
       "  </tbody>\n",
       "</table>\n",
       "</div>"
      ],
      "text/plain": [
       "                word  avg_tfidf\n",
       "2433           บุคคล   1.000000\n",
       "395        ,,,ฟหกหฟก   1.000000\n",
       "6087             👎🏼😎   1.000000\n",
       "3059         มี แล้ว   0.836321\n",
       "3436   ราคาประเมิน ,   0.736958\n",
       "3639  วงเงิน คงเหลือ   0.683210\n",
       "2952           มา กา   0.678719\n",
       "3064    มี ใหม,รถยน,   0.672267\n",
       "5645       ใหม,รถยน,   0.672267\n",
       "663             test   0.669207"
      ]
     },
     "execution_count": 23,
     "metadata": {},
     "output_type": "execute_result"
    }
   ],
   "source": [
    "result.sort_values('avg_tfidf', ascending=False).head(10) "
   ]
  },
  {
   "cell_type": "code",
   "execution_count": 24,
   "metadata": {},
   "outputs": [],
   "source": [
    "def filter_words(text):\n",
    "    text = text.replace('\\n', ' ') \n",
    "    text = text.replace(',', ' ')\n",
    "    stop_words = set(thai_stopwords()) \n",
    "    tokens = word_tokenize(text, engine=\"newmm\", keep_whitespace=False) \n",
    "    filtered_text = [] \n",
    "    for w in tokens: \n",
    "        if w not in stop_words: \n",
    "            filtered_text.append(w) \n",
    "    return filtered_text"
   ]
  },
  {
   "cell_type": "code",
   "execution_count": 25,
   "metadata": {},
   "outputs": [
    {
     "data": {
      "text/plain": [
       "['เรียน']"
      ]
     },
     "execution_count": 25,
     "metadata": {},
     "output_type": "execute_result"
    }
   ],
   "source": [
    "filter_words(\"ฉันไปเรียนค่ะ\")"
   ]
  },
  {
   "cell_type": "code",
   "execution_count": 26,
   "metadata": {},
   "outputs": [],
   "source": [
    "df_new[\"message_filtered\"] = df_new[\"message\"].apply(lambda x : filter_words(x)) "
   ]
  },
  {
   "cell_type": "code",
   "execution_count": 27,
   "metadata": {},
   "outputs": [
    {
     "data": {
      "text/html": [
       "<div>\n",
       "<style scoped>\n",
       "    .dataframe tbody tr th:only-of-type {\n",
       "        vertical-align: middle;\n",
       "    }\n",
       "\n",
       "    .dataframe tbody tr th {\n",
       "        vertical-align: top;\n",
       "    }\n",
       "\n",
       "    .dataframe thead th {\n",
       "        text-align: right;\n",
       "    }\n",
       "</style>\n",
       "<table border=\"1\" class=\"dataframe\">\n",
       "  <thead>\n",
       "    <tr style=\"text-align: right;\">\n",
       "      <th></th>\n",
       "      <th>userId</th>\n",
       "      <th>message</th>\n",
       "      <th>message_list</th>\n",
       "      <th>message_filtered</th>\n",
       "    </tr>\n",
       "  </thead>\n",
       "  <tbody>\n",
       "    <tr>\n",
       "      <th>0</th>\n",
       "      <td>1343993022391031</td>\n",
       "      <td></td>\n",
       "      <td>[]</td>\n",
       "      <td>[]</td>\n",
       "    </tr>\n",
       "    <tr>\n",
       "      <th>1</th>\n",
       "      <td>1345416482249396</td>\n",
       "      <td>ยังมีรถขับยุรึป่าวถ้าจะทำ</td>\n",
       "      <td>[ยังมีรถขับยุรึป่าวถ้าจะทำ]</td>\n",
       "      <td>[ยังมี, รถ, ขับ, ยุ, ป่าว, ทำ]</td>\n",
       "    </tr>\n",
       "    <tr>\n",
       "      <th>2</th>\n",
       "      <td>1362041543920076</td>\n",
       "      <td>ทำไมเค้าโทรแจ้งว่ายอดไม่เข้า,โอนไปตั้งแต่เมื่อ...</td>\n",
       "      <td>[ทำไมเค้าโทรแจ้งว่ายอดไม่เข้า,โอนไปตั้งแต่เมื่...</td>\n",
       "      <td>[เค้า, โทร, แจ้ง, ยอด, โอน, โอน, เงิน, ยอด]</td>\n",
       "    </tr>\n",
       "    <tr>\n",
       "      <th>3</th>\n",
       "      <td>1445140482277052</td>\n",
       "      <td>,,งวดยังคงเหลือ กี่งวด,งวดสัญญาเลขที่นี้,งวดยั...</td>\n",
       "      <td>[,,งวดยังคงเหลือ, กี่งวด,งวดสัญญาเลขที่นี้,งวด...</td>\n",
       "      <td>[งวด, คงเหลือ, กี่, งวด, งวด, สัญญา, เลขที่, ง...</td>\n",
       "    </tr>\n",
       "    <tr>\n",
       "      <th>4</th>\n",
       "      <td>1448022578634827</td>\n",
       "      <td>,ถ้าเมื่อเดือนที่แล้วเราเอามอไซค์ไปเข้า แต่ไม่...</td>\n",
       "      <td>[,ถ้าเมื่อเดือนที่แล้วเราเอามอไซค์ไปเข้า, แต่ไ...</td>\n",
       "      <td>[เมื่อเดือนที่แล้ว, มอไซค์, เงิน, เต็ม, เต็ม, ...</td>\n",
       "    </tr>\n",
       "  </tbody>\n",
       "</table>\n",
       "</div>"
      ],
      "text/plain": [
       "             userId                                            message  \\\n",
       "0  1343993022391031                                                      \n",
       "1  1345416482249396                          ยังมีรถขับยุรึป่าวถ้าจะทำ   \n",
       "2  1362041543920076  ทำไมเค้าโทรแจ้งว่ายอดไม่เข้า,โอนไปตั้งแต่เมื่อ...   \n",
       "3  1445140482277052  ,,งวดยังคงเหลือ กี่งวด,งวดสัญญาเลขที่นี้,งวดยั...   \n",
       "4  1448022578634827  ,ถ้าเมื่อเดือนที่แล้วเราเอามอไซค์ไปเข้า แต่ไม่...   \n",
       "\n",
       "                                        message_list  \\\n",
       "0                                                 []   \n",
       "1                        [ยังมีรถขับยุรึป่าวถ้าจะทำ]   \n",
       "2  [ทำไมเค้าโทรแจ้งว่ายอดไม่เข้า,โอนไปตั้งแต่เมื่...   \n",
       "3  [,,งวดยังคงเหลือ, กี่งวด,งวดสัญญาเลขที่นี้,งวด...   \n",
       "4  [,ถ้าเมื่อเดือนที่แล้วเราเอามอไซค์ไปเข้า, แต่ไ...   \n",
       "\n",
       "                                    message_filtered  \n",
       "0                                                 []  \n",
       "1                     [ยังมี, รถ, ขับ, ยุ, ป่าว, ทำ]  \n",
       "2        [เค้า, โทร, แจ้ง, ยอด, โอน, โอน, เงิน, ยอด]  \n",
       "3  [งวด, คงเหลือ, กี่, งวด, งวด, สัญญา, เลขที่, ง...  \n",
       "4  [เมื่อเดือนที่แล้ว, มอไซค์, เงิน, เต็ม, เต็ม, ...  "
      ]
     },
     "execution_count": 27,
     "metadata": {},
     "output_type": "execute_result"
    }
   ],
   "source": [
    "df_new.head()"
   ]
  },
  {
   "cell_type": "code",
   "execution_count": 28,
   "metadata": {},
   "outputs": [],
   "source": [
    "def listToString(s):  \n",
    "    \n",
    "    # initialize an empty string \n",
    "    str1 = \" \" \n",
    "    \n",
    "    # return string   \n",
    "    return (str1.join(s)) "
   ]
  },
  {
   "cell_type": "code",
   "execution_count": 29,
   "metadata": {},
   "outputs": [],
   "source": [
    "df_new['message_filtered'] = df_new['message_filtered'].apply(listToString)"
   ]
  },
  {
   "cell_type": "code",
   "execution_count": 30,
   "metadata": {},
   "outputs": [],
   "source": [
    "df_new['len_msg'] = df_new['message_filtered'].apply(len)"
   ]
  },
  {
   "cell_type": "code",
   "execution_count": 31,
   "metadata": {},
   "outputs": [
    {
     "data": {
      "text/html": [
       "<div>\n",
       "<style scoped>\n",
       "    .dataframe tbody tr th:only-of-type {\n",
       "        vertical-align: middle;\n",
       "    }\n",
       "\n",
       "    .dataframe tbody tr th {\n",
       "        vertical-align: top;\n",
       "    }\n",
       "\n",
       "    .dataframe thead th {\n",
       "        text-align: right;\n",
       "    }\n",
       "</style>\n",
       "<table border=\"1\" class=\"dataframe\">\n",
       "  <thead>\n",
       "    <tr style=\"text-align: right;\">\n",
       "      <th></th>\n",
       "      <th>userId</th>\n",
       "      <th>message</th>\n",
       "      <th>message_list</th>\n",
       "      <th>message_filtered</th>\n",
       "      <th>len_msg</th>\n",
       "    </tr>\n",
       "  </thead>\n",
       "  <tbody>\n",
       "    <tr>\n",
       "      <th>0</th>\n",
       "      <td>1343993022391031</td>\n",
       "      <td></td>\n",
       "      <td>[]</td>\n",
       "      <td></td>\n",
       "      <td>0</td>\n",
       "    </tr>\n",
       "    <tr>\n",
       "      <th>1</th>\n",
       "      <td>1345416482249396</td>\n",
       "      <td>ยังมีรถขับยุรึป่าวถ้าจะทำ</td>\n",
       "      <td>[ยังมีรถขับยุรึป่าวถ้าจะทำ]</td>\n",
       "      <td>ยังมี รถ ขับ ยุ ป่าว ทำ</td>\n",
       "      <td>23</td>\n",
       "    </tr>\n",
       "    <tr>\n",
       "      <th>2</th>\n",
       "      <td>1362041543920076</td>\n",
       "      <td>ทำไมเค้าโทรแจ้งว่ายอดไม่เข้า,โอนไปตั้งแต่เมื่อ...</td>\n",
       "      <td>[ทำไมเค้าโทรแจ้งว่ายอดไม่เข้า,โอนไปตั้งแต่เมื่...</td>\n",
       "      <td>เค้า โทร แจ้ง ยอด โอน โอน เงิน ยอด</td>\n",
       "      <td>34</td>\n",
       "    </tr>\n",
       "    <tr>\n",
       "      <th>3</th>\n",
       "      <td>1445140482277052</td>\n",
       "      <td>,,งวดยังคงเหลือ กี่งวด,งวดสัญญาเลขที่นี้,งวดยั...</td>\n",
       "      <td>[,,งวดยังคงเหลือ, กี่งวด,งวดสัญญาเลขที่นี้,งวด...</td>\n",
       "      <td>งวด คงเหลือ กี่ งวด งวด สัญญา เลขที่ งวด คงเหล...</td>\n",
       "      <td>56</td>\n",
       "    </tr>\n",
       "    <tr>\n",
       "      <th>4</th>\n",
       "      <td>1448022578634827</td>\n",
       "      <td>,ถ้าเมื่อเดือนที่แล้วเราเอามอไซค์ไปเข้า แต่ไม่...</td>\n",
       "      <td>[,ถ้าเมื่อเดือนที่แล้วเราเอามอไซค์ไปเข้า, แต่ไ...</td>\n",
       "      <td>เมื่อเดือนที่แล้ว มอไซค์ เงิน เต็ม เต็ม ยอด ไห...</td>\n",
       "      <td>143</td>\n",
       "    </tr>\n",
       "  </tbody>\n",
       "</table>\n",
       "</div>"
      ],
      "text/plain": [
       "             userId                                            message  \\\n",
       "0  1343993022391031                                                      \n",
       "1  1345416482249396                          ยังมีรถขับยุรึป่าวถ้าจะทำ   \n",
       "2  1362041543920076  ทำไมเค้าโทรแจ้งว่ายอดไม่เข้า,โอนไปตั้งแต่เมื่อ...   \n",
       "3  1445140482277052  ,,งวดยังคงเหลือ กี่งวด,งวดสัญญาเลขที่นี้,งวดยั...   \n",
       "4  1448022578634827  ,ถ้าเมื่อเดือนที่แล้วเราเอามอไซค์ไปเข้า แต่ไม่...   \n",
       "\n",
       "                                        message_list  \\\n",
       "0                                                 []   \n",
       "1                        [ยังมีรถขับยุรึป่าวถ้าจะทำ]   \n",
       "2  [ทำไมเค้าโทรแจ้งว่ายอดไม่เข้า,โอนไปตั้งแต่เมื่...   \n",
       "3  [,,งวดยังคงเหลือ, กี่งวด,งวดสัญญาเลขที่นี้,งวด...   \n",
       "4  [,ถ้าเมื่อเดือนที่แล้วเราเอามอไซค์ไปเข้า, แต่ไ...   \n",
       "\n",
       "                                    message_filtered  len_msg  \n",
       "0                                                           0  \n",
       "1                            ยังมี รถ ขับ ยุ ป่าว ทำ       23  \n",
       "2                 เค้า โทร แจ้ง ยอด โอน โอน เงิน ยอด       34  \n",
       "3  งวด คงเหลือ กี่ งวด งวด สัญญา เลขที่ งวด คงเหล...       56  \n",
       "4  เมื่อเดือนที่แล้ว มอไซค์ เงิน เต็ม เต็ม ยอด ไห...      143  "
      ]
     },
     "execution_count": 31,
     "metadata": {},
     "output_type": "execute_result"
    }
   ],
   "source": [
    "df_new.head()"
   ]
  },
  {
   "cell_type": "code",
   "execution_count": 32,
   "metadata": {},
   "outputs": [
    {
     "data": {
      "text/plain": [
       "<matplotlib.axes._subplots.AxesSubplot at 0x115dc6f10>"
      ]
     },
     "execution_count": 32,
     "metadata": {},
     "output_type": "execute_result"
    },
    {
     "data": {
      "image/png": "[encoded data removed]",
      "text/plain": [
       "<Figure size 432x288 with 1 Axes>"
      ]
     },
     "metadata": {
      "needs_background": "light"
     },
     "output_type": "display_data"
    }
   ],
   "source": [
    "# df_new['len_msg'].hist(bins=100)"
   ]
  },
  {
   "cell_type": "code",
   "execution_count": 33,
   "metadata": {},
   "outputs": [],
   "source": [
    "vectorizer = TfidfVectorizer(tokenizer=get_th_tokens, token_pattern=None, ngram_range=(1,2)) "
   ]
  },
  {
   "cell_type": "code",
   "execution_count": 34,
   "metadata": {},
   "outputs": [
    {
     "data": {
      "text/plain": [
       "TfidfVectorizer(ngram_range=(1, 2), token_pattern=None,\n",
       "                tokenizer=<function get_th_tokens at 0x174bde7a0>)"
      ]
     },
     "execution_count": 34,
     "metadata": {},
     "output_type": "execute_result"
    }
   ],
   "source": [
    "vectorizer.fit(df_new['message_filtered']) "
   ]
  },
  {
   "cell_type": "code",
   "execution_count": 35,
   "metadata": {},
   "outputs": [],
   "source": [
    "feat_filtered = vectorizer.transform(df_new['message']) \n",
    "feat_filtered_arr = feat_filtered.toarray() "
   ]
  },
  {
   "cell_type": "code",
   "execution_count": 36,
   "metadata": {},
   "outputs": [
    {
     "data": {
      "text/plain": [
       "(483, 4218)"
      ]
     },
     "execution_count": 36,
     "metadata": {},
     "output_type": "execute_result"
    }
   ],
   "source": [
    "feat_filtered_arr.shape"
   ]
  },
  {
   "cell_type": "code",
   "execution_count": 37,
   "metadata": {},
   "outputs": [
    {
     "name": "stderr",
     "output_type": "stream",
     "text": [
      "/Users/phrare/NTL_dashboard/NTL/lib/python3.7/site-packages/ipykernel_launcher.py:1: RuntimeWarning: invalid value encountered in true_divide\n",
      "  \"\"\"Entry point for launching an IPython kernel.\n"
     ]
    }
   ],
   "source": [
    "avg_tfidf = feat_filtered_arr.sum(axis=0) / np.count_nonzero(feat_filtered_arr,axis=0) "
   ]
  },
  {
   "cell_type": "code",
   "execution_count": 38,
   "metadata": {},
   "outputs": [],
   "source": [
    "result_filtered = pd.DataFrame() \n",
    "result_filtered['word'] = vectorizer.get_feature_names() \n",
    "result_filtered['avg_tfidf'] = avg_tfidf "
   ]
  },
  {
   "cell_type": "code",
   "execution_count": 39,
   "metadata": {},
   "outputs": [
    {
     "data": {
      "text/html": [
       "<div>\n",
       "<style scoped>\n",
       "    .dataframe tbody tr th:only-of-type {\n",
       "        vertical-align: middle;\n",
       "    }\n",
       "\n",
       "    .dataframe tbody tr th {\n",
       "        vertical-align: top;\n",
       "    }\n",
       "\n",
       "    .dataframe thead th {\n",
       "        text-align: right;\n",
       "    }\n",
       "</style>\n",
       "<table border=\"1\" class=\"dataframe\">\n",
       "  <thead>\n",
       "    <tr style=\"text-align: right;\">\n",
       "      <th></th>\n",
       "      <th>word</th>\n",
       "      <th>avg_tfidf</th>\n",
       "    </tr>\n",
       "  </thead>\n",
       "  <tbody>\n",
       "    <tr>\n",
       "      <th>943</th>\n",
       "      <td>ตกงาน</td>\n",
       "      <td>1.000000</td>\n",
       "    </tr>\n",
       "    <tr>\n",
       "      <th>2969</th>\n",
       "      <td>ห้</td>\n",
       "      <td>1.000000</td>\n",
       "    </tr>\n",
       "    <tr>\n",
       "      <th>1519</th>\n",
       "      <td>บุคคล</td>\n",
       "      <td>1.000000</td>\n",
       "    </tr>\n",
       "    <tr>\n",
       "      <th>4208</th>\n",
       "      <td>👎🏼😎</td>\n",
       "      <td>1.000000</td>\n",
       "    </tr>\n",
       "    <tr>\n",
       "      <th>175</th>\n",
       "      <td>true</td>\n",
       "      <td>0.916190</td>\n",
       "    </tr>\n",
       "    <tr>\n",
       "      <th>2588</th>\n",
       "      <td>วาสนา</td>\n",
       "      <td>0.906449</td>\n",
       "    </tr>\n",
       "    <tr>\n",
       "      <th>159</th>\n",
       "      <td>test</td>\n",
       "      <td>0.824861</td>\n",
       "    </tr>\n",
       "    <tr>\n",
       "      <th>181</th>\n",
       "      <td>vogo</td>\n",
       "      <td>0.780753</td>\n",
       "    </tr>\n",
       "    <tr>\n",
       "      <th>3930</th>\n",
       "      <td>ใจดี</td>\n",
       "      <td>0.778228</td>\n",
       "    </tr>\n",
       "    <tr>\n",
       "      <th>1344</th>\n",
       "      <td>นครสวรรค์</td>\n",
       "      <td>0.767285</td>\n",
       "    </tr>\n",
       "  </tbody>\n",
       "</table>\n",
       "</div>"
      ],
      "text/plain": [
       "           word  avg_tfidf\n",
       "943       ตกงาน   1.000000\n",
       "2969         ห้   1.000000\n",
       "1519      บุคคล   1.000000\n",
       "4208        👎🏼😎   1.000000\n",
       "175        true   0.916190\n",
       "2588      วาสนา   0.906449\n",
       "159        test   0.824861\n",
       "181        vogo   0.780753\n",
       "3930       ใจดี   0.778228\n",
       "1344  นครสวรรค์   0.767285"
      ]
     },
     "execution_count": 39,
     "metadata": {},
     "output_type": "execute_result"
    }
   ],
   "source": [
    "result_filtered.sort_values('avg_tfidf', ascending=False).head(10) "
   ]
  },
  {
   "cell_type": "code",
   "execution_count": 43,
   "metadata": {},
   "outputs": [],
   "source": [
    "def remove_emoji(string):\n",
    "    emoji_pattern = re.compile(\"[\"\n",
    "                               u\"\\U0001F600-\\U0001F64F\"  # emoticons\n",
    "                               u\"\\U0001F300-\\U0001F5FF\"  # symbols & pictographs\n",
    "                               u\"\\U0001F680-\\U0001F6FF\"  # transport & map symbols\n",
    "                               u\"\\U0001F1E0-\\U0001F1FF\"  # flags (iOS)\n",
    "                               u\"\\U00002500-\\U00002BEF\"  # chinese char\n",
    "                               u\"\\U00002702-\\U000027B0\"\n",
    "                               u\"\\U00002702-\\U000027B0\"\n",
    "                               u\"\\U000024C2-\\U0001F251\"\n",
    "                               u\"\\U0001f926-\\U0001f937\"\n",
    "                               u\"\\U00010000-\\U0010ffff\"\n",
    "                               u\"\\u2640-\\u2642\"\n",
    "                               u\"\\u2600-\\u2B55\"\n",
    "                               u\"\\u200d\"\n",
    "                               u\"\\u23cf\"\n",
    "                               u\"\\u23e9\"\n",
    "                               u\"\\u231a\"\n",
    "                               u\"\\ufe0f\"  # dingbats\n",
    "                               u\"\\u3030\"\n",
    "                               \"]+\", flags=re.UNICODE)\n",
    "    return emoji_pattern.sub(r'', string)"
   ]
  },
  {
   "cell_type": "code",
   "execution_count": 44,
   "metadata": {},
   "outputs": [],
   "source": [
    "string = \"This is a dinosaur 🦖\""
   ]
  },
  {
   "cell_type": "code",
   "execution_count": 45,
   "metadata": {},
   "outputs": [
    {
     "name": "stdout",
     "output_type": "stream",
     "text": [
      "This is a dinosaur \n"
     ]
    }
   ],
   "source": [
    "print(remove_emoji(string))"
   ]
  },
  {
   "cell_type": "code",
   "execution_count": 46,
   "metadata": {},
   "outputs": [],
   "source": [
    "s1 = \"ตลกจัง 😂\""
   ]
  },
  {
   "cell_type": "code",
   "execution_count": 47,
   "metadata": {},
   "outputs": [
    {
     "data": {
      "text/plain": [
       "'ตลกจัง '"
      ]
     },
     "execution_count": 47,
     "metadata": {},
     "output_type": "execute_result"
    }
   ],
   "source": [
    "remove_emoji(s1)"
   ]
  },
  {
   "cell_type": "code",
   "execution_count": 48,
   "metadata": {},
   "outputs": [],
   "source": [
    "df_new['message_filtered_demoji'] = df_new['message_filtered'].apply(remove_emoji)"
   ]
  },
  {
   "cell_type": "code",
   "execution_count": 49,
   "metadata": {},
   "outputs": [
    {
     "data": {
      "text/html": [
       "<div>\n",
       "<style scoped>\n",
       "    .dataframe tbody tr th:only-of-type {\n",
       "        vertical-align: middle;\n",
       "    }\n",
       "\n",
       "    .dataframe tbody tr th {\n",
       "        vertical-align: top;\n",
       "    }\n",
       "\n",
       "    .dataframe thead th {\n",
       "        text-align: right;\n",
       "    }\n",
       "</style>\n",
       "<table border=\"1\" class=\"dataframe\">\n",
       "  <thead>\n",
       "    <tr style=\"text-align: right;\">\n",
       "      <th></th>\n",
       "      <th>userId</th>\n",
       "      <th>message</th>\n",
       "      <th>message_list</th>\n",
       "      <th>message_filtered</th>\n",
       "      <th>len_msg</th>\n",
       "      <th>message_filtered_demoji</th>\n",
       "    </tr>\n",
       "  </thead>\n",
       "  <tbody>\n",
       "    <tr>\n",
       "      <th>0</th>\n",
       "      <td>1343993022391031</td>\n",
       "      <td></td>\n",
       "      <td>[]</td>\n",
       "      <td></td>\n",
       "      <td>0</td>\n",
       "      <td></td>\n",
       "    </tr>\n",
       "    <tr>\n",
       "      <th>1</th>\n",
       "      <td>1345416482249396</td>\n",
       "      <td>ยังมีรถขับยุรึป่าวถ้าจะทำ</td>\n",
       "      <td>[ยังมีรถขับยุรึป่าวถ้าจะทำ]</td>\n",
       "      <td>ยังมี รถ ขับ ยุ ป่าว ทำ</td>\n",
       "      <td>23</td>\n",
       "      <td>ยังมี รถ ขับ ยุ ป่าว ทำ</td>\n",
       "    </tr>\n",
       "    <tr>\n",
       "      <th>2</th>\n",
       "      <td>1362041543920076</td>\n",
       "      <td>ทำไมเค้าโทรแจ้งว่ายอดไม่เข้า,โอนไปตั้งแต่เมื่อ...</td>\n",
       "      <td>[ทำไมเค้าโทรแจ้งว่ายอดไม่เข้า,โอนไปตั้งแต่เมื่...</td>\n",
       "      <td>เค้า โทร แจ้ง ยอด โอน โอน เงิน ยอด</td>\n",
       "      <td>34</td>\n",
       "      <td>เค้า โทร แจ้ง ยอด โอน โอน เงิน ยอด</td>\n",
       "    </tr>\n",
       "    <tr>\n",
       "      <th>3</th>\n",
       "      <td>1445140482277052</td>\n",
       "      <td>,,งวดยังคงเหลือ กี่งวด,งวดสัญญาเลขที่นี้,งวดยั...</td>\n",
       "      <td>[,,งวดยังคงเหลือ, กี่งวด,งวดสัญญาเลขที่นี้,งวด...</td>\n",
       "      <td>งวด คงเหลือ กี่ งวด งวด สัญญา เลขที่ งวด คงเหล...</td>\n",
       "      <td>56</td>\n",
       "      <td>งวด คงเหลือ กี่ งวด งวด สัญญา เลขที่ งวด คงเหล...</td>\n",
       "    </tr>\n",
       "    <tr>\n",
       "      <th>4</th>\n",
       "      <td>1448022578634827</td>\n",
       "      <td>,ถ้าเมื่อเดือนที่แล้วเราเอามอไซค์ไปเข้า แต่ไม่...</td>\n",
       "      <td>[,ถ้าเมื่อเดือนที่แล้วเราเอามอไซค์ไปเข้า, แต่ไ...</td>\n",
       "      <td>เมื่อเดือนที่แล้ว มอไซค์ เงิน เต็ม เต็ม ยอด ไห...</td>\n",
       "      <td>143</td>\n",
       "      <td>เมื่อเดือนที่แล้ว มอไซค์ เงิน เต็ม เต็ม ยอด ไห...</td>\n",
       "    </tr>\n",
       "  </tbody>\n",
       "</table>\n",
       "</div>"
      ],
      "text/plain": [
       "             userId                                            message  \\\n",
       "0  1343993022391031                                                      \n",
       "1  1345416482249396                          ยังมีรถขับยุรึป่าวถ้าจะทำ   \n",
       "2  1362041543920076  ทำไมเค้าโทรแจ้งว่ายอดไม่เข้า,โอนไปตั้งแต่เมื่อ...   \n",
       "3  1445140482277052  ,,งวดยังคงเหลือ กี่งวด,งวดสัญญาเลขที่นี้,งวดยั...   \n",
       "4  1448022578634827  ,ถ้าเมื่อเดือนที่แล้วเราเอามอไซค์ไปเข้า แต่ไม่...   \n",
       "\n",
       "                                        message_list  \\\n",
       "0                                                 []   \n",
       "1                        [ยังมีรถขับยุรึป่าวถ้าจะทำ]   \n",
       "2  [ทำไมเค้าโทรแจ้งว่ายอดไม่เข้า,โอนไปตั้งแต่เมื่...   \n",
       "3  [,,งวดยังคงเหลือ, กี่งวด,งวดสัญญาเลขที่นี้,งวด...   \n",
       "4  [,ถ้าเมื่อเดือนที่แล้วเราเอามอไซค์ไปเข้า, แต่ไ...   \n",
       "\n",
       "                                    message_filtered  len_msg  \\\n",
       "0                                                           0   \n",
       "1                            ยังมี รถ ขับ ยุ ป่าว ทำ       23   \n",
       "2                 เค้า โทร แจ้ง ยอด โอน โอน เงิน ยอด       34   \n",
       "3  งวด คงเหลือ กี่ งวด งวด สัญญา เลขที่ งวด คงเหล...       56   \n",
       "4  เมื่อเดือนที่แล้ว มอไซค์ เงิน เต็ม เต็ม ยอด ไห...      143   \n",
       "\n",
       "                             message_filtered_demoji  \n",
       "0                                                     \n",
       "1                            ยังมี รถ ขับ ยุ ป่าว ทำ  \n",
       "2                 เค้า โทร แจ้ง ยอด โอน โอน เงิน ยอด  \n",
       "3  งวด คงเหลือ กี่ งวด งวด สัญญา เลขที่ งวด คงเหล...  \n",
       "4  เมื่อเดือนที่แล้ว มอไซค์ เงิน เต็ม เต็ม ยอด ไห...  "
      ]
     },
     "execution_count": 49,
     "metadata": {},
     "output_type": "execute_result"
    }
   ],
   "source": [
    "df_new.head()"
   ]
  },
  {
   "cell_type": "code",
   "execution_count": 50,
   "metadata": {},
   "outputs": [
    {
     "data": {
      "text/plain": [
       "TfidfVectorizer(ngram_range=(1, 2), token_pattern=None,\n",
       "                tokenizer=<function get_th_tokens at 0x174bde7a0>)"
      ]
     },
     "execution_count": 50,
     "metadata": {},
     "output_type": "execute_result"
    }
   ],
   "source": [
    "vectorizer = TfidfVectorizer(tokenizer=get_th_tokens, token_pattern=None, ngram_range=(1,2)) \n",
    "vectorizer.fit(df_new['message_filtered_demoji']) "
   ]
  },
  {
   "cell_type": "code",
   "execution_count": 51,
   "metadata": {},
   "outputs": [],
   "source": [
    "feat_filtered_emoji = vectorizer.transform(df_new['message']) \n",
    "feat_filtered_emoji_arr = feat_filtered_emoji.toarray() "
   ]
  },
  {
   "cell_type": "code",
   "execution_count": 52,
   "metadata": {},
   "outputs": [
    {
     "name": "stderr",
     "output_type": "stream",
     "text": [
      "/Users/phrare/NTL_dashboard/NTL/lib/python3.7/site-packages/ipykernel_launcher.py:1: RuntimeWarning: invalid value encountered in true_divide\n",
      "  \"\"\"Entry point for launching an IPython kernel.\n"
     ]
    }
   ],
   "source": [
    "avg_tfidf = feat_filtered_emoji_arr.sum(axis=0) / np.count_nonzero(feat_filtered_emoji_arr,axis=0) \n",
    "result_filtered_emoji = pd.DataFrame() \n",
    "result_filtered_emoji['word'] = vectorizer.get_feature_names() \n",
    "result_filtered_emoji['avg_tfidf'] = avg_tfidf "
   ]
  },
  {
   "cell_type": "code",
   "execution_count": 53,
   "metadata": {},
   "outputs": [
    {
     "data": {
      "text/html": [
       "<div>\n",
       "<style scoped>\n",
       "    .dataframe tbody tr th:only-of-type {\n",
       "        vertical-align: middle;\n",
       "    }\n",
       "\n",
       "    .dataframe tbody tr th {\n",
       "        vertical-align: top;\n",
       "    }\n",
       "\n",
       "    .dataframe thead th {\n",
       "        text-align: right;\n",
       "    }\n",
       "</style>\n",
       "<table border=\"1\" class=\"dataframe\">\n",
       "  <thead>\n",
       "    <tr style=\"text-align: right;\">\n",
       "      <th></th>\n",
       "      <th>word</th>\n",
       "      <th>avg_tfidf</th>\n",
       "    </tr>\n",
       "  </thead>\n",
       "  <tbody>\n",
       "    <tr>\n",
       "      <th>1519</th>\n",
       "      <td>บุคคล</td>\n",
       "      <td>1.000000</td>\n",
       "    </tr>\n",
       "    <tr>\n",
       "      <th>2966</th>\n",
       "      <td>ห้</td>\n",
       "      <td>1.000000</td>\n",
       "    </tr>\n",
       "    <tr>\n",
       "      <th>943</th>\n",
       "      <td>ตกงาน</td>\n",
       "      <td>1.000000</td>\n",
       "    </tr>\n",
       "    <tr>\n",
       "      <th>175</th>\n",
       "      <td>true</td>\n",
       "      <td>0.916190</td>\n",
       "    </tr>\n",
       "    <tr>\n",
       "      <th>2587</th>\n",
       "      <td>วาสนา</td>\n",
       "      <td>0.906449</td>\n",
       "    </tr>\n",
       "    <tr>\n",
       "      <th>159</th>\n",
       "      <td>test</td>\n",
       "      <td>0.824861</td>\n",
       "    </tr>\n",
       "    <tr>\n",
       "      <th>181</th>\n",
       "      <td>vogo</td>\n",
       "      <td>0.780753</td>\n",
       "    </tr>\n",
       "    <tr>\n",
       "      <th>3927</th>\n",
       "      <td>ใจดี</td>\n",
       "      <td>0.778228</td>\n",
       "    </tr>\n",
       "    <tr>\n",
       "      <th>1344</th>\n",
       "      <td>นครสวรรค์</td>\n",
       "      <td>0.767285</td>\n",
       "    </tr>\n",
       "    <tr>\n",
       "      <th>1271</th>\n",
       "      <td>ที่อยู่</td>\n",
       "      <td>0.743045</td>\n",
       "    </tr>\n",
       "  </tbody>\n",
       "</table>\n",
       "</div>"
      ],
      "text/plain": [
       "           word  avg_tfidf\n",
       "1519      บุคคล   1.000000\n",
       "2966         ห้   1.000000\n",
       "943       ตกงาน   1.000000\n",
       "175        true   0.916190\n",
       "2587      วาสนา   0.906449\n",
       "159        test   0.824861\n",
       "181        vogo   0.780753\n",
       "3927       ใจดี   0.778228\n",
       "1344  นครสวรรค์   0.767285\n",
       "1271    ที่อยู่   0.743045"
      ]
     },
     "execution_count": 53,
     "metadata": {},
     "output_type": "execute_result"
    }
   ],
   "source": [
    "result_filtered_emoji.sort_values('avg_tfidf', ascending=False).head(10) "
   ]
  },
  {
   "cell_type": "code",
   "execution_count": 54,
   "metadata": {
    "jupyter": {
     "source_hidden": true
    }
   },
   "outputs": [],
   "source": [
    "def remove_digits(text):\n",
    "    no_digits = []\n",
    "    # Iterate through the string, adding non-numbers to the no_digits list\n",
    "    for i in text:\n",
    "        if not i.isdigit():\n",
    "            no_digits.append(i)\n",
    "\n",
    "    # Now join all elements of the list with '', \n",
    "    # which puts all of the characters together.\n",
    "    result = ''.join(no_digits)\n",
    "    return result"
   ]
  },
  {
   "cell_type": "code",
   "execution_count": 55,
   "metadata": {},
   "outputs": [],
   "source": [
    "def no_digits(text):\n",
    "    output = re.sub(r'\\d+', '', text)\n",
    "    return output"
   ]
  },
  {
   "cell_type": "code",
   "execution_count": 56,
   "metadata": {},
   "outputs": [],
   "source": [
    "s2 = 'แพร 12384975021'"
   ]
  },
  {
   "cell_type": "code",
   "execution_count": 57,
   "metadata": {},
   "outputs": [
    {
     "data": {
      "text/plain": [
       "'แพร '"
      ]
     },
     "execution_count": 57,
     "metadata": {},
     "output_type": "execute_result"
    }
   ],
   "source": [
    "no_digits(s2)"
   ]
  },
  {
   "cell_type": "code",
   "execution_count": 58,
   "metadata": {},
   "outputs": [],
   "source": [
    "df_new['message_filtered_emo_and_digits'] = df_new['message_filtered_demoji'].apply(no_digits)"
   ]
  },
  {
   "cell_type": "code",
   "execution_count": 59,
   "metadata": {},
   "outputs": [
    {
     "data": {
      "text/html": [
       "<div>\n",
       "<style scoped>\n",
       "    .dataframe tbody tr th:only-of-type {\n",
       "        vertical-align: middle;\n",
       "    }\n",
       "\n",
       "    .dataframe tbody tr th {\n",
       "        vertical-align: top;\n",
       "    }\n",
       "\n",
       "    .dataframe thead th {\n",
       "        text-align: right;\n",
       "    }\n",
       "</style>\n",
       "<table border=\"1\" class=\"dataframe\">\n",
       "  <thead>\n",
       "    <tr style=\"text-align: right;\">\n",
       "      <th></th>\n",
       "      <th>userId</th>\n",
       "      <th>message</th>\n",
       "      <th>message_list</th>\n",
       "      <th>message_filtered</th>\n",
       "      <th>len_msg</th>\n",
       "      <th>message_filtered_demoji</th>\n",
       "      <th>message_filtered_emo_and_digits</th>\n",
       "    </tr>\n",
       "  </thead>\n",
       "  <tbody>\n",
       "    <tr>\n",
       "      <th>0</th>\n",
       "      <td>1343993022391031</td>\n",
       "      <td></td>\n",
       "      <td>[]</td>\n",
       "      <td></td>\n",
       "      <td>0</td>\n",
       "      <td></td>\n",
       "      <td></td>\n",
       "    </tr>\n",
       "    <tr>\n",
       "      <th>1</th>\n",
       "      <td>1345416482249396</td>\n",
       "      <td>ยังมีรถขับยุรึป่าวถ้าจะทำ</td>\n",
       "      <td>[ยังมีรถขับยุรึป่าวถ้าจะทำ]</td>\n",
       "      <td>ยังมี รถ ขับ ยุ ป่าว ทำ</td>\n",
       "      <td>23</td>\n",
       "      <td>ยังมี รถ ขับ ยุ ป่าว ทำ</td>\n",
       "      <td>ยังมี รถ ขับ ยุ ป่าว ทำ</td>\n",
       "    </tr>\n",
       "    <tr>\n",
       "      <th>2</th>\n",
       "      <td>1362041543920076</td>\n",
       "      <td>ทำไมเค้าโทรแจ้งว่ายอดไม่เข้า,โอนไปตั้งแต่เมื่อ...</td>\n",
       "      <td>[ทำไมเค้าโทรแจ้งว่ายอดไม่เข้า,โอนไปตั้งแต่เมื่...</td>\n",
       "      <td>เค้า โทร แจ้ง ยอด โอน โอน เงิน ยอด</td>\n",
       "      <td>34</td>\n",
       "      <td>เค้า โทร แจ้ง ยอด โอน โอน เงิน ยอด</td>\n",
       "      <td>เค้า โทร แจ้ง ยอด โอน โอน เงิน ยอด</td>\n",
       "    </tr>\n",
       "    <tr>\n",
       "      <th>3</th>\n",
       "      <td>1445140482277052</td>\n",
       "      <td>,,งวดยังคงเหลือ กี่งวด,งวดสัญญาเลขที่นี้,งวดยั...</td>\n",
       "      <td>[,,งวดยังคงเหลือ, กี่งวด,งวดสัญญาเลขที่นี้,งวด...</td>\n",
       "      <td>งวด คงเหลือ กี่ งวด งวด สัญญา เลขที่ งวด คงเหล...</td>\n",
       "      <td>56</td>\n",
       "      <td>งวด คงเหลือ กี่ งวด งวด สัญญา เลขที่ งวด คงเหล...</td>\n",
       "      <td>งวด คงเหลือ กี่ งวด งวด สัญญา เลขที่ งวด คงเหล...</td>\n",
       "    </tr>\n",
       "    <tr>\n",
       "      <th>4</th>\n",
       "      <td>1448022578634827</td>\n",
       "      <td>,ถ้าเมื่อเดือนที่แล้วเราเอามอไซค์ไปเข้า แต่ไม่...</td>\n",
       "      <td>[,ถ้าเมื่อเดือนที่แล้วเราเอามอไซค์ไปเข้า, แต่ไ...</td>\n",
       "      <td>เมื่อเดือนที่แล้ว มอไซค์ เงิน เต็ม เต็ม ยอด ไห...</td>\n",
       "      <td>143</td>\n",
       "      <td>เมื่อเดือนที่แล้ว มอไซค์ เงิน เต็ม เต็ม ยอด ไห...</td>\n",
       "      <td>เมื่อเดือนที่แล้ว มอไซค์ เงิน เต็ม เต็ม ยอด ไห...</td>\n",
       "    </tr>\n",
       "  </tbody>\n",
       "</table>\n",
       "</div>"
      ],
      "text/plain": [
       "             userId                                            message  \\\n",
       "0  1343993022391031                                                      \n",
       "1  1345416482249396                          ยังมีรถขับยุรึป่าวถ้าจะทำ   \n",
       "2  1362041543920076  ทำไมเค้าโทรแจ้งว่ายอดไม่เข้า,โอนไปตั้งแต่เมื่อ...   \n",
       "3  1445140482277052  ,,งวดยังคงเหลือ กี่งวด,งวดสัญญาเลขที่นี้,งวดยั...   \n",
       "4  1448022578634827  ,ถ้าเมื่อเดือนที่แล้วเราเอามอไซค์ไปเข้า แต่ไม่...   \n",
       "\n",
       "                                        message_list  \\\n",
       "0                                                 []   \n",
       "1                        [ยังมีรถขับยุรึป่าวถ้าจะทำ]   \n",
       "2  [ทำไมเค้าโทรแจ้งว่ายอดไม่เข้า,โอนไปตั้งแต่เมื่...   \n",
       "3  [,,งวดยังคงเหลือ, กี่งวด,งวดสัญญาเลขที่นี้,งวด...   \n",
       "4  [,ถ้าเมื่อเดือนที่แล้วเราเอามอไซค์ไปเข้า, แต่ไ...   \n",
       "\n",
       "                                    message_filtered  len_msg  \\\n",
       "0                                                           0   \n",
       "1                            ยังมี รถ ขับ ยุ ป่าว ทำ       23   \n",
       "2                 เค้า โทร แจ้ง ยอด โอน โอน เงิน ยอด       34   \n",
       "3  งวด คงเหลือ กี่ งวด งวด สัญญา เลขที่ งวด คงเหล...       56   \n",
       "4  เมื่อเดือนที่แล้ว มอไซค์ เงิน เต็ม เต็ม ยอด ไห...      143   \n",
       "\n",
       "                             message_filtered_demoji  \\\n",
       "0                                                      \n",
       "1                            ยังมี รถ ขับ ยุ ป่าว ทำ   \n",
       "2                 เค้า โทร แจ้ง ยอด โอน โอน เงิน ยอด   \n",
       "3  งวด คงเหลือ กี่ งวด งวด สัญญา เลขที่ งวด คงเหล...   \n",
       "4  เมื่อเดือนที่แล้ว มอไซค์ เงิน เต็ม เต็ม ยอด ไห...   \n",
       "\n",
       "                     message_filtered_emo_and_digits  \n",
       "0                                                     \n",
       "1                            ยังมี รถ ขับ ยุ ป่าว ทำ  \n",
       "2                 เค้า โทร แจ้ง ยอด โอน โอน เงิน ยอด  \n",
       "3  งวด คงเหลือ กี่ งวด งวด สัญญา เลขที่ งวด คงเหล...  \n",
       "4  เมื่อเดือนที่แล้ว มอไซค์ เงิน เต็ม เต็ม ยอด ไห...  "
      ]
     },
     "execution_count": 59,
     "metadata": {},
     "output_type": "execute_result"
    }
   ],
   "source": [
    "df_new.head()"
   ]
  },
  {
   "cell_type": "code",
   "execution_count": 60,
   "metadata": {},
   "outputs": [
    {
     "data": {
      "text/plain": [
       "TfidfVectorizer(ngram_range=(1, 2), token_pattern=None,\n",
       "                tokenizer=<function get_th_tokens at 0x174bde7a0>)"
      ]
     },
     "execution_count": 60,
     "metadata": {},
     "output_type": "execute_result"
    }
   ],
   "source": [
    "vectorizer = TfidfVectorizer(tokenizer=get_th_tokens, token_pattern=None, ngram_range=(1,2)) \n",
    "vectorizer.fit(df_new['message_filtered_emo_and_digits']) "
   ]
  },
  {
   "cell_type": "code",
   "execution_count": 61,
   "metadata": {},
   "outputs": [],
   "source": [
    "feat_filtered_all = vectorizer.transform(df_new['message']) \n",
    "feat_filtered_all_arr = feat_filtered_all.toarray() "
   ]
  },
  {
   "cell_type": "code",
   "execution_count": 62,
   "metadata": {},
   "outputs": [
    {
     "name": "stderr",
     "output_type": "stream",
     "text": [
      "/Users/phrare/NTL_dashboard/NTL/lib/python3.7/site-packages/ipykernel_launcher.py:1: RuntimeWarning: invalid value encountered in true_divide\n",
      "  \"\"\"Entry point for launching an IPython kernel.\n"
     ]
    }
   ],
   "source": [
    "avg_tfidf = feat_filtered_all_arr.sum(axis=0) / np.count_nonzero(feat_filtered_all_arr,axis=0) \n",
    "result_filtered_all = pd.DataFrame() \n",
    "result_filtered_all['word'] = vectorizer.get_feature_names() \n",
    "result_filtered_all['avg_tfidf'] = avg_tfidf "
   ]
  },
  {
   "cell_type": "code",
   "execution_count": 96,
   "metadata": {},
   "outputs": [
    {
     "data": {
      "text/html": [
       "<div>\n",
       "<style scoped>\n",
       "    .dataframe tbody tr th:only-of-type {\n",
       "        vertical-align: middle;\n",
       "    }\n",
       "\n",
       "    .dataframe tbody tr th {\n",
       "        vertical-align: top;\n",
       "    }\n",
       "\n",
       "    .dataframe thead th {\n",
       "        text-align: right;\n",
       "    }\n",
       "</style>\n",
       "<table border=\"1\" class=\"dataframe\">\n",
       "  <thead>\n",
       "    <tr style=\"text-align: right;\">\n",
       "      <th></th>\n",
       "      <th>word</th>\n",
       "      <th>avg_tfidf</th>\n",
       "    </tr>\n",
       "  </thead>\n",
       "  <tbody>\n",
       "    <tr>\n",
       "      <th>1519</th>\n",
       "      <td>บุคคล</td>\n",
       "      <td>1.000000</td>\n",
       "    </tr>\n",
       "    <tr>\n",
       "      <th>2966</th>\n",
       "      <td>ห้</td>\n",
       "      <td>1.000000</td>\n",
       "    </tr>\n",
       "    <tr>\n",
       "      <th>943</th>\n",
       "      <td>ตกงาน</td>\n",
       "      <td>1.000000</td>\n",
       "    </tr>\n",
       "    <tr>\n",
       "      <th>175</th>\n",
       "      <td>true</td>\n",
       "      <td>0.916190</td>\n",
       "    </tr>\n",
       "    <tr>\n",
       "      <th>2587</th>\n",
       "      <td>วาสนา</td>\n",
       "      <td>0.906449</td>\n",
       "    </tr>\n",
       "    <tr>\n",
       "      <th>159</th>\n",
       "      <td>test</td>\n",
       "      <td>0.824861</td>\n",
       "    </tr>\n",
       "    <tr>\n",
       "      <th>181</th>\n",
       "      <td>vogo</td>\n",
       "      <td>0.780753</td>\n",
       "    </tr>\n",
       "    <tr>\n",
       "      <th>3927</th>\n",
       "      <td>ใจดี</td>\n",
       "      <td>0.778228</td>\n",
       "    </tr>\n",
       "    <tr>\n",
       "      <th>1344</th>\n",
       "      <td>นครสวรรค์</td>\n",
       "      <td>0.767285</td>\n",
       "    </tr>\n",
       "    <tr>\n",
       "      <th>1271</th>\n",
       "      <td>ที่อยู่</td>\n",
       "      <td>0.743045</td>\n",
       "    </tr>\n",
       "    <tr>\n",
       "      <th>3300</th>\n",
       "      <td>เช็ค งวด</td>\n",
       "      <td>0.733928</td>\n",
       "    </tr>\n",
       "    <tr>\n",
       "      <th>2826</th>\n",
       "      <td>สินเชื่อ มอไซค์</td>\n",
       "      <td>0.719299</td>\n",
       "    </tr>\n",
       "    <tr>\n",
       "      <th>95</th>\n",
       "      <td>misubishi</td>\n",
       "      <td>0.707107</td>\n",
       "    </tr>\n",
       "    <tr>\n",
       "      <th>189</th>\n",
       "      <td>xpander</td>\n",
       "      <td>0.707107</td>\n",
       "    </tr>\n",
       "    <tr>\n",
       "      <th>2531</th>\n",
       "      <td>วงเงิน คงเหลือ</td>\n",
       "      <td>0.683210</td>\n",
       "    </tr>\n",
       "    <tr>\n",
       "      <th>3351</th>\n",
       "      <td>เดือน ธันวาคม</td>\n",
       "      <td>0.667465</td>\n",
       "    </tr>\n",
       "    <tr>\n",
       "      <th>3310</th>\n",
       "      <td>เช็ค เบี้ย</td>\n",
       "      <td>0.663675</td>\n",
       "    </tr>\n",
       "    <tr>\n",
       "      <th>47</th>\n",
       "      <td>eleven</td>\n",
       "      <td>0.655583</td>\n",
       "    </tr>\n",
       "    <tr>\n",
       "      <th>1385</th>\n",
       "      <td>นาโน</td>\n",
       "      <td>0.641965</td>\n",
       "    </tr>\n",
       "    <tr>\n",
       "      <th>2825</th>\n",
       "      <td>สินเชื่อ นาโน</td>\n",
       "      <td>0.641965</td>\n",
       "    </tr>\n",
       "  </tbody>\n",
       "</table>\n",
       "</div>"
      ],
      "text/plain": [
       "                 word  avg_tfidf\n",
       "1519            บุคคล   1.000000\n",
       "2966               ห้   1.000000\n",
       "943             ตกงาน   1.000000\n",
       "175              true   0.916190\n",
       "2587            วาสนา   0.906449\n",
       "159              test   0.824861\n",
       "181              vogo   0.780753\n",
       "3927             ใจดี   0.778228\n",
       "1344        นครสวรรค์   0.767285\n",
       "1271          ที่อยู่   0.743045\n",
       "3300         เช็ค งวด   0.733928\n",
       "2826  สินเชื่อ มอไซค์   0.719299\n",
       "95          misubishi   0.707107\n",
       "189           xpander   0.707107\n",
       "2531   วงเงิน คงเหลือ   0.683210\n",
       "3351    เดือน ธันวาคม   0.667465\n",
       "3310       เช็ค เบี้ย   0.663675\n",
       "47             eleven   0.655583\n",
       "1385             นาโน   0.641965\n",
       "2825    สินเชื่อ นาโน   0.641965"
      ]
     },
     "execution_count": 96,
     "metadata": {},
     "output_type": "execute_result"
    }
   ],
   "source": [
    "result_final = result_filtered_all.sort_values('avg_tfidf', ascending=False).head(20) \n",
    "result_final"
   ]
  },
  {
   "cell_type": "code",
   "execution_count": 64,
   "metadata": {},
   "outputs": [],
   "source": [
    "s3 = 'แพร....กินไก่ 3 ตัว 🤪'"
   ]
  },
  {
   "cell_type": "code",
   "execution_count": 66,
   "metadata": {},
   "outputs": [],
   "source": [
    "from wordcloud import WordCloud, STOPWORDS \n",
    "import matplotlib.pyplot as plt "
   ]
  },
  {
   "cell_type": "code",
   "execution_count": 84,
   "metadata": {},
   "outputs": [],
   "source": [
    "def gen_text_for_wordcloud(df):\n",
    "    words = df['word']\n",
    "    words_to_array = words.tolist()\n",
    "    return words_to_array"
   ]
  },
  {
   "cell_type": "code",
   "execution_count": 88,
   "metadata": {},
   "outputs": [],
   "source": [
    "text_final = gen_text_for_wordcloud(result_final)"
   ]
  },
  {
   "cell_type": "code",
   "execution_count": 89,
   "metadata": {},
   "outputs": [],
   "source": [
    "text = listToString(text_final)"
   ]
  },
  {
   "cell_type": "code",
   "execution_count": 97,
   "metadata": {},
   "outputs": [],
   "source": [
    "path = './content/THSarabunNew.ttf'"
   ]
  },
  {
   "cell_type": "code",
   "execution_count": 102,
   "metadata": {},
   "outputs": [],
   "source": [
    "wordcloud = WordCloud(font_path=path, width = 800, height = 800, \n",
    "                background_color ='white', \n",
    "                min_font_size = 10, regexp = r\"[ก-๙a-zA-Z']+\").generate(text) "
   ]
  },
  {
   "cell_type": "code",
   "execution_count": 103,
   "metadata": {},
   "outputs": [
    {
     "data": {
      "image/png": "[encoded data removed]",
      "text/plain": [
       "<Figure size 576x576 with 1 Axes>"
      ]
     },
     "metadata": {
      "needs_background": "light"
     },
     "output_type": "display_data"
    }
   ],
   "source": [
    "# plot the WordCloud image                        \n",
    "plt.figure(figsize = (8, 8), facecolor = None) \n",
    "plt.imshow(wordcloud) \n",
    "plt.axis(\"off\") \n",
    "plt.tight_layout(pad = 0) \n",
    "  \n",
    "plt.show() "
   ]
  },
  {
   "cell_type": "code",
   "execution_count": null,
   "metadata": {},
   "outputs": [],
   "source": []
  }
 ],
 "metadata": {
  "kernelspec": {
   "display_name": "Python 3.7.4 64-bit ('NTL': venv)",
   "language": "python",
   "name": "python37464bitntlvenv5bb9f6107ccc44df9d8f2d89f2aa5ff4"
  },
  "language_info": {
   "codemirror_mode": {
    "name": "ipython",
    "version": 3
   },
   "file_extension": ".py",
   "mimetype": "text/x-python",
   "name": "python",
   "nbconvert_exporter": "python",
   "pygments_lexer": "ipython3",
   "version": "3.7.4"
  }
 },
 "nbformat": 4,
 "nbformat_minor": 4
}
