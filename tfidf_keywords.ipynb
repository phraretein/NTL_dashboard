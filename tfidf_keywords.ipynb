{
 "cells": [
  {
   "cell_type": "code",
   "execution_count": 1,
   "metadata": {},
   "outputs": [],
   "source": [
    "import pandas as pd\n",
    "from pythainlp.tokenize import word_tokenize\n",
    "from sklearn.feature_extraction.text import CountVectorizer\n",
    "from sklearn.feature_extraction.text import TfidfVectorizer\n",
    "from sklearn.svm import LinearSVC\n",
    "from sklearn.preprocessing import normalize\n",
    "from pythainlp.corpus import thai_stopwords\n",
    "import numpy as np\n",
    "import matplotlib.pyplot as plt\n",
    "import re\n",
    "import string"
   ]
  },
  {
   "cell_type": "code",
   "execution_count": 2,
   "metadata": {},
   "outputs": [],
   "source": [
    "chatlog = pd.read_pickle('./data/chatlog.p')"
   ]
  },
  {
   "cell_type": "code",
   "execution_count": 3,
   "metadata": {},
   "outputs": [],
   "source": [
    "df = chatlog[['userId', 'message', 'role', '_date']] "
   ]
  },
  {
   "cell_type": "code",
   "execution_count": 4,
   "metadata": {},
   "outputs": [],
   "source": [
    "# df.drop(df.loc[df.role == \"Admin\"].index, inplace=True)"
   ]
  },
  {
   "cell_type": "code",
   "execution_count": 5,
   "metadata": {},
   "outputs": [],
   "source": [
    "df = df.loc[df.role=='User']"
   ]
  },
  {
   "cell_type": "code",
   "execution_count": 6,
   "metadata": {},
   "outputs": [],
   "source": [
    "start_date = \"2019-11-01\"\n",
    "end_date = \"2019-11-04\""
   ]
  },
  {
   "cell_type": "code",
   "execution_count": 7,
   "metadata": {},
   "outputs": [],
   "source": [
    "df_11_01 = df[(df._date >= start_date) & (df._date <= end_date)]"
   ]
  },
  {
   "cell_type": "code",
   "execution_count": 8,
   "metadata": {},
   "outputs": [
    {
     "data": {
      "text/html": [
       "<div>\n",
       "<style scoped>\n",
       "    .dataframe tbody tr th:only-of-type {\n",
       "        vertical-align: middle;\n",
       "    }\n",
       "\n",
       "    .dataframe tbody tr th {\n",
       "        vertical-align: top;\n",
       "    }\n",
       "\n",
       "    .dataframe thead th {\n",
       "        text-align: right;\n",
       "    }\n",
       "</style>\n",
       "<table border=\"1\" class=\"dataframe\">\n",
       "  <thead>\n",
       "    <tr style=\"text-align: right;\">\n",
       "      <th></th>\n",
       "      <th>userId</th>\n",
       "      <th>message</th>\n",
       "      <th>role</th>\n",
       "      <th>_date</th>\n",
       "    </tr>\n",
       "  </thead>\n",
       "  <tbody>\n",
       "    <tr>\n",
       "      <th>0</th>\n",
       "      <td>2433413723406579</td>\n",
       "      <td>สวัสดี</td>\n",
       "      <td>User</td>\n",
       "      <td>2019-11-01</td>\n",
       "    </tr>\n",
       "    <tr>\n",
       "      <th>3</th>\n",
       "      <td>2433413723406579</td>\n",
       "      <td>สวัสดีครับ</td>\n",
       "      <td>User</td>\n",
       "      <td>2019-11-01</td>\n",
       "    </tr>\n",
       "    <tr>\n",
       "      <th>6</th>\n",
       "      <td>2433413723406579</td>\n",
       "      <td>สวัสดีจ้า</td>\n",
       "      <td>User</td>\n",
       "      <td>2019-11-04</td>\n",
       "    </tr>\n",
       "    <tr>\n",
       "      <th>9</th>\n",
       "      <td>2433413723406579</td>\n",
       "      <td>ไม่ต้องยุ่งอ่ะ</td>\n",
       "      <td>User</td>\n",
       "      <td>2019-11-04</td>\n",
       "    </tr>\n",
       "    <tr>\n",
       "      <th>11</th>\n",
       "      <td>2433413723406579</td>\n",
       "      <td>ไม่ต้องมาคุย</td>\n",
       "      <td>User</td>\n",
       "      <td>2019-11-04</td>\n",
       "    </tr>\n",
       "    <tr>\n",
       "      <th>...</th>\n",
       "      <td>...</td>\n",
       "      <td>...</td>\n",
       "      <td>...</td>\n",
       "      <td>...</td>\n",
       "    </tr>\n",
       "    <tr>\n",
       "      <th>182231</th>\n",
       "      <td>2765986723444282</td>\n",
       "      <td>ถ้ารถผ่อนมั้ยหมดทีจะได้มั้ยค่ะ</td>\n",
       "      <td>User</td>\n",
       "      <td>2019-11-04</td>\n",
       "    </tr>\n",
       "    <tr>\n",
       "      <th>182234</th>\n",
       "      <td>2765986723444282</td>\n",
       "      <td>กุ้ค่ะ</td>\n",
       "      <td>User</td>\n",
       "      <td>2019-11-04</td>\n",
       "    </tr>\n",
       "    <tr>\n",
       "      <th>182239</th>\n",
       "      <td>2969967083016774</td>\n",
       "      <td>เปิดรับพนักงานไหมค่ะ</td>\n",
       "      <td>User</td>\n",
       "      <td>2019-11-04</td>\n",
       "    </tr>\n",
       "    <tr>\n",
       "      <th>182241</th>\n",
       "      <td>3050730068273826</td>\n",
       "      <td>รถมอไซยังส่งไปหมด</td>\n",
       "      <td>User</td>\n",
       "      <td>2019-11-04</td>\n",
       "    </tr>\n",
       "    <tr>\n",
       "      <th>182243</th>\n",
       "      <td>3050730068273826</td>\n",
       "      <td>รถมอไซย้งส่งกับร้านไม่หมดเข้าเงินติดล้อได้มั้ยคะ</td>\n",
       "      <td>User</td>\n",
       "      <td>2019-11-04</td>\n",
       "    </tr>\n",
       "  </tbody>\n",
       "</table>\n",
       "<p>8226 rows × 4 columns</p>\n",
       "</div>"
      ],
      "text/plain": [
       "                  userId                                           message  \\\n",
       "0       2433413723406579                                            สวัสดี   \n",
       "3       2433413723406579                                        สวัสดีครับ   \n",
       "6       2433413723406579                                         สวัสดีจ้า   \n",
       "9       2433413723406579                                    ไม่ต้องยุ่งอ่ะ   \n",
       "11      2433413723406579                                      ไม่ต้องมาคุย   \n",
       "...                  ...                                               ...   \n",
       "182231  2765986723444282                    ถ้ารถผ่อนมั้ยหมดทีจะได้มั้ยค่ะ   \n",
       "182234  2765986723444282                                            กุ้ค่ะ   \n",
       "182239  2969967083016774                              เปิดรับพนักงานไหมค่ะ   \n",
       "182241  3050730068273826                                 รถมอไซยังส่งไปหมด   \n",
       "182243  3050730068273826  รถมอไซย้งส่งกับร้านไม่หมดเข้าเงินติดล้อได้มั้ยคะ   \n",
       "\n",
       "        role       _date  \n",
       "0       User  2019-11-01  \n",
       "3       User  2019-11-01  \n",
       "6       User  2019-11-04  \n",
       "9       User  2019-11-04  \n",
       "11      User  2019-11-04  \n",
       "...      ...         ...  \n",
       "182231  User  2019-11-04  \n",
       "182234  User  2019-11-04  \n",
       "182239  User  2019-11-04  \n",
       "182241  User  2019-11-04  \n",
       "182243  User  2019-11-04  \n",
       "\n",
       "[8226 rows x 4 columns]"
      ]
     },
     "execution_count": 8,
     "metadata": {},
     "output_type": "execute_result"
    }
   ],
   "source": [
    "df_11_01"
   ]
  },
  {
   "cell_type": "code",
   "execution_count": 9,
   "metadata": {},
   "outputs": [],
   "source": [
    "def get_th_tokens(text):\n",
    "#     text = text.lower()\n",
    "    text = text.replace('\\n', ' ')\n",
    "    tokens = word_tokenize(text, engine=\"newmm\", keep_whitespace=False)\n",
    "    return tokens"
   ]
  },
  {
   "cell_type": "code",
   "execution_count": 10,
   "metadata": {},
   "outputs": [],
   "source": [
    "def clean_text_round1(text):\n",
    "    '''Make text lowercase, remove text in square brackets, remove punctuation and remove words containing numbers.'''\n",
    "    text = text.lower()\n",
    "    text = re.sub('[.?]', '', text)\n",
    "    text = re.sub('[%s]' % re.escape(string.punctuation), '', text)\n",
    "    text = re.sub('[‘’“”…]', '', text)\n",
    "    text = re.sub('\\n', '', text)\n",
    "    text = re.sub('[0-9]{1,10}', '', text)\n",
    "    text = re.sub('นะ|น่ะ|น่า|น้า','',text)\n",
    "    text = re.sub('คะ|ค่ะ|ค่า|คระ|คร่ะ|คร๊|ค๊','',text)\n",
    "    text = re.sub('ครับ|คับ|คั้บ|ค้าบ|คร้าบ|คาฟ|ค้าฟ|ฮะ|ฮับ|ฮ้าฟ','',text)\n",
    "    text = re.sub('จ้า|จ้ะ|จ๊ะ','',text)\n",
    "    text = re.sub('หน่อย|น่อย','',text)\n",
    "    text = re.sub('สวัสดี|หวัดดี','',text)\n",
    "    text = re.sub('ของ','',text)\n",
    "    # ลบ text ที่อยู่ในวงเล็บ <> ทั้งหมด\n",
    "    text = re.sub(r'<.?>','', text)\n",
    "    # ลบ hashtag\n",
    "    text = re.sub(r'#','',text)\n",
    "    # ลบ separator เช่น \\n \\t\n",
    "    text = ' '.join(text.split())\n",
    "    text = re.sub('สนใจ','',text)\n",
    "    text = re.sub('อยากทราบว่า|อยากทราบ','',text)\n",
    "    text = re.sub('รบกวนสอบถาม|ขอสอบถาม|สอบถาม','',text)\n",
    "    text = re.sub('ปี','',text)\n",
    "    text = re.sub('ขอบคุณ','',text)\n",
    "    text = re.sub('ขอโทษ|ขอโทด','',text)\n",
    "    text = re.sub('ขอ','',text)\n",
    "    text = re.sub('ชั้น','',text)\n",
    "    text = re.sub('เท่าไร|เท่าไหร่|เท่าหรั่ย|เท่าใด|เท่ารัย','',text)\n",
    "    return text"
   ]
  },
  {
   "cell_type": "code",
   "execution_count": 11,
   "metadata": {},
   "outputs": [
    {
     "name": "stderr",
     "output_type": "stream",
     "text": [
      "/Users/phrare/NTL_dashboard/NTL/lib/python3.7/site-packages/ipykernel_launcher.py:1: SettingWithCopyWarning: \n",
      "A value is trying to be set on a copy of a slice from a DataFrame.\n",
      "Try using .loc[row_indexer,col_indexer] = value instead\n",
      "\n",
      "See the caveats in the documentation: https://pandas.pydata.org/pandas-docs/stable/user_guide/indexing.html#returning-a-view-versus-a-copy\n",
      "  \"\"\"Entry point for launching an IPython kernel.\n"
     ]
    }
   ],
   "source": [
    "df_11_01['message'] = df_11_01['message'].apply(lambda x: clean_text_round1(x))"
   ]
  },
  {
   "cell_type": "code",
   "execution_count": 12,
   "metadata": {},
   "outputs": [],
   "source": [
    "df_new = df_11_01.groupby(['userId'])['message'].apply(','.join).reset_index()"
   ]
  },
  {
   "cell_type": "code",
   "execution_count": 13,
   "metadata": {},
   "outputs": [],
   "source": [
    "df_new[\"message_list\"] = df_new[\"message\"].apply(lambda x: x.split())"
   ]
  },
  {
   "cell_type": "code",
   "execution_count": 14,
   "metadata": {},
   "outputs": [
    {
     "data": {
      "text/html": [
       "<div>\n",
       "<style scoped>\n",
       "    .dataframe tbody tr th:only-of-type {\n",
       "        vertical-align: middle;\n",
       "    }\n",
       "\n",
       "    .dataframe tbody tr th {\n",
       "        vertical-align: top;\n",
       "    }\n",
       "\n",
       "    .dataframe thead th {\n",
       "        text-align: right;\n",
       "    }\n",
       "</style>\n",
       "<table border=\"1\" class=\"dataframe\">\n",
       "  <thead>\n",
       "    <tr style=\"text-align: right;\">\n",
       "      <th></th>\n",
       "      <th>userId</th>\n",
       "      <th>message</th>\n",
       "      <th>message_list</th>\n",
       "    </tr>\n",
       "  </thead>\n",
       "  <tbody>\n",
       "    <tr>\n",
       "      <th>0</th>\n",
       "      <td>1186000531525260</td>\n",
       "      <td>วีออสเท่าใรคั</td>\n",
       "      <td>[วีออสเท่าใรคั]</td>\n",
       "    </tr>\n",
       "    <tr>\n",
       "      <th>1</th>\n",
       "      <td>1217179911739736</td>\n",
       "      <td>ป​​ผม​,วีโก้​แชมป์​​ประตู​</td>\n",
       "      <td>[ป​​ผม​,วีโก้​แชมป์​​ประตู​]</td>\n",
       "    </tr>\n",
       "    <tr>\n",
       "      <th>2</th>\n",
       "      <td>1326518720805322</td>\n",
       "      <td>,ออนิว,</td>\n",
       "      <td>[,ออนิว,]</td>\n",
       "    </tr>\n",
       "    <tr>\n",
       "      <th>3</th>\n",
       "      <td>1334390303260358</td>\n",
       "      <td>อยากกรณีจำนำเล่มทะเบียนรถยนต์ ต้องเปนผู้ครอบคร...</td>\n",
       "      <td>[อยากกรณีจำนำเล่มทะเบียนรถยนต์, ต้องเปนผู้ครอบ...</td>\n",
       "    </tr>\n",
       "    <tr>\n",
       "      <th>4</th>\n",
       "      <td>1343993022391031</td>\n",
       "      <td></td>\n",
       "      <td>[]</td>\n",
       "    </tr>\n",
       "  </tbody>\n",
       "</table>\n",
       "</div>"
      ],
      "text/plain": [
       "             userId                                            message  \\\n",
       "0  1186000531525260                                      วีออสเท่าใรคั   \n",
       "1  1217179911739736                         ป​​ผม​,วีโก้​แชมป์​​ประตู​   \n",
       "2  1326518720805322                                            ,ออนิว,   \n",
       "3  1334390303260358  อยากกรณีจำนำเล่มทะเบียนรถยนต์ ต้องเปนผู้ครอบคร...   \n",
       "4  1343993022391031                                                      \n",
       "\n",
       "                                        message_list  \n",
       "0                                    [วีออสเท่าใรคั]  \n",
       "1                       [ป​​ผม​,วีโก้​แชมป์​​ประตู​]  \n",
       "2                                          [,ออนิว,]  \n",
       "3  [อยากกรณีจำนำเล่มทะเบียนรถยนต์, ต้องเปนผู้ครอบ...  \n",
       "4                                                 []  "
      ]
     },
     "execution_count": 14,
     "metadata": {},
     "output_type": "execute_result"
    }
   ],
   "source": [
    "df_new.head()"
   ]
  },
  {
   "cell_type": "code",
   "execution_count": 15,
   "metadata": {},
   "outputs": [],
   "source": [
    "vectorizer = TfidfVectorizer(tokenizer=get_th_tokens, token_pattern=None, ngram_range=(1,2)) "
   ]
  },
  {
   "cell_type": "code",
   "execution_count": 16,
   "metadata": {},
   "outputs": [
    {
     "data": {
      "text/plain": [
       "TfidfVectorizer(ngram_range=(1, 2), token_pattern=None,\n",
       "                tokenizer=<function get_th_tokens at 0x1027a44d0>)"
      ]
     },
     "execution_count": 16,
     "metadata": {},
     "output_type": "execute_result"
    }
   ],
   "source": [
    "vectorizer.fit(df_new['message']) "
   ]
  },
  {
   "cell_type": "code",
   "execution_count": 17,
   "metadata": {},
   "outputs": [],
   "source": [
    "feat = vectorizer.transform(df_new['message']) \n",
    "feat_arr = feat.toarray() "
   ]
  },
  {
   "cell_type": "code",
   "execution_count": 18,
   "metadata": {},
   "outputs": [
    {
     "data": {
      "text/plain": [
       "(2144, 19959)"
      ]
     },
     "execution_count": 18,
     "metadata": {},
     "output_type": "execute_result"
    }
   ],
   "source": [
    "feat_arr.shape"
   ]
  },
  {
   "cell_type": "code",
   "execution_count": 19,
   "metadata": {},
   "outputs": [],
   "source": [
    "avg_tfidf = feat_arr.sum(axis=0) / np.count_nonzero(feat_arr,axis=0) "
   ]
  },
  {
   "cell_type": "code",
   "execution_count": 20,
   "metadata": {},
   "outputs": [],
   "source": [
    "result = pd.DataFrame() \n",
    "result['word'] = vectorizer.get_feature_names() \n",
    "result['avg_tfidf'] = avg_tfidf "
   ]
  },
  {
   "cell_type": "code",
   "execution_count": 21,
   "metadata": {},
   "outputs": [
    {
     "data": {
      "text/html": [
       "<div>\n",
       "<style scoped>\n",
       "    .dataframe tbody tr th:only-of-type {\n",
       "        vertical-align: middle;\n",
       "    }\n",
       "\n",
       "    .dataframe tbody tr th {\n",
       "        vertical-align: top;\n",
       "    }\n",
       "\n",
       "    .dataframe thead th {\n",
       "        text-align: right;\n",
       "    }\n",
       "</style>\n",
       "<table border=\"1\" class=\"dataframe\">\n",
       "  <thead>\n",
       "    <tr style=\"text-align: right;\">\n",
       "      <th></th>\n",
       "      <th>word</th>\n",
       "      <th>avg_tfidf</th>\n",
       "    </tr>\n",
       "  </thead>\n",
       "  <tbody>\n",
       "    <tr>\n",
       "      <th>1042</th>\n",
       "      <td>,,,ฟหกหฟก</td>\n",
       "      <td>1.000000</td>\n",
       "    </tr>\n",
       "    <tr>\n",
       "      <th>4541</th>\n",
       "      <td>ชช,ล,ช</td>\n",
       "      <td>1.000000</td>\n",
       "    </tr>\n",
       "    <tr>\n",
       "      <th>19947</th>\n",
       "      <td>👎🏼😎</td>\n",
       "      <td>1.000000</td>\n",
       "    </tr>\n",
       "    <tr>\n",
       "      <th>19946</th>\n",
       "      <td>❤️</td>\n",
       "      <td>1.000000</td>\n",
       "    </tr>\n",
       "    <tr>\n",
       "      <th>2736</th>\n",
       "      <td>การ ชำระ</td>\n",
       "      <td>0.784096</td>\n",
       "    </tr>\n",
       "    <tr>\n",
       "      <th>2981</th>\n",
       "      <td>กู้เงิน ​</td>\n",
       "      <td>0.756709</td>\n",
       "    </tr>\n",
       "    <tr>\n",
       "      <th>9811</th>\n",
       "      <td>มา กา</td>\n",
       "      <td>0.752136</td>\n",
       "    </tr>\n",
       "    <tr>\n",
       "      <th>13860</th>\n",
       "      <td>หมด พย</td>\n",
       "      <td>0.719538</td>\n",
       "    </tr>\n",
       "    <tr>\n",
       "      <th>1184</th>\n",
       "      <td>,งง, รายละเอียด</td>\n",
       "      <td>0.702614</td>\n",
       "    </tr>\n",
       "    <tr>\n",
       "      <th>2193</th>\n",
       "      <td>toyota คัฟ</td>\n",
       "      <td>0.695758</td>\n",
       "    </tr>\n",
       "  </tbody>\n",
       "</table>\n",
       "</div>"
      ],
      "text/plain": [
       "                  word  avg_tfidf\n",
       "1042         ,,,ฟหกหฟก   1.000000\n",
       "4541            ชช,ล,ช   1.000000\n",
       "19947              👎🏼😎   1.000000\n",
       "19946               ❤️   1.000000\n",
       "2736          การ ชำระ   0.784096\n",
       "2981         กู้เงิน ​   0.756709\n",
       "9811             มา กา   0.752136\n",
       "13860           หมด พย   0.719538\n",
       "1184   ,งง, รายละเอียด   0.702614\n",
       "2193        toyota คัฟ   0.695758"
      ]
     },
     "execution_count": 21,
     "metadata": {},
     "output_type": "execute_result"
    }
   ],
   "source": [
    "result.sort_values('avg_tfidf', ascending=False).head(10) "
   ]
  },
  {
   "cell_type": "code",
   "execution_count": 22,
   "metadata": {},
   "outputs": [],
   "source": [
    "def filter_words(text):\n",
    "    text = text.replace('\\n', ' ') \n",
    "    text = text.replace(',', ' ')\n",
    "    stop_words = set(thai_stopwords()) \n",
    "    tokens = word_tokenize(text, engine=\"newmm\", keep_whitespace=False) \n",
    "    filtered_text = [] \n",
    "    for w in tokens: \n",
    "        if w not in stop_words: \n",
    "            filtered_text.append(w) \n",
    "    return filtered_text"
   ]
  },
  {
   "cell_type": "code",
   "execution_count": 23,
   "metadata": {},
   "outputs": [
    {
     "data": {
      "text/plain": [
       "['เรียน']"
      ]
     },
     "execution_count": 23,
     "metadata": {},
     "output_type": "execute_result"
    }
   ],
   "source": [
    "filter_words(\"ฉันไปเรียนค่ะ\")"
   ]
  },
  {
   "cell_type": "code",
   "execution_count": 24,
   "metadata": {},
   "outputs": [],
   "source": [
    "df_new[\"message_filtered\"] = df_new[\"message\"].apply(lambda x : filter_words(x)) "
   ]
  },
  {
   "cell_type": "code",
   "execution_count": 25,
   "metadata": {},
   "outputs": [
    {
     "data": {
      "text/html": [
       "<div>\n",
       "<style scoped>\n",
       "    .dataframe tbody tr th:only-of-type {\n",
       "        vertical-align: middle;\n",
       "    }\n",
       "\n",
       "    .dataframe tbody tr th {\n",
       "        vertical-align: top;\n",
       "    }\n",
       "\n",
       "    .dataframe thead th {\n",
       "        text-align: right;\n",
       "    }\n",
       "</style>\n",
       "<table border=\"1\" class=\"dataframe\">\n",
       "  <thead>\n",
       "    <tr style=\"text-align: right;\">\n",
       "      <th></th>\n",
       "      <th>userId</th>\n",
       "      <th>message</th>\n",
       "      <th>message_list</th>\n",
       "      <th>message_filtered</th>\n",
       "    </tr>\n",
       "  </thead>\n",
       "  <tbody>\n",
       "    <tr>\n",
       "      <th>0</th>\n",
       "      <td>1186000531525260</td>\n",
       "      <td>วีออสเท่าใรคั</td>\n",
       "      <td>[วีออสเท่าใรคั]</td>\n",
       "      <td>[วีออส, ใรคั]</td>\n",
       "    </tr>\n",
       "    <tr>\n",
       "      <th>1</th>\n",
       "      <td>1217179911739736</td>\n",
       "      <td>ป​​ผม​,วีโก้​แชมป์​​ประตู​</td>\n",
       "      <td>[ป​​ผม​,วีโก้​แชมป์​​ประตู​]</td>\n",
       "      <td>[ป​​ผม​, วีโก้, ​, แชมป์, ​​, ประตู, ​]</td>\n",
       "    </tr>\n",
       "    <tr>\n",
       "      <th>2</th>\n",
       "      <td>1326518720805322</td>\n",
       "      <td>,ออนิว,</td>\n",
       "      <td>[,ออนิว,]</td>\n",
       "      <td>[ออ, นิว]</td>\n",
       "    </tr>\n",
       "    <tr>\n",
       "      <th>3</th>\n",
       "      <td>1334390303260358</td>\n",
       "      <td>อยากกรณีจำนำเล่มทะเบียนรถยนต์ ต้องเปนผู้ครอบคร...</td>\n",
       "      <td>[อยากกรณีจำนำเล่มทะเบียนรถยนต์, ต้องเปนผู้ครอบ...</td>\n",
       "      <td>[กรณี, จำนำ, เล่ม, ทะเบียนรถยนต์, เปน, ผู้ครอบ...</td>\n",
       "    </tr>\n",
       "    <tr>\n",
       "      <th>4</th>\n",
       "      <td>1343993022391031</td>\n",
       "      <td></td>\n",
       "      <td>[]</td>\n",
       "      <td>[]</td>\n",
       "    </tr>\n",
       "  </tbody>\n",
       "</table>\n",
       "</div>"
      ],
      "text/plain": [
       "             userId                                            message  \\\n",
       "0  1186000531525260                                      วีออสเท่าใรคั   \n",
       "1  1217179911739736                         ป​​ผม​,วีโก้​แชมป์​​ประตู​   \n",
       "2  1326518720805322                                            ,ออนิว,   \n",
       "3  1334390303260358  อยากกรณีจำนำเล่มทะเบียนรถยนต์ ต้องเปนผู้ครอบคร...   \n",
       "4  1343993022391031                                                      \n",
       "\n",
       "                                        message_list  \\\n",
       "0                                    [วีออสเท่าใรคั]   \n",
       "1                       [ป​​ผม​,วีโก้​แชมป์​​ประตู​]   \n",
       "2                                          [,ออนิว,]   \n",
       "3  [อยากกรณีจำนำเล่มทะเบียนรถยนต์, ต้องเปนผู้ครอบ...   \n",
       "4                                                 []   \n",
       "\n",
       "                                    message_filtered  \n",
       "0                                      [วีออส, ใรคั]  \n",
       "1            [ป​​ผม​, วีโก้, ​, แชมป์, ​​, ประตู, ​]  \n",
       "2                                          [ออ, นิว]  \n",
       "3  [กรณี, จำนำ, เล่ม, ทะเบียนรถยนต์, เปน, ผู้ครอบ...  \n",
       "4                                                 []  "
      ]
     },
     "execution_count": 25,
     "metadata": {},
     "output_type": "execute_result"
    }
   ],
   "source": [
    "df_new.head()"
   ]
  },
  {
   "cell_type": "code",
   "execution_count": 26,
   "metadata": {},
   "outputs": [],
   "source": [
    "def listToString(s):  \n",
    "    \n",
    "    # initialize an empty string \n",
    "    str1 = \" \" \n",
    "    \n",
    "    # return string   \n",
    "    return (str1.join(s)) "
   ]
  },
  {
   "cell_type": "code",
   "execution_count": 27,
   "metadata": {},
   "outputs": [],
   "source": [
    "df_new['message_filtered'] = df_new['message_filtered'].apply(listToString)"
   ]
  },
  {
   "cell_type": "code",
   "execution_count": 28,
   "metadata": {},
   "outputs": [],
   "source": [
    "df_new['len_msg'] = df_new['message_filtered'].apply(len)"
   ]
  },
  {
   "cell_type": "code",
   "execution_count": 29,
   "metadata": {},
   "outputs": [
    {
     "data": {
      "text/html": [
       "<div>\n",
       "<style scoped>\n",
       "    .dataframe tbody tr th:only-of-type {\n",
       "        vertical-align: middle;\n",
       "    }\n",
       "\n",
       "    .dataframe tbody tr th {\n",
       "        vertical-align: top;\n",
       "    }\n",
       "\n",
       "    .dataframe thead th {\n",
       "        text-align: right;\n",
       "    }\n",
       "</style>\n",
       "<table border=\"1\" class=\"dataframe\">\n",
       "  <thead>\n",
       "    <tr style=\"text-align: right;\">\n",
       "      <th></th>\n",
       "      <th>userId</th>\n",
       "      <th>message</th>\n",
       "      <th>message_list</th>\n",
       "      <th>message_filtered</th>\n",
       "      <th>len_msg</th>\n",
       "    </tr>\n",
       "  </thead>\n",
       "  <tbody>\n",
       "    <tr>\n",
       "      <th>0</th>\n",
       "      <td>1186000531525260</td>\n",
       "      <td>วีออสเท่าใรคั</td>\n",
       "      <td>[วีออสเท่าใรคั]</td>\n",
       "      <td>วีออส ใรคั</td>\n",
       "      <td>10</td>\n",
       "    </tr>\n",
       "    <tr>\n",
       "      <th>1</th>\n",
       "      <td>1217179911739736</td>\n",
       "      <td>ป​​ผม​,วีโก้​แชมป์​​ประตู​</td>\n",
       "      <td>[ป​​ผม​,วีโก้​แชมป์​​ประตู​]</td>\n",
       "      <td>ป​​ผม​ วีโก้ ​ แชมป์ ​​ ประตู ​</td>\n",
       "      <td>31</td>\n",
       "    </tr>\n",
       "    <tr>\n",
       "      <th>2</th>\n",
       "      <td>1326518720805322</td>\n",
       "      <td>,ออนิว,</td>\n",
       "      <td>[,ออนิว,]</td>\n",
       "      <td>ออ นิว</td>\n",
       "      <td>6</td>\n",
       "    </tr>\n",
       "    <tr>\n",
       "      <th>3</th>\n",
       "      <td>1334390303260358</td>\n",
       "      <td>อยากกรณีจำนำเล่มทะเบียนรถยนต์ ต้องเปนผู้ครอบคร...</td>\n",
       "      <td>[อยากกรณีจำนำเล่มทะเบียนรถยนต์, ต้องเปนผู้ครอบ...</td>\n",
       "      <td>กรณี จำนำ เล่ม ทะเบียนรถยนต์ เปน ผู้ครอบครอง ก...</td>\n",
       "      <td>109</td>\n",
       "    </tr>\n",
       "    <tr>\n",
       "      <th>4</th>\n",
       "      <td>1343993022391031</td>\n",
       "      <td></td>\n",
       "      <td>[]</td>\n",
       "      <td></td>\n",
       "      <td>0</td>\n",
       "    </tr>\n",
       "  </tbody>\n",
       "</table>\n",
       "</div>"
      ],
      "text/plain": [
       "             userId                                            message  \\\n",
       "0  1186000531525260                                      วีออสเท่าใรคั   \n",
       "1  1217179911739736                         ป​​ผม​,วีโก้​แชมป์​​ประตู​   \n",
       "2  1326518720805322                                            ,ออนิว,   \n",
       "3  1334390303260358  อยากกรณีจำนำเล่มทะเบียนรถยนต์ ต้องเปนผู้ครอบคร...   \n",
       "4  1343993022391031                                                      \n",
       "\n",
       "                                        message_list  \\\n",
       "0                                    [วีออสเท่าใรคั]   \n",
       "1                       [ป​​ผม​,วีโก้​แชมป์​​ประตู​]   \n",
       "2                                          [,ออนิว,]   \n",
       "3  [อยากกรณีจำนำเล่มทะเบียนรถยนต์, ต้องเปนผู้ครอบ...   \n",
       "4                                                 []   \n",
       "\n",
       "                                    message_filtered  len_msg  \n",
       "0                                         วีออส ใรคั       10  \n",
       "1                    ป​​ผม​ วีโก้ ​ แชมป์ ​​ ประตู ​       31  \n",
       "2                                             ออ นิว        6  \n",
       "3  กรณี จำนำ เล่ม ทะเบียนรถยนต์ เปน ผู้ครอบครอง ก...      109  \n",
       "4                                                           0  "
      ]
     },
     "execution_count": 29,
     "metadata": {},
     "output_type": "execute_result"
    }
   ],
   "source": [
    "df_new.head()"
   ]
  },
  {
   "cell_type": "code",
   "execution_count": 30,
   "metadata": {},
   "outputs": [],
   "source": [
    "# df_new['len_msg'].hist(bins=100)"
   ]
  },
  {
   "cell_type": "code",
   "execution_count": 31,
   "metadata": {},
   "outputs": [],
   "source": [
    "vectorizer = TfidfVectorizer(tokenizer=get_th_tokens, token_pattern=None, ngram_range=(1,2)) "
   ]
  },
  {
   "cell_type": "code",
   "execution_count": 32,
   "metadata": {},
   "outputs": [
    {
     "data": {
      "text/plain": [
       "TfidfVectorizer(ngram_range=(1, 2), token_pattern=None,\n",
       "                tokenizer=<function get_th_tokens at 0x1027a44d0>)"
      ]
     },
     "execution_count": 32,
     "metadata": {},
     "output_type": "execute_result"
    }
   ],
   "source": [
    "vectorizer.fit(df_new['message_filtered']) "
   ]
  },
  {
   "cell_type": "code",
   "execution_count": 33,
   "metadata": {},
   "outputs": [],
   "source": [
    "feat_filtered = vectorizer.transform(df_new['message']) \n",
    "feat_filtered_arr = feat_filtered.toarray() "
   ]
  },
  {
   "cell_type": "code",
   "execution_count": 34,
   "metadata": {},
   "outputs": [
    {
     "data": {
      "text/plain": [
       "(2144, 15156)"
      ]
     },
     "execution_count": 34,
     "metadata": {},
     "output_type": "execute_result"
    }
   ],
   "source": [
    "feat_filtered_arr.shape"
   ]
  },
  {
   "cell_type": "code",
   "execution_count": 35,
   "metadata": {},
   "outputs": [
    {
     "name": "stderr",
     "output_type": "stream",
     "text": [
      "/Users/phrare/NTL_dashboard/NTL/lib/python3.7/site-packages/ipykernel_launcher.py:1: RuntimeWarning: invalid value encountered in true_divide\n",
      "  \"\"\"Entry point for launching an IPython kernel.\n"
     ]
    }
   ],
   "source": [
    "avg_tfidf = feat_filtered_arr.sum(axis=0) / np.count_nonzero(feat_filtered_arr,axis=0) "
   ]
  },
  {
   "cell_type": "code",
   "execution_count": 36,
   "metadata": {},
   "outputs": [],
   "source": [
    "result_filtered = pd.DataFrame() \n",
    "result_filtered['word'] = vectorizer.get_feature_names() \n",
    "result_filtered['avg_tfidf'] = avg_tfidf "
   ]
  },
  {
   "cell_type": "code",
   "execution_count": 37,
   "metadata": {},
   "outputs": [
    {
     "data": {
      "text/html": [
       "<div>\n",
       "<style scoped>\n",
       "    .dataframe tbody tr th:only-of-type {\n",
       "        vertical-align: middle;\n",
       "    }\n",
       "\n",
       "    .dataframe tbody tr th {\n",
       "        vertical-align: top;\n",
       "    }\n",
       "\n",
       "    .dataframe thead th {\n",
       "        text-align: right;\n",
       "    }\n",
       "</style>\n",
       "<table border=\"1\" class=\"dataframe\">\n",
       "  <thead>\n",
       "    <tr style=\"text-align: right;\">\n",
       "      <th></th>\n",
       "      <th>word</th>\n",
       "      <th>avg_tfidf</th>\n",
       "    </tr>\n",
       "  </thead>\n",
       "  <tbody>\n",
       "    <tr>\n",
       "      <th>15136</th>\n",
       "      <td>👎🏼😎</td>\n",
       "      <td>1.000000</td>\n",
       "    </tr>\n",
       "    <tr>\n",
       "      <th>15135</th>\n",
       "      <td>❤️</td>\n",
       "      <td>1.000000</td>\n",
       "    </tr>\n",
       "    <tr>\n",
       "      <th>3578</th>\n",
       "      <td>ตกงาน</td>\n",
       "      <td>1.000000</td>\n",
       "    </tr>\n",
       "    <tr>\n",
       "      <th>1820</th>\n",
       "      <td>ครีบ</td>\n",
       "      <td>1.000000</td>\n",
       "    </tr>\n",
       "    <tr>\n",
       "      <th>10977</th>\n",
       "      <td>ห้</td>\n",
       "      <td>1.000000</td>\n",
       "    </tr>\n",
       "    <tr>\n",
       "      <th>798</th>\n",
       "      <td>true</td>\n",
       "      <td>0.950449</td>\n",
       "    </tr>\n",
       "    <tr>\n",
       "      <th>5450</th>\n",
       "      <td>บัด</td>\n",
       "      <td>0.943083</td>\n",
       "    </tr>\n",
       "    <tr>\n",
       "      <th>11309</th>\n",
       "      <td>อาร์ต</td>\n",
       "      <td>0.875267</td>\n",
       "    </tr>\n",
       "    <tr>\n",
       "      <th>848</th>\n",
       "      <td>vogo</td>\n",
       "      <td>0.864195</td>\n",
       "    </tr>\n",
       "    <tr>\n",
       "      <th>1840</th>\n",
       "      <td>คร์</td>\n",
       "      <td>0.857852</td>\n",
       "    </tr>\n",
       "  </tbody>\n",
       "</table>\n",
       "</div>"
      ],
      "text/plain": [
       "        word  avg_tfidf\n",
       "15136    👎🏼😎   1.000000\n",
       "15135     ❤️   1.000000\n",
       "3578   ตกงาน   1.000000\n",
       "1820    ครีบ   1.000000\n",
       "10977     ห้   1.000000\n",
       "798     true   0.950449\n",
       "5450     บัด   0.943083\n",
       "11309  อาร์ต   0.875267\n",
       "848     vogo   0.864195\n",
       "1840     คร์   0.857852"
      ]
     },
     "execution_count": 37,
     "metadata": {},
     "output_type": "execute_result"
    }
   ],
   "source": [
    "result_filtered.sort_values('avg_tfidf', ascending=False).head(10) "
   ]
  },
  {
   "cell_type": "code",
   "execution_count": 38,
   "metadata": {},
   "outputs": [],
   "source": [
    "def remove_emoji(string):\n",
    "    emoji_pattern = re.compile(\"[\"\n",
    "                               u\"\\U0001F600-\\U0001F64F\"  # emoticons\n",
    "                               u\"\\U0001F300-\\U0001F5FF\"  # symbols & pictographs\n",
    "                               u\"\\U0001F680-\\U0001F6FF\"  # transport & map symbols\n",
    "                               u\"\\U0001F1E0-\\U0001F1FF\"  # flags (iOS)\n",
    "                               u\"\\U00002500-\\U00002BEF\"  # chinese char\n",
    "                               u\"\\U00002702-\\U000027B0\"\n",
    "                               u\"\\U00002702-\\U000027B0\"\n",
    "                               u\"\\U000024C2-\\U0001F251\"\n",
    "                               u\"\\U0001f926-\\U0001f937\"\n",
    "                               u\"\\U00010000-\\U0010ffff\"\n",
    "                               u\"\\u2640-\\u2642\"\n",
    "                               u\"\\u2600-\\u2B55\"\n",
    "                               u\"\\u200d\"\n",
    "                               u\"\\u23cf\"\n",
    "                               u\"\\u23e9\"\n",
    "                               u\"\\u231a\"\n",
    "                               u\"\\ufe0f\"  # dingbats\n",
    "                               u\"\\u3030\"\n",
    "                               \"]+\", flags=re.UNICODE)\n",
    "    return emoji_pattern.sub(r'', string)"
   ]
  },
  {
   "cell_type": "code",
   "execution_count": 39,
   "metadata": {},
   "outputs": [],
   "source": [
    "string = \"This is a dinosaur 🦖\""
   ]
  },
  {
   "cell_type": "code",
   "execution_count": 40,
   "metadata": {},
   "outputs": [
    {
     "name": "stdout",
     "output_type": "stream",
     "text": [
      "This is a dinosaur \n"
     ]
    }
   ],
   "source": [
    "print(remove_emoji(string))"
   ]
  },
  {
   "cell_type": "code",
   "execution_count": 41,
   "metadata": {},
   "outputs": [],
   "source": [
    "s1 = \"ตลกจัง 😂\""
   ]
  },
  {
   "cell_type": "code",
   "execution_count": 42,
   "metadata": {},
   "outputs": [
    {
     "data": {
      "text/plain": [
       "'ตลกจัง '"
      ]
     },
     "execution_count": 42,
     "metadata": {},
     "output_type": "execute_result"
    }
   ],
   "source": [
    "remove_emoji(s1)"
   ]
  },
  {
   "cell_type": "code",
   "execution_count": 43,
   "metadata": {},
   "outputs": [],
   "source": [
    "df_new['message_filtered_demoji'] = df_new['message_filtered'].apply(remove_emoji)"
   ]
  },
  {
   "cell_type": "code",
   "execution_count": 44,
   "metadata": {},
   "outputs": [
    {
     "data": {
      "text/html": [
       "<div>\n",
       "<style scoped>\n",
       "    .dataframe tbody tr th:only-of-type {\n",
       "        vertical-align: middle;\n",
       "    }\n",
       "\n",
       "    .dataframe tbody tr th {\n",
       "        vertical-align: top;\n",
       "    }\n",
       "\n",
       "    .dataframe thead th {\n",
       "        text-align: right;\n",
       "    }\n",
       "</style>\n",
       "<table border=\"1\" class=\"dataframe\">\n",
       "  <thead>\n",
       "    <tr style=\"text-align: right;\">\n",
       "      <th></th>\n",
       "      <th>userId</th>\n",
       "      <th>message</th>\n",
       "      <th>message_list</th>\n",
       "      <th>message_filtered</th>\n",
       "      <th>len_msg</th>\n",
       "      <th>message_filtered_demoji</th>\n",
       "    </tr>\n",
       "  </thead>\n",
       "  <tbody>\n",
       "    <tr>\n",
       "      <th>0</th>\n",
       "      <td>1186000531525260</td>\n",
       "      <td>วีออสเท่าใรคั</td>\n",
       "      <td>[วีออสเท่าใรคั]</td>\n",
       "      <td>วีออส ใรคั</td>\n",
       "      <td>10</td>\n",
       "      <td>วีออส ใรคั</td>\n",
       "    </tr>\n",
       "    <tr>\n",
       "      <th>1</th>\n",
       "      <td>1217179911739736</td>\n",
       "      <td>ป​​ผม​,วีโก้​แชมป์​​ประตู​</td>\n",
       "      <td>[ป​​ผม​,วีโก้​แชมป์​​ประตู​]</td>\n",
       "      <td>ป​​ผม​ วีโก้ ​ แชมป์ ​​ ประตู ​</td>\n",
       "      <td>31</td>\n",
       "      <td>ป​​ผม​ วีโก้ ​ แชมป์ ​​ ประตู ​</td>\n",
       "    </tr>\n",
       "    <tr>\n",
       "      <th>2</th>\n",
       "      <td>1326518720805322</td>\n",
       "      <td>,ออนิว,</td>\n",
       "      <td>[,ออนิว,]</td>\n",
       "      <td>ออ นิว</td>\n",
       "      <td>6</td>\n",
       "      <td>ออ นิว</td>\n",
       "    </tr>\n",
       "    <tr>\n",
       "      <th>3</th>\n",
       "      <td>1334390303260358</td>\n",
       "      <td>อยากกรณีจำนำเล่มทะเบียนรถยนต์ ต้องเปนผู้ครอบคร...</td>\n",
       "      <td>[อยากกรณีจำนำเล่มทะเบียนรถยนต์, ต้องเปนผู้ครอบ...</td>\n",
       "      <td>กรณี จำนำ เล่ม ทะเบียนรถยนต์ เปน ผู้ครอบครอง ก...</td>\n",
       "      <td>109</td>\n",
       "      <td>กรณี จำนำ เล่ม ทะเบียนรถยนต์ เปน ผู้ครอบครอง ก...</td>\n",
       "    </tr>\n",
       "    <tr>\n",
       "      <th>4</th>\n",
       "      <td>1343993022391031</td>\n",
       "      <td></td>\n",
       "      <td>[]</td>\n",
       "      <td></td>\n",
       "      <td>0</td>\n",
       "      <td></td>\n",
       "    </tr>\n",
       "  </tbody>\n",
       "</table>\n",
       "</div>"
      ],
      "text/plain": [
       "             userId                                            message  \\\n",
       "0  1186000531525260                                      วีออสเท่าใรคั   \n",
       "1  1217179911739736                         ป​​ผม​,วีโก้​แชมป์​​ประตู​   \n",
       "2  1326518720805322                                            ,ออนิว,   \n",
       "3  1334390303260358  อยากกรณีจำนำเล่มทะเบียนรถยนต์ ต้องเปนผู้ครอบคร...   \n",
       "4  1343993022391031                                                      \n",
       "\n",
       "                                        message_list  \\\n",
       "0                                    [วีออสเท่าใรคั]   \n",
       "1                       [ป​​ผม​,วีโก้​แชมป์​​ประตู​]   \n",
       "2                                          [,ออนิว,]   \n",
       "3  [อยากกรณีจำนำเล่มทะเบียนรถยนต์, ต้องเปนผู้ครอบ...   \n",
       "4                                                 []   \n",
       "\n",
       "                                    message_filtered  len_msg  \\\n",
       "0                                         วีออส ใรคั       10   \n",
       "1                    ป​​ผม​ วีโก้ ​ แชมป์ ​​ ประตู ​       31   \n",
       "2                                             ออ นิว        6   \n",
       "3  กรณี จำนำ เล่ม ทะเบียนรถยนต์ เปน ผู้ครอบครอง ก...      109   \n",
       "4                                                           0   \n",
       "\n",
       "                             message_filtered_demoji  \n",
       "0                                         วีออส ใรคั  \n",
       "1                    ป​​ผม​ วีโก้ ​ แชมป์ ​​ ประตู ​  \n",
       "2                                             ออ นิว  \n",
       "3  กรณี จำนำ เล่ม ทะเบียนรถยนต์ เปน ผู้ครอบครอง ก...  \n",
       "4                                                     "
      ]
     },
     "execution_count": 44,
     "metadata": {},
     "output_type": "execute_result"
    }
   ],
   "source": [
    "df_new.head()"
   ]
  },
  {
   "cell_type": "code",
   "execution_count": 45,
   "metadata": {},
   "outputs": [
    {
     "data": {
      "text/plain": [
       "TfidfVectorizer(ngram_range=(1, 2), token_pattern=None,\n",
       "                tokenizer=<function get_th_tokens at 0x1027a44d0>)"
      ]
     },
     "execution_count": 45,
     "metadata": {},
     "output_type": "execute_result"
    }
   ],
   "source": [
    "vectorizer = TfidfVectorizer(tokenizer=get_th_tokens, token_pattern=None, ngram_range=(1,2)) \n",
    "vectorizer.fit(df_new['message_filtered_demoji']) "
   ]
  },
  {
   "cell_type": "code",
   "execution_count": 46,
   "metadata": {},
   "outputs": [],
   "source": [
    "feat_filtered_emoji = vectorizer.transform(df_new['message']) \n",
    "feat_filtered_emoji_arr = feat_filtered_emoji.toarray() "
   ]
  },
  {
   "cell_type": "code",
   "execution_count": 47,
   "metadata": {},
   "outputs": [
    {
     "name": "stderr",
     "output_type": "stream",
     "text": [
      "/Users/phrare/NTL_dashboard/NTL/lib/python3.7/site-packages/ipykernel_launcher.py:1: RuntimeWarning: invalid value encountered in true_divide\n",
      "  \"\"\"Entry point for launching an IPython kernel.\n"
     ]
    }
   ],
   "source": [
    "avg_tfidf = feat_filtered_emoji_arr.sum(axis=0) / np.count_nonzero(feat_filtered_emoji_arr,axis=0) \n",
    "result_filtered_emoji = pd.DataFrame() \n",
    "result_filtered_emoji['word'] = vectorizer.get_feature_names() \n",
    "result_filtered_emoji['avg_tfidf'] = avg_tfidf "
   ]
  },
  {
   "cell_type": "code",
   "execution_count": 48,
   "metadata": {},
   "outputs": [
    {
     "data": {
      "text/html": [
       "<div>\n",
       "<style scoped>\n",
       "    .dataframe tbody tr th:only-of-type {\n",
       "        vertical-align: middle;\n",
       "    }\n",
       "\n",
       "    .dataframe tbody tr th {\n",
       "        vertical-align: top;\n",
       "    }\n",
       "\n",
       "    .dataframe thead th {\n",
       "        text-align: right;\n",
       "    }\n",
       "</style>\n",
       "<table border=\"1\" class=\"dataframe\">\n",
       "  <thead>\n",
       "    <tr style=\"text-align: right;\">\n",
       "      <th></th>\n",
       "      <th>word</th>\n",
       "      <th>avg_tfidf</th>\n",
       "    </tr>\n",
       "  </thead>\n",
       "  <tbody>\n",
       "    <tr>\n",
       "      <th>10971</th>\n",
       "      <td>ห้</td>\n",
       "      <td>1.000000</td>\n",
       "    </tr>\n",
       "    <tr>\n",
       "      <th>3578</th>\n",
       "      <td>ตกงาน</td>\n",
       "      <td>1.000000</td>\n",
       "    </tr>\n",
       "    <tr>\n",
       "      <th>1820</th>\n",
       "      <td>ครีบ</td>\n",
       "      <td>1.000000</td>\n",
       "    </tr>\n",
       "    <tr>\n",
       "      <th>798</th>\n",
       "      <td>true</td>\n",
       "      <td>0.950449</td>\n",
       "    </tr>\n",
       "    <tr>\n",
       "      <th>5450</th>\n",
       "      <td>บัด</td>\n",
       "      <td>0.943083</td>\n",
       "    </tr>\n",
       "    <tr>\n",
       "      <th>11303</th>\n",
       "      <td>อาร์ต</td>\n",
       "      <td>0.875267</td>\n",
       "    </tr>\n",
       "    <tr>\n",
       "      <th>848</th>\n",
       "      <td>vogo</td>\n",
       "      <td>0.864195</td>\n",
       "    </tr>\n",
       "    <tr>\n",
       "      <th>1840</th>\n",
       "      <td>คร์</td>\n",
       "      <td>0.857852</td>\n",
       "    </tr>\n",
       "    <tr>\n",
       "      <th>734</th>\n",
       "      <td>test</td>\n",
       "      <td>0.828047</td>\n",
       "    </tr>\n",
       "    <tr>\n",
       "      <th>14256</th>\n",
       "      <td>ใรคั</td>\n",
       "      <td>0.823649</td>\n",
       "    </tr>\n",
       "  </tbody>\n",
       "</table>\n",
       "</div>"
      ],
      "text/plain": [
       "        word  avg_tfidf\n",
       "10971     ห้   1.000000\n",
       "3578   ตกงาน   1.000000\n",
       "1820    ครีบ   1.000000\n",
       "798     true   0.950449\n",
       "5450     บัด   0.943083\n",
       "11303  อาร์ต   0.875267\n",
       "848     vogo   0.864195\n",
       "1840     คร์   0.857852\n",
       "734     test   0.828047\n",
       "14256   ใรคั   0.823649"
      ]
     },
     "execution_count": 48,
     "metadata": {},
     "output_type": "execute_result"
    }
   ],
   "source": [
    "result_filtered_emoji.sort_values('avg_tfidf', ascending=False).head(10) "
   ]
  },
  {
   "cell_type": "code",
   "execution_count": 49,
   "metadata": {
    "jupyter": {
     "source_hidden": true
    }
   },
   "outputs": [],
   "source": [
    "def remove_digits(text):\n",
    "    no_digits = []\n",
    "    # Iterate through the string, adding non-numbers to the no_digits list\n",
    "    for i in text:\n",
    "        if not i.isdigit():\n",
    "            no_digits.append(i)\n",
    "\n",
    "    # Now join all elements of the list with '', \n",
    "    # which puts all of the characters together.\n",
    "    result = ''.join(no_digits)\n",
    "    return result"
   ]
  },
  {
   "cell_type": "code",
   "execution_count": 50,
   "metadata": {},
   "outputs": [],
   "source": [
    "def no_digits(text):\n",
    "    output = re.sub(r'\\d+', '', text)\n",
    "    return output"
   ]
  },
  {
   "cell_type": "code",
   "execution_count": 51,
   "metadata": {},
   "outputs": [],
   "source": [
    "s2 = 'แพร 12384975021'"
   ]
  },
  {
   "cell_type": "code",
   "execution_count": 52,
   "metadata": {},
   "outputs": [
    {
     "data": {
      "text/plain": [
       "'แพร '"
      ]
     },
     "execution_count": 52,
     "metadata": {},
     "output_type": "execute_result"
    }
   ],
   "source": [
    "no_digits(s2)"
   ]
  },
  {
   "cell_type": "code",
   "execution_count": 53,
   "metadata": {},
   "outputs": [],
   "source": [
    "df_new['message_filtered_emo_and_digits'] = df_new['message_filtered_demoji'].apply(no_digits)"
   ]
  },
  {
   "cell_type": "code",
   "execution_count": 54,
   "metadata": {},
   "outputs": [
    {
     "data": {
      "text/html": [
       "<div>\n",
       "<style scoped>\n",
       "    .dataframe tbody tr th:only-of-type {\n",
       "        vertical-align: middle;\n",
       "    }\n",
       "\n",
       "    .dataframe tbody tr th {\n",
       "        vertical-align: top;\n",
       "    }\n",
       "\n",
       "    .dataframe thead th {\n",
       "        text-align: right;\n",
       "    }\n",
       "</style>\n",
       "<table border=\"1\" class=\"dataframe\">\n",
       "  <thead>\n",
       "    <tr style=\"text-align: right;\">\n",
       "      <th></th>\n",
       "      <th>userId</th>\n",
       "      <th>message</th>\n",
       "      <th>message_list</th>\n",
       "      <th>message_filtered</th>\n",
       "      <th>len_msg</th>\n",
       "      <th>message_filtered_demoji</th>\n",
       "      <th>message_filtered_emo_and_digits</th>\n",
       "    </tr>\n",
       "  </thead>\n",
       "  <tbody>\n",
       "    <tr>\n",
       "      <th>0</th>\n",
       "      <td>1186000531525260</td>\n",
       "      <td>วีออสเท่าใรคั</td>\n",
       "      <td>[วีออสเท่าใรคั]</td>\n",
       "      <td>วีออส ใรคั</td>\n",
       "      <td>10</td>\n",
       "      <td>วีออส ใรคั</td>\n",
       "      <td>วีออส ใรคั</td>\n",
       "    </tr>\n",
       "    <tr>\n",
       "      <th>1</th>\n",
       "      <td>1217179911739736</td>\n",
       "      <td>ป​​ผม​,วีโก้​แชมป์​​ประตู​</td>\n",
       "      <td>[ป​​ผม​,วีโก้​แชมป์​​ประตู​]</td>\n",
       "      <td>ป​​ผม​ วีโก้ ​ แชมป์ ​​ ประตู ​</td>\n",
       "      <td>31</td>\n",
       "      <td>ป​​ผม​ วีโก้ ​ แชมป์ ​​ ประตู ​</td>\n",
       "      <td>ป​​ผม​ วีโก้ ​ แชมป์ ​​ ประตู ​</td>\n",
       "    </tr>\n",
       "    <tr>\n",
       "      <th>2</th>\n",
       "      <td>1326518720805322</td>\n",
       "      <td>,ออนิว,</td>\n",
       "      <td>[,ออนิว,]</td>\n",
       "      <td>ออ นิว</td>\n",
       "      <td>6</td>\n",
       "      <td>ออ นิว</td>\n",
       "      <td>ออ นิว</td>\n",
       "    </tr>\n",
       "    <tr>\n",
       "      <th>3</th>\n",
       "      <td>1334390303260358</td>\n",
       "      <td>อยากกรณีจำนำเล่มทะเบียนรถยนต์ ต้องเปนผู้ครอบคร...</td>\n",
       "      <td>[อยากกรณีจำนำเล่มทะเบียนรถยนต์, ต้องเปนผู้ครอบ...</td>\n",
       "      <td>กรณี จำนำ เล่ม ทะเบียนรถยนต์ เปน ผู้ครอบครอง ก...</td>\n",
       "      <td>109</td>\n",
       "      <td>กรณี จำนำ เล่ม ทะเบียนรถยนต์ เปน ผู้ครอบครอง ก...</td>\n",
       "      <td>กรณี จำนำ เล่ม ทะเบียนรถยนต์ เปน ผู้ครอบครอง ก...</td>\n",
       "    </tr>\n",
       "    <tr>\n",
       "      <th>4</th>\n",
       "      <td>1343993022391031</td>\n",
       "      <td></td>\n",
       "      <td>[]</td>\n",
       "      <td></td>\n",
       "      <td>0</td>\n",
       "      <td></td>\n",
       "      <td></td>\n",
       "    </tr>\n",
       "  </tbody>\n",
       "</table>\n",
       "</div>"
      ],
      "text/plain": [
       "             userId                                            message  \\\n",
       "0  1186000531525260                                      วีออสเท่าใรคั   \n",
       "1  1217179911739736                         ป​​ผม​,วีโก้​แชมป์​​ประตู​   \n",
       "2  1326518720805322                                            ,ออนิว,   \n",
       "3  1334390303260358  อยากกรณีจำนำเล่มทะเบียนรถยนต์ ต้องเปนผู้ครอบคร...   \n",
       "4  1343993022391031                                                      \n",
       "\n",
       "                                        message_list  \\\n",
       "0                                    [วีออสเท่าใรคั]   \n",
       "1                       [ป​​ผม​,วีโก้​แชมป์​​ประตู​]   \n",
       "2                                          [,ออนิว,]   \n",
       "3  [อยากกรณีจำนำเล่มทะเบียนรถยนต์, ต้องเปนผู้ครอบ...   \n",
       "4                                                 []   \n",
       "\n",
       "                                    message_filtered  len_msg  \\\n",
       "0                                         วีออส ใรคั       10   \n",
       "1                    ป​​ผม​ วีโก้ ​ แชมป์ ​​ ประตู ​       31   \n",
       "2                                             ออ นิว        6   \n",
       "3  กรณี จำนำ เล่ม ทะเบียนรถยนต์ เปน ผู้ครอบครอง ก...      109   \n",
       "4                                                           0   \n",
       "\n",
       "                             message_filtered_demoji  \\\n",
       "0                                         วีออส ใรคั   \n",
       "1                    ป​​ผม​ วีโก้ ​ แชมป์ ​​ ประตู ​   \n",
       "2                                             ออ นิว   \n",
       "3  กรณี จำนำ เล่ม ทะเบียนรถยนต์ เปน ผู้ครอบครอง ก...   \n",
       "4                                                      \n",
       "\n",
       "                     message_filtered_emo_and_digits  \n",
       "0                                         วีออส ใรคั  \n",
       "1                    ป​​ผม​ วีโก้ ​ แชมป์ ​​ ประตู ​  \n",
       "2                                             ออ นิว  \n",
       "3  กรณี จำนำ เล่ม ทะเบียนรถยนต์ เปน ผู้ครอบครอง ก...  \n",
       "4                                                     "
      ]
     },
     "execution_count": 54,
     "metadata": {},
     "output_type": "execute_result"
    }
   ],
   "source": [
    "df_new.head()"
   ]
  },
  {
   "cell_type": "code",
   "execution_count": 55,
   "metadata": {},
   "outputs": [
    {
     "data": {
      "text/plain": [
       "TfidfVectorizer(ngram_range=(1, 2), token_pattern=None,\n",
       "                tokenizer=<function get_th_tokens at 0x1027a44d0>)"
      ]
     },
     "execution_count": 55,
     "metadata": {},
     "output_type": "execute_result"
    }
   ],
   "source": [
    "vectorizer = TfidfVectorizer(tokenizer=get_th_tokens, token_pattern=None, ngram_range=(1,2)) \n",
    "vectorizer.fit(df_new['message_filtered_emo_and_digits']) "
   ]
  },
  {
   "cell_type": "code",
   "execution_count": 56,
   "metadata": {},
   "outputs": [],
   "source": [
    "feat_filtered_all = vectorizer.transform(df_new['message']) \n",
    "feat_filtered_all_arr = feat_filtered_all.toarray() "
   ]
  },
  {
   "cell_type": "code",
   "execution_count": 57,
   "metadata": {},
   "outputs": [
    {
     "name": "stderr",
     "output_type": "stream",
     "text": [
      "/Users/phrare/NTL_dashboard/NTL/lib/python3.7/site-packages/ipykernel_launcher.py:1: RuntimeWarning: invalid value encountered in true_divide\n",
      "  \"\"\"Entry point for launching an IPython kernel.\n"
     ]
    }
   ],
   "source": [
    "avg_tfidf = feat_filtered_all_arr.sum(axis=0) / np.count_nonzero(feat_filtered_all_arr,axis=0) \n",
    "result_filtered_all = pd.DataFrame() \n",
    "result_filtered_all['word'] = vectorizer.get_feature_names() \n",
    "result_filtered_all['avg_tfidf'] = avg_tfidf "
   ]
  },
  {
   "cell_type": "code",
   "execution_count": 58,
   "metadata": {},
   "outputs": [
    {
     "data": {
      "text/html": [
       "<div>\n",
       "<style scoped>\n",
       "    .dataframe tbody tr th:only-of-type {\n",
       "        vertical-align: middle;\n",
       "    }\n",
       "\n",
       "    .dataframe tbody tr th {\n",
       "        vertical-align: top;\n",
       "    }\n",
       "\n",
       "    .dataframe thead th {\n",
       "        text-align: right;\n",
       "    }\n",
       "</style>\n",
       "<table border=\"1\" class=\"dataframe\">\n",
       "  <thead>\n",
       "    <tr style=\"text-align: right;\">\n",
       "      <th></th>\n",
       "      <th>word</th>\n",
       "      <th>avg_tfidf</th>\n",
       "    </tr>\n",
       "  </thead>\n",
       "  <tbody>\n",
       "    <tr>\n",
       "      <th>10971</th>\n",
       "      <td>ห้</td>\n",
       "      <td>1.000000</td>\n",
       "    </tr>\n",
       "    <tr>\n",
       "      <th>3578</th>\n",
       "      <td>ตกงาน</td>\n",
       "      <td>1.000000</td>\n",
       "    </tr>\n",
       "    <tr>\n",
       "      <th>1820</th>\n",
       "      <td>ครีบ</td>\n",
       "      <td>1.000000</td>\n",
       "    </tr>\n",
       "    <tr>\n",
       "      <th>798</th>\n",
       "      <td>true</td>\n",
       "      <td>0.950449</td>\n",
       "    </tr>\n",
       "    <tr>\n",
       "      <th>5450</th>\n",
       "      <td>บัด</td>\n",
       "      <td>0.943083</td>\n",
       "    </tr>\n",
       "    <tr>\n",
       "      <th>11303</th>\n",
       "      <td>อาร์ต</td>\n",
       "      <td>0.875267</td>\n",
       "    </tr>\n",
       "    <tr>\n",
       "      <th>848</th>\n",
       "      <td>vogo</td>\n",
       "      <td>0.864195</td>\n",
       "    </tr>\n",
       "    <tr>\n",
       "      <th>1840</th>\n",
       "      <td>คร์</td>\n",
       "      <td>0.857852</td>\n",
       "    </tr>\n",
       "    <tr>\n",
       "      <th>734</th>\n",
       "      <td>test</td>\n",
       "      <td>0.828047</td>\n",
       "    </tr>\n",
       "    <tr>\n",
       "      <th>14256</th>\n",
       "      <td>ใรคั</td>\n",
       "      <td>0.823649</td>\n",
       "    </tr>\n",
       "    <tr>\n",
       "      <th>14162</th>\n",
       "      <td>ใจดี</td>\n",
       "      <td>0.804094</td>\n",
       "    </tr>\n",
       "    <tr>\n",
       "      <th>10650</th>\n",
       "      <td>สุมาลี</td>\n",
       "      <td>0.794102</td>\n",
       "    </tr>\n",
       "    <tr>\n",
       "      <th>5198</th>\n",
       "      <td>นุ้</td>\n",
       "      <td>0.791255</td>\n",
       "    </tr>\n",
       "    <tr>\n",
       "      <th>4715</th>\n",
       "      <td>ที่ดิน</td>\n",
       "      <td>0.789237</td>\n",
       "    </tr>\n",
       "    <tr>\n",
       "      <th>4940</th>\n",
       "      <td>นครสวรรค์</td>\n",
       "      <td>0.783879</td>\n",
       "    </tr>\n",
       "    <tr>\n",
       "      <th>436</th>\n",
       "      <td>jezz</td>\n",
       "      <td>0.776904</td>\n",
       "    </tr>\n",
       "    <tr>\n",
       "      <th>791</th>\n",
       "      <td>toyoya</td>\n",
       "      <td>0.762228</td>\n",
       "    </tr>\n",
       "    <tr>\n",
       "      <th>1837</th>\n",
       "      <td>คร้</td>\n",
       "      <td>0.751971</td>\n",
       "    </tr>\n",
       "    <tr>\n",
       "      <th>5591</th>\n",
       "      <td>บุคคล</td>\n",
       "      <td>0.744215</td>\n",
       "    </tr>\n",
       "    <tr>\n",
       "      <th>1520</th>\n",
       "      <td>กู้เงิน ​</td>\n",
       "      <td>0.741207</td>\n",
       "    </tr>\n",
       "  </tbody>\n",
       "</table>\n",
       "</div>"
      ],
      "text/plain": [
       "            word  avg_tfidf\n",
       "10971         ห้   1.000000\n",
       "3578       ตกงาน   1.000000\n",
       "1820        ครีบ   1.000000\n",
       "798         true   0.950449\n",
       "5450         บัด   0.943083\n",
       "11303      อาร์ต   0.875267\n",
       "848         vogo   0.864195\n",
       "1840         คร์   0.857852\n",
       "734         test   0.828047\n",
       "14256       ใรคั   0.823649\n",
       "14162       ใจดี   0.804094\n",
       "10650     สุมาลี   0.794102\n",
       "5198         นุ้   0.791255\n",
       "4715      ที่ดิน   0.789237\n",
       "4940   นครสวรรค์   0.783879\n",
       "436         jezz   0.776904\n",
       "791       toyoya   0.762228\n",
       "1837         คร้   0.751971\n",
       "5591       บุคคล   0.744215\n",
       "1520   กู้เงิน ​   0.741207"
      ]
     },
     "execution_count": 58,
     "metadata": {},
     "output_type": "execute_result"
    }
   ],
   "source": [
    "result_final = result_filtered_all.sort_values('avg_tfidf', ascending=False).head(20) \n",
    "result_final"
   ]
  },
  {
   "cell_type": "code",
   "execution_count": 59,
   "metadata": {},
   "outputs": [],
   "source": [
    "s3 = 'แพร....กินไก่ 3 ตัว 🤪'"
   ]
  },
  {
   "cell_type": "code",
   "execution_count": 60,
   "metadata": {},
   "outputs": [],
   "source": [
    "from wordcloud import WordCloud, STOPWORDS \n",
    "import matplotlib.pyplot as plt "
   ]
  },
  {
   "cell_type": "code",
   "execution_count": 61,
   "metadata": {},
   "outputs": [],
   "source": [
    "def gen_text_for_wordcloud(df):\n",
    "    words = df['word']\n",
    "    words_to_array = words.tolist()\n",
    "    return words_to_array"
   ]
  },
  {
   "cell_type": "code",
   "execution_count": 62,
   "metadata": {},
   "outputs": [],
   "source": [
    "text_final = gen_text_for_wordcloud(result_final)"
   ]
  },
  {
   "cell_type": "code",
   "execution_count": 64,
   "metadata": {},
   "outputs": [
    {
     "name": "stdout",
     "output_type": "stream",
     "text": [
      "ห้ ตกงาน ครีบ true บัด อาร์ต vogo คร์ test ใรคั ใจดี สุมาลี นุ้ ที่ดิน นครสวรรค์ jezz toyoya คร้ บุคคล กู้เงิน ​\n"
     ]
    }
   ],
   "source": [
    "text = listToString(text_final)\n",
    "print(text)"
   ]
  },
  {
   "cell_type": "code",
   "execution_count": 104,
   "metadata": {},
   "outputs": [],
   "source": [
    "path = './font/THSarabunNew.ttf'"
   ]
  },
  {
   "cell_type": "code",
   "execution_count": 117,
   "metadata": {},
   "outputs": [],
   "source": [
    "wordcloud = WordCloud(font_path=path, width = 800, height = 800, \n",
    "                background_color ='white', \n",
    "                min_font_size = 10, colormap='coolwarm',regexp = r\"[ก-๙a-zA-Z']+\", random_state=1).generate(text) "
   ]
  },
  {
   "cell_type": "code",
   "execution_count": 128,
   "metadata": {},
   "outputs": [
    {
     "data": {
      "image/png": "[encoded data removed]",
      "text/plain": [
       "<Figure size 576x576 with 1 Axes>"
      ]
     },
     "metadata": {
      "needs_background": "light"
     },
     "output_type": "display_data"
    }
   ],
   "source": [
    "# plot the WordCloud image                        \n",
    "plt.figure(figsize = (8, 8), facecolor = None) \n",
    "plt.imshow(wordcloud) \n",
    "plt.axis(\"off\") \n",
    "plt.tight_layout(pad = 0) \n",
    "  \n",
    "plt.savefig('./WordCloud/keyword_{}.png'.format(td))"
   ]
  },
  {
   "cell_type": "code",
   "execution_count": 127,
   "metadata": {},
   "outputs": [],
   "source": [
    "from datetime import date\n",
    "today = date.today()\n",
    "td = today.strftime(\"%Y-%m-%d\")"
   ]
  },
  {
   "cell_type": "code",
   "execution_count": null,
   "metadata": {},
   "outputs": [],
   "source": []
  }
 ],
 "metadata": {
  "kernelspec": {
   "display_name": "Python 3.7.4 64-bit ('NTL': venv)",
   "language": "python",
   "name": "python37464bitntlvenv5bb9f6107ccc44df9d8f2d89f2aa5ff4"
  },
  "language_info": {
   "codemirror_mode": {
    "name": "ipython",
    "version": 3
   },
   "file_extension": ".py",
   "mimetype": "text/x-python",
   "name": "python",
   "nbconvert_exporter": "python",
   "pygments_lexer": "ipython3",
   "version": "3.7.4"
  }
 },
 "nbformat": 4,
 "nbformat_minor": 4
}
